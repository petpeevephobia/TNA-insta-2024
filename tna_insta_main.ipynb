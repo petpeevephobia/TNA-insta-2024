{
 "cells": [
  {
   "cell_type": "code",
   "execution_count": 116,
   "id": "f2060c49-ffbd-4fe8-93a5-1d83ad5624cc",
   "metadata": {},
   "outputs": [],
   "source": [
    "import pandas as pd\n",
    "pd.set_option('display.max_rows', None)\n",
    "\n",
    "import plotly.express as px\n",
    "import chart_studio.tools as tls"
   ]
  },
  {
   "cell_type": "code",
   "execution_count": 117,
   "id": "dda1e54b-1661-4c1a-a597-220f4b70f802",
   "metadata": {},
   "outputs": [],
   "source": [
    "q1_path = 'datasets\\\\Jan-01-2024_Mar-31-2024_4051083528461598.csv'\n",
    "q2_path = 'datasets\\\\Apr-01-2024_Jun-30-2024_2758116674392677.csv'\n",
    "q3_path = 'datasets\\\\Jul-01-2024_Sep-30-2024_568596229332029.csv'\n",
    "q4_path = 'datasets\\\\Oct-01-2024_Dec-30-2024_577241625163342.csv'\n",
    "\n",
    "q1 = pd.read_csv(q1_path)\n",
    "q2 = pd.read_csv(q2_path)\n",
    "q3 = pd.read_csv(q3_path)\n",
    "q4 = pd.read_csv(q4_path)\n",
    "\n",
    "## CREATE NEW COL TO REPRESENT QUARTER NUMBER IN A YEAR\n",
    "q1['quarter'] = [1 for i in range(len(q1))]\n",
    "q2['quarter'] = [2 for i in range(len(q2))]\n",
    "q3['quarter'] = [3 for i in range(len(q3))]\n",
    "q4['quarter'] = [4 for i in range(len(q4))]\n",
    "\n",
    "df = pd.concat([q1,q2,q3,q4]).reset_index()\n",
    "df.columns = [col.lower() for col in df.columns]\n",
    "\n",
    "## CHANGE NaN VALUES TO ZERO (0)\n",
    "df.fillna(0,inplace=True)\n",
    "\n",
    "## RENAME SOME COLS\n",
    "df.rename(columns={'duration (sec)': 'duration', 'publish time': 'datetime', 'post type': 'type', 'permalink': 'link'}, inplace=True)\n",
    "\n",
    "## CHANGE DATA TYPE FROM FLOAT TO INT\n",
    "int_cols = ['plays', 'follows']\n",
    "df[int_cols] = df[int_cols].astype(int)\n",
    "\n",
    "## DROP UNNEEDED COLS\n",
    "drop_cols = ['index', 'post id', 'account id', 'account username', 'account name', 'data comment', 'date']\n",
    "df = df.drop(drop_cols, axis=1)\n",
    "\n",
    "## SPLIT VALUES IN 'datetime' TO 'date' AND 'time'\n",
    "date = []\n",
    "time = []\n",
    "for n in df.datetime:\n",
    "    time.append(n[11:])\n",
    "    date.append(n[:-6])\n",
    "\n",
    "df = df.drop(['datetime'], axis=1)\n",
    "df['date'] = date\n",
    "df['time'] = time\n",
    "\n",
    "## ONLY SHOW FIRST <char_limit> CHARACTERS OF description\n",
    "char_limit = 80\n",
    "for j in range(len(df.description)):\n",
    "    df.loc[j, 'description'] = df.description[j][:char_limit] + ' ...'\n",
    "\n",
    "## FORMAT date VALUES\n",
    "for d in range(len(df.date)):\n",
    "    mm = df.date[d][:2]\n",
    "    dd = df.date[d][3:5]\n",
    "    yyyy = df.date[d][6:10]\n",
    "    df.loc[d, 'date'] = f'{yyyy}-{mm}-{dd}'\n",
    "\n",
    "## SORT BY DATE\n",
    "df = df.sort_values(by='date', ascending=True)\n",
    "\n",
    "\n",
    "\n",
    "\n",
    "\n",
    "# df.head()"
   ]
  },
  {
   "cell_type": "code",
   "execution_count": 118,
   "id": "8a88fbcb-b01c-48dd-8dc1-711afb3db7bf",
   "metadata": {},
   "outputs": [],
   "source": [
    "image_posts = df[df.type=='IG image']\n",
    "carousel_posts = df[df.type=='IG carousel']\n",
    "reel_posts = df[df.type=='IG reel']\n",
    "\n",
    "content_dict = {'image': image_posts, 'carousel': carousel_posts, 'reel': reel_posts}\n",
    "content_types = content_dict.keys()"
   ]
  },
  {
   "cell_type": "code",
   "execution_count": 129,
   "id": "8e4f8cdf-7634-4a7d-97af-cd7d20a10148",
   "metadata": {},
   "outputs": [
    {
     "name": "stdout",
     "output_type": "stream",
     "text": [
      "\n",
      "\n",
      "\n",
      "\n",
      "\n",
      "\n"
     ]
    },
    {
     "data": {
      "application/vnd.plotly.v1+json": {
       "config": {
        "plotlyServerURL": "https://plot.ly"
       },
       "data": [
        {
         "customdata": [
          [
           "Welcome to my office, and yes, it is indeed my own bedroom. That's The Nadra Age ...",
           "https://www.instagram.com/p/C1zPvEdPPfr/"
          ],
          [
           "Website got you feeling 💀? Don't fret! Squeeze the most out of your investment w ...",
           "https://www.instagram.com/p/C14PUcEqZc9/"
          ],
          [
           "Is your website just a pretty picture on the internet, or a lead-generating powe ...",
           "https://www.instagram.com/p/C19Y7g6scmh/"
          ],
          [
           "Ever feel like web design is a language only developers speak? 🥲\n\nI hear you lou ...",
           "https://www.instagram.com/p/C2JTEDOI4Cb/"
          ],
          [
           "Hey startup owners! Feeling design FOMO? Don't sweat it. 😉\n\nThis is your cheat s ...",
           "https://www.instagram.com/p/C2P1MSuJ_oq/"
          ],
          [
           "I am thrilled to share a powerful testimonial from Bert's Garden, one of my incr ...",
           "https://www.instagram.com/p/C2eASoZsMlz/"
          ],
          [
           "Sweet tooth or not, building a website that converts can feel overwhelming.\n\nFea ...",
           "https://www.instagram.com/p/C2uGdlcr53G/"
          ],
          [
           "Passionate about connecting Singapore's farms and families, Verdé needed a websi ...",
           "https://www.instagram.com/p/C2wx7_kqpyE/"
          ],
          [
           "The Little Flower Hut delivers beautiful blooms almost instantly, so you can bri ...",
           "https://www.instagram.com/p/C3B1qu_tQ7b/"
          ],
          [
           "Picked up a new book to start the year; Ego is the Enemy by Ryan Holiday. 📖\n\nSom ...",
           "https://www.instagram.com/p/C3Fs1ocKZD2/"
          ],
          [
           "Giriprasad's testimonial speaks volumes 🔊\n\nWorking with TNA is effortless!  We b ...",
           "https://www.instagram.com/p/C3VJpzdomHw/"
          ],
          [
           "I started designing websites at the age of 13. 👧🏽\n\nThat's why I'm passionate abo ...",
           "https://www.instagram.com/p/C3nEYsnBkQp/"
          ],
          [
           "Listen here, startups! 📢\n\nAt The Nadra Agency (TNA), we believe in seamless coll ...",
           "https://www.instagram.com/p/C35F8cwJQ7o/"
          ],
          [
           "Meet Iffah, a talented digital film & television student!  We helped her showcas ...",
           "https://www.instagram.com/p/C5DjN6wN9uW/"
          ],
          [
           "This was me going for a startup challenge organised by the National Youth Counci ...",
           "https://www.instagram.com/p/C5TAD2WvsLE/"
          ],
          [
           "Making money outside part-time jobs was my gateway to entrepreneurship. 🔑\n\nBased ...",
           "https://www.instagram.com/p/C5icwF8xMqJ/"
          ],
          [
           "I've been diving deep into the world of one-page websites lately ☝🏽\n\nTurns out,  ...",
           "https://www.instagram.com/p/C58TkL5puQ1/"
          ],
          [
           "\"Self-esteem is the reputation you have with yourself,\" Naval Ravikant once said ...",
           "https://www.instagram.com/p/C6OOQNdPjQw/"
          ],
          [
           "Landing pages seemed like a puzzle at first. 🧩\n\nYou may think they were just sim ...",
           "https://www.instagram.com/p/C6a4fT3IZB4/"
          ],
          [
           "\"Honour the gift of life by offering your gifts to the world.\" - Mike Maples Jr. ...",
           "https://www.instagram.com/p/C6f7M75NL_X/"
          ],
          [
           "Starting a business doesn’t have to cost a fortune. 💰\n\nI used to run a couple st ...",
           "https://www.instagram.com/p/C7UY86lCZIZ/"
          ],
          [
           "Entrepreneurship saved me by giving me purpose. 🎯\n\nIt made me see life as my oys ...",
           "https://www.instagram.com/p/C7gg2qch2UW/"
          ],
          [
           "We’re not the best web agency in the world …\n\nBut we are the best web agency for ...",
           "https://www.instagram.com/p/C8bhZzepkci/"
          ],
          [
           "Stop designing your business website aimlessly! 😵‍💫\n\nThe only thing solo entrepr ...",
           "https://www.instagram.com/p/C9hJueKtdmk/"
          ],
          [
           "Stop stressing about whether you can design the perfect website. Of course you c ...",
           "https://www.instagram.com/p/C92TgqgovKe/"
          ],
          [
           "Why choose a big agency when you can have a partner who truly gets you? 💡\n\nWith  ...",
           "https://www.instagram.com/p/C94buNAtvDF/"
          ],
          [
           "With my 3-year involvement in the startup space (and counting), I have spoken to ...",
           "https://www.instagram.com/p/C-KPmewIM-v/"
          ],
          [
           "Emotional clarity = Better decisions. 🪫\n\nSince the start of 2024, I’ve been taki ...",
           "https://www.instagram.com/p/C-unUiktWdM/"
          ],
          [
           "I’ve always loved rooting for movie characters who go from zero to hero. 🦸\n\nAnd  ...",
           "https://www.instagram.com/p/C_AUPVCPYuX/"
          ],
          [
           "My mission with The Nadra Agency (TNA) is to empower small business owners like  ...",
           "https://www.instagram.com/p/C_P-xbvPv9y/"
          ],
          [
           "We live in the age of instant convenience. 🕒\n\nYour users will expect to receive  ...",
           "https://www.instagram.com/p/C_0IwbdCkIY/"
          ],
          [
           "Big agencies are not creative like small agencies are.\n\nYeah I said it.\n\nMany te ...",
           "https://www.instagram.com/p/DABAvcKtbuO/"
          ],
          [
           "If you want people to buy your product, you’ve got to stop talking like a robot. ...",
           "https://www.instagram.com/p/DAGRNXZKk_H/"
          ],
          [
           "Lately I’ve noticed how easy it is to lose hours in bed, glued to my phone.\n\n5 h ...",
           "https://www.instagram.com/p/DATCSp8idLd/"
          ],
          [
           "There are so. many. types. of devices that people use to access the internet.\n\nA ...",
           "https://www.instagram.com/p/DAYL5d6OGjA/"
          ],
          [
           "The Nadra Agency (TNA) is going through a business shift.\n\nAs an agency owner, c ...",
           "https://www.instagram.com/p/DAqGmPTMcXt/"
          ],
          [
           "The day has come.\n\nYou’re finally releasing your startup’s product to your custo ...",
           "https://www.instagram.com/p/DA8PBa1uCEb/"
          ],
          [
           "To get more paying clients, you need to get enough traffic to your website.\n\nOne ...",
           "https://www.instagram.com/p/DBLrzYzp6KH/"
          ],
          [
           "I’ve seen growing startups with ugly live websites.\n\nI’m talking 2000s vibes - C ...",
           "https://www.instagram.com/p/DBdtWjYshBW/"
          ],
          [
           "As a business owner, your website is one of your strongest tools.\n\nIf you’re not ...",
           "https://www.instagram.com/p/DByTt8hCdXj/"
          ],
          [
           "How can customers give you money if they feel demotivated to do so?\n\nCTAs (calls ...",
           "https://www.instagram.com/p/DCG6DNWoTwv/"
          ],
          [
           "As a business owner, you already know how valuable the skill of storytelling is. ...",
           "https://www.instagram.com/p/DCWW1dbKbY8/"
          ],
          [
           "A programmer will develop a website faster than us.\n\nBut speed without strategy  ...",
           "https://www.instagram.com/p/DCmIL22BGUs/"
          ],
          [
           "Think like your customers.\n\nAs founders, it’s tempting to design websites focusi ...",
           "https://www.instagram.com/p/DC3uSiSvNAu/"
          ],
          [
           "Your website is an extension of your startup’s identity.\n\nIt should make visitor ...",
           "https://www.instagram.com/p/DDMbhiOhmo8/"
          ],
          [
           "Off the top of my head, there are three things every high-converting landing pag ...",
           "https://www.instagram.com/p/DDedE-jodsN/"
          ],
          [
           "In the time it takes a big agency to ‘circle back,’ we’ve already delivered.\n\nWe ...",
           "https://www.instagram.com/p/DDwXxqki2uQ/"
          ],
          [
           "Clients are new friends I haven’t met yet!\n\nProbably the cheesiest thing I’ll sa ...",
           "https://www.instagram.com/p/DECgNQNhHpY/"
          ]
         ],
         "hovertemplate": "%{y}<br>Date: %{x}<br>Desc: %{customdata[0]}<br>Link: %{customdata[1]}",
         "legendgroup": "reach",
         "line": {
          "color": "#636efa",
          "dash": "solid"
         },
         "marker": {
          "symbol": "circle"
         },
         "mode": "lines",
         "name": "reach",
         "orientation": "v",
         "showlegend": true,
         "type": "scatter",
         "x": [
          "2024-01-07",
          "2024-01-09",
          "2024-01-11",
          "2024-01-15",
          "2024-01-18",
          "2024-01-23",
          "2024-01-30",
          "2024-01-31",
          "2024-02-06",
          "2024-02-08",
          "2024-02-14",
          "2024-02-21",
          "2024-02-28",
          "2024-03-28",
          "2024-04-03",
          "2024-04-09",
          "2024-04-19",
          "2024-04-26",
          "2024-05-01",
          "2024-05-03",
          "2024-05-23",
          "2024-05-28",
          "2024-06-20",
          "2024-07-17",
          "2024-07-25",
          "2024-07-26",
          "2024-08-02",
          "2024-08-16",
          "2024-08-23",
          "2024-08-29",
          "2024-09-12",
          "2024-09-17",
          "2024-09-19",
          "2024-09-24",
          "2024-09-26",
          "2024-10-03",
          "2024-10-10",
          "2024-10-16",
          "2024-10-23",
          "2024-10-31",
          "2024-11-08",
          "2024-11-14",
          "2024-11-20",
          "2024-11-27",
          "2024-12-05",
          "2024-12-12",
          "2024-12-19",
          "2024-12-26"
         ],
         "xaxis": "x",
         "y": [
          160,
          129,
          200,
          203,
          57,
          77,
          48,
          70,
          78,
          77,
          59,
          52,
          42,
          123,
          149,
          68,
          45,
          62,
          90,
          67,
          85,
          100,
          41,
          33,
          45,
          58,
          61,
          25,
          35,
          37,
          38,
          58,
          36,
          43,
          22,
          62,
          30,
          21,
          20,
          38,
          21,
          21,
          20,
          20,
          30,
          18,
          23,
          27
         ],
         "yaxis": "y"
        },
        {
         "customdata": [
          [
           "Welcome to my office, and yes, it is indeed my own bedroom. That's The Nadra Age ...",
           "https://www.instagram.com/p/C1zPvEdPPfr/"
          ],
          [
           "Website got you feeling 💀? Don't fret! Squeeze the most out of your investment w ...",
           "https://www.instagram.com/p/C14PUcEqZc9/"
          ],
          [
           "Is your website just a pretty picture on the internet, or a lead-generating powe ...",
           "https://www.instagram.com/p/C19Y7g6scmh/"
          ],
          [
           "Ever feel like web design is a language only developers speak? 🥲\n\nI hear you lou ...",
           "https://www.instagram.com/p/C2JTEDOI4Cb/"
          ],
          [
           "Hey startup owners! Feeling design FOMO? Don't sweat it. 😉\n\nThis is your cheat s ...",
           "https://www.instagram.com/p/C2P1MSuJ_oq/"
          ],
          [
           "I am thrilled to share a powerful testimonial from Bert's Garden, one of my incr ...",
           "https://www.instagram.com/p/C2eASoZsMlz/"
          ],
          [
           "Sweet tooth or not, building a website that converts can feel overwhelming.\n\nFea ...",
           "https://www.instagram.com/p/C2uGdlcr53G/"
          ],
          [
           "Passionate about connecting Singapore's farms and families, Verdé needed a websi ...",
           "https://www.instagram.com/p/C2wx7_kqpyE/"
          ],
          [
           "The Little Flower Hut delivers beautiful blooms almost instantly, so you can bri ...",
           "https://www.instagram.com/p/C3B1qu_tQ7b/"
          ],
          [
           "Picked up a new book to start the year; Ego is the Enemy by Ryan Holiday. 📖\n\nSom ...",
           "https://www.instagram.com/p/C3Fs1ocKZD2/"
          ],
          [
           "Giriprasad's testimonial speaks volumes 🔊\n\nWorking with TNA is effortless!  We b ...",
           "https://www.instagram.com/p/C3VJpzdomHw/"
          ],
          [
           "I started designing websites at the age of 13. 👧🏽\n\nThat's why I'm passionate abo ...",
           "https://www.instagram.com/p/C3nEYsnBkQp/"
          ],
          [
           "Listen here, startups! 📢\n\nAt The Nadra Agency (TNA), we believe in seamless coll ...",
           "https://www.instagram.com/p/C35F8cwJQ7o/"
          ],
          [
           "Meet Iffah, a talented digital film & television student!  We helped her showcas ...",
           "https://www.instagram.com/p/C5DjN6wN9uW/"
          ],
          [
           "This was me going for a startup challenge organised by the National Youth Counci ...",
           "https://www.instagram.com/p/C5TAD2WvsLE/"
          ],
          [
           "Making money outside part-time jobs was my gateway to entrepreneurship. 🔑\n\nBased ...",
           "https://www.instagram.com/p/C5icwF8xMqJ/"
          ],
          [
           "I've been diving deep into the world of one-page websites lately ☝🏽\n\nTurns out,  ...",
           "https://www.instagram.com/p/C58TkL5puQ1/"
          ],
          [
           "\"Self-esteem is the reputation you have with yourself,\" Naval Ravikant once said ...",
           "https://www.instagram.com/p/C6OOQNdPjQw/"
          ],
          [
           "Landing pages seemed like a puzzle at first. 🧩\n\nYou may think they were just sim ...",
           "https://www.instagram.com/p/C6a4fT3IZB4/"
          ],
          [
           "\"Honour the gift of life by offering your gifts to the world.\" - Mike Maples Jr. ...",
           "https://www.instagram.com/p/C6f7M75NL_X/"
          ],
          [
           "Starting a business doesn’t have to cost a fortune. 💰\n\nI used to run a couple st ...",
           "https://www.instagram.com/p/C7UY86lCZIZ/"
          ],
          [
           "Entrepreneurship saved me by giving me purpose. 🎯\n\nIt made me see life as my oys ...",
           "https://www.instagram.com/p/C7gg2qch2UW/"
          ],
          [
           "We’re not the best web agency in the world …\n\nBut we are the best web agency for ...",
           "https://www.instagram.com/p/C8bhZzepkci/"
          ],
          [
           "Stop designing your business website aimlessly! 😵‍💫\n\nThe only thing solo entrepr ...",
           "https://www.instagram.com/p/C9hJueKtdmk/"
          ],
          [
           "Stop stressing about whether you can design the perfect website. Of course you c ...",
           "https://www.instagram.com/p/C92TgqgovKe/"
          ],
          [
           "Why choose a big agency when you can have a partner who truly gets you? 💡\n\nWith  ...",
           "https://www.instagram.com/p/C94buNAtvDF/"
          ],
          [
           "With my 3-year involvement in the startup space (and counting), I have spoken to ...",
           "https://www.instagram.com/p/C-KPmewIM-v/"
          ],
          [
           "Emotional clarity = Better decisions. 🪫\n\nSince the start of 2024, I’ve been taki ...",
           "https://www.instagram.com/p/C-unUiktWdM/"
          ],
          [
           "I’ve always loved rooting for movie characters who go from zero to hero. 🦸\n\nAnd  ...",
           "https://www.instagram.com/p/C_AUPVCPYuX/"
          ],
          [
           "My mission with The Nadra Agency (TNA) is to empower small business owners like  ...",
           "https://www.instagram.com/p/C_P-xbvPv9y/"
          ],
          [
           "We live in the age of instant convenience. 🕒\n\nYour users will expect to receive  ...",
           "https://www.instagram.com/p/C_0IwbdCkIY/"
          ],
          [
           "Big agencies are not creative like small agencies are.\n\nYeah I said it.\n\nMany te ...",
           "https://www.instagram.com/p/DABAvcKtbuO/"
          ],
          [
           "If you want people to buy your product, you’ve got to stop talking like a robot. ...",
           "https://www.instagram.com/p/DAGRNXZKk_H/"
          ],
          [
           "Lately I’ve noticed how easy it is to lose hours in bed, glued to my phone.\n\n5 h ...",
           "https://www.instagram.com/p/DATCSp8idLd/"
          ],
          [
           "There are so. many. types. of devices that people use to access the internet.\n\nA ...",
           "https://www.instagram.com/p/DAYL5d6OGjA/"
          ],
          [
           "The Nadra Agency (TNA) is going through a business shift.\n\nAs an agency owner, c ...",
           "https://www.instagram.com/p/DAqGmPTMcXt/"
          ],
          [
           "The day has come.\n\nYou’re finally releasing your startup’s product to your custo ...",
           "https://www.instagram.com/p/DA8PBa1uCEb/"
          ],
          [
           "To get more paying clients, you need to get enough traffic to your website.\n\nOne ...",
           "https://www.instagram.com/p/DBLrzYzp6KH/"
          ],
          [
           "I’ve seen growing startups with ugly live websites.\n\nI’m talking 2000s vibes - C ...",
           "https://www.instagram.com/p/DBdtWjYshBW/"
          ],
          [
           "As a business owner, your website is one of your strongest tools.\n\nIf you’re not ...",
           "https://www.instagram.com/p/DByTt8hCdXj/"
          ],
          [
           "How can customers give you money if they feel demotivated to do so?\n\nCTAs (calls ...",
           "https://www.instagram.com/p/DCG6DNWoTwv/"
          ],
          [
           "As a business owner, you already know how valuable the skill of storytelling is. ...",
           "https://www.instagram.com/p/DCWW1dbKbY8/"
          ],
          [
           "A programmer will develop a website faster than us.\n\nBut speed without strategy  ...",
           "https://www.instagram.com/p/DCmIL22BGUs/"
          ],
          [
           "Think like your customers.\n\nAs founders, it’s tempting to design websites focusi ...",
           "https://www.instagram.com/p/DC3uSiSvNAu/"
          ],
          [
           "Your website is an extension of your startup’s identity.\n\nIt should make visitor ...",
           "https://www.instagram.com/p/DDMbhiOhmo8/"
          ],
          [
           "Off the top of my head, there are three things every high-converting landing pag ...",
           "https://www.instagram.com/p/DDedE-jodsN/"
          ],
          [
           "In the time it takes a big agency to ‘circle back,’ we’ve already delivered.\n\nWe ...",
           "https://www.instagram.com/p/DDwXxqki2uQ/"
          ],
          [
           "Clients are new friends I haven’t met yet!\n\nProbably the cheesiest thing I’ll sa ...",
           "https://www.instagram.com/p/DECgNQNhHpY/"
          ]
         ],
         "hovertemplate": "%{y}<br>Date: %{x}<br>Desc: %{customdata[0]}<br>Link: %{customdata[1]}",
         "legendgroup": "comments",
         "line": {
          "color": "#EF553B",
          "dash": "solid"
         },
         "marker": {
          "symbol": "circle"
         },
         "mode": "lines",
         "name": "comments",
         "orientation": "v",
         "showlegend": true,
         "type": "scatter",
         "x": [
          "2024-01-07",
          "2024-01-09",
          "2024-01-11",
          "2024-01-15",
          "2024-01-18",
          "2024-01-23",
          "2024-01-30",
          "2024-01-31",
          "2024-02-06",
          "2024-02-08",
          "2024-02-14",
          "2024-02-21",
          "2024-02-28",
          "2024-03-28",
          "2024-04-03",
          "2024-04-09",
          "2024-04-19",
          "2024-04-26",
          "2024-05-01",
          "2024-05-03",
          "2024-05-23",
          "2024-05-28",
          "2024-06-20",
          "2024-07-17",
          "2024-07-25",
          "2024-07-26",
          "2024-08-02",
          "2024-08-16",
          "2024-08-23",
          "2024-08-29",
          "2024-09-12",
          "2024-09-17",
          "2024-09-19",
          "2024-09-24",
          "2024-09-26",
          "2024-10-03",
          "2024-10-10",
          "2024-10-16",
          "2024-10-23",
          "2024-10-31",
          "2024-11-08",
          "2024-11-14",
          "2024-11-20",
          "2024-11-27",
          "2024-12-05",
          "2024-12-12",
          "2024-12-19",
          "2024-12-26"
         ],
         "xaxis": "x",
         "y": [
          3,
          1,
          2,
          3,
          0,
          2,
          0,
          2,
          0,
          0,
          0,
          0,
          0,
          0,
          6,
          0,
          0,
          0,
          0,
          0,
          0,
          0,
          0,
          0,
          0,
          0,
          0,
          0,
          0,
          0,
          0,
          0,
          3,
          0,
          0,
          0,
          0,
          0,
          0,
          0,
          0,
          0,
          0,
          0,
          0,
          0,
          0,
          0
         ],
         "yaxis": "y"
        },
        {
         "customdata": [
          [
           "Welcome to my office, and yes, it is indeed my own bedroom. That's The Nadra Age ...",
           "https://www.instagram.com/p/C1zPvEdPPfr/"
          ],
          [
           "Website got you feeling 💀? Don't fret! Squeeze the most out of your investment w ...",
           "https://www.instagram.com/p/C14PUcEqZc9/"
          ],
          [
           "Is your website just a pretty picture on the internet, or a lead-generating powe ...",
           "https://www.instagram.com/p/C19Y7g6scmh/"
          ],
          [
           "Ever feel like web design is a language only developers speak? 🥲\n\nI hear you lou ...",
           "https://www.instagram.com/p/C2JTEDOI4Cb/"
          ],
          [
           "Hey startup owners! Feeling design FOMO? Don't sweat it. 😉\n\nThis is your cheat s ...",
           "https://www.instagram.com/p/C2P1MSuJ_oq/"
          ],
          [
           "I am thrilled to share a powerful testimonial from Bert's Garden, one of my incr ...",
           "https://www.instagram.com/p/C2eASoZsMlz/"
          ],
          [
           "Sweet tooth or not, building a website that converts can feel overwhelming.\n\nFea ...",
           "https://www.instagram.com/p/C2uGdlcr53G/"
          ],
          [
           "Passionate about connecting Singapore's farms and families, Verdé needed a websi ...",
           "https://www.instagram.com/p/C2wx7_kqpyE/"
          ],
          [
           "The Little Flower Hut delivers beautiful blooms almost instantly, so you can bri ...",
           "https://www.instagram.com/p/C3B1qu_tQ7b/"
          ],
          [
           "Picked up a new book to start the year; Ego is the Enemy by Ryan Holiday. 📖\n\nSom ...",
           "https://www.instagram.com/p/C3Fs1ocKZD2/"
          ],
          [
           "Giriprasad's testimonial speaks volumes 🔊\n\nWorking with TNA is effortless!  We b ...",
           "https://www.instagram.com/p/C3VJpzdomHw/"
          ],
          [
           "I started designing websites at the age of 13. 👧🏽\n\nThat's why I'm passionate abo ...",
           "https://www.instagram.com/p/C3nEYsnBkQp/"
          ],
          [
           "Listen here, startups! 📢\n\nAt The Nadra Agency (TNA), we believe in seamless coll ...",
           "https://www.instagram.com/p/C35F8cwJQ7o/"
          ],
          [
           "Meet Iffah, a talented digital film & television student!  We helped her showcas ...",
           "https://www.instagram.com/p/C5DjN6wN9uW/"
          ],
          [
           "This was me going for a startup challenge organised by the National Youth Counci ...",
           "https://www.instagram.com/p/C5TAD2WvsLE/"
          ],
          [
           "Making money outside part-time jobs was my gateway to entrepreneurship. 🔑\n\nBased ...",
           "https://www.instagram.com/p/C5icwF8xMqJ/"
          ],
          [
           "I've been diving deep into the world of one-page websites lately ☝🏽\n\nTurns out,  ...",
           "https://www.instagram.com/p/C58TkL5puQ1/"
          ],
          [
           "\"Self-esteem is the reputation you have with yourself,\" Naval Ravikant once said ...",
           "https://www.instagram.com/p/C6OOQNdPjQw/"
          ],
          [
           "Landing pages seemed like a puzzle at first. 🧩\n\nYou may think they were just sim ...",
           "https://www.instagram.com/p/C6a4fT3IZB4/"
          ],
          [
           "\"Honour the gift of life by offering your gifts to the world.\" - Mike Maples Jr. ...",
           "https://www.instagram.com/p/C6f7M75NL_X/"
          ],
          [
           "Starting a business doesn’t have to cost a fortune. 💰\n\nI used to run a couple st ...",
           "https://www.instagram.com/p/C7UY86lCZIZ/"
          ],
          [
           "Entrepreneurship saved me by giving me purpose. 🎯\n\nIt made me see life as my oys ...",
           "https://www.instagram.com/p/C7gg2qch2UW/"
          ],
          [
           "We’re not the best web agency in the world …\n\nBut we are the best web agency for ...",
           "https://www.instagram.com/p/C8bhZzepkci/"
          ],
          [
           "Stop designing your business website aimlessly! 😵‍💫\n\nThe only thing solo entrepr ...",
           "https://www.instagram.com/p/C9hJueKtdmk/"
          ],
          [
           "Stop stressing about whether you can design the perfect website. Of course you c ...",
           "https://www.instagram.com/p/C92TgqgovKe/"
          ],
          [
           "Why choose a big agency when you can have a partner who truly gets you? 💡\n\nWith  ...",
           "https://www.instagram.com/p/C94buNAtvDF/"
          ],
          [
           "With my 3-year involvement in the startup space (and counting), I have spoken to ...",
           "https://www.instagram.com/p/C-KPmewIM-v/"
          ],
          [
           "Emotional clarity = Better decisions. 🪫\n\nSince the start of 2024, I’ve been taki ...",
           "https://www.instagram.com/p/C-unUiktWdM/"
          ],
          [
           "I’ve always loved rooting for movie characters who go from zero to hero. 🦸\n\nAnd  ...",
           "https://www.instagram.com/p/C_AUPVCPYuX/"
          ],
          [
           "My mission with The Nadra Agency (TNA) is to empower small business owners like  ...",
           "https://www.instagram.com/p/C_P-xbvPv9y/"
          ],
          [
           "We live in the age of instant convenience. 🕒\n\nYour users will expect to receive  ...",
           "https://www.instagram.com/p/C_0IwbdCkIY/"
          ],
          [
           "Big agencies are not creative like small agencies are.\n\nYeah I said it.\n\nMany te ...",
           "https://www.instagram.com/p/DABAvcKtbuO/"
          ],
          [
           "If you want people to buy your product, you’ve got to stop talking like a robot. ...",
           "https://www.instagram.com/p/DAGRNXZKk_H/"
          ],
          [
           "Lately I’ve noticed how easy it is to lose hours in bed, glued to my phone.\n\n5 h ...",
           "https://www.instagram.com/p/DATCSp8idLd/"
          ],
          [
           "There are so. many. types. of devices that people use to access the internet.\n\nA ...",
           "https://www.instagram.com/p/DAYL5d6OGjA/"
          ],
          [
           "The Nadra Agency (TNA) is going through a business shift.\n\nAs an agency owner, c ...",
           "https://www.instagram.com/p/DAqGmPTMcXt/"
          ],
          [
           "The day has come.\n\nYou’re finally releasing your startup’s product to your custo ...",
           "https://www.instagram.com/p/DA8PBa1uCEb/"
          ],
          [
           "To get more paying clients, you need to get enough traffic to your website.\n\nOne ...",
           "https://www.instagram.com/p/DBLrzYzp6KH/"
          ],
          [
           "I’ve seen growing startups with ugly live websites.\n\nI’m talking 2000s vibes - C ...",
           "https://www.instagram.com/p/DBdtWjYshBW/"
          ],
          [
           "As a business owner, your website is one of your strongest tools.\n\nIf you’re not ...",
           "https://www.instagram.com/p/DByTt8hCdXj/"
          ],
          [
           "How can customers give you money if they feel demotivated to do so?\n\nCTAs (calls ...",
           "https://www.instagram.com/p/DCG6DNWoTwv/"
          ],
          [
           "As a business owner, you already know how valuable the skill of storytelling is. ...",
           "https://www.instagram.com/p/DCWW1dbKbY8/"
          ],
          [
           "A programmer will develop a website faster than us.\n\nBut speed without strategy  ...",
           "https://www.instagram.com/p/DCmIL22BGUs/"
          ],
          [
           "Think like your customers.\n\nAs founders, it’s tempting to design websites focusi ...",
           "https://www.instagram.com/p/DC3uSiSvNAu/"
          ],
          [
           "Your website is an extension of your startup’s identity.\n\nIt should make visitor ...",
           "https://www.instagram.com/p/DDMbhiOhmo8/"
          ],
          [
           "Off the top of my head, there are three things every high-converting landing pag ...",
           "https://www.instagram.com/p/DDedE-jodsN/"
          ],
          [
           "In the time it takes a big agency to ‘circle back,’ we’ve already delivered.\n\nWe ...",
           "https://www.instagram.com/p/DDwXxqki2uQ/"
          ],
          [
           "Clients are new friends I haven’t met yet!\n\nProbably the cheesiest thing I’ll sa ...",
           "https://www.instagram.com/p/DECgNQNhHpY/"
          ]
         ],
         "hovertemplate": "%{y}<br>Date: %{x}<br>Desc: %{customdata[0]}<br>Link: %{customdata[1]}",
         "legendgroup": "saves",
         "line": {
          "color": "#00cc96",
          "dash": "solid"
         },
         "marker": {
          "symbol": "circle"
         },
         "mode": "lines",
         "name": "saves",
         "orientation": "v",
         "showlegend": true,
         "type": "scatter",
         "x": [
          "2024-01-07",
          "2024-01-09",
          "2024-01-11",
          "2024-01-15",
          "2024-01-18",
          "2024-01-23",
          "2024-01-30",
          "2024-01-31",
          "2024-02-06",
          "2024-02-08",
          "2024-02-14",
          "2024-02-21",
          "2024-02-28",
          "2024-03-28",
          "2024-04-03",
          "2024-04-09",
          "2024-04-19",
          "2024-04-26",
          "2024-05-01",
          "2024-05-03",
          "2024-05-23",
          "2024-05-28",
          "2024-06-20",
          "2024-07-17",
          "2024-07-25",
          "2024-07-26",
          "2024-08-02",
          "2024-08-16",
          "2024-08-23",
          "2024-08-29",
          "2024-09-12",
          "2024-09-17",
          "2024-09-19",
          "2024-09-24",
          "2024-09-26",
          "2024-10-03",
          "2024-10-10",
          "2024-10-16",
          "2024-10-23",
          "2024-10-31",
          "2024-11-08",
          "2024-11-14",
          "2024-11-20",
          "2024-11-27",
          "2024-12-05",
          "2024-12-12",
          "2024-12-19",
          "2024-12-26"
         ],
         "xaxis": "x",
         "y": [
          1,
          0,
          0,
          0,
          0,
          0,
          0,
          0,
          0,
          0,
          0,
          0,
          0,
          0,
          1,
          0,
          0,
          1,
          0,
          0,
          0,
          0,
          0,
          0,
          0,
          0,
          0,
          0,
          0,
          0,
          0,
          0,
          2,
          0,
          0,
          0,
          0,
          0,
          0,
          0,
          0,
          0,
          0,
          0,
          0,
          0,
          0,
          0
         ],
         "yaxis": "y"
        },
        {
         "customdata": [
          [
           "Welcome to my office, and yes, it is indeed my own bedroom. That's The Nadra Age ...",
           "https://www.instagram.com/p/C1zPvEdPPfr/"
          ],
          [
           "Website got you feeling 💀? Don't fret! Squeeze the most out of your investment w ...",
           "https://www.instagram.com/p/C14PUcEqZc9/"
          ],
          [
           "Is your website just a pretty picture on the internet, or a lead-generating powe ...",
           "https://www.instagram.com/p/C19Y7g6scmh/"
          ],
          [
           "Ever feel like web design is a language only developers speak? 🥲\n\nI hear you lou ...",
           "https://www.instagram.com/p/C2JTEDOI4Cb/"
          ],
          [
           "Hey startup owners! Feeling design FOMO? Don't sweat it. 😉\n\nThis is your cheat s ...",
           "https://www.instagram.com/p/C2P1MSuJ_oq/"
          ],
          [
           "I am thrilled to share a powerful testimonial from Bert's Garden, one of my incr ...",
           "https://www.instagram.com/p/C2eASoZsMlz/"
          ],
          [
           "Sweet tooth or not, building a website that converts can feel overwhelming.\n\nFea ...",
           "https://www.instagram.com/p/C2uGdlcr53G/"
          ],
          [
           "Passionate about connecting Singapore's farms and families, Verdé needed a websi ...",
           "https://www.instagram.com/p/C2wx7_kqpyE/"
          ],
          [
           "The Little Flower Hut delivers beautiful blooms almost instantly, so you can bri ...",
           "https://www.instagram.com/p/C3B1qu_tQ7b/"
          ],
          [
           "Picked up a new book to start the year; Ego is the Enemy by Ryan Holiday. 📖\n\nSom ...",
           "https://www.instagram.com/p/C3Fs1ocKZD2/"
          ],
          [
           "Giriprasad's testimonial speaks volumes 🔊\n\nWorking with TNA is effortless!  We b ...",
           "https://www.instagram.com/p/C3VJpzdomHw/"
          ],
          [
           "I started designing websites at the age of 13. 👧🏽\n\nThat's why I'm passionate abo ...",
           "https://www.instagram.com/p/C3nEYsnBkQp/"
          ],
          [
           "Listen here, startups! 📢\n\nAt The Nadra Agency (TNA), we believe in seamless coll ...",
           "https://www.instagram.com/p/C35F8cwJQ7o/"
          ],
          [
           "Meet Iffah, a talented digital film & television student!  We helped her showcas ...",
           "https://www.instagram.com/p/C5DjN6wN9uW/"
          ],
          [
           "This was me going for a startup challenge organised by the National Youth Counci ...",
           "https://www.instagram.com/p/C5TAD2WvsLE/"
          ],
          [
           "Making money outside part-time jobs was my gateway to entrepreneurship. 🔑\n\nBased ...",
           "https://www.instagram.com/p/C5icwF8xMqJ/"
          ],
          [
           "I've been diving deep into the world of one-page websites lately ☝🏽\n\nTurns out,  ...",
           "https://www.instagram.com/p/C58TkL5puQ1/"
          ],
          [
           "\"Self-esteem is the reputation you have with yourself,\" Naval Ravikant once said ...",
           "https://www.instagram.com/p/C6OOQNdPjQw/"
          ],
          [
           "Landing pages seemed like a puzzle at first. 🧩\n\nYou may think they were just sim ...",
           "https://www.instagram.com/p/C6a4fT3IZB4/"
          ],
          [
           "\"Honour the gift of life by offering your gifts to the world.\" - Mike Maples Jr. ...",
           "https://www.instagram.com/p/C6f7M75NL_X/"
          ],
          [
           "Starting a business doesn’t have to cost a fortune. 💰\n\nI used to run a couple st ...",
           "https://www.instagram.com/p/C7UY86lCZIZ/"
          ],
          [
           "Entrepreneurship saved me by giving me purpose. 🎯\n\nIt made me see life as my oys ...",
           "https://www.instagram.com/p/C7gg2qch2UW/"
          ],
          [
           "We’re not the best web agency in the world …\n\nBut we are the best web agency for ...",
           "https://www.instagram.com/p/C8bhZzepkci/"
          ],
          [
           "Stop designing your business website aimlessly! 😵‍💫\n\nThe only thing solo entrepr ...",
           "https://www.instagram.com/p/C9hJueKtdmk/"
          ],
          [
           "Stop stressing about whether you can design the perfect website. Of course you c ...",
           "https://www.instagram.com/p/C92TgqgovKe/"
          ],
          [
           "Why choose a big agency when you can have a partner who truly gets you? 💡\n\nWith  ...",
           "https://www.instagram.com/p/C94buNAtvDF/"
          ],
          [
           "With my 3-year involvement in the startup space (and counting), I have spoken to ...",
           "https://www.instagram.com/p/C-KPmewIM-v/"
          ],
          [
           "Emotional clarity = Better decisions. 🪫\n\nSince the start of 2024, I’ve been taki ...",
           "https://www.instagram.com/p/C-unUiktWdM/"
          ],
          [
           "I’ve always loved rooting for movie characters who go from zero to hero. 🦸\n\nAnd  ...",
           "https://www.instagram.com/p/C_AUPVCPYuX/"
          ],
          [
           "My mission with The Nadra Agency (TNA) is to empower small business owners like  ...",
           "https://www.instagram.com/p/C_P-xbvPv9y/"
          ],
          [
           "We live in the age of instant convenience. 🕒\n\nYour users will expect to receive  ...",
           "https://www.instagram.com/p/C_0IwbdCkIY/"
          ],
          [
           "Big agencies are not creative like small agencies are.\n\nYeah I said it.\n\nMany te ...",
           "https://www.instagram.com/p/DABAvcKtbuO/"
          ],
          [
           "If you want people to buy your product, you’ve got to stop talking like a robot. ...",
           "https://www.instagram.com/p/DAGRNXZKk_H/"
          ],
          [
           "Lately I’ve noticed how easy it is to lose hours in bed, glued to my phone.\n\n5 h ...",
           "https://www.instagram.com/p/DATCSp8idLd/"
          ],
          [
           "There are so. many. types. of devices that people use to access the internet.\n\nA ...",
           "https://www.instagram.com/p/DAYL5d6OGjA/"
          ],
          [
           "The Nadra Agency (TNA) is going through a business shift.\n\nAs an agency owner, c ...",
           "https://www.instagram.com/p/DAqGmPTMcXt/"
          ],
          [
           "The day has come.\n\nYou’re finally releasing your startup’s product to your custo ...",
           "https://www.instagram.com/p/DA8PBa1uCEb/"
          ],
          [
           "To get more paying clients, you need to get enough traffic to your website.\n\nOne ...",
           "https://www.instagram.com/p/DBLrzYzp6KH/"
          ],
          [
           "I’ve seen growing startups with ugly live websites.\n\nI’m talking 2000s vibes - C ...",
           "https://www.instagram.com/p/DBdtWjYshBW/"
          ],
          [
           "As a business owner, your website is one of your strongest tools.\n\nIf you’re not ...",
           "https://www.instagram.com/p/DByTt8hCdXj/"
          ],
          [
           "How can customers give you money if they feel demotivated to do so?\n\nCTAs (calls ...",
           "https://www.instagram.com/p/DCG6DNWoTwv/"
          ],
          [
           "As a business owner, you already know how valuable the skill of storytelling is. ...",
           "https://www.instagram.com/p/DCWW1dbKbY8/"
          ],
          [
           "A programmer will develop a website faster than us.\n\nBut speed without strategy  ...",
           "https://www.instagram.com/p/DCmIL22BGUs/"
          ],
          [
           "Think like your customers.\n\nAs founders, it’s tempting to design websites focusi ...",
           "https://www.instagram.com/p/DC3uSiSvNAu/"
          ],
          [
           "Your website is an extension of your startup’s identity.\n\nIt should make visitor ...",
           "https://www.instagram.com/p/DDMbhiOhmo8/"
          ],
          [
           "Off the top of my head, there are three things every high-converting landing pag ...",
           "https://www.instagram.com/p/DDedE-jodsN/"
          ],
          [
           "In the time it takes a big agency to ‘circle back,’ we’ve already delivered.\n\nWe ...",
           "https://www.instagram.com/p/DDwXxqki2uQ/"
          ],
          [
           "Clients are new friends I haven’t met yet!\n\nProbably the cheesiest thing I’ll sa ...",
           "https://www.instagram.com/p/DECgNQNhHpY/"
          ]
         ],
         "hovertemplate": "%{y}<br>Date: %{x}<br>Desc: %{customdata[0]}<br>Link: %{customdata[1]}",
         "legendgroup": "follows",
         "line": {
          "color": "#ab63fa",
          "dash": "solid"
         },
         "marker": {
          "symbol": "circle"
         },
         "mode": "lines",
         "name": "follows",
         "orientation": "v",
         "showlegend": true,
         "type": "scatter",
         "x": [
          "2024-01-07",
          "2024-01-09",
          "2024-01-11",
          "2024-01-15",
          "2024-01-18",
          "2024-01-23",
          "2024-01-30",
          "2024-01-31",
          "2024-02-06",
          "2024-02-08",
          "2024-02-14",
          "2024-02-21",
          "2024-02-28",
          "2024-03-28",
          "2024-04-03",
          "2024-04-09",
          "2024-04-19",
          "2024-04-26",
          "2024-05-01",
          "2024-05-03",
          "2024-05-23",
          "2024-05-28",
          "2024-06-20",
          "2024-07-17",
          "2024-07-25",
          "2024-07-26",
          "2024-08-02",
          "2024-08-16",
          "2024-08-23",
          "2024-08-29",
          "2024-09-12",
          "2024-09-17",
          "2024-09-19",
          "2024-09-24",
          "2024-09-26",
          "2024-10-03",
          "2024-10-10",
          "2024-10-16",
          "2024-10-23",
          "2024-10-31",
          "2024-11-08",
          "2024-11-14",
          "2024-11-20",
          "2024-11-27",
          "2024-12-05",
          "2024-12-12",
          "2024-12-19",
          "2024-12-26"
         ],
         "xaxis": "x",
         "y": [
          0,
          0,
          0,
          0,
          0,
          0,
          0,
          0,
          0,
          0,
          0,
          0,
          0,
          0,
          0,
          0,
          0,
          0,
          0,
          0,
          0,
          0,
          0,
          0,
          0,
          0,
          0,
          0,
          0,
          0,
          0,
          0,
          0,
          0,
          0,
          0,
          0,
          0,
          0,
          0,
          0,
          0,
          0,
          0,
          0,
          0,
          0,
          0
         ],
         "yaxis": "y"
        },
        {
         "customdata": [
          [
           "Welcome to my office, and yes, it is indeed my own bedroom. That's The Nadra Age ...",
           "https://www.instagram.com/p/C1zPvEdPPfr/"
          ],
          [
           "Website got you feeling 💀? Don't fret! Squeeze the most out of your investment w ...",
           "https://www.instagram.com/p/C14PUcEqZc9/"
          ],
          [
           "Is your website just a pretty picture on the internet, or a lead-generating powe ...",
           "https://www.instagram.com/p/C19Y7g6scmh/"
          ],
          [
           "Ever feel like web design is a language only developers speak? 🥲\n\nI hear you lou ...",
           "https://www.instagram.com/p/C2JTEDOI4Cb/"
          ],
          [
           "Hey startup owners! Feeling design FOMO? Don't sweat it. 😉\n\nThis is your cheat s ...",
           "https://www.instagram.com/p/C2P1MSuJ_oq/"
          ],
          [
           "I am thrilled to share a powerful testimonial from Bert's Garden, one of my incr ...",
           "https://www.instagram.com/p/C2eASoZsMlz/"
          ],
          [
           "Sweet tooth or not, building a website that converts can feel overwhelming.\n\nFea ...",
           "https://www.instagram.com/p/C2uGdlcr53G/"
          ],
          [
           "Passionate about connecting Singapore's farms and families, Verdé needed a websi ...",
           "https://www.instagram.com/p/C2wx7_kqpyE/"
          ],
          [
           "The Little Flower Hut delivers beautiful blooms almost instantly, so you can bri ...",
           "https://www.instagram.com/p/C3B1qu_tQ7b/"
          ],
          [
           "Picked up a new book to start the year; Ego is the Enemy by Ryan Holiday. 📖\n\nSom ...",
           "https://www.instagram.com/p/C3Fs1ocKZD2/"
          ],
          [
           "Giriprasad's testimonial speaks volumes 🔊\n\nWorking with TNA is effortless!  We b ...",
           "https://www.instagram.com/p/C3VJpzdomHw/"
          ],
          [
           "I started designing websites at the age of 13. 👧🏽\n\nThat's why I'm passionate abo ...",
           "https://www.instagram.com/p/C3nEYsnBkQp/"
          ],
          [
           "Listen here, startups! 📢\n\nAt The Nadra Agency (TNA), we believe in seamless coll ...",
           "https://www.instagram.com/p/C35F8cwJQ7o/"
          ],
          [
           "Meet Iffah, a talented digital film & television student!  We helped her showcas ...",
           "https://www.instagram.com/p/C5DjN6wN9uW/"
          ],
          [
           "This was me going for a startup challenge organised by the National Youth Counci ...",
           "https://www.instagram.com/p/C5TAD2WvsLE/"
          ],
          [
           "Making money outside part-time jobs was my gateway to entrepreneurship. 🔑\n\nBased ...",
           "https://www.instagram.com/p/C5icwF8xMqJ/"
          ],
          [
           "I've been diving deep into the world of one-page websites lately ☝🏽\n\nTurns out,  ...",
           "https://www.instagram.com/p/C58TkL5puQ1/"
          ],
          [
           "\"Self-esteem is the reputation you have with yourself,\" Naval Ravikant once said ...",
           "https://www.instagram.com/p/C6OOQNdPjQw/"
          ],
          [
           "Landing pages seemed like a puzzle at first. 🧩\n\nYou may think they were just sim ...",
           "https://www.instagram.com/p/C6a4fT3IZB4/"
          ],
          [
           "\"Honour the gift of life by offering your gifts to the world.\" - Mike Maples Jr. ...",
           "https://www.instagram.com/p/C6f7M75NL_X/"
          ],
          [
           "Starting a business doesn’t have to cost a fortune. 💰\n\nI used to run a couple st ...",
           "https://www.instagram.com/p/C7UY86lCZIZ/"
          ],
          [
           "Entrepreneurship saved me by giving me purpose. 🎯\n\nIt made me see life as my oys ...",
           "https://www.instagram.com/p/C7gg2qch2UW/"
          ],
          [
           "We’re not the best web agency in the world …\n\nBut we are the best web agency for ...",
           "https://www.instagram.com/p/C8bhZzepkci/"
          ],
          [
           "Stop designing your business website aimlessly! 😵‍💫\n\nThe only thing solo entrepr ...",
           "https://www.instagram.com/p/C9hJueKtdmk/"
          ],
          [
           "Stop stressing about whether you can design the perfect website. Of course you c ...",
           "https://www.instagram.com/p/C92TgqgovKe/"
          ],
          [
           "Why choose a big agency when you can have a partner who truly gets you? 💡\n\nWith  ...",
           "https://www.instagram.com/p/C94buNAtvDF/"
          ],
          [
           "With my 3-year involvement in the startup space (and counting), I have spoken to ...",
           "https://www.instagram.com/p/C-KPmewIM-v/"
          ],
          [
           "Emotional clarity = Better decisions. 🪫\n\nSince the start of 2024, I’ve been taki ...",
           "https://www.instagram.com/p/C-unUiktWdM/"
          ],
          [
           "I’ve always loved rooting for movie characters who go from zero to hero. 🦸\n\nAnd  ...",
           "https://www.instagram.com/p/C_AUPVCPYuX/"
          ],
          [
           "My mission with The Nadra Agency (TNA) is to empower small business owners like  ...",
           "https://www.instagram.com/p/C_P-xbvPv9y/"
          ],
          [
           "We live in the age of instant convenience. 🕒\n\nYour users will expect to receive  ...",
           "https://www.instagram.com/p/C_0IwbdCkIY/"
          ],
          [
           "Big agencies are not creative like small agencies are.\n\nYeah I said it.\n\nMany te ...",
           "https://www.instagram.com/p/DABAvcKtbuO/"
          ],
          [
           "If you want people to buy your product, you’ve got to stop talking like a robot. ...",
           "https://www.instagram.com/p/DAGRNXZKk_H/"
          ],
          [
           "Lately I’ve noticed how easy it is to lose hours in bed, glued to my phone.\n\n5 h ...",
           "https://www.instagram.com/p/DATCSp8idLd/"
          ],
          [
           "There are so. many. types. of devices that people use to access the internet.\n\nA ...",
           "https://www.instagram.com/p/DAYL5d6OGjA/"
          ],
          [
           "The Nadra Agency (TNA) is going through a business shift.\n\nAs an agency owner, c ...",
           "https://www.instagram.com/p/DAqGmPTMcXt/"
          ],
          [
           "The day has come.\n\nYou’re finally releasing your startup’s product to your custo ...",
           "https://www.instagram.com/p/DA8PBa1uCEb/"
          ],
          [
           "To get more paying clients, you need to get enough traffic to your website.\n\nOne ...",
           "https://www.instagram.com/p/DBLrzYzp6KH/"
          ],
          [
           "I’ve seen growing startups with ugly live websites.\n\nI’m talking 2000s vibes - C ...",
           "https://www.instagram.com/p/DBdtWjYshBW/"
          ],
          [
           "As a business owner, your website is one of your strongest tools.\n\nIf you’re not ...",
           "https://www.instagram.com/p/DByTt8hCdXj/"
          ],
          [
           "How can customers give you money if they feel demotivated to do so?\n\nCTAs (calls ...",
           "https://www.instagram.com/p/DCG6DNWoTwv/"
          ],
          [
           "As a business owner, you already know how valuable the skill of storytelling is. ...",
           "https://www.instagram.com/p/DCWW1dbKbY8/"
          ],
          [
           "A programmer will develop a website faster than us.\n\nBut speed without strategy  ...",
           "https://www.instagram.com/p/DCmIL22BGUs/"
          ],
          [
           "Think like your customers.\n\nAs founders, it’s tempting to design websites focusi ...",
           "https://www.instagram.com/p/DC3uSiSvNAu/"
          ],
          [
           "Your website is an extension of your startup’s identity.\n\nIt should make visitor ...",
           "https://www.instagram.com/p/DDMbhiOhmo8/"
          ],
          [
           "Off the top of my head, there are three things every high-converting landing pag ...",
           "https://www.instagram.com/p/DDedE-jodsN/"
          ],
          [
           "In the time it takes a big agency to ‘circle back,’ we’ve already delivered.\n\nWe ...",
           "https://www.instagram.com/p/DDwXxqki2uQ/"
          ],
          [
           "Clients are new friends I haven’t met yet!\n\nProbably the cheesiest thing I’ll sa ...",
           "https://www.instagram.com/p/DECgNQNhHpY/"
          ]
         ],
         "hovertemplate": "%{y}<br>Date: %{x}<br>Desc: %{customdata[0]}<br>Link: %{customdata[1]}",
         "legendgroup": "likes",
         "line": {
          "color": "#FFA15A",
          "dash": "solid"
         },
         "marker": {
          "symbol": "circle"
         },
         "mode": "lines",
         "name": "likes",
         "orientation": "v",
         "showlegend": true,
         "type": "scatter",
         "x": [
          "2024-01-07",
          "2024-01-09",
          "2024-01-11",
          "2024-01-15",
          "2024-01-18",
          "2024-01-23",
          "2024-01-30",
          "2024-01-31",
          "2024-02-06",
          "2024-02-08",
          "2024-02-14",
          "2024-02-21",
          "2024-02-28",
          "2024-03-28",
          "2024-04-03",
          "2024-04-09",
          "2024-04-19",
          "2024-04-26",
          "2024-05-01",
          "2024-05-03",
          "2024-05-23",
          "2024-05-28",
          "2024-06-20",
          "2024-07-17",
          "2024-07-25",
          "2024-07-26",
          "2024-08-02",
          "2024-08-16",
          "2024-08-23",
          "2024-08-29",
          "2024-09-12",
          "2024-09-17",
          "2024-09-19",
          "2024-09-24",
          "2024-09-26",
          "2024-10-03",
          "2024-10-10",
          "2024-10-16",
          "2024-10-23",
          "2024-10-31",
          "2024-11-08",
          "2024-11-14",
          "2024-11-20",
          "2024-11-27",
          "2024-12-05",
          "2024-12-12",
          "2024-12-19",
          "2024-12-26"
         ],
         "xaxis": "x",
         "y": [
          12,
          11,
          9,
          17,
          9,
          7,
          5,
          9,
          9,
          10,
          5,
          7,
          5,
          8,
          19,
          12,
          2,
          9,
          6,
          5,
          4,
          12,
          4,
          6,
          3,
          7,
          13,
          4,
          6,
          6,
          6,
          10,
          8,
          9,
          5,
          18,
          3,
          5,
          4,
          4,
          3,
          6,
          4,
          5,
          6,
          3,
          4,
          6
         ],
         "yaxis": "y"
        }
       ],
       "layout": {
        "height": 600,
        "hovermode": "x unified",
        "legend": {
         "title": {
          "text": "Metrics"
         },
         "tracegroupgap": 0
        },
        "template": {
         "data": {
          "bar": [
           {
            "error_x": {
             "color": "#2a3f5f"
            },
            "error_y": {
             "color": "#2a3f5f"
            },
            "marker": {
             "line": {
              "color": "#E5ECF6",
              "width": 0.5
             },
             "pattern": {
              "fillmode": "overlay",
              "size": 10,
              "solidity": 0.2
             }
            },
            "type": "bar"
           }
          ],
          "barpolar": [
           {
            "marker": {
             "line": {
              "color": "#E5ECF6",
              "width": 0.5
             },
             "pattern": {
              "fillmode": "overlay",
              "size": 10,
              "solidity": 0.2
             }
            },
            "type": "barpolar"
           }
          ],
          "carpet": [
           {
            "aaxis": {
             "endlinecolor": "#2a3f5f",
             "gridcolor": "white",
             "linecolor": "white",
             "minorgridcolor": "white",
             "startlinecolor": "#2a3f5f"
            },
            "baxis": {
             "endlinecolor": "#2a3f5f",
             "gridcolor": "white",
             "linecolor": "white",
             "minorgridcolor": "white",
             "startlinecolor": "#2a3f5f"
            },
            "type": "carpet"
           }
          ],
          "choropleth": [
           {
            "colorbar": {
             "outlinewidth": 0,
             "ticks": ""
            },
            "type": "choropleth"
           }
          ],
          "contour": [
           {
            "colorbar": {
             "outlinewidth": 0,
             "ticks": ""
            },
            "colorscale": [
             [
              0,
              "#0d0887"
             ],
             [
              0.1111111111111111,
              "#46039f"
             ],
             [
              0.2222222222222222,
              "#7201a8"
             ],
             [
              0.3333333333333333,
              "#9c179e"
             ],
             [
              0.4444444444444444,
              "#bd3786"
             ],
             [
              0.5555555555555556,
              "#d8576b"
             ],
             [
              0.6666666666666666,
              "#ed7953"
             ],
             [
              0.7777777777777778,
              "#fb9f3a"
             ],
             [
              0.8888888888888888,
              "#fdca26"
             ],
             [
              1,
              "#f0f921"
             ]
            ],
            "type": "contour"
           }
          ],
          "contourcarpet": [
           {
            "colorbar": {
             "outlinewidth": 0,
             "ticks": ""
            },
            "type": "contourcarpet"
           }
          ],
          "heatmap": [
           {
            "colorbar": {
             "outlinewidth": 0,
             "ticks": ""
            },
            "colorscale": [
             [
              0,
              "#0d0887"
             ],
             [
              0.1111111111111111,
              "#46039f"
             ],
             [
              0.2222222222222222,
              "#7201a8"
             ],
             [
              0.3333333333333333,
              "#9c179e"
             ],
             [
              0.4444444444444444,
              "#bd3786"
             ],
             [
              0.5555555555555556,
              "#d8576b"
             ],
             [
              0.6666666666666666,
              "#ed7953"
             ],
             [
              0.7777777777777778,
              "#fb9f3a"
             ],
             [
              0.8888888888888888,
              "#fdca26"
             ],
             [
              1,
              "#f0f921"
             ]
            ],
            "type": "heatmap"
           }
          ],
          "heatmapgl": [
           {
            "colorbar": {
             "outlinewidth": 0,
             "ticks": ""
            },
            "colorscale": [
             [
              0,
              "#0d0887"
             ],
             [
              0.1111111111111111,
              "#46039f"
             ],
             [
              0.2222222222222222,
              "#7201a8"
             ],
             [
              0.3333333333333333,
              "#9c179e"
             ],
             [
              0.4444444444444444,
              "#bd3786"
             ],
             [
              0.5555555555555556,
              "#d8576b"
             ],
             [
              0.6666666666666666,
              "#ed7953"
             ],
             [
              0.7777777777777778,
              "#fb9f3a"
             ],
             [
              0.8888888888888888,
              "#fdca26"
             ],
             [
              1,
              "#f0f921"
             ]
            ],
            "type": "heatmapgl"
           }
          ],
          "histogram": [
           {
            "marker": {
             "pattern": {
              "fillmode": "overlay",
              "size": 10,
              "solidity": 0.2
             }
            },
            "type": "histogram"
           }
          ],
          "histogram2d": [
           {
            "colorbar": {
             "outlinewidth": 0,
             "ticks": ""
            },
            "colorscale": [
             [
              0,
              "#0d0887"
             ],
             [
              0.1111111111111111,
              "#46039f"
             ],
             [
              0.2222222222222222,
              "#7201a8"
             ],
             [
              0.3333333333333333,
              "#9c179e"
             ],
             [
              0.4444444444444444,
              "#bd3786"
             ],
             [
              0.5555555555555556,
              "#d8576b"
             ],
             [
              0.6666666666666666,
              "#ed7953"
             ],
             [
              0.7777777777777778,
              "#fb9f3a"
             ],
             [
              0.8888888888888888,
              "#fdca26"
             ],
             [
              1,
              "#f0f921"
             ]
            ],
            "type": "histogram2d"
           }
          ],
          "histogram2dcontour": [
           {
            "colorbar": {
             "outlinewidth": 0,
             "ticks": ""
            },
            "colorscale": [
             [
              0,
              "#0d0887"
             ],
             [
              0.1111111111111111,
              "#46039f"
             ],
             [
              0.2222222222222222,
              "#7201a8"
             ],
             [
              0.3333333333333333,
              "#9c179e"
             ],
             [
              0.4444444444444444,
              "#bd3786"
             ],
             [
              0.5555555555555556,
              "#d8576b"
             ],
             [
              0.6666666666666666,
              "#ed7953"
             ],
             [
              0.7777777777777778,
              "#fb9f3a"
             ],
             [
              0.8888888888888888,
              "#fdca26"
             ],
             [
              1,
              "#f0f921"
             ]
            ],
            "type": "histogram2dcontour"
           }
          ],
          "mesh3d": [
           {
            "colorbar": {
             "outlinewidth": 0,
             "ticks": ""
            },
            "type": "mesh3d"
           }
          ],
          "parcoords": [
           {
            "line": {
             "colorbar": {
              "outlinewidth": 0,
              "ticks": ""
             }
            },
            "type": "parcoords"
           }
          ],
          "pie": [
           {
            "automargin": true,
            "type": "pie"
           }
          ],
          "scatter": [
           {
            "fillpattern": {
             "fillmode": "overlay",
             "size": 10,
             "solidity": 0.2
            },
            "type": "scatter"
           }
          ],
          "scatter3d": [
           {
            "line": {
             "colorbar": {
              "outlinewidth": 0,
              "ticks": ""
             }
            },
            "marker": {
             "colorbar": {
              "outlinewidth": 0,
              "ticks": ""
             }
            },
            "type": "scatter3d"
           }
          ],
          "scattercarpet": [
           {
            "marker": {
             "colorbar": {
              "outlinewidth": 0,
              "ticks": ""
             }
            },
            "type": "scattercarpet"
           }
          ],
          "scattergeo": [
           {
            "marker": {
             "colorbar": {
              "outlinewidth": 0,
              "ticks": ""
             }
            },
            "type": "scattergeo"
           }
          ],
          "scattergl": [
           {
            "marker": {
             "colorbar": {
              "outlinewidth": 0,
              "ticks": ""
             }
            },
            "type": "scattergl"
           }
          ],
          "scattermapbox": [
           {
            "marker": {
             "colorbar": {
              "outlinewidth": 0,
              "ticks": ""
             }
            },
            "type": "scattermapbox"
           }
          ],
          "scatterpolar": [
           {
            "marker": {
             "colorbar": {
              "outlinewidth": 0,
              "ticks": ""
             }
            },
            "type": "scatterpolar"
           }
          ],
          "scatterpolargl": [
           {
            "marker": {
             "colorbar": {
              "outlinewidth": 0,
              "ticks": ""
             }
            },
            "type": "scatterpolargl"
           }
          ],
          "scatterternary": [
           {
            "marker": {
             "colorbar": {
              "outlinewidth": 0,
              "ticks": ""
             }
            },
            "type": "scatterternary"
           }
          ],
          "surface": [
           {
            "colorbar": {
             "outlinewidth": 0,
             "ticks": ""
            },
            "colorscale": [
             [
              0,
              "#0d0887"
             ],
             [
              0.1111111111111111,
              "#46039f"
             ],
             [
              0.2222222222222222,
              "#7201a8"
             ],
             [
              0.3333333333333333,
              "#9c179e"
             ],
             [
              0.4444444444444444,
              "#bd3786"
             ],
             [
              0.5555555555555556,
              "#d8576b"
             ],
             [
              0.6666666666666666,
              "#ed7953"
             ],
             [
              0.7777777777777778,
              "#fb9f3a"
             ],
             [
              0.8888888888888888,
              "#fdca26"
             ],
             [
              1,
              "#f0f921"
             ]
            ],
            "type": "surface"
           }
          ],
          "table": [
           {
            "cells": {
             "fill": {
              "color": "#EBF0F8"
             },
             "line": {
              "color": "white"
             }
            },
            "header": {
             "fill": {
              "color": "#C8D4E3"
             },
             "line": {
              "color": "white"
             }
            },
            "type": "table"
           }
          ]
         },
         "layout": {
          "annotationdefaults": {
           "arrowcolor": "#2a3f5f",
           "arrowhead": 0,
           "arrowwidth": 1
          },
          "autotypenumbers": "strict",
          "coloraxis": {
           "colorbar": {
            "outlinewidth": 0,
            "ticks": ""
           }
          },
          "colorscale": {
           "diverging": [
            [
             0,
             "#8e0152"
            ],
            [
             0.1,
             "#c51b7d"
            ],
            [
             0.2,
             "#de77ae"
            ],
            [
             0.3,
             "#f1b6da"
            ],
            [
             0.4,
             "#fde0ef"
            ],
            [
             0.5,
             "#f7f7f7"
            ],
            [
             0.6,
             "#e6f5d0"
            ],
            [
             0.7,
             "#b8e186"
            ],
            [
             0.8,
             "#7fbc41"
            ],
            [
             0.9,
             "#4d9221"
            ],
            [
             1,
             "#276419"
            ]
           ],
           "sequential": [
            [
             0,
             "#0d0887"
            ],
            [
             0.1111111111111111,
             "#46039f"
            ],
            [
             0.2222222222222222,
             "#7201a8"
            ],
            [
             0.3333333333333333,
             "#9c179e"
            ],
            [
             0.4444444444444444,
             "#bd3786"
            ],
            [
             0.5555555555555556,
             "#d8576b"
            ],
            [
             0.6666666666666666,
             "#ed7953"
            ],
            [
             0.7777777777777778,
             "#fb9f3a"
            ],
            [
             0.8888888888888888,
             "#fdca26"
            ],
            [
             1,
             "#f0f921"
            ]
           ],
           "sequentialminus": [
            [
             0,
             "#0d0887"
            ],
            [
             0.1111111111111111,
             "#46039f"
            ],
            [
             0.2222222222222222,
             "#7201a8"
            ],
            [
             0.3333333333333333,
             "#9c179e"
            ],
            [
             0.4444444444444444,
             "#bd3786"
            ],
            [
             0.5555555555555556,
             "#d8576b"
            ],
            [
             0.6666666666666666,
             "#ed7953"
            ],
            [
             0.7777777777777778,
             "#fb9f3a"
            ],
            [
             0.8888888888888888,
             "#fdca26"
            ],
            [
             1,
             "#f0f921"
            ]
           ]
          },
          "colorway": [
           "#636efa",
           "#EF553B",
           "#00cc96",
           "#ab63fa",
           "#FFA15A",
           "#19d3f3",
           "#FF6692",
           "#B6E880",
           "#FF97FF",
           "#FECB52"
          ],
          "font": {
           "color": "#2a3f5f"
          },
          "geo": {
           "bgcolor": "white",
           "lakecolor": "white",
           "landcolor": "#E5ECF6",
           "showlakes": true,
           "showland": true,
           "subunitcolor": "white"
          },
          "hoverlabel": {
           "align": "left"
          },
          "hovermode": "closest",
          "mapbox": {
           "style": "light"
          },
          "paper_bgcolor": "white",
          "plot_bgcolor": "#E5ECF6",
          "polar": {
           "angularaxis": {
            "gridcolor": "white",
            "linecolor": "white",
            "ticks": ""
           },
           "bgcolor": "#E5ECF6",
           "radialaxis": {
            "gridcolor": "white",
            "linecolor": "white",
            "ticks": ""
           }
          },
          "scene": {
           "xaxis": {
            "backgroundcolor": "#E5ECF6",
            "gridcolor": "white",
            "gridwidth": 2,
            "linecolor": "white",
            "showbackground": true,
            "ticks": "",
            "zerolinecolor": "white"
           },
           "yaxis": {
            "backgroundcolor": "#E5ECF6",
            "gridcolor": "white",
            "gridwidth": 2,
            "linecolor": "white",
            "showbackground": true,
            "ticks": "",
            "zerolinecolor": "white"
           },
           "zaxis": {
            "backgroundcolor": "#E5ECF6",
            "gridcolor": "white",
            "gridwidth": 2,
            "linecolor": "white",
            "showbackground": true,
            "ticks": "",
            "zerolinecolor": "white"
           }
          },
          "shapedefaults": {
           "line": {
            "color": "#2a3f5f"
           }
          },
          "ternary": {
           "aaxis": {
            "gridcolor": "white",
            "linecolor": "white",
            "ticks": ""
           },
           "baxis": {
            "gridcolor": "white",
            "linecolor": "white",
            "ticks": ""
           },
           "bgcolor": "#E5ECF6",
           "caxis": {
            "gridcolor": "white",
            "linecolor": "white",
            "ticks": ""
           }
          },
          "title": {
           "x": 0.05
          },
          "xaxis": {
           "automargin": true,
           "gridcolor": "white",
           "linecolor": "white",
           "ticks": "",
           "title": {
            "standoff": 15
           },
           "zerolinecolor": "white",
           "zerolinewidth": 2
          },
          "yaxis": {
           "automargin": true,
           "gridcolor": "white",
           "linecolor": "white",
           "ticks": "",
           "title": {
            "standoff": 15
           },
           "zerolinecolor": "white",
           "zerolinewidth": 2
          }
         }
        },
        "title": {
         "text": "Performance of IMAGE Posts on Instagram (@nadraqamaria)"
        },
        "width": 1100,
        "xaxis": {
         "anchor": "y",
         "domain": [
          0,
          1
         ],
         "title": {
          "text": "Date posted"
         }
        },
        "yaxis": {
         "anchor": "x",
         "domain": [
          0,
          1
         ],
         "title": {
          "text": "Metrics"
         }
        }
       }
      },
      "image/png": "[encoded data removed]",
      "text/html": [
       "<div>                            <div id=\"1d8ddca3-4e55-41a3-915b-545872811f5b\" class=\"plotly-graph-div\" style=\"height:600px; width:1100px;\"></div>            <script type=\"text/javascript\">                require([\"plotly\"], function(Plotly) {                    window.PLOTLYENV=window.PLOTLYENV || {};                                    if (document.getElementById(\"1d8ddca3-4e55-41a3-915b-545872811f5b\")) {                    Plotly.newPlot(                        \"1d8ddca3-4e55-41a3-915b-545872811f5b\",                        [{\"customdata\":[[\"Welcome to my office, and yes, it is indeed my own bedroom. That's The Nadra Age ...\",\"https:\\u002f\\u002fwww.instagram.com\\u002fp\\u002fC1zPvEdPPfr\\u002f\"],[\"Website got you feeling \\ud83d\\udc80? Don't fret! Squeeze the most out of your investment w ...\",\"https:\\u002f\\u002fwww.instagram.com\\u002fp\\u002fC14PUcEqZc9\\u002f\"],[\"Is your website just a pretty picture on the internet, or a lead-generating powe ...\",\"https:\\u002f\\u002fwww.instagram.com\\u002fp\\u002fC19Y7g6scmh\\u002f\"],[\"Ever feel like web design is a language only developers speak? \\ud83e\\udd72\\n\\nI hear you lou ...\",\"https:\\u002f\\u002fwww.instagram.com\\u002fp\\u002fC2JTEDOI4Cb\\u002f\"],[\"Hey startup owners! Feeling design FOMO? Don't sweat it. \\ud83d\\ude09\\n\\nThis is your cheat s ...\",\"https:\\u002f\\u002fwww.instagram.com\\u002fp\\u002fC2P1MSuJ_oq\\u002f\"],[\"I am thrilled to share a powerful testimonial from Bert's Garden, one of my incr ...\",\"https:\\u002f\\u002fwww.instagram.com\\u002fp\\u002fC2eASoZsMlz\\u002f\"],[\"Sweet tooth or not, building a website that converts can feel overwhelming.\\n\\nFea ...\",\"https:\\u002f\\u002fwww.instagram.com\\u002fp\\u002fC2uGdlcr53G\\u002f\"],[\"Passionate about connecting Singapore's farms and families, Verd\\u00e9 needed a websi ...\",\"https:\\u002f\\u002fwww.instagram.com\\u002fp\\u002fC2wx7_kqpyE\\u002f\"],[\"The Little Flower Hut delivers beautiful blooms almost instantly, so you can bri ...\",\"https:\\u002f\\u002fwww.instagram.com\\u002fp\\u002fC3B1qu_tQ7b\\u002f\"],[\"Picked up a new book to start the year; Ego is the Enemy by Ryan Holiday. \\ud83d\\udcd6\\n\\nSom ...\",\"https:\\u002f\\u002fwww.instagram.com\\u002fp\\u002fC3Fs1ocKZD2\\u002f\"],[\"Giriprasad's testimonial speaks volumes \\ud83d\\udd0a\\n\\nWorking with TNA is effortless!  We b ...\",\"https:\\u002f\\u002fwww.instagram.com\\u002fp\\u002fC3VJpzdomHw\\u002f\"],[\"I started designing websites at the age of 13. \\ud83d\\udc67\\ud83c\\udffd\\n\\nThat's why I'm passionate abo ...\",\"https:\\u002f\\u002fwww.instagram.com\\u002fp\\u002fC3nEYsnBkQp\\u002f\"],[\"Listen here, startups! \\ud83d\\udce2\\n\\nAt The Nadra Agency (TNA), we believe in seamless coll ...\",\"https:\\u002f\\u002fwww.instagram.com\\u002fp\\u002fC35F8cwJQ7o\\u002f\"],[\"Meet Iffah, a talented digital film & television student!  We helped her showcas ...\",\"https:\\u002f\\u002fwww.instagram.com\\u002fp\\u002fC5DjN6wN9uW\\u002f\"],[\"This was me going for a startup challenge organised by the National Youth Counci ...\",\"https:\\u002f\\u002fwww.instagram.com\\u002fp\\u002fC5TAD2WvsLE\\u002f\"],[\"Making money outside part-time jobs was my gateway to entrepreneurship. \\ud83d\\udd11\\n\\nBased ...\",\"https:\\u002f\\u002fwww.instagram.com\\u002fp\\u002fC5icwF8xMqJ\\u002f\"],[\"I've been diving deep into the world of one-page websites lately \\u261d\\ud83c\\udffd\\n\\nTurns out,  ...\",\"https:\\u002f\\u002fwww.instagram.com\\u002fp\\u002fC58TkL5puQ1\\u002f\"],[\"\\\"Self-esteem is the reputation you have with yourself,\\\" Naval Ravikant once said ...\",\"https:\\u002f\\u002fwww.instagram.com\\u002fp\\u002fC6OOQNdPjQw\\u002f\"],[\"Landing pages seemed like a puzzle at first. \\ud83e\\udde9\\n\\nYou may think they were just sim ...\",\"https:\\u002f\\u002fwww.instagram.com\\u002fp\\u002fC6a4fT3IZB4\\u002f\"],[\"\\\"Honour the gift of life by offering your gifts to the world.\\\" - Mike Maples Jr. ...\",\"https:\\u002f\\u002fwww.instagram.com\\u002fp\\u002fC6f7M75NL_X\\u002f\"],[\"Starting a business doesn\\u2019t have to cost a fortune. \\ud83d\\udcb0\\n\\nI used to run a couple st ...\",\"https:\\u002f\\u002fwww.instagram.com\\u002fp\\u002fC7UY86lCZIZ\\u002f\"],[\"Entrepreneurship saved me by giving me purpose. \\ud83c\\udfaf\\n\\nIt made me see life as my oys ...\",\"https:\\u002f\\u002fwww.instagram.com\\u002fp\\u002fC7gg2qch2UW\\u002f\"],[\"We\\u2019re not the best web agency in the world \\u2026\\n\\nBut we are the best web agency for ...\",\"https:\\u002f\\u002fwww.instagram.com\\u002fp\\u002fC8bhZzepkci\\u002f\"],[\"Stop designing your business website aimlessly! \\ud83d\\ude35\\u200d\\ud83d\\udcab\\n\\nThe only thing solo entrepr ...\",\"https:\\u002f\\u002fwww.instagram.com\\u002fp\\u002fC9hJueKtdmk\\u002f\"],[\"Stop stressing about whether you can design the perfect website. Of course you c ...\",\"https:\\u002f\\u002fwww.instagram.com\\u002fp\\u002fC92TgqgovKe\\u002f\"],[\"Why choose a big agency when you can have a partner who truly gets you? \\ud83d\\udca1\\n\\nWith  ...\",\"https:\\u002f\\u002fwww.instagram.com\\u002fp\\u002fC94buNAtvDF\\u002f\"],[\"With my 3-year involvement in the startup space (and counting), I have spoken to ...\",\"https:\\u002f\\u002fwww.instagram.com\\u002fp\\u002fC-KPmewIM-v\\u002f\"],[\"Emotional clarity = Better decisions. \\ud83e\\udeab\\n\\nSince the start of 2024, I\\u2019ve been taki ...\",\"https:\\u002f\\u002fwww.instagram.com\\u002fp\\u002fC-unUiktWdM\\u002f\"],[\"I\\u2019ve always loved rooting for movie characters who go from zero to hero. \\ud83e\\uddb8\\n\\nAnd  ...\",\"https:\\u002f\\u002fwww.instagram.com\\u002fp\\u002fC_AUPVCPYuX\\u002f\"],[\"My mission with The Nadra Agency (TNA) is to empower small business owners like  ...\",\"https:\\u002f\\u002fwww.instagram.com\\u002fp\\u002fC_P-xbvPv9y\\u002f\"],[\"We live in the age of instant convenience. \\ud83d\\udd52\\n\\nYour users will expect to receive  ...\",\"https:\\u002f\\u002fwww.instagram.com\\u002fp\\u002fC_0IwbdCkIY\\u002f\"],[\"Big agencies are not creative like small agencies are.\\n\\nYeah I said it.\\n\\nMany te ...\",\"https:\\u002f\\u002fwww.instagram.com\\u002fp\\u002fDABAvcKtbuO\\u002f\"],[\"If you want people to buy your product, you\\u2019ve got to stop talking like a robot. ...\",\"https:\\u002f\\u002fwww.instagram.com\\u002fp\\u002fDAGRNXZKk_H\\u002f\"],[\"Lately I\\u2019ve noticed how easy it is to lose hours in bed, glued to my phone.\\n\\n5 h ...\",\"https:\\u002f\\u002fwww.instagram.com\\u002fp\\u002fDATCSp8idLd\\u002f\"],[\"There are so. many. types. of devices that people use to access the internet.\\n\\nA ...\",\"https:\\u002f\\u002fwww.instagram.com\\u002fp\\u002fDAYL5d6OGjA\\u002f\"],[\"The Nadra Agency (TNA) is going through a business shift.\\n\\nAs an agency owner, c ...\",\"https:\\u002f\\u002fwww.instagram.com\\u002fp\\u002fDAqGmPTMcXt\\u002f\"],[\"The day has come.\\n\\nYou\\u2019re finally releasing your startup\\u2019s product to your custo ...\",\"https:\\u002f\\u002fwww.instagram.com\\u002fp\\u002fDA8PBa1uCEb\\u002f\"],[\"To get more paying clients, you need to get enough traffic to your website.\\n\\nOne ...\",\"https:\\u002f\\u002fwww.instagram.com\\u002fp\\u002fDBLrzYzp6KH\\u002f\"],[\"I\\u2019ve seen growing startups with ugly live websites.\\n\\nI\\u2019m talking 2000s vibes - C ...\",\"https:\\u002f\\u002fwww.instagram.com\\u002fp\\u002fDBdtWjYshBW\\u002f\"],[\"As a business owner, your website is one of your strongest tools.\\n\\nIf you\\u2019re not ...\",\"https:\\u002f\\u002fwww.instagram.com\\u002fp\\u002fDByTt8hCdXj\\u002f\"],[\"How can customers give you money if they feel demotivated to do so?\\n\\nCTAs (calls ...\",\"https:\\u002f\\u002fwww.instagram.com\\u002fp\\u002fDCG6DNWoTwv\\u002f\"],[\"As a business owner, you already know how valuable the skill of storytelling is. ...\",\"https:\\u002f\\u002fwww.instagram.com\\u002fp\\u002fDCWW1dbKbY8\\u002f\"],[\"A programmer will develop a website faster than us.\\n\\nBut speed without strategy  ...\",\"https:\\u002f\\u002fwww.instagram.com\\u002fp\\u002fDCmIL22BGUs\\u002f\"],[\"Think like your customers.\\n\\nAs founders, it\\u2019s tempting to design websites focusi ...\",\"https:\\u002f\\u002fwww.instagram.com\\u002fp\\u002fDC3uSiSvNAu\\u002f\"],[\"Your website is an extension of your startup\\u2019s identity.\\n\\nIt should make visitor ...\",\"https:\\u002f\\u002fwww.instagram.com\\u002fp\\u002fDDMbhiOhmo8\\u002f\"],[\"Off the top of my head, there are three things every high-converting landing pag ...\",\"https:\\u002f\\u002fwww.instagram.com\\u002fp\\u002fDDedE-jodsN\\u002f\"],[\"In the time it takes a big agency to \\u2018circle back,\\u2019 we\\u2019ve already delivered.\\n\\nWe ...\",\"https:\\u002f\\u002fwww.instagram.com\\u002fp\\u002fDDwXxqki2uQ\\u002f\"],[\"Clients are new friends I haven\\u2019t met yet!\\n\\nProbably the cheesiest thing I\\u2019ll sa ...\",\"https:\\u002f\\u002fwww.instagram.com\\u002fp\\u002fDECgNQNhHpY\\u002f\"]],\"hovertemplate\":\"%{y}\\u003cbr\\u003eDate: %{x}\\u003cbr\\u003eDesc: %{customdata[0]}\\u003cbr\\u003eLink: %{customdata[1]}\",\"legendgroup\":\"reach\",\"line\":{\"color\":\"#636efa\",\"dash\":\"solid\"},\"marker\":{\"symbol\":\"circle\"},\"mode\":\"lines\",\"name\":\"reach\",\"orientation\":\"v\",\"showlegend\":true,\"x\":[\"2024-01-07\",\"2024-01-09\",\"2024-01-11\",\"2024-01-15\",\"2024-01-18\",\"2024-01-23\",\"2024-01-30\",\"2024-01-31\",\"2024-02-06\",\"2024-02-08\",\"2024-02-14\",\"2024-02-21\",\"2024-02-28\",\"2024-03-28\",\"2024-04-03\",\"2024-04-09\",\"2024-04-19\",\"2024-04-26\",\"2024-05-01\",\"2024-05-03\",\"2024-05-23\",\"2024-05-28\",\"2024-06-20\",\"2024-07-17\",\"2024-07-25\",\"2024-07-26\",\"2024-08-02\",\"2024-08-16\",\"2024-08-23\",\"2024-08-29\",\"2024-09-12\",\"2024-09-17\",\"2024-09-19\",\"2024-09-24\",\"2024-09-26\",\"2024-10-03\",\"2024-10-10\",\"2024-10-16\",\"2024-10-23\",\"2024-10-31\",\"2024-11-08\",\"2024-11-14\",\"2024-11-20\",\"2024-11-27\",\"2024-12-05\",\"2024-12-12\",\"2024-12-19\",\"2024-12-26\"],\"xaxis\":\"x\",\"y\":[160,129,200,203,57,77,48,70,78,77,59,52,42,123,149,68,45,62,90,67,85,100,41,33,45,58,61,25,35,37,38,58,36,43,22,62,30,21,20,38,21,21,20,20,30,18,23,27],\"yaxis\":\"y\",\"type\":\"scatter\"},{\"customdata\":[[\"Welcome to my office, and yes, it is indeed my own bedroom. That's The Nadra Age ...\",\"https:\\u002f\\u002fwww.instagram.com\\u002fp\\u002fC1zPvEdPPfr\\u002f\"],[\"Website got you feeling \\ud83d\\udc80? Don't fret! Squeeze the most out of your investment w ...\",\"https:\\u002f\\u002fwww.instagram.com\\u002fp\\u002fC14PUcEqZc9\\u002f\"],[\"Is your website just a pretty picture on the internet, or a lead-generating powe ...\",\"https:\\u002f\\u002fwww.instagram.com\\u002fp\\u002fC19Y7g6scmh\\u002f\"],[\"Ever feel like web design is a language only developers speak? \\ud83e\\udd72\\n\\nI hear you lou ...\",\"https:\\u002f\\u002fwww.instagram.com\\u002fp\\u002fC2JTEDOI4Cb\\u002f\"],[\"Hey startup owners! Feeling design FOMO? Don't sweat it. \\ud83d\\ude09\\n\\nThis is your cheat s ...\",\"https:\\u002f\\u002fwww.instagram.com\\u002fp\\u002fC2P1MSuJ_oq\\u002f\"],[\"I am thrilled to share a powerful testimonial from Bert's Garden, one of my incr ...\",\"https:\\u002f\\u002fwww.instagram.com\\u002fp\\u002fC2eASoZsMlz\\u002f\"],[\"Sweet tooth or not, building a website that converts can feel overwhelming.\\n\\nFea ...\",\"https:\\u002f\\u002fwww.instagram.com\\u002fp\\u002fC2uGdlcr53G\\u002f\"],[\"Passionate about connecting Singapore's farms and families, Verd\\u00e9 needed a websi ...\",\"https:\\u002f\\u002fwww.instagram.com\\u002fp\\u002fC2wx7_kqpyE\\u002f\"],[\"The Little Flower Hut delivers beautiful blooms almost instantly, so you can bri ...\",\"https:\\u002f\\u002fwww.instagram.com\\u002fp\\u002fC3B1qu_tQ7b\\u002f\"],[\"Picked up a new book to start the year; Ego is the Enemy by Ryan Holiday. \\ud83d\\udcd6\\n\\nSom ...\",\"https:\\u002f\\u002fwww.instagram.com\\u002fp\\u002fC3Fs1ocKZD2\\u002f\"],[\"Giriprasad's testimonial speaks volumes \\ud83d\\udd0a\\n\\nWorking with TNA is effortless!  We b ...\",\"https:\\u002f\\u002fwww.instagram.com\\u002fp\\u002fC3VJpzdomHw\\u002f\"],[\"I started designing websites at the age of 13. \\ud83d\\udc67\\ud83c\\udffd\\n\\nThat's why I'm passionate abo ...\",\"https:\\u002f\\u002fwww.instagram.com\\u002fp\\u002fC3nEYsnBkQp\\u002f\"],[\"Listen here, startups! \\ud83d\\udce2\\n\\nAt The Nadra Agency (TNA), we believe in seamless coll ...\",\"https:\\u002f\\u002fwww.instagram.com\\u002fp\\u002fC35F8cwJQ7o\\u002f\"],[\"Meet Iffah, a talented digital film & television student!  We helped her showcas ...\",\"https:\\u002f\\u002fwww.instagram.com\\u002fp\\u002fC5DjN6wN9uW\\u002f\"],[\"This was me going for a startup challenge organised by the National Youth Counci ...\",\"https:\\u002f\\u002fwww.instagram.com\\u002fp\\u002fC5TAD2WvsLE\\u002f\"],[\"Making money outside part-time jobs was my gateway to entrepreneurship. \\ud83d\\udd11\\n\\nBased ...\",\"https:\\u002f\\u002fwww.instagram.com\\u002fp\\u002fC5icwF8xMqJ\\u002f\"],[\"I've been diving deep into the world of one-page websites lately \\u261d\\ud83c\\udffd\\n\\nTurns out,  ...\",\"https:\\u002f\\u002fwww.instagram.com\\u002fp\\u002fC58TkL5puQ1\\u002f\"],[\"\\\"Self-esteem is the reputation you have with yourself,\\\" Naval Ravikant once said ...\",\"https:\\u002f\\u002fwww.instagram.com\\u002fp\\u002fC6OOQNdPjQw\\u002f\"],[\"Landing pages seemed like a puzzle at first. \\ud83e\\udde9\\n\\nYou may think they were just sim ...\",\"https:\\u002f\\u002fwww.instagram.com\\u002fp\\u002fC6a4fT3IZB4\\u002f\"],[\"\\\"Honour the gift of life by offering your gifts to the world.\\\" - Mike Maples Jr. ...\",\"https:\\u002f\\u002fwww.instagram.com\\u002fp\\u002fC6f7M75NL_X\\u002f\"],[\"Starting a business doesn\\u2019t have to cost a fortune. \\ud83d\\udcb0\\n\\nI used to run a couple st ...\",\"https:\\u002f\\u002fwww.instagram.com\\u002fp\\u002fC7UY86lCZIZ\\u002f\"],[\"Entrepreneurship saved me by giving me purpose. \\ud83c\\udfaf\\n\\nIt made me see life as my oys ...\",\"https:\\u002f\\u002fwww.instagram.com\\u002fp\\u002fC7gg2qch2UW\\u002f\"],[\"We\\u2019re not the best web agency in the world \\u2026\\n\\nBut we are the best web agency for ...\",\"https:\\u002f\\u002fwww.instagram.com\\u002fp\\u002fC8bhZzepkci\\u002f\"],[\"Stop designing your business website aimlessly! \\ud83d\\ude35\\u200d\\ud83d\\udcab\\n\\nThe only thing solo entrepr ...\",\"https:\\u002f\\u002fwww.instagram.com\\u002fp\\u002fC9hJueKtdmk\\u002f\"],[\"Stop stressing about whether you can design the perfect website. Of course you c ...\",\"https:\\u002f\\u002fwww.instagram.com\\u002fp\\u002fC92TgqgovKe\\u002f\"],[\"Why choose a big agency when you can have a partner who truly gets you? \\ud83d\\udca1\\n\\nWith  ...\",\"https:\\u002f\\u002fwww.instagram.com\\u002fp\\u002fC94buNAtvDF\\u002f\"],[\"With my 3-year involvement in the startup space (and counting), I have spoken to ...\",\"https:\\u002f\\u002fwww.instagram.com\\u002fp\\u002fC-KPmewIM-v\\u002f\"],[\"Emotional clarity = Better decisions. \\ud83e\\udeab\\n\\nSince the start of 2024, I\\u2019ve been taki ...\",\"https:\\u002f\\u002fwww.instagram.com\\u002fp\\u002fC-unUiktWdM\\u002f\"],[\"I\\u2019ve always loved rooting for movie characters who go from zero to hero. \\ud83e\\uddb8\\n\\nAnd  ...\",\"https:\\u002f\\u002fwww.instagram.com\\u002fp\\u002fC_AUPVCPYuX\\u002f\"],[\"My mission with The Nadra Agency (TNA) is to empower small business owners like  ...\",\"https:\\u002f\\u002fwww.instagram.com\\u002fp\\u002fC_P-xbvPv9y\\u002f\"],[\"We live in the age of instant convenience. \\ud83d\\udd52\\n\\nYour users will expect to receive  ...\",\"https:\\u002f\\u002fwww.instagram.com\\u002fp\\u002fC_0IwbdCkIY\\u002f\"],[\"Big agencies are not creative like small agencies are.\\n\\nYeah I said it.\\n\\nMany te ...\",\"https:\\u002f\\u002fwww.instagram.com\\u002fp\\u002fDABAvcKtbuO\\u002f\"],[\"If you want people to buy your product, you\\u2019ve got to stop talking like a robot. ...\",\"https:\\u002f\\u002fwww.instagram.com\\u002fp\\u002fDAGRNXZKk_H\\u002f\"],[\"Lately I\\u2019ve noticed how easy it is to lose hours in bed, glued to my phone.\\n\\n5 h ...\",\"https:\\u002f\\u002fwww.instagram.com\\u002fp\\u002fDATCSp8idLd\\u002f\"],[\"There are so. many. types. of devices that people use to access the internet.\\n\\nA ...\",\"https:\\u002f\\u002fwww.instagram.com\\u002fp\\u002fDAYL5d6OGjA\\u002f\"],[\"The Nadra Agency (TNA) is going through a business shift.\\n\\nAs an agency owner, c ...\",\"https:\\u002f\\u002fwww.instagram.com\\u002fp\\u002fDAqGmPTMcXt\\u002f\"],[\"The day has come.\\n\\nYou\\u2019re finally releasing your startup\\u2019s product to your custo ...\",\"https:\\u002f\\u002fwww.instagram.com\\u002fp\\u002fDA8PBa1uCEb\\u002f\"],[\"To get more paying clients, you need to get enough traffic to your website.\\n\\nOne ...\",\"https:\\u002f\\u002fwww.instagram.com\\u002fp\\u002fDBLrzYzp6KH\\u002f\"],[\"I\\u2019ve seen growing startups with ugly live websites.\\n\\nI\\u2019m talking 2000s vibes - C ...\",\"https:\\u002f\\u002fwww.instagram.com\\u002fp\\u002fDBdtWjYshBW\\u002f\"],[\"As a business owner, your website is one of your strongest tools.\\n\\nIf you\\u2019re not ...\",\"https:\\u002f\\u002fwww.instagram.com\\u002fp\\u002fDByTt8hCdXj\\u002f\"],[\"How can customers give you money if they feel demotivated to do so?\\n\\nCTAs (calls ...\",\"https:\\u002f\\u002fwww.instagram.com\\u002fp\\u002fDCG6DNWoTwv\\u002f\"],[\"As a business owner, you already know how valuable the skill of storytelling is. ...\",\"https:\\u002f\\u002fwww.instagram.com\\u002fp\\u002fDCWW1dbKbY8\\u002f\"],[\"A programmer will develop a website faster than us.\\n\\nBut speed without strategy  ...\",\"https:\\u002f\\u002fwww.instagram.com\\u002fp\\u002fDCmIL22BGUs\\u002f\"],[\"Think like your customers.\\n\\nAs founders, it\\u2019s tempting to design websites focusi ...\",\"https:\\u002f\\u002fwww.instagram.com\\u002fp\\u002fDC3uSiSvNAu\\u002f\"],[\"Your website is an extension of your startup\\u2019s identity.\\n\\nIt should make visitor ...\",\"https:\\u002f\\u002fwww.instagram.com\\u002fp\\u002fDDMbhiOhmo8\\u002f\"],[\"Off the top of my head, there are three things every high-converting landing pag ...\",\"https:\\u002f\\u002fwww.instagram.com\\u002fp\\u002fDDedE-jodsN\\u002f\"],[\"In the time it takes a big agency to \\u2018circle back,\\u2019 we\\u2019ve already delivered.\\n\\nWe ...\",\"https:\\u002f\\u002fwww.instagram.com\\u002fp\\u002fDDwXxqki2uQ\\u002f\"],[\"Clients are new friends I haven\\u2019t met yet!\\n\\nProbably the cheesiest thing I\\u2019ll sa ...\",\"https:\\u002f\\u002fwww.instagram.com\\u002fp\\u002fDECgNQNhHpY\\u002f\"]],\"hovertemplate\":\"%{y}\\u003cbr\\u003eDate: %{x}\\u003cbr\\u003eDesc: %{customdata[0]}\\u003cbr\\u003eLink: %{customdata[1]}\",\"legendgroup\":\"comments\",\"line\":{\"color\":\"#EF553B\",\"dash\":\"solid\"},\"marker\":{\"symbol\":\"circle\"},\"mode\":\"lines\",\"name\":\"comments\",\"orientation\":\"v\",\"showlegend\":true,\"x\":[\"2024-01-07\",\"2024-01-09\",\"2024-01-11\",\"2024-01-15\",\"2024-01-18\",\"2024-01-23\",\"2024-01-30\",\"2024-01-31\",\"2024-02-06\",\"2024-02-08\",\"2024-02-14\",\"2024-02-21\",\"2024-02-28\",\"2024-03-28\",\"2024-04-03\",\"2024-04-09\",\"2024-04-19\",\"2024-04-26\",\"2024-05-01\",\"2024-05-03\",\"2024-05-23\",\"2024-05-28\",\"2024-06-20\",\"2024-07-17\",\"2024-07-25\",\"2024-07-26\",\"2024-08-02\",\"2024-08-16\",\"2024-08-23\",\"2024-08-29\",\"2024-09-12\",\"2024-09-17\",\"2024-09-19\",\"2024-09-24\",\"2024-09-26\",\"2024-10-03\",\"2024-10-10\",\"2024-10-16\",\"2024-10-23\",\"2024-10-31\",\"2024-11-08\",\"2024-11-14\",\"2024-11-20\",\"2024-11-27\",\"2024-12-05\",\"2024-12-12\",\"2024-12-19\",\"2024-12-26\"],\"xaxis\":\"x\",\"y\":[3,1,2,3,0,2,0,2,0,0,0,0,0,0,6,0,0,0,0,0,0,0,0,0,0,0,0,0,0,0,0,0,3,0,0,0,0,0,0,0,0,0,0,0,0,0,0,0],\"yaxis\":\"y\",\"type\":\"scatter\"},{\"customdata\":[[\"Welcome to my office, and yes, it is indeed my own bedroom. That's The Nadra Age ...\",\"https:\\u002f\\u002fwww.instagram.com\\u002fp\\u002fC1zPvEdPPfr\\u002f\"],[\"Website got you feeling \\ud83d\\udc80? Don't fret! Squeeze the most out of your investment w ...\",\"https:\\u002f\\u002fwww.instagram.com\\u002fp\\u002fC14PUcEqZc9\\u002f\"],[\"Is your website just a pretty picture on the internet, or a lead-generating powe ...\",\"https:\\u002f\\u002fwww.instagram.com\\u002fp\\u002fC19Y7g6scmh\\u002f\"],[\"Ever feel like web design is a language only developers speak? \\ud83e\\udd72\\n\\nI hear you lou ...\",\"https:\\u002f\\u002fwww.instagram.com\\u002fp\\u002fC2JTEDOI4Cb\\u002f\"],[\"Hey startup owners! Feeling design FOMO? Don't sweat it. \\ud83d\\ude09\\n\\nThis is your cheat s ...\",\"https:\\u002f\\u002fwww.instagram.com\\u002fp\\u002fC2P1MSuJ_oq\\u002f\"],[\"I am thrilled to share a powerful testimonial from Bert's Garden, one of my incr ...\",\"https:\\u002f\\u002fwww.instagram.com\\u002fp\\u002fC2eASoZsMlz\\u002f\"],[\"Sweet tooth or not, building a website that converts can feel overwhelming.\\n\\nFea ...\",\"https:\\u002f\\u002fwww.instagram.com\\u002fp\\u002fC2uGdlcr53G\\u002f\"],[\"Passionate about connecting Singapore's farms and families, Verd\\u00e9 needed a websi ...\",\"https:\\u002f\\u002fwww.instagram.com\\u002fp\\u002fC2wx7_kqpyE\\u002f\"],[\"The Little Flower Hut delivers beautiful blooms almost instantly, so you can bri ...\",\"https:\\u002f\\u002fwww.instagram.com\\u002fp\\u002fC3B1qu_tQ7b\\u002f\"],[\"Picked up a new book to start the year; Ego is the Enemy by Ryan Holiday. \\ud83d\\udcd6\\n\\nSom ...\",\"https:\\u002f\\u002fwww.instagram.com\\u002fp\\u002fC3Fs1ocKZD2\\u002f\"],[\"Giriprasad's testimonial speaks volumes \\ud83d\\udd0a\\n\\nWorking with TNA is effortless!  We b ...\",\"https:\\u002f\\u002fwww.instagram.com\\u002fp\\u002fC3VJpzdomHw\\u002f\"],[\"I started designing websites at the age of 13. \\ud83d\\udc67\\ud83c\\udffd\\n\\nThat's why I'm passionate abo ...\",\"https:\\u002f\\u002fwww.instagram.com\\u002fp\\u002fC3nEYsnBkQp\\u002f\"],[\"Listen here, startups! \\ud83d\\udce2\\n\\nAt The Nadra Agency (TNA), we believe in seamless coll ...\",\"https:\\u002f\\u002fwww.instagram.com\\u002fp\\u002fC35F8cwJQ7o\\u002f\"],[\"Meet Iffah, a talented digital film & television student!  We helped her showcas ...\",\"https:\\u002f\\u002fwww.instagram.com\\u002fp\\u002fC5DjN6wN9uW\\u002f\"],[\"This was me going for a startup challenge organised by the National Youth Counci ...\",\"https:\\u002f\\u002fwww.instagram.com\\u002fp\\u002fC5TAD2WvsLE\\u002f\"],[\"Making money outside part-time jobs was my gateway to entrepreneurship. \\ud83d\\udd11\\n\\nBased ...\",\"https:\\u002f\\u002fwww.instagram.com\\u002fp\\u002fC5icwF8xMqJ\\u002f\"],[\"I've been diving deep into the world of one-page websites lately \\u261d\\ud83c\\udffd\\n\\nTurns out,  ...\",\"https:\\u002f\\u002fwww.instagram.com\\u002fp\\u002fC58TkL5puQ1\\u002f\"],[\"\\\"Self-esteem is the reputation you have with yourself,\\\" Naval Ravikant once said ...\",\"https:\\u002f\\u002fwww.instagram.com\\u002fp\\u002fC6OOQNdPjQw\\u002f\"],[\"Landing pages seemed like a puzzle at first. \\ud83e\\udde9\\n\\nYou may think they were just sim ...\",\"https:\\u002f\\u002fwww.instagram.com\\u002fp\\u002fC6a4fT3IZB4\\u002f\"],[\"\\\"Honour the gift of life by offering your gifts to the world.\\\" - Mike Maples Jr. ...\",\"https:\\u002f\\u002fwww.instagram.com\\u002fp\\u002fC6f7M75NL_X\\u002f\"],[\"Starting a business doesn\\u2019t have to cost a fortune. \\ud83d\\udcb0\\n\\nI used to run a couple st ...\",\"https:\\u002f\\u002fwww.instagram.com\\u002fp\\u002fC7UY86lCZIZ\\u002f\"],[\"Entrepreneurship saved me by giving me purpose. \\ud83c\\udfaf\\n\\nIt made me see life as my oys ...\",\"https:\\u002f\\u002fwww.instagram.com\\u002fp\\u002fC7gg2qch2UW\\u002f\"],[\"We\\u2019re not the best web agency in the world \\u2026\\n\\nBut we are the best web agency for ...\",\"https:\\u002f\\u002fwww.instagram.com\\u002fp\\u002fC8bhZzepkci\\u002f\"],[\"Stop designing your business website aimlessly! \\ud83d\\ude35\\u200d\\ud83d\\udcab\\n\\nThe only thing solo entrepr ...\",\"https:\\u002f\\u002fwww.instagram.com\\u002fp\\u002fC9hJueKtdmk\\u002f\"],[\"Stop stressing about whether you can design the perfect website. Of course you c ...\",\"https:\\u002f\\u002fwww.instagram.com\\u002fp\\u002fC92TgqgovKe\\u002f\"],[\"Why choose a big agency when you can have a partner who truly gets you? \\ud83d\\udca1\\n\\nWith  ...\",\"https:\\u002f\\u002fwww.instagram.com\\u002fp\\u002fC94buNAtvDF\\u002f\"],[\"With my 3-year involvement in the startup space (and counting), I have spoken to ...\",\"https:\\u002f\\u002fwww.instagram.com\\u002fp\\u002fC-KPmewIM-v\\u002f\"],[\"Emotional clarity = Better decisions. \\ud83e\\udeab\\n\\nSince the start of 2024, I\\u2019ve been taki ...\",\"https:\\u002f\\u002fwww.instagram.com\\u002fp\\u002fC-unUiktWdM\\u002f\"],[\"I\\u2019ve always loved rooting for movie characters who go from zero to hero. \\ud83e\\uddb8\\n\\nAnd  ...\",\"https:\\u002f\\u002fwww.instagram.com\\u002fp\\u002fC_AUPVCPYuX\\u002f\"],[\"My mission with The Nadra Agency (TNA) is to empower small business owners like  ...\",\"https:\\u002f\\u002fwww.instagram.com\\u002fp\\u002fC_P-xbvPv9y\\u002f\"],[\"We live in the age of instant convenience. \\ud83d\\udd52\\n\\nYour users will expect to receive  ...\",\"https:\\u002f\\u002fwww.instagram.com\\u002fp\\u002fC_0IwbdCkIY\\u002f\"],[\"Big agencies are not creative like small agencies are.\\n\\nYeah I said it.\\n\\nMany te ...\",\"https:\\u002f\\u002fwww.instagram.com\\u002fp\\u002fDABAvcKtbuO\\u002f\"],[\"If you want people to buy your product, you\\u2019ve got to stop talking like a robot. ...\",\"https:\\u002f\\u002fwww.instagram.com\\u002fp\\u002fDAGRNXZKk_H\\u002f\"],[\"Lately I\\u2019ve noticed how easy it is to lose hours in bed, glued to my phone.\\n\\n5 h ...\",\"https:\\u002f\\u002fwww.instagram.com\\u002fp\\u002fDATCSp8idLd\\u002f\"],[\"There are so. many. types. of devices that people use to access the internet.\\n\\nA ...\",\"https:\\u002f\\u002fwww.instagram.com\\u002fp\\u002fDAYL5d6OGjA\\u002f\"],[\"The Nadra Agency (TNA) is going through a business shift.\\n\\nAs an agency owner, c ...\",\"https:\\u002f\\u002fwww.instagram.com\\u002fp\\u002fDAqGmPTMcXt\\u002f\"],[\"The day has come.\\n\\nYou\\u2019re finally releasing your startup\\u2019s product to your custo ...\",\"https:\\u002f\\u002fwww.instagram.com\\u002fp\\u002fDA8PBa1uCEb\\u002f\"],[\"To get more paying clients, you need to get enough traffic to your website.\\n\\nOne ...\",\"https:\\u002f\\u002fwww.instagram.com\\u002fp\\u002fDBLrzYzp6KH\\u002f\"],[\"I\\u2019ve seen growing startups with ugly live websites.\\n\\nI\\u2019m talking 2000s vibes - C ...\",\"https:\\u002f\\u002fwww.instagram.com\\u002fp\\u002fDBdtWjYshBW\\u002f\"],[\"As a business owner, your website is one of your strongest tools.\\n\\nIf you\\u2019re not ...\",\"https:\\u002f\\u002fwww.instagram.com\\u002fp\\u002fDByTt8hCdXj\\u002f\"],[\"How can customers give you money if they feel demotivated to do so?\\n\\nCTAs (calls ...\",\"https:\\u002f\\u002fwww.instagram.com\\u002fp\\u002fDCG6DNWoTwv\\u002f\"],[\"As a business owner, you already know how valuable the skill of storytelling is. ...\",\"https:\\u002f\\u002fwww.instagram.com\\u002fp\\u002fDCWW1dbKbY8\\u002f\"],[\"A programmer will develop a website faster than us.\\n\\nBut speed without strategy  ...\",\"https:\\u002f\\u002fwww.instagram.com\\u002fp\\u002fDCmIL22BGUs\\u002f\"],[\"Think like your customers.\\n\\nAs founders, it\\u2019s tempting to design websites focusi ...\",\"https:\\u002f\\u002fwww.instagram.com\\u002fp\\u002fDC3uSiSvNAu\\u002f\"],[\"Your website is an extension of your startup\\u2019s identity.\\n\\nIt should make visitor ...\",\"https:\\u002f\\u002fwww.instagram.com\\u002fp\\u002fDDMbhiOhmo8\\u002f\"],[\"Off the top of my head, there are three things every high-converting landing pag ...\",\"https:\\u002f\\u002fwww.instagram.com\\u002fp\\u002fDDedE-jodsN\\u002f\"],[\"In the time it takes a big agency to \\u2018circle back,\\u2019 we\\u2019ve already delivered.\\n\\nWe ...\",\"https:\\u002f\\u002fwww.instagram.com\\u002fp\\u002fDDwXxqki2uQ\\u002f\"],[\"Clients are new friends I haven\\u2019t met yet!\\n\\nProbably the cheesiest thing I\\u2019ll sa ...\",\"https:\\u002f\\u002fwww.instagram.com\\u002fp\\u002fDECgNQNhHpY\\u002f\"]],\"hovertemplate\":\"%{y}\\u003cbr\\u003eDate: %{x}\\u003cbr\\u003eDesc: %{customdata[0]}\\u003cbr\\u003eLink: %{customdata[1]}\",\"legendgroup\":\"saves\",\"line\":{\"color\":\"#00cc96\",\"dash\":\"solid\"},\"marker\":{\"symbol\":\"circle\"},\"mode\":\"lines\",\"name\":\"saves\",\"orientation\":\"v\",\"showlegend\":true,\"x\":[\"2024-01-07\",\"2024-01-09\",\"2024-01-11\",\"2024-01-15\",\"2024-01-18\",\"2024-01-23\",\"2024-01-30\",\"2024-01-31\",\"2024-02-06\",\"2024-02-08\",\"2024-02-14\",\"2024-02-21\",\"2024-02-28\",\"2024-03-28\",\"2024-04-03\",\"2024-04-09\",\"2024-04-19\",\"2024-04-26\",\"2024-05-01\",\"2024-05-03\",\"2024-05-23\",\"2024-05-28\",\"2024-06-20\",\"2024-07-17\",\"2024-07-25\",\"2024-07-26\",\"2024-08-02\",\"2024-08-16\",\"2024-08-23\",\"2024-08-29\",\"2024-09-12\",\"2024-09-17\",\"2024-09-19\",\"2024-09-24\",\"2024-09-26\",\"2024-10-03\",\"2024-10-10\",\"2024-10-16\",\"2024-10-23\",\"2024-10-31\",\"2024-11-08\",\"2024-11-14\",\"2024-11-20\",\"2024-11-27\",\"2024-12-05\",\"2024-12-12\",\"2024-12-19\",\"2024-12-26\"],\"xaxis\":\"x\",\"y\":[1,0,0,0,0,0,0,0,0,0,0,0,0,0,1,0,0,1,0,0,0,0,0,0,0,0,0,0,0,0,0,0,2,0,0,0,0,0,0,0,0,0,0,0,0,0,0,0],\"yaxis\":\"y\",\"type\":\"scatter\"},{\"customdata\":[[\"Welcome to my office, and yes, it is indeed my own bedroom. That's The Nadra Age ...\",\"https:\\u002f\\u002fwww.instagram.com\\u002fp\\u002fC1zPvEdPPfr\\u002f\"],[\"Website got you feeling \\ud83d\\udc80? Don't fret! Squeeze the most out of your investment w ...\",\"https:\\u002f\\u002fwww.instagram.com\\u002fp\\u002fC14PUcEqZc9\\u002f\"],[\"Is your website just a pretty picture on the internet, or a lead-generating powe ...\",\"https:\\u002f\\u002fwww.instagram.com\\u002fp\\u002fC19Y7g6scmh\\u002f\"],[\"Ever feel like web design is a language only developers speak? \\ud83e\\udd72\\n\\nI hear you lou ...\",\"https:\\u002f\\u002fwww.instagram.com\\u002fp\\u002fC2JTEDOI4Cb\\u002f\"],[\"Hey startup owners! Feeling design FOMO? Don't sweat it. \\ud83d\\ude09\\n\\nThis is your cheat s ...\",\"https:\\u002f\\u002fwww.instagram.com\\u002fp\\u002fC2P1MSuJ_oq\\u002f\"],[\"I am thrilled to share a powerful testimonial from Bert's Garden, one of my incr ...\",\"https:\\u002f\\u002fwww.instagram.com\\u002fp\\u002fC2eASoZsMlz\\u002f\"],[\"Sweet tooth or not, building a website that converts can feel overwhelming.\\n\\nFea ...\",\"https:\\u002f\\u002fwww.instagram.com\\u002fp\\u002fC2uGdlcr53G\\u002f\"],[\"Passionate about connecting Singapore's farms and families, Verd\\u00e9 needed a websi ...\",\"https:\\u002f\\u002fwww.instagram.com\\u002fp\\u002fC2wx7_kqpyE\\u002f\"],[\"The Little Flower Hut delivers beautiful blooms almost instantly, so you can bri ...\",\"https:\\u002f\\u002fwww.instagram.com\\u002fp\\u002fC3B1qu_tQ7b\\u002f\"],[\"Picked up a new book to start the year; Ego is the Enemy by Ryan Holiday. \\ud83d\\udcd6\\n\\nSom ...\",\"https:\\u002f\\u002fwww.instagram.com\\u002fp\\u002fC3Fs1ocKZD2\\u002f\"],[\"Giriprasad's testimonial speaks volumes \\ud83d\\udd0a\\n\\nWorking with TNA is effortless!  We b ...\",\"https:\\u002f\\u002fwww.instagram.com\\u002fp\\u002fC3VJpzdomHw\\u002f\"],[\"I started designing websites at the age of 13. \\ud83d\\udc67\\ud83c\\udffd\\n\\nThat's why I'm passionate abo ...\",\"https:\\u002f\\u002fwww.instagram.com\\u002fp\\u002fC3nEYsnBkQp\\u002f\"],[\"Listen here, startups! \\ud83d\\udce2\\n\\nAt The Nadra Agency (TNA), we believe in seamless coll ...\",\"https:\\u002f\\u002fwww.instagram.com\\u002fp\\u002fC35F8cwJQ7o\\u002f\"],[\"Meet Iffah, a talented digital film & television student!  We helped her showcas ...\",\"https:\\u002f\\u002fwww.instagram.com\\u002fp\\u002fC5DjN6wN9uW\\u002f\"],[\"This was me going for a startup challenge organised by the National Youth Counci ...\",\"https:\\u002f\\u002fwww.instagram.com\\u002fp\\u002fC5TAD2WvsLE\\u002f\"],[\"Making money outside part-time jobs was my gateway to entrepreneurship. \\ud83d\\udd11\\n\\nBased ...\",\"https:\\u002f\\u002fwww.instagram.com\\u002fp\\u002fC5icwF8xMqJ\\u002f\"],[\"I've been diving deep into the world of one-page websites lately \\u261d\\ud83c\\udffd\\n\\nTurns out,  ...\",\"https:\\u002f\\u002fwww.instagram.com\\u002fp\\u002fC58TkL5puQ1\\u002f\"],[\"\\\"Self-esteem is the reputation you have with yourself,\\\" Naval Ravikant once said ...\",\"https:\\u002f\\u002fwww.instagram.com\\u002fp\\u002fC6OOQNdPjQw\\u002f\"],[\"Landing pages seemed like a puzzle at first. \\ud83e\\udde9\\n\\nYou may think they were just sim ...\",\"https:\\u002f\\u002fwww.instagram.com\\u002fp\\u002fC6a4fT3IZB4\\u002f\"],[\"\\\"Honour the gift of life by offering your gifts to the world.\\\" - Mike Maples Jr. ...\",\"https:\\u002f\\u002fwww.instagram.com\\u002fp\\u002fC6f7M75NL_X\\u002f\"],[\"Starting a business doesn\\u2019t have to cost a fortune. \\ud83d\\udcb0\\n\\nI used to run a couple st ...\",\"https:\\u002f\\u002fwww.instagram.com\\u002fp\\u002fC7UY86lCZIZ\\u002f\"],[\"Entrepreneurship saved me by giving me purpose. \\ud83c\\udfaf\\n\\nIt made me see life as my oys ...\",\"https:\\u002f\\u002fwww.instagram.com\\u002fp\\u002fC7gg2qch2UW\\u002f\"],[\"We\\u2019re not the best web agency in the world \\u2026\\n\\nBut we are the best web agency for ...\",\"https:\\u002f\\u002fwww.instagram.com\\u002fp\\u002fC8bhZzepkci\\u002f\"],[\"Stop designing your business website aimlessly! \\ud83d\\ude35\\u200d\\ud83d\\udcab\\n\\nThe only thing solo entrepr ...\",\"https:\\u002f\\u002fwww.instagram.com\\u002fp\\u002fC9hJueKtdmk\\u002f\"],[\"Stop stressing about whether you can design the perfect website. Of course you c ...\",\"https:\\u002f\\u002fwww.instagram.com\\u002fp\\u002fC92TgqgovKe\\u002f\"],[\"Why choose a big agency when you can have a partner who truly gets you? \\ud83d\\udca1\\n\\nWith  ...\",\"https:\\u002f\\u002fwww.instagram.com\\u002fp\\u002fC94buNAtvDF\\u002f\"],[\"With my 3-year involvement in the startup space (and counting), I have spoken to ...\",\"https:\\u002f\\u002fwww.instagram.com\\u002fp\\u002fC-KPmewIM-v\\u002f\"],[\"Emotional clarity = Better decisions. \\ud83e\\udeab\\n\\nSince the start of 2024, I\\u2019ve been taki ...\",\"https:\\u002f\\u002fwww.instagram.com\\u002fp\\u002fC-unUiktWdM\\u002f\"],[\"I\\u2019ve always loved rooting for movie characters who go from zero to hero. \\ud83e\\uddb8\\n\\nAnd  ...\",\"https:\\u002f\\u002fwww.instagram.com\\u002fp\\u002fC_AUPVCPYuX\\u002f\"],[\"My mission with The Nadra Agency (TNA) is to empower small business owners like  ...\",\"https:\\u002f\\u002fwww.instagram.com\\u002fp\\u002fC_P-xbvPv9y\\u002f\"],[\"We live in the age of instant convenience. \\ud83d\\udd52\\n\\nYour users will expect to receive  ...\",\"https:\\u002f\\u002fwww.instagram.com\\u002fp\\u002fC_0IwbdCkIY\\u002f\"],[\"Big agencies are not creative like small agencies are.\\n\\nYeah I said it.\\n\\nMany te ...\",\"https:\\u002f\\u002fwww.instagram.com\\u002fp\\u002fDABAvcKtbuO\\u002f\"],[\"If you want people to buy your product, you\\u2019ve got to stop talking like a robot. ...\",\"https:\\u002f\\u002fwww.instagram.com\\u002fp\\u002fDAGRNXZKk_H\\u002f\"],[\"Lately I\\u2019ve noticed how easy it is to lose hours in bed, glued to my phone.\\n\\n5 h ...\",\"https:\\u002f\\u002fwww.instagram.com\\u002fp\\u002fDATCSp8idLd\\u002f\"],[\"There are so. many. types. of devices that people use to access the internet.\\n\\nA ...\",\"https:\\u002f\\u002fwww.instagram.com\\u002fp\\u002fDAYL5d6OGjA\\u002f\"],[\"The Nadra Agency (TNA) is going through a business shift.\\n\\nAs an agency owner, c ...\",\"https:\\u002f\\u002fwww.instagram.com\\u002fp\\u002fDAqGmPTMcXt\\u002f\"],[\"The day has come.\\n\\nYou\\u2019re finally releasing your startup\\u2019s product to your custo ...\",\"https:\\u002f\\u002fwww.instagram.com\\u002fp\\u002fDA8PBa1uCEb\\u002f\"],[\"To get more paying clients, you need to get enough traffic to your website.\\n\\nOne ...\",\"https:\\u002f\\u002fwww.instagram.com\\u002fp\\u002fDBLrzYzp6KH\\u002f\"],[\"I\\u2019ve seen growing startups with ugly live websites.\\n\\nI\\u2019m talking 2000s vibes - C ...\",\"https:\\u002f\\u002fwww.instagram.com\\u002fp\\u002fDBdtWjYshBW\\u002f\"],[\"As a business owner, your website is one of your strongest tools.\\n\\nIf you\\u2019re not ...\",\"https:\\u002f\\u002fwww.instagram.com\\u002fp\\u002fDByTt8hCdXj\\u002f\"],[\"How can customers give you money if they feel demotivated to do so?\\n\\nCTAs (calls ...\",\"https:\\u002f\\u002fwww.instagram.com\\u002fp\\u002fDCG6DNWoTwv\\u002f\"],[\"As a business owner, you already know how valuable the skill of storytelling is. ...\",\"https:\\u002f\\u002fwww.instagram.com\\u002fp\\u002fDCWW1dbKbY8\\u002f\"],[\"A programmer will develop a website faster than us.\\n\\nBut speed without strategy  ...\",\"https:\\u002f\\u002fwww.instagram.com\\u002fp\\u002fDCmIL22BGUs\\u002f\"],[\"Think like your customers.\\n\\nAs founders, it\\u2019s tempting to design websites focusi ...\",\"https:\\u002f\\u002fwww.instagram.com\\u002fp\\u002fDC3uSiSvNAu\\u002f\"],[\"Your website is an extension of your startup\\u2019s identity.\\n\\nIt should make visitor ...\",\"https:\\u002f\\u002fwww.instagram.com\\u002fp\\u002fDDMbhiOhmo8\\u002f\"],[\"Off the top of my head, there are three things every high-converting landing pag ...\",\"https:\\u002f\\u002fwww.instagram.com\\u002fp\\u002fDDedE-jodsN\\u002f\"],[\"In the time it takes a big agency to \\u2018circle back,\\u2019 we\\u2019ve already delivered.\\n\\nWe ...\",\"https:\\u002f\\u002fwww.instagram.com\\u002fp\\u002fDDwXxqki2uQ\\u002f\"],[\"Clients are new friends I haven\\u2019t met yet!\\n\\nProbably the cheesiest thing I\\u2019ll sa ...\",\"https:\\u002f\\u002fwww.instagram.com\\u002fp\\u002fDECgNQNhHpY\\u002f\"]],\"hovertemplate\":\"%{y}\\u003cbr\\u003eDate: %{x}\\u003cbr\\u003eDesc: %{customdata[0]}\\u003cbr\\u003eLink: %{customdata[1]}\",\"legendgroup\":\"follows\",\"line\":{\"color\":\"#ab63fa\",\"dash\":\"solid\"},\"marker\":{\"symbol\":\"circle\"},\"mode\":\"lines\",\"name\":\"follows\",\"orientation\":\"v\",\"showlegend\":true,\"x\":[\"2024-01-07\",\"2024-01-09\",\"2024-01-11\",\"2024-01-15\",\"2024-01-18\",\"2024-01-23\",\"2024-01-30\",\"2024-01-31\",\"2024-02-06\",\"2024-02-08\",\"2024-02-14\",\"2024-02-21\",\"2024-02-28\",\"2024-03-28\",\"2024-04-03\",\"2024-04-09\",\"2024-04-19\",\"2024-04-26\",\"2024-05-01\",\"2024-05-03\",\"2024-05-23\",\"2024-05-28\",\"2024-06-20\",\"2024-07-17\",\"2024-07-25\",\"2024-07-26\",\"2024-08-02\",\"2024-08-16\",\"2024-08-23\",\"2024-08-29\",\"2024-09-12\",\"2024-09-17\",\"2024-09-19\",\"2024-09-24\",\"2024-09-26\",\"2024-10-03\",\"2024-10-10\",\"2024-10-16\",\"2024-10-23\",\"2024-10-31\",\"2024-11-08\",\"2024-11-14\",\"2024-11-20\",\"2024-11-27\",\"2024-12-05\",\"2024-12-12\",\"2024-12-19\",\"2024-12-26\"],\"xaxis\":\"x\",\"y\":[0,0,0,0,0,0,0,0,0,0,0,0,0,0,0,0,0,0,0,0,0,0,0,0,0,0,0,0,0,0,0,0,0,0,0,0,0,0,0,0,0,0,0,0,0,0,0,0],\"yaxis\":\"y\",\"type\":\"scatter\"},{\"customdata\":[[\"Welcome to my office, and yes, it is indeed my own bedroom. That's The Nadra Age ...\",\"https:\\u002f\\u002fwww.instagram.com\\u002fp\\u002fC1zPvEdPPfr\\u002f\"],[\"Website got you feeling \\ud83d\\udc80? Don't fret! Squeeze the most out of your investment w ...\",\"https:\\u002f\\u002fwww.instagram.com\\u002fp\\u002fC14PUcEqZc9\\u002f\"],[\"Is your website just a pretty picture on the internet, or a lead-generating powe ...\",\"https:\\u002f\\u002fwww.instagram.com\\u002fp\\u002fC19Y7g6scmh\\u002f\"],[\"Ever feel like web design is a language only developers speak? \\ud83e\\udd72\\n\\nI hear you lou ...\",\"https:\\u002f\\u002fwww.instagram.com\\u002fp\\u002fC2JTEDOI4Cb\\u002f\"],[\"Hey startup owners! Feeling design FOMO? Don't sweat it. \\ud83d\\ude09\\n\\nThis is your cheat s ...\",\"https:\\u002f\\u002fwww.instagram.com\\u002fp\\u002fC2P1MSuJ_oq\\u002f\"],[\"I am thrilled to share a powerful testimonial from Bert's Garden, one of my incr ...\",\"https:\\u002f\\u002fwww.instagram.com\\u002fp\\u002fC2eASoZsMlz\\u002f\"],[\"Sweet tooth or not, building a website that converts can feel overwhelming.\\n\\nFea ...\",\"https:\\u002f\\u002fwww.instagram.com\\u002fp\\u002fC2uGdlcr53G\\u002f\"],[\"Passionate about connecting Singapore's farms and families, Verd\\u00e9 needed a websi ...\",\"https:\\u002f\\u002fwww.instagram.com\\u002fp\\u002fC2wx7_kqpyE\\u002f\"],[\"The Little Flower Hut delivers beautiful blooms almost instantly, so you can bri ...\",\"https:\\u002f\\u002fwww.instagram.com\\u002fp\\u002fC3B1qu_tQ7b\\u002f\"],[\"Picked up a new book to start the year; Ego is the Enemy by Ryan Holiday. \\ud83d\\udcd6\\n\\nSom ...\",\"https:\\u002f\\u002fwww.instagram.com\\u002fp\\u002fC3Fs1ocKZD2\\u002f\"],[\"Giriprasad's testimonial speaks volumes \\ud83d\\udd0a\\n\\nWorking with TNA is effortless!  We b ...\",\"https:\\u002f\\u002fwww.instagram.com\\u002fp\\u002fC3VJpzdomHw\\u002f\"],[\"I started designing websites at the age of 13. \\ud83d\\udc67\\ud83c\\udffd\\n\\nThat's why I'm passionate abo ...\",\"https:\\u002f\\u002fwww.instagram.com\\u002fp\\u002fC3nEYsnBkQp\\u002f\"],[\"Listen here, startups! \\ud83d\\udce2\\n\\nAt The Nadra Agency (TNA), we believe in seamless coll ...\",\"https:\\u002f\\u002fwww.instagram.com\\u002fp\\u002fC35F8cwJQ7o\\u002f\"],[\"Meet Iffah, a talented digital film & television student!  We helped her showcas ...\",\"https:\\u002f\\u002fwww.instagram.com\\u002fp\\u002fC5DjN6wN9uW\\u002f\"],[\"This was me going for a startup challenge organised by the National Youth Counci ...\",\"https:\\u002f\\u002fwww.instagram.com\\u002fp\\u002fC5TAD2WvsLE\\u002f\"],[\"Making money outside part-time jobs was my gateway to entrepreneurship. \\ud83d\\udd11\\n\\nBased ...\",\"https:\\u002f\\u002fwww.instagram.com\\u002fp\\u002fC5icwF8xMqJ\\u002f\"],[\"I've been diving deep into the world of one-page websites lately \\u261d\\ud83c\\udffd\\n\\nTurns out,  ...\",\"https:\\u002f\\u002fwww.instagram.com\\u002fp\\u002fC58TkL5puQ1\\u002f\"],[\"\\\"Self-esteem is the reputation you have with yourself,\\\" Naval Ravikant once said ...\",\"https:\\u002f\\u002fwww.instagram.com\\u002fp\\u002fC6OOQNdPjQw\\u002f\"],[\"Landing pages seemed like a puzzle at first. \\ud83e\\udde9\\n\\nYou may think they were just sim ...\",\"https:\\u002f\\u002fwww.instagram.com\\u002fp\\u002fC6a4fT3IZB4\\u002f\"],[\"\\\"Honour the gift of life by offering your gifts to the world.\\\" - Mike Maples Jr. ...\",\"https:\\u002f\\u002fwww.instagram.com\\u002fp\\u002fC6f7M75NL_X\\u002f\"],[\"Starting a business doesn\\u2019t have to cost a fortune. \\ud83d\\udcb0\\n\\nI used to run a couple st ...\",\"https:\\u002f\\u002fwww.instagram.com\\u002fp\\u002fC7UY86lCZIZ\\u002f\"],[\"Entrepreneurship saved me by giving me purpose. \\ud83c\\udfaf\\n\\nIt made me see life as my oys ...\",\"https:\\u002f\\u002fwww.instagram.com\\u002fp\\u002fC7gg2qch2UW\\u002f\"],[\"We\\u2019re not the best web agency in the world \\u2026\\n\\nBut we are the best web agency for ...\",\"https:\\u002f\\u002fwww.instagram.com\\u002fp\\u002fC8bhZzepkci\\u002f\"],[\"Stop designing your business website aimlessly! \\ud83d\\ude35\\u200d\\ud83d\\udcab\\n\\nThe only thing solo entrepr ...\",\"https:\\u002f\\u002fwww.instagram.com\\u002fp\\u002fC9hJueKtdmk\\u002f\"],[\"Stop stressing about whether you can design the perfect website. Of course you c ...\",\"https:\\u002f\\u002fwww.instagram.com\\u002fp\\u002fC92TgqgovKe\\u002f\"],[\"Why choose a big agency when you can have a partner who truly gets you? \\ud83d\\udca1\\n\\nWith  ...\",\"https:\\u002f\\u002fwww.instagram.com\\u002fp\\u002fC94buNAtvDF\\u002f\"],[\"With my 3-year involvement in the startup space (and counting), I have spoken to ...\",\"https:\\u002f\\u002fwww.instagram.com\\u002fp\\u002fC-KPmewIM-v\\u002f\"],[\"Emotional clarity = Better decisions. \\ud83e\\udeab\\n\\nSince the start of 2024, I\\u2019ve been taki ...\",\"https:\\u002f\\u002fwww.instagram.com\\u002fp\\u002fC-unUiktWdM\\u002f\"],[\"I\\u2019ve always loved rooting for movie characters who go from zero to hero. \\ud83e\\uddb8\\n\\nAnd  ...\",\"https:\\u002f\\u002fwww.instagram.com\\u002fp\\u002fC_AUPVCPYuX\\u002f\"],[\"My mission with The Nadra Agency (TNA) is to empower small business owners like  ...\",\"https:\\u002f\\u002fwww.instagram.com\\u002fp\\u002fC_P-xbvPv9y\\u002f\"],[\"We live in the age of instant convenience. \\ud83d\\udd52\\n\\nYour users will expect to receive  ...\",\"https:\\u002f\\u002fwww.instagram.com\\u002fp\\u002fC_0IwbdCkIY\\u002f\"],[\"Big agencies are not creative like small agencies are.\\n\\nYeah I said it.\\n\\nMany te ...\",\"https:\\u002f\\u002fwww.instagram.com\\u002fp\\u002fDABAvcKtbuO\\u002f\"],[\"If you want people to buy your product, you\\u2019ve got to stop talking like a robot. ...\",\"https:\\u002f\\u002fwww.instagram.com\\u002fp\\u002fDAGRNXZKk_H\\u002f\"],[\"Lately I\\u2019ve noticed how easy it is to lose hours in bed, glued to my phone.\\n\\n5 h ...\",\"https:\\u002f\\u002fwww.instagram.com\\u002fp\\u002fDATCSp8idLd\\u002f\"],[\"There are so. many. types. of devices that people use to access the internet.\\n\\nA ...\",\"https:\\u002f\\u002fwww.instagram.com\\u002fp\\u002fDAYL5d6OGjA\\u002f\"],[\"The Nadra Agency (TNA) is going through a business shift.\\n\\nAs an agency owner, c ...\",\"https:\\u002f\\u002fwww.instagram.com\\u002fp\\u002fDAqGmPTMcXt\\u002f\"],[\"The day has come.\\n\\nYou\\u2019re finally releasing your startup\\u2019s product to your custo ...\",\"https:\\u002f\\u002fwww.instagram.com\\u002fp\\u002fDA8PBa1uCEb\\u002f\"],[\"To get more paying clients, you need to get enough traffic to your website.\\n\\nOne ...\",\"https:\\u002f\\u002fwww.instagram.com\\u002fp\\u002fDBLrzYzp6KH\\u002f\"],[\"I\\u2019ve seen growing startups with ugly live websites.\\n\\nI\\u2019m talking 2000s vibes - C ...\",\"https:\\u002f\\u002fwww.instagram.com\\u002fp\\u002fDBdtWjYshBW\\u002f\"],[\"As a business owner, your website is one of your strongest tools.\\n\\nIf you\\u2019re not ...\",\"https:\\u002f\\u002fwww.instagram.com\\u002fp\\u002fDByTt8hCdXj\\u002f\"],[\"How can customers give you money if they feel demotivated to do so?\\n\\nCTAs (calls ...\",\"https:\\u002f\\u002fwww.instagram.com\\u002fp\\u002fDCG6DNWoTwv\\u002f\"],[\"As a business owner, you already know how valuable the skill of storytelling is. ...\",\"https:\\u002f\\u002fwww.instagram.com\\u002fp\\u002fDCWW1dbKbY8\\u002f\"],[\"A programmer will develop a website faster than us.\\n\\nBut speed without strategy  ...\",\"https:\\u002f\\u002fwww.instagram.com\\u002fp\\u002fDCmIL22BGUs\\u002f\"],[\"Think like your customers.\\n\\nAs founders, it\\u2019s tempting to design websites focusi ...\",\"https:\\u002f\\u002fwww.instagram.com\\u002fp\\u002fDC3uSiSvNAu\\u002f\"],[\"Your website is an extension of your startup\\u2019s identity.\\n\\nIt should make visitor ...\",\"https:\\u002f\\u002fwww.instagram.com\\u002fp\\u002fDDMbhiOhmo8\\u002f\"],[\"Off the top of my head, there are three things every high-converting landing pag ...\",\"https:\\u002f\\u002fwww.instagram.com\\u002fp\\u002fDDedE-jodsN\\u002f\"],[\"In the time it takes a big agency to \\u2018circle back,\\u2019 we\\u2019ve already delivered.\\n\\nWe ...\",\"https:\\u002f\\u002fwww.instagram.com\\u002fp\\u002fDDwXxqki2uQ\\u002f\"],[\"Clients are new friends I haven\\u2019t met yet!\\n\\nProbably the cheesiest thing I\\u2019ll sa ...\",\"https:\\u002f\\u002fwww.instagram.com\\u002fp\\u002fDECgNQNhHpY\\u002f\"]],\"hovertemplate\":\"%{y}\\u003cbr\\u003eDate: %{x}\\u003cbr\\u003eDesc: %{customdata[0]}\\u003cbr\\u003eLink: %{customdata[1]}\",\"legendgroup\":\"likes\",\"line\":{\"color\":\"#FFA15A\",\"dash\":\"solid\"},\"marker\":{\"symbol\":\"circle\"},\"mode\":\"lines\",\"name\":\"likes\",\"orientation\":\"v\",\"showlegend\":true,\"x\":[\"2024-01-07\",\"2024-01-09\",\"2024-01-11\",\"2024-01-15\",\"2024-01-18\",\"2024-01-23\",\"2024-01-30\",\"2024-01-31\",\"2024-02-06\",\"2024-02-08\",\"2024-02-14\",\"2024-02-21\",\"2024-02-28\",\"2024-03-28\",\"2024-04-03\",\"2024-04-09\",\"2024-04-19\",\"2024-04-26\",\"2024-05-01\",\"2024-05-03\",\"2024-05-23\",\"2024-05-28\",\"2024-06-20\",\"2024-07-17\",\"2024-07-25\",\"2024-07-26\",\"2024-08-02\",\"2024-08-16\",\"2024-08-23\",\"2024-08-29\",\"2024-09-12\",\"2024-09-17\",\"2024-09-19\",\"2024-09-24\",\"2024-09-26\",\"2024-10-03\",\"2024-10-10\",\"2024-10-16\",\"2024-10-23\",\"2024-10-31\",\"2024-11-08\",\"2024-11-14\",\"2024-11-20\",\"2024-11-27\",\"2024-12-05\",\"2024-12-12\",\"2024-12-19\",\"2024-12-26\"],\"xaxis\":\"x\",\"y\":[12,11,9,17,9,7,5,9,9,10,5,7,5,8,19,12,2,9,6,5,4,12,4,6,3,7,13,4,6,6,6,10,8,9,5,18,3,5,4,4,3,6,4,5,6,3,4,6],\"yaxis\":\"y\",\"type\":\"scatter\"}],                        {\"template\":{\"data\":{\"histogram2dcontour\":[{\"type\":\"histogram2dcontour\",\"colorbar\":{\"outlinewidth\":0,\"ticks\":\"\"},\"colorscale\":[[0.0,\"#0d0887\"],[0.1111111111111111,\"#46039f\"],[0.2222222222222222,\"#7201a8\"],[0.3333333333333333,\"#9c179e\"],[0.4444444444444444,\"#bd3786\"],[0.5555555555555556,\"#d8576b\"],[0.6666666666666666,\"#ed7953\"],[0.7777777777777778,\"#fb9f3a\"],[0.8888888888888888,\"#fdca26\"],[1.0,\"#f0f921\"]]}],\"choropleth\":[{\"type\":\"choropleth\",\"colorbar\":{\"outlinewidth\":0,\"ticks\":\"\"}}],\"histogram2d\":[{\"type\":\"histogram2d\",\"colorbar\":{\"outlinewidth\":0,\"ticks\":\"\"},\"colorscale\":[[0.0,\"#0d0887\"],[0.1111111111111111,\"#46039f\"],[0.2222222222222222,\"#7201a8\"],[0.3333333333333333,\"#9c179e\"],[0.4444444444444444,\"#bd3786\"],[0.5555555555555556,\"#d8576b\"],[0.6666666666666666,\"#ed7953\"],[0.7777777777777778,\"#fb9f3a\"],[0.8888888888888888,\"#fdca26\"],[1.0,\"#f0f921\"]]}],\"heatmap\":[{\"type\":\"heatmap\",\"colorbar\":{\"outlinewidth\":0,\"ticks\":\"\"},\"colorscale\":[[0.0,\"#0d0887\"],[0.1111111111111111,\"#46039f\"],[0.2222222222222222,\"#7201a8\"],[0.3333333333333333,\"#9c179e\"],[0.4444444444444444,\"#bd3786\"],[0.5555555555555556,\"#d8576b\"],[0.6666666666666666,\"#ed7953\"],[0.7777777777777778,\"#fb9f3a\"],[0.8888888888888888,\"#fdca26\"],[1.0,\"#f0f921\"]]}],\"heatmapgl\":[{\"type\":\"heatmapgl\",\"colorbar\":{\"outlinewidth\":0,\"ticks\":\"\"},\"colorscale\":[[0.0,\"#0d0887\"],[0.1111111111111111,\"#46039f\"],[0.2222222222222222,\"#7201a8\"],[0.3333333333333333,\"#9c179e\"],[0.4444444444444444,\"#bd3786\"],[0.5555555555555556,\"#d8576b\"],[0.6666666666666666,\"#ed7953\"],[0.7777777777777778,\"#fb9f3a\"],[0.8888888888888888,\"#fdca26\"],[1.0,\"#f0f921\"]]}],\"contourcarpet\":[{\"type\":\"contourcarpet\",\"colorbar\":{\"outlinewidth\":0,\"ticks\":\"\"}}],\"contour\":[{\"type\":\"contour\",\"colorbar\":{\"outlinewidth\":0,\"ticks\":\"\"},\"colorscale\":[[0.0,\"#0d0887\"],[0.1111111111111111,\"#46039f\"],[0.2222222222222222,\"#7201a8\"],[0.3333333333333333,\"#9c179e\"],[0.4444444444444444,\"#bd3786\"],[0.5555555555555556,\"#d8576b\"],[0.6666666666666666,\"#ed7953\"],[0.7777777777777778,\"#fb9f3a\"],[0.8888888888888888,\"#fdca26\"],[1.0,\"#f0f921\"]]}],\"surface\":[{\"type\":\"surface\",\"colorbar\":{\"outlinewidth\":0,\"ticks\":\"\"},\"colorscale\":[[0.0,\"#0d0887\"],[0.1111111111111111,\"#46039f\"],[0.2222222222222222,\"#7201a8\"],[0.3333333333333333,\"#9c179e\"],[0.4444444444444444,\"#bd3786\"],[0.5555555555555556,\"#d8576b\"],[0.6666666666666666,\"#ed7953\"],[0.7777777777777778,\"#fb9f3a\"],[0.8888888888888888,\"#fdca26\"],[1.0,\"#f0f921\"]]}],\"mesh3d\":[{\"type\":\"mesh3d\",\"colorbar\":{\"outlinewidth\":0,\"ticks\":\"\"}}],\"scatter\":[{\"fillpattern\":{\"fillmode\":\"overlay\",\"size\":10,\"solidity\":0.2},\"type\":\"scatter\"}],\"parcoords\":[{\"type\":\"parcoords\",\"line\":{\"colorbar\":{\"outlinewidth\":0,\"ticks\":\"\"}}}],\"scatterpolargl\":[{\"type\":\"scatterpolargl\",\"marker\":{\"colorbar\":{\"outlinewidth\":0,\"ticks\":\"\"}}}],\"bar\":[{\"error_x\":{\"color\":\"#2a3f5f\"},\"error_y\":{\"color\":\"#2a3f5f\"},\"marker\":{\"line\":{\"color\":\"#E5ECF6\",\"width\":0.5},\"pattern\":{\"fillmode\":\"overlay\",\"size\":10,\"solidity\":0.2}},\"type\":\"bar\"}],\"scattergeo\":[{\"type\":\"scattergeo\",\"marker\":{\"colorbar\":{\"outlinewidth\":0,\"ticks\":\"\"}}}],\"scatterpolar\":[{\"type\":\"scatterpolar\",\"marker\":{\"colorbar\":{\"outlinewidth\":0,\"ticks\":\"\"}}}],\"histogram\":[{\"marker\":{\"pattern\":{\"fillmode\":\"overlay\",\"size\":10,\"solidity\":0.2}},\"type\":\"histogram\"}],\"scattergl\":[{\"type\":\"scattergl\",\"marker\":{\"colorbar\":{\"outlinewidth\":0,\"ticks\":\"\"}}}],\"scatter3d\":[{\"type\":\"scatter3d\",\"line\":{\"colorbar\":{\"outlinewidth\":0,\"ticks\":\"\"}},\"marker\":{\"colorbar\":{\"outlinewidth\":0,\"ticks\":\"\"}}}],\"scattermapbox\":[{\"type\":\"scattermapbox\",\"marker\":{\"colorbar\":{\"outlinewidth\":0,\"ticks\":\"\"}}}],\"scatterternary\":[{\"type\":\"scatterternary\",\"marker\":{\"colorbar\":{\"outlinewidth\":0,\"ticks\":\"\"}}}],\"scattercarpet\":[{\"type\":\"scattercarpet\",\"marker\":{\"colorbar\":{\"outlinewidth\":0,\"ticks\":\"\"}}}],\"carpet\":[{\"aaxis\":{\"endlinecolor\":\"#2a3f5f\",\"gridcolor\":\"white\",\"linecolor\":\"white\",\"minorgridcolor\":\"white\",\"startlinecolor\":\"#2a3f5f\"},\"baxis\":{\"endlinecolor\":\"#2a3f5f\",\"gridcolor\":\"white\",\"linecolor\":\"white\",\"minorgridcolor\":\"white\",\"startlinecolor\":\"#2a3f5f\"},\"type\":\"carpet\"}],\"table\":[{\"cells\":{\"fill\":{\"color\":\"#EBF0F8\"},\"line\":{\"color\":\"white\"}},\"header\":{\"fill\":{\"color\":\"#C8D4E3\"},\"line\":{\"color\":\"white\"}},\"type\":\"table\"}],\"barpolar\":[{\"marker\":{\"line\":{\"color\":\"#E5ECF6\",\"width\":0.5},\"pattern\":{\"fillmode\":\"overlay\",\"size\":10,\"solidity\":0.2}},\"type\":\"barpolar\"}],\"pie\":[{\"automargin\":true,\"type\":\"pie\"}]},\"layout\":{\"autotypenumbers\":\"strict\",\"colorway\":[\"#636efa\",\"#EF553B\",\"#00cc96\",\"#ab63fa\",\"#FFA15A\",\"#19d3f3\",\"#FF6692\",\"#B6E880\",\"#FF97FF\",\"#FECB52\"],\"font\":{\"color\":\"#2a3f5f\"},\"hovermode\":\"closest\",\"hoverlabel\":{\"align\":\"left\"},\"paper_bgcolor\":\"white\",\"plot_bgcolor\":\"#E5ECF6\",\"polar\":{\"bgcolor\":\"#E5ECF6\",\"angularaxis\":{\"gridcolor\":\"white\",\"linecolor\":\"white\",\"ticks\":\"\"},\"radialaxis\":{\"gridcolor\":\"white\",\"linecolor\":\"white\",\"ticks\":\"\"}},\"ternary\":{\"bgcolor\":\"#E5ECF6\",\"aaxis\":{\"gridcolor\":\"white\",\"linecolor\":\"white\",\"ticks\":\"\"},\"baxis\":{\"gridcolor\":\"white\",\"linecolor\":\"white\",\"ticks\":\"\"},\"caxis\":{\"gridcolor\":\"white\",\"linecolor\":\"white\",\"ticks\":\"\"}},\"coloraxis\":{\"colorbar\":{\"outlinewidth\":0,\"ticks\":\"\"}},\"colorscale\":{\"sequential\":[[0.0,\"#0d0887\"],[0.1111111111111111,\"#46039f\"],[0.2222222222222222,\"#7201a8\"],[0.3333333333333333,\"#9c179e\"],[0.4444444444444444,\"#bd3786\"],[0.5555555555555556,\"#d8576b\"],[0.6666666666666666,\"#ed7953\"],[0.7777777777777778,\"#fb9f3a\"],[0.8888888888888888,\"#fdca26\"],[1.0,\"#f0f921\"]],\"sequentialminus\":[[0.0,\"#0d0887\"],[0.1111111111111111,\"#46039f\"],[0.2222222222222222,\"#7201a8\"],[0.3333333333333333,\"#9c179e\"],[0.4444444444444444,\"#bd3786\"],[0.5555555555555556,\"#d8576b\"],[0.6666666666666666,\"#ed7953\"],[0.7777777777777778,\"#fb9f3a\"],[0.8888888888888888,\"#fdca26\"],[1.0,\"#f0f921\"]],\"diverging\":[[0,\"#8e0152\"],[0.1,\"#c51b7d\"],[0.2,\"#de77ae\"],[0.3,\"#f1b6da\"],[0.4,\"#fde0ef\"],[0.5,\"#f7f7f7\"],[0.6,\"#e6f5d0\"],[0.7,\"#b8e186\"],[0.8,\"#7fbc41\"],[0.9,\"#4d9221\"],[1,\"#276419\"]]},\"xaxis\":{\"gridcolor\":\"white\",\"linecolor\":\"white\",\"ticks\":\"\",\"title\":{\"standoff\":15},\"zerolinecolor\":\"white\",\"automargin\":true,\"zerolinewidth\":2},\"yaxis\":{\"gridcolor\":\"white\",\"linecolor\":\"white\",\"ticks\":\"\",\"title\":{\"standoff\":15},\"zerolinecolor\":\"white\",\"automargin\":true,\"zerolinewidth\":2},\"scene\":{\"xaxis\":{\"backgroundcolor\":\"#E5ECF6\",\"gridcolor\":\"white\",\"linecolor\":\"white\",\"showbackground\":true,\"ticks\":\"\",\"zerolinecolor\":\"white\",\"gridwidth\":2},\"yaxis\":{\"backgroundcolor\":\"#E5ECF6\",\"gridcolor\":\"white\",\"linecolor\":\"white\",\"showbackground\":true,\"ticks\":\"\",\"zerolinecolor\":\"white\",\"gridwidth\":2},\"zaxis\":{\"backgroundcolor\":\"#E5ECF6\",\"gridcolor\":\"white\",\"linecolor\":\"white\",\"showbackground\":true,\"ticks\":\"\",\"zerolinecolor\":\"white\",\"gridwidth\":2}},\"shapedefaults\":{\"line\":{\"color\":\"#2a3f5f\"}},\"annotationdefaults\":{\"arrowcolor\":\"#2a3f5f\",\"arrowhead\":0,\"arrowwidth\":1},\"geo\":{\"bgcolor\":\"white\",\"landcolor\":\"#E5ECF6\",\"subunitcolor\":\"white\",\"showland\":true,\"showlakes\":true,\"lakecolor\":\"white\"},\"title\":{\"x\":0.05},\"mapbox\":{\"style\":\"light\"}}},\"xaxis\":{\"anchor\":\"y\",\"domain\":[0.0,1.0],\"title\":{\"text\":\"Date posted\"}},\"yaxis\":{\"anchor\":\"x\",\"domain\":[0.0,1.0],\"title\":{\"text\":\"Metrics\"}},\"legend\":{\"title\":{\"text\":\"Metrics\"},\"tracegroupgap\":0},\"title\":{\"text\":\"Performance of IMAGE Posts on Instagram (@nadraqamaria)\"},\"height\":600,\"width\":1100,\"hovermode\":\"x unified\"},                        {\"responsive\": true}                    ).then(function(){\n",
       "                            \n",
       "var gd = document.getElementById('1d8ddca3-4e55-41a3-915b-545872811f5b');\n",
       "var x = new MutationObserver(function (mutations, observer) {{\n",
       "        var display = window.getComputedStyle(gd).display;\n",
       "        if (!display || display === 'none') {{\n",
       "            console.log([gd, 'removed!']);\n",
       "            Plotly.purge(gd);\n",
       "            observer.disconnect();\n",
       "        }}\n",
       "}});\n",
       "\n",
       "// Listen for the removal of the full notebook cells\n",
       "var notebookContainer = gd.closest('#notebook-container');\n",
       "if (notebookContainer) {{\n",
       "    x.observe(notebookContainer, {childList: true});\n",
       "}}\n",
       "\n",
       "// Listen for the clearing of the current output cell\n",
       "var outputEl = gd.closest('.output');\n",
       "if (outputEl) {{\n",
       "    x.observe(outputEl, {childList: true});\n",
       "}}\n",
       "\n",
       "                        })                };                });            </script>        </div>"
      ]
     },
     "metadata": {},
     "output_type": "display_data"
    },
    {
     "name": "stdout",
     "output_type": "stream",
     "text": [
      "\n",
      "Top 5 Performing IMAGE Posts:\n"
     ]
    },
    {
     "data": {
      "text/html": [
       "<div>\n",
       "<style scoped>\n",
       "    .dataframe tbody tr th:only-of-type {\n",
       "        vertical-align: middle;\n",
       "    }\n",
       "\n",
       "    .dataframe tbody tr th {\n",
       "        vertical-align: top;\n",
       "    }\n",
       "\n",
       "    .dataframe thead th {\n",
       "        text-align: right;\n",
       "    }\n",
       "</style>\n",
       "<table border=\"1\" class=\"dataframe\">\n",
       "  <thead>\n",
       "    <tr style=\"text-align: right;\">\n",
       "      <th></th>\n",
       "      <th>link</th>\n",
       "      <th>date</th>\n",
       "      <th>reach</th>\n",
       "      <th>comments</th>\n",
       "      <th>saves</th>\n",
       "      <th>follows</th>\n",
       "      <th>likes</th>\n",
       "      <th>description</th>\n",
       "    </tr>\n",
       "  </thead>\n",
       "  <tbody>\n",
       "    <tr>\n",
       "      <th>1</th>\n",
       "      <td>https://www.instagram.com/p/C2JTEDOI4Cb/</td>\n",
       "      <td>2024-01-15</td>\n",
       "      <td>203</td>\n",
       "      <td>3</td>\n",
       "      <td>0</td>\n",
       "      <td>0</td>\n",
       "      <td>17</td>\n",
       "      <td>Ever feel like web design is a language only d...</td>\n",
       "    </tr>\n",
       "    <tr>\n",
       "      <th>2</th>\n",
       "      <td>https://www.instagram.com/p/C19Y7g6scmh/</td>\n",
       "      <td>2024-01-11</td>\n",
       "      <td>200</td>\n",
       "      <td>2</td>\n",
       "      <td>0</td>\n",
       "      <td>0</td>\n",
       "      <td>9</td>\n",
       "      <td>Is your website just a pretty picture on the i...</td>\n",
       "    </tr>\n",
       "    <tr>\n",
       "      <th>3</th>\n",
       "      <td>https://www.instagram.com/p/C1zPvEdPPfr/</td>\n",
       "      <td>2024-01-07</td>\n",
       "      <td>160</td>\n",
       "      <td>3</td>\n",
       "      <td>1</td>\n",
       "      <td>0</td>\n",
       "      <td>12</td>\n",
       "      <td>Welcome to my office, and yes, it is indeed my...</td>\n",
       "    </tr>\n",
       "    <tr>\n",
       "      <th>4</th>\n",
       "      <td>https://www.instagram.com/p/C5TAD2WvsLE/</td>\n",
       "      <td>2024-04-03</td>\n",
       "      <td>149</td>\n",
       "      <td>6</td>\n",
       "      <td>1</td>\n",
       "      <td>0</td>\n",
       "      <td>19</td>\n",
       "      <td>This was me going for a startup challenge orga...</td>\n",
       "    </tr>\n",
       "    <tr>\n",
       "      <th>5</th>\n",
       "      <td>https://www.instagram.com/p/C14PUcEqZc9/</td>\n",
       "      <td>2024-01-09</td>\n",
       "      <td>129</td>\n",
       "      <td>1</td>\n",
       "      <td>0</td>\n",
       "      <td>0</td>\n",
       "      <td>11</td>\n",
       "      <td>Website got you feeling 💀? Don't fret! Squeeze...</td>\n",
       "    </tr>\n",
       "  </tbody>\n",
       "</table>\n",
       "</div>"
      ],
      "text/plain": [
       "                                       link        date  reach  comments  \\\n",
       "1  https://www.instagram.com/p/C2JTEDOI4Cb/  2024-01-15    203         3   \n",
       "2  https://www.instagram.com/p/C19Y7g6scmh/  2024-01-11    200         2   \n",
       "3  https://www.instagram.com/p/C1zPvEdPPfr/  2024-01-07    160         3   \n",
       "4  https://www.instagram.com/p/C5TAD2WvsLE/  2024-04-03    149         6   \n",
       "5  https://www.instagram.com/p/C14PUcEqZc9/  2024-01-09    129         1   \n",
       "\n",
       "   saves  follows  likes                                        description  \n",
       "1      0        0     17  Ever feel like web design is a language only d...  \n",
       "2      0        0      9  Is your website just a pretty picture on the i...  \n",
       "3      1        0     12  Welcome to my office, and yes, it is indeed my...  \n",
       "4      1        0     19  This was me going for a startup challenge orga...  \n",
       "5      0        0     11  Website got you feeling 💀? Don't fret! Squeeze...  "
      ]
     },
     "metadata": {},
     "output_type": "display_data"
    },
    {
     "name": "stdout",
     "output_type": "stream",
     "text": [
      "\n",
      "\n",
      "\n",
      "\n",
      "\n",
      "\n"
     ]
    },
    {
     "data": {
      "application/vnd.plotly.v1+json": {
       "config": {
        "plotlyServerURL": "https://plot.ly"
       },
       "data": [
        {
         "customdata": [
          [
           "Tired of staring at a website that's about as exciting as a spreadsheet on Monda ...",
           "https://www.instagram.com/p/C2NItfGP8Nt/"
          ],
          [
           "Stop using your website wrongly and start using it as a powerful tool to generat ...",
           "https://www.instagram.com/p/C2bNxJXupRP/"
          ],
          [
           "Keywords are like spices in a dish—important, but not the whole meal! 🍗\n\nTrue SE ...",
           "https://www.instagram.com/p/C3XS_-9h7XD/"
          ],
          [
           "Don't let bad design be your startup's kryptonite 😓\n\nGet ready for a post FULL o ...",
           "https://www.instagram.com/p/C3pwBHttVO0/"
          ],
          [
           "Struggling with web design? 😵\n\nThese 3 tools can help ANYONE create a user-frien ...",
           "https://www.instagram.com/p/C32Mf4QrhdX/"
          ],
          [
           "I help ASEAN startups unlock explosive reach online with web design. 📈\n\nLumitics ...",
           "https://www.instagram.com/p/C4xaxC0CAkj/"
          ],
          [
           "Why hire a web designer when you can build the website yourself? 😉\n\nHere are my  ...",
           "https://www.instagram.com/p/C4z_mcTP8HG/"
          ],
          [
           "No one tells you about how BORING it is to maintain a business. 💤\n\nThe most exci ...",
           "https://www.instagram.com/p/C5BZ5bAIkrC/"
          ],
          [
           "I've noticed a huge reason why tech startups struggle. 🔍\n\nIt's because their web ...",
           "https://www.instagram.com/p/C5Vd7j3rPZF/"
          ],
          [
           "CASE STUDY: I always thought making a website user-friendly was just about makin ...",
           "https://www.instagram.com/p/C5lIbuDNkpD/"
          ],
          [
           "STOP SHOUTING INTO THE VOID! 🗣️\n\nIs your website driving crickets instead of con ...",
           "https://www.instagram.com/p/C55aLNLse9O/"
          ],
          [
           "Web designers? They're a whole different breed now. 🖥️\n\nHonestly, I was kinda sp ...",
           "https://www.instagram.com/p/C6I90b8NqaL/"
          ],
          [
           "Colour psychology plays a huge role in branding and user experience. 🌈\n\nFor exam ...",
           "https://www.instagram.com/p/C6tH1afJA7o/"
          ],
          [
           "You are overlooking the power of having a website for getting new customers. ❌\n\n ...",
           "https://www.instagram.com/p/C6ve5TYqmGR/"
          ],
          [
           "Transforming your startup's landing page into a money-making machine is where th ...",
           "https://www.instagram.com/p/C7Qol0dh9HD/"
          ],
          [
           "🚀 Startup owners, want to know a secret?\n\nSometimes breaking the rules is the ke ...",
           "https://www.instagram.com/p/C7jMfZ9v2n3/"
          ],
          [
           "It’s not enough anymore to just have a pretty website. ✨\n\nA nice-looking website ...",
           "https://www.instagram.com/p/C71OFQlKYX6/"
          ],
          [
           "There are so many web agencies available for you to consider. Soooo many … 😵‍💫\n\n ...",
           "https://www.instagram.com/p/C73y17ogfb5/"
          ],
          [
           "Ever think you need a huge team to succeed? Think again. 😉\n\nHere are 5 lessons I ...",
           "https://www.instagram.com/p/C8Y8nxtKAgM/"
          ],
          [
           "Bigger teams mean bigger budgets—cut the excess. 🚫\n\nHere are my top 7 tools that ...",
           "https://www.instagram.com/p/C864wSwuXRG/"
          ],
          [
           "Ready to get more paying customers in only 5 days? 🚀 \n\nJust for you busy founder ...",
           "https://www.instagram.com/p/C89Ks_DOxEM/"
          ],
          [
           "What happens when you book a free discovery call with me? 🤔💭\n\nI love when I can  ...",
           "https://www.instagram.com/p/C9jugIfPIKm/"
          ],
          [
           "Looking pretty is overrated. 🙄\n\nA clean, straightforward design helps visitors f ...",
           "https://www.instagram.com/p/C-FM1Q0tnDU/"
          ],
          [
           "Pain = discipline is overrated. 😕\n\nA study by Harvard Business School, “The Powe ...",
           "https://www.instagram.com/p/C-4zlvUPfyJ/"
          ],
          [
           "The digital world moves rapidly. 🏎️\n\nWithout regular testing and optimisation, y ...",
           "https://www.instagram.com/p/C_Ng3OLCn1r/"
          ],
          [
           "I help businesses double their revenue in 7 days. ⌛\n\nThe magic is in making thei ...",
           "https://www.instagram.com/p/C_hrvPmKsUK/"
          ],
          [
           "Your call-to-action (CTA) can make or break your revenue model. 💸\n\nIt's super im ...",
           "https://www.instagram.com/p/C_kr_zaBfTw/"
          ],
          [
           "You don’t need to be experienced to do a CRO audit on your own website.\n\nSave th ...",
           "https://www.instagram.com/p/C_xlwfzsN6Y/"
          ],
          [
           "Are your web visitors converting into paying customers?\n\nIf your site isn’t opti ...",
           "https://www.instagram.com/p/DAnorKyv-K1/"
          ],
          [
           "SEO is an investment to your business’ growth, without any cost.\n\nOn-page SEO re ...",
           "https://www.instagram.com/p/DA53_x-INAu/"
          ],
          [
           "Let’s take a break from the nerdy technical side of websites.\n\nAll websites cont ...",
           "https://www.instagram.com/p/DBOQmZGP5ZU/"
          ],
          [
           "For the past month, I’ve been exploring boosting my agency website’s own convers ...",
           "https://www.instagram.com/p/DBgmuP3MDMz/"
          ],
          [
           "Customers crave simplicity.\n\nThey want solutions served up on a silver platter,  ...",
           "https://www.instagram.com/p/DCCFGdNhxD0/"
          ],
          [
           "Your baby will outgrow her tiny shirt over time.\n\nBut we’re not talking about ba ...",
           "https://www.instagram.com/p/DCOoc_nIRti/"
          ],
          [
           "Let’s be real—generic CRO tips don’t cut it for tech startups anymore.\n\n“Make yo ...",
           "https://www.instagram.com/p/DCTyCKDxaF8/"
          ],
          [
           "4.88 billion people in the world own a mobile phone.\n\nThat’s about 61% of the wo ...",
           "https://www.instagram.com/p/DCoYZboP3Rm/"
          ],
          [
           "Your landing page is your silent salesperson.\n\nIt can either be a money drainer, ...",
           "https://www.instagram.com/p/DC6Z97LJ0mi/"
          ],
          [
           "\"SEO is so complicated.\"\n\nI hear this from startup founders all the time, but he ...",
           "https://www.instagram.com/p/DDPU8QUPq7e/"
          ],
          [
           "Your customers are not stupid. They can tell if you’re selling trash.\n\nYour job  ...",
           "https://www.instagram.com/p/DDcM7TftHAw/"
          ],
          [
           "SEO !!!\n\nBy now, you should know what it stands for (Search Engine Optimization) ...",
           "https://www.instagram.com/p/DDt55NmCzkg/"
          ],
          [
           "Monkey see, monkey do.\n\nRemember that when you’re thinking about how to make str ...",
           "https://www.instagram.com/p/DEAJLdaBKla/"
          ]
         ],
         "hovertemplate": "%{y}<br>Date: %{x}<br>Desc: %{customdata[0]}<br>Link: %{customdata[1]}",
         "legendgroup": "reach",
         "line": {
          "color": "#636efa",
          "dash": "solid"
         },
         "marker": {
          "symbol": "circle"
         },
         "mode": "lines",
         "name": "reach",
         "orientation": "v",
         "showlegend": true,
         "type": "scatter",
         "x": [
          "2024-01-17",
          "2024-01-22",
          "2024-02-15",
          "2024-02-22",
          "2024-02-27",
          "2024-03-21",
          "2024-03-22",
          "2024-03-27",
          "2024-04-04",
          "2024-04-10",
          "2024-04-18",
          "2024-04-24",
          "2024-05-08",
          "2024-05-09",
          "2024-05-21",
          "2024-05-29",
          "2024-06-05",
          "2024-06-06",
          "2024-06-19",
          "2024-07-02",
          "2024-07-03",
          "2024-07-18",
          "2024-07-31",
          "2024-08-20",
          "2024-08-28",
          "2024-09-05",
          "2024-09-06",
          "2024-09-11",
          "2024-10-02",
          "2024-10-09",
          "2024-10-17",
          "2024-10-24",
          "2024-11-06",
          "2024-11-11",
          "2024-11-13",
          "2024-11-21",
          "2024-11-28",
          "2024-12-06",
          "2024-12-11",
          "2024-12-18",
          "2024-12-25"
         ],
         "xaxis": "x",
         "y": [
          147,
          59,
          56,
          38,
          40,
          48,
          47,
          60,
          99,
          52,
          40,
          46,
          50,
          34,
          40,
          74,
          36,
          33,
          39,
          43,
          35,
          73,
          35,
          28,
          29,
          29,
          35,
          32,
          33,
          22,
          21,
          25,
          20,
          17,
          17,
          17,
          19,
          14,
          13,
          18,
          13
         ],
         "yaxis": "y"
        },
        {
         "customdata": [
          [
           "Tired of staring at a website that's about as exciting as a spreadsheet on Monda ...",
           "https://www.instagram.com/p/C2NItfGP8Nt/"
          ],
          [
           "Stop using your website wrongly and start using it as a powerful tool to generat ...",
           "https://www.instagram.com/p/C2bNxJXupRP/"
          ],
          [
           "Keywords are like spices in a dish—important, but not the whole meal! 🍗\n\nTrue SE ...",
           "https://www.instagram.com/p/C3XS_-9h7XD/"
          ],
          [
           "Don't let bad design be your startup's kryptonite 😓\n\nGet ready for a post FULL o ...",
           "https://www.instagram.com/p/C3pwBHttVO0/"
          ],
          [
           "Struggling with web design? 😵\n\nThese 3 tools can help ANYONE create a user-frien ...",
           "https://www.instagram.com/p/C32Mf4QrhdX/"
          ],
          [
           "I help ASEAN startups unlock explosive reach online with web design. 📈\n\nLumitics ...",
           "https://www.instagram.com/p/C4xaxC0CAkj/"
          ],
          [
           "Why hire a web designer when you can build the website yourself? 😉\n\nHere are my  ...",
           "https://www.instagram.com/p/C4z_mcTP8HG/"
          ],
          [
           "No one tells you about how BORING it is to maintain a business. 💤\n\nThe most exci ...",
           "https://www.instagram.com/p/C5BZ5bAIkrC/"
          ],
          [
           "I've noticed a huge reason why tech startups struggle. 🔍\n\nIt's because their web ...",
           "https://www.instagram.com/p/C5Vd7j3rPZF/"
          ],
          [
           "CASE STUDY: I always thought making a website user-friendly was just about makin ...",
           "https://www.instagram.com/p/C5lIbuDNkpD/"
          ],
          [
           "STOP SHOUTING INTO THE VOID! 🗣️\n\nIs your website driving crickets instead of con ...",
           "https://www.instagram.com/p/C55aLNLse9O/"
          ],
          [
           "Web designers? They're a whole different breed now. 🖥️\n\nHonestly, I was kinda sp ...",
           "https://www.instagram.com/p/C6I90b8NqaL/"
          ],
          [
           "Colour psychology plays a huge role in branding and user experience. 🌈\n\nFor exam ...",
           "https://www.instagram.com/p/C6tH1afJA7o/"
          ],
          [
           "You are overlooking the power of having a website for getting new customers. ❌\n\n ...",
           "https://www.instagram.com/p/C6ve5TYqmGR/"
          ],
          [
           "Transforming your startup's landing page into a money-making machine is where th ...",
           "https://www.instagram.com/p/C7Qol0dh9HD/"
          ],
          [
           "🚀 Startup owners, want to know a secret?\n\nSometimes breaking the rules is the ke ...",
           "https://www.instagram.com/p/C7jMfZ9v2n3/"
          ],
          [
           "It’s not enough anymore to just have a pretty website. ✨\n\nA nice-looking website ...",
           "https://www.instagram.com/p/C71OFQlKYX6/"
          ],
          [
           "There are so many web agencies available for you to consider. Soooo many … 😵‍💫\n\n ...",
           "https://www.instagram.com/p/C73y17ogfb5/"
          ],
          [
           "Ever think you need a huge team to succeed? Think again. 😉\n\nHere are 5 lessons I ...",
           "https://www.instagram.com/p/C8Y8nxtKAgM/"
          ],
          [
           "Bigger teams mean bigger budgets—cut the excess. 🚫\n\nHere are my top 7 tools that ...",
           "https://www.instagram.com/p/C864wSwuXRG/"
          ],
          [
           "Ready to get more paying customers in only 5 days? 🚀 \n\nJust for you busy founder ...",
           "https://www.instagram.com/p/C89Ks_DOxEM/"
          ],
          [
           "What happens when you book a free discovery call with me? 🤔💭\n\nI love when I can  ...",
           "https://www.instagram.com/p/C9jugIfPIKm/"
          ],
          [
           "Looking pretty is overrated. 🙄\n\nA clean, straightforward design helps visitors f ...",
           "https://www.instagram.com/p/C-FM1Q0tnDU/"
          ],
          [
           "Pain = discipline is overrated. 😕\n\nA study by Harvard Business School, “The Powe ...",
           "https://www.instagram.com/p/C-4zlvUPfyJ/"
          ],
          [
           "The digital world moves rapidly. 🏎️\n\nWithout regular testing and optimisation, y ...",
           "https://www.instagram.com/p/C_Ng3OLCn1r/"
          ],
          [
           "I help businesses double their revenue in 7 days. ⌛\n\nThe magic is in making thei ...",
           "https://www.instagram.com/p/C_hrvPmKsUK/"
          ],
          [
           "Your call-to-action (CTA) can make or break your revenue model. 💸\n\nIt's super im ...",
           "https://www.instagram.com/p/C_kr_zaBfTw/"
          ],
          [
           "You don’t need to be experienced to do a CRO audit on your own website.\n\nSave th ...",
           "https://www.instagram.com/p/C_xlwfzsN6Y/"
          ],
          [
           "Are your web visitors converting into paying customers?\n\nIf your site isn’t opti ...",
           "https://www.instagram.com/p/DAnorKyv-K1/"
          ],
          [
           "SEO is an investment to your business’ growth, without any cost.\n\nOn-page SEO re ...",
           "https://www.instagram.com/p/DA53_x-INAu/"
          ],
          [
           "Let’s take a break from the nerdy technical side of websites.\n\nAll websites cont ...",
           "https://www.instagram.com/p/DBOQmZGP5ZU/"
          ],
          [
           "For the past month, I’ve been exploring boosting my agency website’s own convers ...",
           "https://www.instagram.com/p/DBgmuP3MDMz/"
          ],
          [
           "Customers crave simplicity.\n\nThey want solutions served up on a silver platter,  ...",
           "https://www.instagram.com/p/DCCFGdNhxD0/"
          ],
          [
           "Your baby will outgrow her tiny shirt over time.\n\nBut we’re not talking about ba ...",
           "https://www.instagram.com/p/DCOoc_nIRti/"
          ],
          [
           "Let’s be real—generic CRO tips don’t cut it for tech startups anymore.\n\n“Make yo ...",
           "https://www.instagram.com/p/DCTyCKDxaF8/"
          ],
          [
           "4.88 billion people in the world own a mobile phone.\n\nThat’s about 61% of the wo ...",
           "https://www.instagram.com/p/DCoYZboP3Rm/"
          ],
          [
           "Your landing page is your silent salesperson.\n\nIt can either be a money drainer, ...",
           "https://www.instagram.com/p/DC6Z97LJ0mi/"
          ],
          [
           "\"SEO is so complicated.\"\n\nI hear this from startup founders all the time, but he ...",
           "https://www.instagram.com/p/DDPU8QUPq7e/"
          ],
          [
           "Your customers are not stupid. They can tell if you’re selling trash.\n\nYour job  ...",
           "https://www.instagram.com/p/DDcM7TftHAw/"
          ],
          [
           "SEO !!!\n\nBy now, you should know what it stands for (Search Engine Optimization) ...",
           "https://www.instagram.com/p/DDt55NmCzkg/"
          ],
          [
           "Monkey see, monkey do.\n\nRemember that when you’re thinking about how to make str ...",
           "https://www.instagram.com/p/DEAJLdaBKla/"
          ]
         ],
         "hovertemplate": "%{y}<br>Date: %{x}<br>Desc: %{customdata[0]}<br>Link: %{customdata[1]}",
         "legendgroup": "comments",
         "line": {
          "color": "#EF553B",
          "dash": "solid"
         },
         "marker": {
          "symbol": "circle"
         },
         "mode": "lines",
         "name": "comments",
         "orientation": "v",
         "showlegend": true,
         "type": "scatter",
         "x": [
          "2024-01-17",
          "2024-01-22",
          "2024-02-15",
          "2024-02-22",
          "2024-02-27",
          "2024-03-21",
          "2024-03-22",
          "2024-03-27",
          "2024-04-04",
          "2024-04-10",
          "2024-04-18",
          "2024-04-24",
          "2024-05-08",
          "2024-05-09",
          "2024-05-21",
          "2024-05-29",
          "2024-06-05",
          "2024-06-06",
          "2024-06-19",
          "2024-07-02",
          "2024-07-03",
          "2024-07-18",
          "2024-07-31",
          "2024-08-20",
          "2024-08-28",
          "2024-09-05",
          "2024-09-06",
          "2024-09-11",
          "2024-10-02",
          "2024-10-09",
          "2024-10-17",
          "2024-10-24",
          "2024-11-06",
          "2024-11-11",
          "2024-11-13",
          "2024-11-21",
          "2024-11-28",
          "2024-12-06",
          "2024-12-11",
          "2024-12-18",
          "2024-12-25"
         ],
         "xaxis": "x",
         "y": [
          0,
          0,
          0,
          0,
          0,
          0,
          2,
          6,
          0,
          0,
          0,
          0,
          0,
          0,
          0,
          0,
          0,
          0,
          0,
          0,
          0,
          0,
          0,
          0,
          0,
          0,
          0,
          0,
          0,
          0,
          0,
          0,
          0,
          0,
          0,
          0,
          0,
          0,
          0,
          0,
          0
         ],
         "yaxis": "y"
        },
        {
         "customdata": [
          [
           "Tired of staring at a website that's about as exciting as a spreadsheet on Monda ...",
           "https://www.instagram.com/p/C2NItfGP8Nt/"
          ],
          [
           "Stop using your website wrongly and start using it as a powerful tool to generat ...",
           "https://www.instagram.com/p/C2bNxJXupRP/"
          ],
          [
           "Keywords are like spices in a dish—important, but not the whole meal! 🍗\n\nTrue SE ...",
           "https://www.instagram.com/p/C3XS_-9h7XD/"
          ],
          [
           "Don't let bad design be your startup's kryptonite 😓\n\nGet ready for a post FULL o ...",
           "https://www.instagram.com/p/C3pwBHttVO0/"
          ],
          [
           "Struggling with web design? 😵\n\nThese 3 tools can help ANYONE create a user-frien ...",
           "https://www.instagram.com/p/C32Mf4QrhdX/"
          ],
          [
           "I help ASEAN startups unlock explosive reach online with web design. 📈\n\nLumitics ...",
           "https://www.instagram.com/p/C4xaxC0CAkj/"
          ],
          [
           "Why hire a web designer when you can build the website yourself? 😉\n\nHere are my  ...",
           "https://www.instagram.com/p/C4z_mcTP8HG/"
          ],
          [
           "No one tells you about how BORING it is to maintain a business. 💤\n\nThe most exci ...",
           "https://www.instagram.com/p/C5BZ5bAIkrC/"
          ],
          [
           "I've noticed a huge reason why tech startups struggle. 🔍\n\nIt's because their web ...",
           "https://www.instagram.com/p/C5Vd7j3rPZF/"
          ],
          [
           "CASE STUDY: I always thought making a website user-friendly was just about makin ...",
           "https://www.instagram.com/p/C5lIbuDNkpD/"
          ],
          [
           "STOP SHOUTING INTO THE VOID! 🗣️\n\nIs your website driving crickets instead of con ...",
           "https://www.instagram.com/p/C55aLNLse9O/"
          ],
          [
           "Web designers? They're a whole different breed now. 🖥️\n\nHonestly, I was kinda sp ...",
           "https://www.instagram.com/p/C6I90b8NqaL/"
          ],
          [
           "Colour psychology plays a huge role in branding and user experience. 🌈\n\nFor exam ...",
           "https://www.instagram.com/p/C6tH1afJA7o/"
          ],
          [
           "You are overlooking the power of having a website for getting new customers. ❌\n\n ...",
           "https://www.instagram.com/p/C6ve5TYqmGR/"
          ],
          [
           "Transforming your startup's landing page into a money-making machine is where th ...",
           "https://www.instagram.com/p/C7Qol0dh9HD/"
          ],
          [
           "🚀 Startup owners, want to know a secret?\n\nSometimes breaking the rules is the ke ...",
           "https://www.instagram.com/p/C7jMfZ9v2n3/"
          ],
          [
           "It’s not enough anymore to just have a pretty website. ✨\n\nA nice-looking website ...",
           "https://www.instagram.com/p/C71OFQlKYX6/"
          ],
          [
           "There are so many web agencies available for you to consider. Soooo many … 😵‍💫\n\n ...",
           "https://www.instagram.com/p/C73y17ogfb5/"
          ],
          [
           "Ever think you need a huge team to succeed? Think again. 😉\n\nHere are 5 lessons I ...",
           "https://www.instagram.com/p/C8Y8nxtKAgM/"
          ],
          [
           "Bigger teams mean bigger budgets—cut the excess. 🚫\n\nHere are my top 7 tools that ...",
           "https://www.instagram.com/p/C864wSwuXRG/"
          ],
          [
           "Ready to get more paying customers in only 5 days? 🚀 \n\nJust for you busy founder ...",
           "https://www.instagram.com/p/C89Ks_DOxEM/"
          ],
          [
           "What happens when you book a free discovery call with me? 🤔💭\n\nI love when I can  ...",
           "https://www.instagram.com/p/C9jugIfPIKm/"
          ],
          [
           "Looking pretty is overrated. 🙄\n\nA clean, straightforward design helps visitors f ...",
           "https://www.instagram.com/p/C-FM1Q0tnDU/"
          ],
          [
           "Pain = discipline is overrated. 😕\n\nA study by Harvard Business School, “The Powe ...",
           "https://www.instagram.com/p/C-4zlvUPfyJ/"
          ],
          [
           "The digital world moves rapidly. 🏎️\n\nWithout regular testing and optimisation, y ...",
           "https://www.instagram.com/p/C_Ng3OLCn1r/"
          ],
          [
           "I help businesses double their revenue in 7 days. ⌛\n\nThe magic is in making thei ...",
           "https://www.instagram.com/p/C_hrvPmKsUK/"
          ],
          [
           "Your call-to-action (CTA) can make or break your revenue model. 💸\n\nIt's super im ...",
           "https://www.instagram.com/p/C_kr_zaBfTw/"
          ],
          [
           "You don’t need to be experienced to do a CRO audit on your own website.\n\nSave th ...",
           "https://www.instagram.com/p/C_xlwfzsN6Y/"
          ],
          [
           "Are your web visitors converting into paying customers?\n\nIf your site isn’t opti ...",
           "https://www.instagram.com/p/DAnorKyv-K1/"
          ],
          [
           "SEO is an investment to your business’ growth, without any cost.\n\nOn-page SEO re ...",
           "https://www.instagram.com/p/DA53_x-INAu/"
          ],
          [
           "Let’s take a break from the nerdy technical side of websites.\n\nAll websites cont ...",
           "https://www.instagram.com/p/DBOQmZGP5ZU/"
          ],
          [
           "For the past month, I’ve been exploring boosting my agency website’s own convers ...",
           "https://www.instagram.com/p/DBgmuP3MDMz/"
          ],
          [
           "Customers crave simplicity.\n\nThey want solutions served up on a silver platter,  ...",
           "https://www.instagram.com/p/DCCFGdNhxD0/"
          ],
          [
           "Your baby will outgrow her tiny shirt over time.\n\nBut we’re not talking about ba ...",
           "https://www.instagram.com/p/DCOoc_nIRti/"
          ],
          [
           "Let’s be real—generic CRO tips don’t cut it for tech startups anymore.\n\n“Make yo ...",
           "https://www.instagram.com/p/DCTyCKDxaF8/"
          ],
          [
           "4.88 billion people in the world own a mobile phone.\n\nThat’s about 61% of the wo ...",
           "https://www.instagram.com/p/DCoYZboP3Rm/"
          ],
          [
           "Your landing page is your silent salesperson.\n\nIt can either be a money drainer, ...",
           "https://www.instagram.com/p/DC6Z97LJ0mi/"
          ],
          [
           "\"SEO is so complicated.\"\n\nI hear this from startup founders all the time, but he ...",
           "https://www.instagram.com/p/DDPU8QUPq7e/"
          ],
          [
           "Your customers are not stupid. They can tell if you’re selling trash.\n\nYour job  ...",
           "https://www.instagram.com/p/DDcM7TftHAw/"
          ],
          [
           "SEO !!!\n\nBy now, you should know what it stands for (Search Engine Optimization) ...",
           "https://www.instagram.com/p/DDt55NmCzkg/"
          ],
          [
           "Monkey see, monkey do.\n\nRemember that when you’re thinking about how to make str ...",
           "https://www.instagram.com/p/DEAJLdaBKla/"
          ]
         ],
         "hovertemplate": "%{y}<br>Date: %{x}<br>Desc: %{customdata[0]}<br>Link: %{customdata[1]}",
         "legendgroup": "saves",
         "line": {
          "color": "#00cc96",
          "dash": "solid"
         },
         "marker": {
          "symbol": "circle"
         },
         "mode": "lines",
         "name": "saves",
         "orientation": "v",
         "showlegend": true,
         "type": "scatter",
         "x": [
          "2024-01-17",
          "2024-01-22",
          "2024-02-15",
          "2024-02-22",
          "2024-02-27",
          "2024-03-21",
          "2024-03-22",
          "2024-03-27",
          "2024-04-04",
          "2024-04-10",
          "2024-04-18",
          "2024-04-24",
          "2024-05-08",
          "2024-05-09",
          "2024-05-21",
          "2024-05-29",
          "2024-06-05",
          "2024-06-06",
          "2024-06-19",
          "2024-07-02",
          "2024-07-03",
          "2024-07-18",
          "2024-07-31",
          "2024-08-20",
          "2024-08-28",
          "2024-09-05",
          "2024-09-06",
          "2024-09-11",
          "2024-10-02",
          "2024-10-09",
          "2024-10-17",
          "2024-10-24",
          "2024-11-06",
          "2024-11-11",
          "2024-11-13",
          "2024-11-21",
          "2024-11-28",
          "2024-12-06",
          "2024-12-11",
          "2024-12-18",
          "2024-12-25"
         ],
         "xaxis": "x",
         "y": [
          0,
          0,
          1,
          2,
          2,
          0,
          3,
          1,
          0,
          0,
          0,
          1,
          0,
          0,
          0,
          0,
          0,
          0,
          1,
          1,
          0,
          0,
          0,
          0,
          0,
          0,
          0,
          0,
          0,
          0,
          0,
          0,
          0,
          0,
          0,
          0,
          0,
          0,
          0,
          0,
          0
         ],
         "yaxis": "y"
        },
        {
         "customdata": [
          [
           "Tired of staring at a website that's about as exciting as a spreadsheet on Monda ...",
           "https://www.instagram.com/p/C2NItfGP8Nt/"
          ],
          [
           "Stop using your website wrongly and start using it as a powerful tool to generat ...",
           "https://www.instagram.com/p/C2bNxJXupRP/"
          ],
          [
           "Keywords are like spices in a dish—important, but not the whole meal! 🍗\n\nTrue SE ...",
           "https://www.instagram.com/p/C3XS_-9h7XD/"
          ],
          [
           "Don't let bad design be your startup's kryptonite 😓\n\nGet ready for a post FULL o ...",
           "https://www.instagram.com/p/C3pwBHttVO0/"
          ],
          [
           "Struggling with web design? 😵\n\nThese 3 tools can help ANYONE create a user-frien ...",
           "https://www.instagram.com/p/C32Mf4QrhdX/"
          ],
          [
           "I help ASEAN startups unlock explosive reach online with web design. 📈\n\nLumitics ...",
           "https://www.instagram.com/p/C4xaxC0CAkj/"
          ],
          [
           "Why hire a web designer when you can build the website yourself? 😉\n\nHere are my  ...",
           "https://www.instagram.com/p/C4z_mcTP8HG/"
          ],
          [
           "No one tells you about how BORING it is to maintain a business. 💤\n\nThe most exci ...",
           "https://www.instagram.com/p/C5BZ5bAIkrC/"
          ],
          [
           "I've noticed a huge reason why tech startups struggle. 🔍\n\nIt's because their web ...",
           "https://www.instagram.com/p/C5Vd7j3rPZF/"
          ],
          [
           "CASE STUDY: I always thought making a website user-friendly was just about makin ...",
           "https://www.instagram.com/p/C5lIbuDNkpD/"
          ],
          [
           "STOP SHOUTING INTO THE VOID! 🗣️\n\nIs your website driving crickets instead of con ...",
           "https://www.instagram.com/p/C55aLNLse9O/"
          ],
          [
           "Web designers? They're a whole different breed now. 🖥️\n\nHonestly, I was kinda sp ...",
           "https://www.instagram.com/p/C6I90b8NqaL/"
          ],
          [
           "Colour psychology plays a huge role in branding and user experience. 🌈\n\nFor exam ...",
           "https://www.instagram.com/p/C6tH1afJA7o/"
          ],
          [
           "You are overlooking the power of having a website for getting new customers. ❌\n\n ...",
           "https://www.instagram.com/p/C6ve5TYqmGR/"
          ],
          [
           "Transforming your startup's landing page into a money-making machine is where th ...",
           "https://www.instagram.com/p/C7Qol0dh9HD/"
          ],
          [
           "🚀 Startup owners, want to know a secret?\n\nSometimes breaking the rules is the ke ...",
           "https://www.instagram.com/p/C7jMfZ9v2n3/"
          ],
          [
           "It’s not enough anymore to just have a pretty website. ✨\n\nA nice-looking website ...",
           "https://www.instagram.com/p/C71OFQlKYX6/"
          ],
          [
           "There are so many web agencies available for you to consider. Soooo many … 😵‍💫\n\n ...",
           "https://www.instagram.com/p/C73y17ogfb5/"
          ],
          [
           "Ever think you need a huge team to succeed? Think again. 😉\n\nHere are 5 lessons I ...",
           "https://www.instagram.com/p/C8Y8nxtKAgM/"
          ],
          [
           "Bigger teams mean bigger budgets—cut the excess. 🚫\n\nHere are my top 7 tools that ...",
           "https://www.instagram.com/p/C864wSwuXRG/"
          ],
          [
           "Ready to get more paying customers in only 5 days? 🚀 \n\nJust for you busy founder ...",
           "https://www.instagram.com/p/C89Ks_DOxEM/"
          ],
          [
           "What happens when you book a free discovery call with me? 🤔💭\n\nI love when I can  ...",
           "https://www.instagram.com/p/C9jugIfPIKm/"
          ],
          [
           "Looking pretty is overrated. 🙄\n\nA clean, straightforward design helps visitors f ...",
           "https://www.instagram.com/p/C-FM1Q0tnDU/"
          ],
          [
           "Pain = discipline is overrated. 😕\n\nA study by Harvard Business School, “The Powe ...",
           "https://www.instagram.com/p/C-4zlvUPfyJ/"
          ],
          [
           "The digital world moves rapidly. 🏎️\n\nWithout regular testing and optimisation, y ...",
           "https://www.instagram.com/p/C_Ng3OLCn1r/"
          ],
          [
           "I help businesses double their revenue in 7 days. ⌛\n\nThe magic is in making thei ...",
           "https://www.instagram.com/p/C_hrvPmKsUK/"
          ],
          [
           "Your call-to-action (CTA) can make or break your revenue model. 💸\n\nIt's super im ...",
           "https://www.instagram.com/p/C_kr_zaBfTw/"
          ],
          [
           "You don’t need to be experienced to do a CRO audit on your own website.\n\nSave th ...",
           "https://www.instagram.com/p/C_xlwfzsN6Y/"
          ],
          [
           "Are your web visitors converting into paying customers?\n\nIf your site isn’t opti ...",
           "https://www.instagram.com/p/DAnorKyv-K1/"
          ],
          [
           "SEO is an investment to your business’ growth, without any cost.\n\nOn-page SEO re ...",
           "https://www.instagram.com/p/DA53_x-INAu/"
          ],
          [
           "Let’s take a break from the nerdy technical side of websites.\n\nAll websites cont ...",
           "https://www.instagram.com/p/DBOQmZGP5ZU/"
          ],
          [
           "For the past month, I’ve been exploring boosting my agency website’s own convers ...",
           "https://www.instagram.com/p/DBgmuP3MDMz/"
          ],
          [
           "Customers crave simplicity.\n\nThey want solutions served up on a silver platter,  ...",
           "https://www.instagram.com/p/DCCFGdNhxD0/"
          ],
          [
           "Your baby will outgrow her tiny shirt over time.\n\nBut we’re not talking about ba ...",
           "https://www.instagram.com/p/DCOoc_nIRti/"
          ],
          [
           "Let’s be real—generic CRO tips don’t cut it for tech startups anymore.\n\n“Make yo ...",
           "https://www.instagram.com/p/DCTyCKDxaF8/"
          ],
          [
           "4.88 billion people in the world own a mobile phone.\n\nThat’s about 61% of the wo ...",
           "https://www.instagram.com/p/DCoYZboP3Rm/"
          ],
          [
           "Your landing page is your silent salesperson.\n\nIt can either be a money drainer, ...",
           "https://www.instagram.com/p/DC6Z97LJ0mi/"
          ],
          [
           "\"SEO is so complicated.\"\n\nI hear this from startup founders all the time, but he ...",
           "https://www.instagram.com/p/DDPU8QUPq7e/"
          ],
          [
           "Your customers are not stupid. They can tell if you’re selling trash.\n\nYour job  ...",
           "https://www.instagram.com/p/DDcM7TftHAw/"
          ],
          [
           "SEO !!!\n\nBy now, you should know what it stands for (Search Engine Optimization) ...",
           "https://www.instagram.com/p/DDt55NmCzkg/"
          ],
          [
           "Monkey see, monkey do.\n\nRemember that when you’re thinking about how to make str ...",
           "https://www.instagram.com/p/DEAJLdaBKla/"
          ]
         ],
         "hovertemplate": "%{y}<br>Date: %{x}<br>Desc: %{customdata[0]}<br>Link: %{customdata[1]}",
         "legendgroup": "follows",
         "line": {
          "color": "#ab63fa",
          "dash": "solid"
         },
         "marker": {
          "symbol": "circle"
         },
         "mode": "lines",
         "name": "follows",
         "orientation": "v",
         "showlegend": true,
         "type": "scatter",
         "x": [
          "2024-01-17",
          "2024-01-22",
          "2024-02-15",
          "2024-02-22",
          "2024-02-27",
          "2024-03-21",
          "2024-03-22",
          "2024-03-27",
          "2024-04-04",
          "2024-04-10",
          "2024-04-18",
          "2024-04-24",
          "2024-05-08",
          "2024-05-09",
          "2024-05-21",
          "2024-05-29",
          "2024-06-05",
          "2024-06-06",
          "2024-06-19",
          "2024-07-02",
          "2024-07-03",
          "2024-07-18",
          "2024-07-31",
          "2024-08-20",
          "2024-08-28",
          "2024-09-05",
          "2024-09-06",
          "2024-09-11",
          "2024-10-02",
          "2024-10-09",
          "2024-10-17",
          "2024-10-24",
          "2024-11-06",
          "2024-11-11",
          "2024-11-13",
          "2024-11-21",
          "2024-11-28",
          "2024-12-06",
          "2024-12-11",
          "2024-12-18",
          "2024-12-25"
         ],
         "xaxis": "x",
         "y": [
          0,
          0,
          1,
          0,
          0,
          0,
          0,
          0,
          0,
          0,
          0,
          0,
          0,
          0,
          0,
          0,
          0,
          0,
          0,
          0,
          0,
          0,
          0,
          0,
          0,
          0,
          0,
          0,
          0,
          0,
          0,
          0,
          0,
          0,
          0,
          0,
          0,
          0,
          0,
          0,
          0
         ],
         "yaxis": "y"
        },
        {
         "customdata": [
          [
           "Tired of staring at a website that's about as exciting as a spreadsheet on Monda ...",
           "https://www.instagram.com/p/C2NItfGP8Nt/"
          ],
          [
           "Stop using your website wrongly and start using it as a powerful tool to generat ...",
           "https://www.instagram.com/p/C2bNxJXupRP/"
          ],
          [
           "Keywords are like spices in a dish—important, but not the whole meal! 🍗\n\nTrue SE ...",
           "https://www.instagram.com/p/C3XS_-9h7XD/"
          ],
          [
           "Don't let bad design be your startup's kryptonite 😓\n\nGet ready for a post FULL o ...",
           "https://www.instagram.com/p/C3pwBHttVO0/"
          ],
          [
           "Struggling with web design? 😵\n\nThese 3 tools can help ANYONE create a user-frien ...",
           "https://www.instagram.com/p/C32Mf4QrhdX/"
          ],
          [
           "I help ASEAN startups unlock explosive reach online with web design. 📈\n\nLumitics ...",
           "https://www.instagram.com/p/C4xaxC0CAkj/"
          ],
          [
           "Why hire a web designer when you can build the website yourself? 😉\n\nHere are my  ...",
           "https://www.instagram.com/p/C4z_mcTP8HG/"
          ],
          [
           "No one tells you about how BORING it is to maintain a business. 💤\n\nThe most exci ...",
           "https://www.instagram.com/p/C5BZ5bAIkrC/"
          ],
          [
           "I've noticed a huge reason why tech startups struggle. 🔍\n\nIt's because their web ...",
           "https://www.instagram.com/p/C5Vd7j3rPZF/"
          ],
          [
           "CASE STUDY: I always thought making a website user-friendly was just about makin ...",
           "https://www.instagram.com/p/C5lIbuDNkpD/"
          ],
          [
           "STOP SHOUTING INTO THE VOID! 🗣️\n\nIs your website driving crickets instead of con ...",
           "https://www.instagram.com/p/C55aLNLse9O/"
          ],
          [
           "Web designers? They're a whole different breed now. 🖥️\n\nHonestly, I was kinda sp ...",
           "https://www.instagram.com/p/C6I90b8NqaL/"
          ],
          [
           "Colour psychology plays a huge role in branding and user experience. 🌈\n\nFor exam ...",
           "https://www.instagram.com/p/C6tH1afJA7o/"
          ],
          [
           "You are overlooking the power of having a website for getting new customers. ❌\n\n ...",
           "https://www.instagram.com/p/C6ve5TYqmGR/"
          ],
          [
           "Transforming your startup's landing page into a money-making machine is where th ...",
           "https://www.instagram.com/p/C7Qol0dh9HD/"
          ],
          [
           "🚀 Startup owners, want to know a secret?\n\nSometimes breaking the rules is the ke ...",
           "https://www.instagram.com/p/C7jMfZ9v2n3/"
          ],
          [
           "It’s not enough anymore to just have a pretty website. ✨\n\nA nice-looking website ...",
           "https://www.instagram.com/p/C71OFQlKYX6/"
          ],
          [
           "There are so many web agencies available for you to consider. Soooo many … 😵‍💫\n\n ...",
           "https://www.instagram.com/p/C73y17ogfb5/"
          ],
          [
           "Ever think you need a huge team to succeed? Think again. 😉\n\nHere are 5 lessons I ...",
           "https://www.instagram.com/p/C8Y8nxtKAgM/"
          ],
          [
           "Bigger teams mean bigger budgets—cut the excess. 🚫\n\nHere are my top 7 tools that ...",
           "https://www.instagram.com/p/C864wSwuXRG/"
          ],
          [
           "Ready to get more paying customers in only 5 days? 🚀 \n\nJust for you busy founder ...",
           "https://www.instagram.com/p/C89Ks_DOxEM/"
          ],
          [
           "What happens when you book a free discovery call with me? 🤔💭\n\nI love when I can  ...",
           "https://www.instagram.com/p/C9jugIfPIKm/"
          ],
          [
           "Looking pretty is overrated. 🙄\n\nA clean, straightforward design helps visitors f ...",
           "https://www.instagram.com/p/C-FM1Q0tnDU/"
          ],
          [
           "Pain = discipline is overrated. 😕\n\nA study by Harvard Business School, “The Powe ...",
           "https://www.instagram.com/p/C-4zlvUPfyJ/"
          ],
          [
           "The digital world moves rapidly. 🏎️\n\nWithout regular testing and optimisation, y ...",
           "https://www.instagram.com/p/C_Ng3OLCn1r/"
          ],
          [
           "I help businesses double their revenue in 7 days. ⌛\n\nThe magic is in making thei ...",
           "https://www.instagram.com/p/C_hrvPmKsUK/"
          ],
          [
           "Your call-to-action (CTA) can make or break your revenue model. 💸\n\nIt's super im ...",
           "https://www.instagram.com/p/C_kr_zaBfTw/"
          ],
          [
           "You don’t need to be experienced to do a CRO audit on your own website.\n\nSave th ...",
           "https://www.instagram.com/p/C_xlwfzsN6Y/"
          ],
          [
           "Are your web visitors converting into paying customers?\n\nIf your site isn’t opti ...",
           "https://www.instagram.com/p/DAnorKyv-K1/"
          ],
          [
           "SEO is an investment to your business’ growth, without any cost.\n\nOn-page SEO re ...",
           "https://www.instagram.com/p/DA53_x-INAu/"
          ],
          [
           "Let’s take a break from the nerdy technical side of websites.\n\nAll websites cont ...",
           "https://www.instagram.com/p/DBOQmZGP5ZU/"
          ],
          [
           "For the past month, I’ve been exploring boosting my agency website’s own convers ...",
           "https://www.instagram.com/p/DBgmuP3MDMz/"
          ],
          [
           "Customers crave simplicity.\n\nThey want solutions served up on a silver platter,  ...",
           "https://www.instagram.com/p/DCCFGdNhxD0/"
          ],
          [
           "Your baby will outgrow her tiny shirt over time.\n\nBut we’re not talking about ba ...",
           "https://www.instagram.com/p/DCOoc_nIRti/"
          ],
          [
           "Let’s be real—generic CRO tips don’t cut it for tech startups anymore.\n\n“Make yo ...",
           "https://www.instagram.com/p/DCTyCKDxaF8/"
          ],
          [
           "4.88 billion people in the world own a mobile phone.\n\nThat’s about 61% of the wo ...",
           "https://www.instagram.com/p/DCoYZboP3Rm/"
          ],
          [
           "Your landing page is your silent salesperson.\n\nIt can either be a money drainer, ...",
           "https://www.instagram.com/p/DC6Z97LJ0mi/"
          ],
          [
           "\"SEO is so complicated.\"\n\nI hear this from startup founders all the time, but he ...",
           "https://www.instagram.com/p/DDPU8QUPq7e/"
          ],
          [
           "Your customers are not stupid. They can tell if you’re selling trash.\n\nYour job  ...",
           "https://www.instagram.com/p/DDcM7TftHAw/"
          ],
          [
           "SEO !!!\n\nBy now, you should know what it stands for (Search Engine Optimization) ...",
           "https://www.instagram.com/p/DDt55NmCzkg/"
          ],
          [
           "Monkey see, monkey do.\n\nRemember that when you’re thinking about how to make str ...",
           "https://www.instagram.com/p/DEAJLdaBKla/"
          ]
         ],
         "hovertemplate": "%{y}<br>Date: %{x}<br>Desc: %{customdata[0]}<br>Link: %{customdata[1]}",
         "legendgroup": "likes",
         "line": {
          "color": "#FFA15A",
          "dash": "solid"
         },
         "marker": {
          "symbol": "circle"
         },
         "mode": "lines",
         "name": "likes",
         "orientation": "v",
         "showlegend": true,
         "type": "scatter",
         "x": [
          "2024-01-17",
          "2024-01-22",
          "2024-02-15",
          "2024-02-22",
          "2024-02-27",
          "2024-03-21",
          "2024-03-22",
          "2024-03-27",
          "2024-04-04",
          "2024-04-10",
          "2024-04-18",
          "2024-04-24",
          "2024-05-08",
          "2024-05-09",
          "2024-05-21",
          "2024-05-29",
          "2024-06-05",
          "2024-06-06",
          "2024-06-19",
          "2024-07-02",
          "2024-07-03",
          "2024-07-18",
          "2024-07-31",
          "2024-08-20",
          "2024-08-28",
          "2024-09-05",
          "2024-09-06",
          "2024-09-11",
          "2024-10-02",
          "2024-10-09",
          "2024-10-17",
          "2024-10-24",
          "2024-11-06",
          "2024-11-11",
          "2024-11-13",
          "2024-11-21",
          "2024-11-28",
          "2024-12-06",
          "2024-12-11",
          "2024-12-18",
          "2024-12-25"
         ],
         "xaxis": "x",
         "y": [
          10,
          8,
          12,
          7,
          9,
          11,
          10,
          9,
          3,
          3,
          5,
          5,
          4,
          2,
          3,
          3,
          6,
          4,
          4,
          7,
          2,
          7,
          5,
          6,
          7,
          3,
          9,
          5,
          4,
          5,
          4,
          6,
          4,
          4,
          2,
          3,
          7,
          4,
          4,
          4,
          3
         ],
         "yaxis": "y"
        }
       ],
       "layout": {
        "height": 600,
        "hovermode": "x unified",
        "legend": {
         "title": {
          "text": "Metrics"
         },
         "tracegroupgap": 0
        },
        "template": {
         "data": {
          "bar": [
           {
            "error_x": {
             "color": "#2a3f5f"
            },
            "error_y": {
             "color": "#2a3f5f"
            },
            "marker": {
             "line": {
              "color": "#E5ECF6",
              "width": 0.5
             },
             "pattern": {
              "fillmode": "overlay",
              "size": 10,
              "solidity": 0.2
             }
            },
            "type": "bar"
           }
          ],
          "barpolar": [
           {
            "marker": {
             "line": {
              "color": "#E5ECF6",
              "width": 0.5
             },
             "pattern": {
              "fillmode": "overlay",
              "size": 10,
              "solidity": 0.2
             }
            },
            "type": "barpolar"
           }
          ],
          "carpet": [
           {
            "aaxis": {
             "endlinecolor": "#2a3f5f",
             "gridcolor": "white",
             "linecolor": "white",
             "minorgridcolor": "white",
             "startlinecolor": "#2a3f5f"
            },
            "baxis": {
             "endlinecolor": "#2a3f5f",
             "gridcolor": "white",
             "linecolor": "white",
             "minorgridcolor": "white",
             "startlinecolor": "#2a3f5f"
            },
            "type": "carpet"
           }
          ],
          "choropleth": [
           {
            "colorbar": {
             "outlinewidth": 0,
             "ticks": ""
            },
            "type": "choropleth"
           }
          ],
          "contour": [
           {
            "colorbar": {
             "outlinewidth": 0,
             "ticks": ""
            },
            "colorscale": [
             [
              0,
              "#0d0887"
             ],
             [
              0.1111111111111111,
              "#46039f"
             ],
             [
              0.2222222222222222,
              "#7201a8"
             ],
             [
              0.3333333333333333,
              "#9c179e"
             ],
             [
              0.4444444444444444,
              "#bd3786"
             ],
             [
              0.5555555555555556,
              "#d8576b"
             ],
             [
              0.6666666666666666,
              "#ed7953"
             ],
             [
              0.7777777777777778,
              "#fb9f3a"
             ],
             [
              0.8888888888888888,
              "#fdca26"
             ],
             [
              1,
              "#f0f921"
             ]
            ],
            "type": "contour"
           }
          ],
          "contourcarpet": [
           {
            "colorbar": {
             "outlinewidth": 0,
             "ticks": ""
            },
            "type": "contourcarpet"
           }
          ],
          "heatmap": [
           {
            "colorbar": {
             "outlinewidth": 0,
             "ticks": ""
            },
            "colorscale": [
             [
              0,
              "#0d0887"
             ],
             [
              0.1111111111111111,
              "#46039f"
             ],
             [
              0.2222222222222222,
              "#7201a8"
             ],
             [
              0.3333333333333333,
              "#9c179e"
             ],
             [
              0.4444444444444444,
              "#bd3786"
             ],
             [
              0.5555555555555556,
              "#d8576b"
             ],
             [
              0.6666666666666666,
              "#ed7953"
             ],
             [
              0.7777777777777778,
              "#fb9f3a"
             ],
             [
              0.8888888888888888,
              "#fdca26"
             ],
             [
              1,
              "#f0f921"
             ]
            ],
            "type": "heatmap"
           }
          ],
          "heatmapgl": [
           {
            "colorbar": {
             "outlinewidth": 0,
             "ticks": ""
            },
            "colorscale": [
             [
              0,
              "#0d0887"
             ],
             [
              0.1111111111111111,
              "#46039f"
             ],
             [
              0.2222222222222222,
              "#7201a8"
             ],
             [
              0.3333333333333333,
              "#9c179e"
             ],
             [
              0.4444444444444444,
              "#bd3786"
             ],
             [
              0.5555555555555556,
              "#d8576b"
             ],
             [
              0.6666666666666666,
              "#ed7953"
             ],
             [
              0.7777777777777778,
              "#fb9f3a"
             ],
             [
              0.8888888888888888,
              "#fdca26"
             ],
             [
              1,
              "#f0f921"
             ]
            ],
            "type": "heatmapgl"
           }
          ],
          "histogram": [
           {
            "marker": {
             "pattern": {
              "fillmode": "overlay",
              "size": 10,
              "solidity": 0.2
             }
            },
            "type": "histogram"
           }
          ],
          "histogram2d": [
           {
            "colorbar": {
             "outlinewidth": 0,
             "ticks": ""
            },
            "colorscale": [
             [
              0,
              "#0d0887"
             ],
             [
              0.1111111111111111,
              "#46039f"
             ],
             [
              0.2222222222222222,
              "#7201a8"
             ],
             [
              0.3333333333333333,
              "#9c179e"
             ],
             [
              0.4444444444444444,
              "#bd3786"
             ],
             [
              0.5555555555555556,
              "#d8576b"
             ],
             [
              0.6666666666666666,
              "#ed7953"
             ],
             [
              0.7777777777777778,
              "#fb9f3a"
             ],
             [
              0.8888888888888888,
              "#fdca26"
             ],
             [
              1,
              "#f0f921"
             ]
            ],
            "type": "histogram2d"
           }
          ],
          "histogram2dcontour": [
           {
            "colorbar": {
             "outlinewidth": 0,
             "ticks": ""
            },
            "colorscale": [
             [
              0,
              "#0d0887"
             ],
             [
              0.1111111111111111,
              "#46039f"
             ],
             [
              0.2222222222222222,
              "#7201a8"
             ],
             [
              0.3333333333333333,
              "#9c179e"
             ],
             [
              0.4444444444444444,
              "#bd3786"
             ],
             [
              0.5555555555555556,
              "#d8576b"
             ],
             [
              0.6666666666666666,
              "#ed7953"
             ],
             [
              0.7777777777777778,
              "#fb9f3a"
             ],
             [
              0.8888888888888888,
              "#fdca26"
             ],
             [
              1,
              "#f0f921"
             ]
            ],
            "type": "histogram2dcontour"
           }
          ],
          "mesh3d": [
           {
            "colorbar": {
             "outlinewidth": 0,
             "ticks": ""
            },
            "type": "mesh3d"
           }
          ],
          "parcoords": [
           {
            "line": {
             "colorbar": {
              "outlinewidth": 0,
              "ticks": ""
             }
            },
            "type": "parcoords"
           }
          ],
          "pie": [
           {
            "automargin": true,
            "type": "pie"
           }
          ],
          "scatter": [
           {
            "fillpattern": {
             "fillmode": "overlay",
             "size": 10,
             "solidity": 0.2
            },
            "type": "scatter"
           }
          ],
          "scatter3d": [
           {
            "line": {
             "colorbar": {
              "outlinewidth": 0,
              "ticks": ""
             }
            },
            "marker": {
             "colorbar": {
              "outlinewidth": 0,
              "ticks": ""
             }
            },
            "type": "scatter3d"
           }
          ],
          "scattercarpet": [
           {
            "marker": {
             "colorbar": {
              "outlinewidth": 0,
              "ticks": ""
             }
            },
            "type": "scattercarpet"
           }
          ],
          "scattergeo": [
           {
            "marker": {
             "colorbar": {
              "outlinewidth": 0,
              "ticks": ""
             }
            },
            "type": "scattergeo"
           }
          ],
          "scattergl": [
           {
            "marker": {
             "colorbar": {
              "outlinewidth": 0,
              "ticks": ""
             }
            },
            "type": "scattergl"
           }
          ],
          "scattermapbox": [
           {
            "marker": {
             "colorbar": {
              "outlinewidth": 0,
              "ticks": ""
             }
            },
            "type": "scattermapbox"
           }
          ],
          "scatterpolar": [
           {
            "marker": {
             "colorbar": {
              "outlinewidth": 0,
              "ticks": ""
             }
            },
            "type": "scatterpolar"
           }
          ],
          "scatterpolargl": [
           {
            "marker": {
             "colorbar": {
              "outlinewidth": 0,
              "ticks": ""
             }
            },
            "type": "scatterpolargl"
           }
          ],
          "scatterternary": [
           {
            "marker": {
             "colorbar": {
              "outlinewidth": 0,
              "ticks": ""
             }
            },
            "type": "scatterternary"
           }
          ],
          "surface": [
           {
            "colorbar": {
             "outlinewidth": 0,
             "ticks": ""
            },
            "colorscale": [
             [
              0,
              "#0d0887"
             ],
             [
              0.1111111111111111,
              "#46039f"
             ],
             [
              0.2222222222222222,
              "#7201a8"
             ],
             [
              0.3333333333333333,
              "#9c179e"
             ],
             [
              0.4444444444444444,
              "#bd3786"
             ],
             [
              0.5555555555555556,
              "#d8576b"
             ],
             [
              0.6666666666666666,
              "#ed7953"
             ],
             [
              0.7777777777777778,
              "#fb9f3a"
             ],
             [
              0.8888888888888888,
              "#fdca26"
             ],
             [
              1,
              "#f0f921"
             ]
            ],
            "type": "surface"
           }
          ],
          "table": [
           {
            "cells": {
             "fill": {
              "color": "#EBF0F8"
             },
             "line": {
              "color": "white"
             }
            },
            "header": {
             "fill": {
              "color": "#C8D4E3"
             },
             "line": {
              "color": "white"
             }
            },
            "type": "table"
           }
          ]
         },
         "layout": {
          "annotationdefaults": {
           "arrowcolor": "#2a3f5f",
           "arrowhead": 0,
           "arrowwidth": 1
          },
          "autotypenumbers": "strict",
          "coloraxis": {
           "colorbar": {
            "outlinewidth": 0,
            "ticks": ""
           }
          },
          "colorscale": {
           "diverging": [
            [
             0,
             "#8e0152"
            ],
            [
             0.1,
             "#c51b7d"
            ],
            [
             0.2,
             "#de77ae"
            ],
            [
             0.3,
             "#f1b6da"
            ],
            [
             0.4,
             "#fde0ef"
            ],
            [
             0.5,
             "#f7f7f7"
            ],
            [
             0.6,
             "#e6f5d0"
            ],
            [
             0.7,
             "#b8e186"
            ],
            [
             0.8,
             "#7fbc41"
            ],
            [
             0.9,
             "#4d9221"
            ],
            [
             1,
             "#276419"
            ]
           ],
           "sequential": [
            [
             0,
             "#0d0887"
            ],
            [
             0.1111111111111111,
             "#46039f"
            ],
            [
             0.2222222222222222,
             "#7201a8"
            ],
            [
             0.3333333333333333,
             "#9c179e"
            ],
            [
             0.4444444444444444,
             "#bd3786"
            ],
            [
             0.5555555555555556,
             "#d8576b"
            ],
            [
             0.6666666666666666,
             "#ed7953"
            ],
            [
             0.7777777777777778,
             "#fb9f3a"
            ],
            [
             0.8888888888888888,
             "#fdca26"
            ],
            [
             1,
             "#f0f921"
            ]
           ],
           "sequentialminus": [
            [
             0,
             "#0d0887"
            ],
            [
             0.1111111111111111,
             "#46039f"
            ],
            [
             0.2222222222222222,
             "#7201a8"
            ],
            [
             0.3333333333333333,
             "#9c179e"
            ],
            [
             0.4444444444444444,
             "#bd3786"
            ],
            [
             0.5555555555555556,
             "#d8576b"
            ],
            [
             0.6666666666666666,
             "#ed7953"
            ],
            [
             0.7777777777777778,
             "#fb9f3a"
            ],
            [
             0.8888888888888888,
             "#fdca26"
            ],
            [
             1,
             "#f0f921"
            ]
           ]
          },
          "colorway": [
           "#636efa",
           "#EF553B",
           "#00cc96",
           "#ab63fa",
           "#FFA15A",
           "#19d3f3",
           "#FF6692",
           "#B6E880",
           "#FF97FF",
           "#FECB52"
          ],
          "font": {
           "color": "#2a3f5f"
          },
          "geo": {
           "bgcolor": "white",
           "lakecolor": "white",
           "landcolor": "#E5ECF6",
           "showlakes": true,
           "showland": true,
           "subunitcolor": "white"
          },
          "hoverlabel": {
           "align": "left"
          },
          "hovermode": "closest",
          "mapbox": {
           "style": "light"
          },
          "paper_bgcolor": "white",
          "plot_bgcolor": "#E5ECF6",
          "polar": {
           "angularaxis": {
            "gridcolor": "white",
            "linecolor": "white",
            "ticks": ""
           },
           "bgcolor": "#E5ECF6",
           "radialaxis": {
            "gridcolor": "white",
            "linecolor": "white",
            "ticks": ""
           }
          },
          "scene": {
           "xaxis": {
            "backgroundcolor": "#E5ECF6",
            "gridcolor": "white",
            "gridwidth": 2,
            "linecolor": "white",
            "showbackground": true,
            "ticks": "",
            "zerolinecolor": "white"
           },
           "yaxis": {
            "backgroundcolor": "#E5ECF6",
            "gridcolor": "white",
            "gridwidth": 2,
            "linecolor": "white",
            "showbackground": true,
            "ticks": "",
            "zerolinecolor": "white"
           },
           "zaxis": {
            "backgroundcolor": "#E5ECF6",
            "gridcolor": "white",
            "gridwidth": 2,
            "linecolor": "white",
            "showbackground": true,
            "ticks": "",
            "zerolinecolor": "white"
           }
          },
          "shapedefaults": {
           "line": {
            "color": "#2a3f5f"
           }
          },
          "ternary": {
           "aaxis": {
            "gridcolor": "white",
            "linecolor": "white",
            "ticks": ""
           },
           "baxis": {
            "gridcolor": "white",
            "linecolor": "white",
            "ticks": ""
           },
           "bgcolor": "#E5ECF6",
           "caxis": {
            "gridcolor": "white",
            "linecolor": "white",
            "ticks": ""
           }
          },
          "title": {
           "x": 0.05
          },
          "xaxis": {
           "automargin": true,
           "gridcolor": "white",
           "linecolor": "white",
           "ticks": "",
           "title": {
            "standoff": 15
           },
           "zerolinecolor": "white",
           "zerolinewidth": 2
          },
          "yaxis": {
           "automargin": true,
           "gridcolor": "white",
           "linecolor": "white",
           "ticks": "",
           "title": {
            "standoff": 15
           },
           "zerolinecolor": "white",
           "zerolinewidth": 2
          }
         }
        },
        "title": {
         "text": "Performance of CAROUSEL Posts on Instagram (@nadraqamaria)"
        },
        "width": 1100,
        "xaxis": {
         "anchor": "y",
         "domain": [
          0,
          1
         ],
         "title": {
          "text": "Date posted"
         }
        },
        "yaxis": {
         "anchor": "x",
         "domain": [
          0,
          1
         ],
         "title": {
          "text": "Metrics"
         }
        }
       }
      },
      "text/html": [
       "<div>                            <div id=\"919b108b-cab2-4cd6-bb51-d32507bfa81e\" class=\"plotly-graph-div\" style=\"height:600px; width:1100px;\"></div>            <script type=\"text/javascript\">                require([\"plotly\"], function(Plotly) {                    window.PLOTLYENV=window.PLOTLYENV || {};                                    if (document.getElementById(\"919b108b-cab2-4cd6-bb51-d32507bfa81e\")) {                    Plotly.newPlot(                        \"919b108b-cab2-4cd6-bb51-d32507bfa81e\",                        [{\"customdata\":[[\"Tired of staring at a website that's about as exciting as a spreadsheet on Monda ...\",\"https:\\u002f\\u002fwww.instagram.com\\u002fp\\u002fC2NItfGP8Nt\\u002f\"],[\"Stop using your website wrongly and start using it as a powerful tool to generat ...\",\"https:\\u002f\\u002fwww.instagram.com\\u002fp\\u002fC2bNxJXupRP\\u002f\"],[\"Keywords are like spices in a dish\\u2014important, but not the whole meal! \\ud83c\\udf57\\n\\nTrue SE ...\",\"https:\\u002f\\u002fwww.instagram.com\\u002fp\\u002fC3XS_-9h7XD\\u002f\"],[\"Don't let bad design be your startup's kryptonite \\ud83d\\ude13\\n\\nGet ready for a post FULL o ...\",\"https:\\u002f\\u002fwww.instagram.com\\u002fp\\u002fC3pwBHttVO0\\u002f\"],[\"Struggling with web design? \\ud83d\\ude35\\n\\nThese 3 tools can help ANYONE create a user-frien ...\",\"https:\\u002f\\u002fwww.instagram.com\\u002fp\\u002fC32Mf4QrhdX\\u002f\"],[\"I help ASEAN startups unlock explosive reach online with web design. \\ud83d\\udcc8\\n\\nLumitics ...\",\"https:\\u002f\\u002fwww.instagram.com\\u002fp\\u002fC4xaxC0CAkj\\u002f\"],[\"Why hire a web designer when you can build the website yourself? \\ud83d\\ude09\\n\\nHere are my  ...\",\"https:\\u002f\\u002fwww.instagram.com\\u002fp\\u002fC4z_mcTP8HG\\u002f\"],[\"No one tells you about how BORING it is to maintain a business. \\ud83d\\udca4\\n\\nThe most exci ...\",\"https:\\u002f\\u002fwww.instagram.com\\u002fp\\u002fC5BZ5bAIkrC\\u002f\"],[\"I've noticed a huge reason why tech startups struggle. \\ud83d\\udd0d\\n\\nIt's because their web ...\",\"https:\\u002f\\u002fwww.instagram.com\\u002fp\\u002fC5Vd7j3rPZF\\u002f\"],[\"CASE STUDY: I always thought making a website user-friendly was just about makin ...\",\"https:\\u002f\\u002fwww.instagram.com\\u002fp\\u002fC5lIbuDNkpD\\u002f\"],[\"STOP SHOUTING INTO THE VOID! \\ud83d\\udde3\\ufe0f\\n\\nIs your website driving crickets instead of con ...\",\"https:\\u002f\\u002fwww.instagram.com\\u002fp\\u002fC55aLNLse9O\\u002f\"],[\"Web designers? They're a whole different breed now. \\ud83d\\udda5\\ufe0f\\n\\nHonestly, I was kinda sp ...\",\"https:\\u002f\\u002fwww.instagram.com\\u002fp\\u002fC6I90b8NqaL\\u002f\"],[\"Colour psychology plays a huge role in branding and user experience. \\ud83c\\udf08\\n\\nFor exam ...\",\"https:\\u002f\\u002fwww.instagram.com\\u002fp\\u002fC6tH1afJA7o\\u002f\"],[\"You are overlooking the power of having a website for getting new customers. \\u274c\\n\\n ...\",\"https:\\u002f\\u002fwww.instagram.com\\u002fp\\u002fC6ve5TYqmGR\\u002f\"],[\"Transforming your startup's landing page into a money-making machine is where th ...\",\"https:\\u002f\\u002fwww.instagram.com\\u002fp\\u002fC7Qol0dh9HD\\u002f\"],[\"\\ud83d\\ude80 Startup owners, want to know a secret?\\n\\nSometimes breaking the rules is the ke ...\",\"https:\\u002f\\u002fwww.instagram.com\\u002fp\\u002fC7jMfZ9v2n3\\u002f\"],[\"It\\u2019s not enough anymore to just have a pretty website. \\u2728\\n\\nA nice-looking website ...\",\"https:\\u002f\\u002fwww.instagram.com\\u002fp\\u002fC71OFQlKYX6\\u002f\"],[\"There are so many web agencies available for you to consider. Soooo many \\u2026 \\ud83d\\ude35\\u200d\\ud83d\\udcab\\n\\n ...\",\"https:\\u002f\\u002fwww.instagram.com\\u002fp\\u002fC73y17ogfb5\\u002f\"],[\"Ever think you need a huge team to succeed? Think again. \\ud83d\\ude09\\n\\nHere are 5 lessons I ...\",\"https:\\u002f\\u002fwww.instagram.com\\u002fp\\u002fC8Y8nxtKAgM\\u002f\"],[\"Bigger teams mean bigger budgets\\u2014cut the excess. \\ud83d\\udeab\\n\\nHere are my top 7 tools that ...\",\"https:\\u002f\\u002fwww.instagram.com\\u002fp\\u002fC864wSwuXRG\\u002f\"],[\"Ready to get more paying customers in only 5 days? \\ud83d\\ude80 \\n\\nJust for you busy founder ...\",\"https:\\u002f\\u002fwww.instagram.com\\u002fp\\u002fC89Ks_DOxEM\\u002f\"],[\"What happens when you book a free discovery call with me? \\ud83e\\udd14\\ud83d\\udcad\\n\\nI love when I can  ...\",\"https:\\u002f\\u002fwww.instagram.com\\u002fp\\u002fC9jugIfPIKm\\u002f\"],[\"Looking pretty is overrated. \\ud83d\\ude44\\n\\nA clean, straightforward design helps visitors f ...\",\"https:\\u002f\\u002fwww.instagram.com\\u002fp\\u002fC-FM1Q0tnDU\\u002f\"],[\"Pain = discipline is overrated. \\ud83d\\ude15\\n\\nA study by Harvard Business School, \\u201cThe Powe ...\",\"https:\\u002f\\u002fwww.instagram.com\\u002fp\\u002fC-4zlvUPfyJ\\u002f\"],[\"The digital world moves rapidly. \\ud83c\\udfce\\ufe0f\\n\\nWithout regular testing and optimisation, y ...\",\"https:\\u002f\\u002fwww.instagram.com\\u002fp\\u002fC_Ng3OLCn1r\\u002f\"],[\"I help businesses double their revenue in 7 days. \\u231b\\n\\nThe magic is in making thei ...\",\"https:\\u002f\\u002fwww.instagram.com\\u002fp\\u002fC_hrvPmKsUK\\u002f\"],[\"Your call-to-action (CTA) can make or break your revenue model. \\ud83d\\udcb8\\n\\nIt's super im ...\",\"https:\\u002f\\u002fwww.instagram.com\\u002fp\\u002fC_kr_zaBfTw\\u002f\"],[\"You don\\u2019t need to be experienced to do a CRO audit on your own website.\\n\\nSave th ...\",\"https:\\u002f\\u002fwww.instagram.com\\u002fp\\u002fC_xlwfzsN6Y\\u002f\"],[\"Are your web visitors converting into paying customers?\\n\\nIf your site isn\\u2019t opti ...\",\"https:\\u002f\\u002fwww.instagram.com\\u002fp\\u002fDAnorKyv-K1\\u002f\"],[\"SEO is an investment to your business\\u2019 growth, without any cost.\\n\\nOn-page SEO re ...\",\"https:\\u002f\\u002fwww.instagram.com\\u002fp\\u002fDA53_x-INAu\\u002f\"],[\"Let\\u2019s take a break from the nerdy technical side of websites.\\n\\nAll websites cont ...\",\"https:\\u002f\\u002fwww.instagram.com\\u002fp\\u002fDBOQmZGP5ZU\\u002f\"],[\"For the past month, I\\u2019ve been exploring boosting my agency website\\u2019s own convers ...\",\"https:\\u002f\\u002fwww.instagram.com\\u002fp\\u002fDBgmuP3MDMz\\u002f\"],[\"Customers crave simplicity.\\n\\nThey want solutions served up on a silver platter,  ...\",\"https:\\u002f\\u002fwww.instagram.com\\u002fp\\u002fDCCFGdNhxD0\\u002f\"],[\"Your baby will outgrow her tiny shirt over time.\\n\\nBut we\\u2019re not talking about ba ...\",\"https:\\u002f\\u002fwww.instagram.com\\u002fp\\u002fDCOoc_nIRti\\u002f\"],[\"Let\\u2019s be real\\u2014generic CRO tips don\\u2019t cut it for tech startups anymore.\\n\\n\\u201cMake yo ...\",\"https:\\u002f\\u002fwww.instagram.com\\u002fp\\u002fDCTyCKDxaF8\\u002f\"],[\"4.88 billion people in the world own a mobile phone.\\n\\nThat\\u2019s about 61% of the wo ...\",\"https:\\u002f\\u002fwww.instagram.com\\u002fp\\u002fDCoYZboP3Rm\\u002f\"],[\"Your landing page is your silent salesperson.\\n\\nIt can either be a money drainer, ...\",\"https:\\u002f\\u002fwww.instagram.com\\u002fp\\u002fDC6Z97LJ0mi\\u002f\"],[\"\\\"SEO is so complicated.\\\"\\n\\nI hear this from startup founders all the time, but he ...\",\"https:\\u002f\\u002fwww.instagram.com\\u002fp\\u002fDDPU8QUPq7e\\u002f\"],[\"Your customers are not stupid. They can tell if you\\u2019re selling trash.\\n\\nYour job  ...\",\"https:\\u002f\\u002fwww.instagram.com\\u002fp\\u002fDDcM7TftHAw\\u002f\"],[\"SEO !!!\\n\\nBy now, you should know what it stands for (Search Engine Optimization) ...\",\"https:\\u002f\\u002fwww.instagram.com\\u002fp\\u002fDDt55NmCzkg\\u002f\"],[\"Monkey see, monkey do.\\n\\nRemember that when you\\u2019re thinking about how to make str ...\",\"https:\\u002f\\u002fwww.instagram.com\\u002fp\\u002fDEAJLdaBKla\\u002f\"]],\"hovertemplate\":\"%{y}\\u003cbr\\u003eDate: %{x}\\u003cbr\\u003eDesc: %{customdata[0]}\\u003cbr\\u003eLink: %{customdata[1]}\",\"legendgroup\":\"reach\",\"line\":{\"color\":\"#636efa\",\"dash\":\"solid\"},\"marker\":{\"symbol\":\"circle\"},\"mode\":\"lines\",\"name\":\"reach\",\"orientation\":\"v\",\"showlegend\":true,\"x\":[\"2024-01-17\",\"2024-01-22\",\"2024-02-15\",\"2024-02-22\",\"2024-02-27\",\"2024-03-21\",\"2024-03-22\",\"2024-03-27\",\"2024-04-04\",\"2024-04-10\",\"2024-04-18\",\"2024-04-24\",\"2024-05-08\",\"2024-05-09\",\"2024-05-21\",\"2024-05-29\",\"2024-06-05\",\"2024-06-06\",\"2024-06-19\",\"2024-07-02\",\"2024-07-03\",\"2024-07-18\",\"2024-07-31\",\"2024-08-20\",\"2024-08-28\",\"2024-09-05\",\"2024-09-06\",\"2024-09-11\",\"2024-10-02\",\"2024-10-09\",\"2024-10-17\",\"2024-10-24\",\"2024-11-06\",\"2024-11-11\",\"2024-11-13\",\"2024-11-21\",\"2024-11-28\",\"2024-12-06\",\"2024-12-11\",\"2024-12-18\",\"2024-12-25\"],\"xaxis\":\"x\",\"y\":[147,59,56,38,40,48,47,60,99,52,40,46,50,34,40,74,36,33,39,43,35,73,35,28,29,29,35,32,33,22,21,25,20,17,17,17,19,14,13,18,13],\"yaxis\":\"y\",\"type\":\"scatter\"},{\"customdata\":[[\"Tired of staring at a website that's about as exciting as a spreadsheet on Monda ...\",\"https:\\u002f\\u002fwww.instagram.com\\u002fp\\u002fC2NItfGP8Nt\\u002f\"],[\"Stop using your website wrongly and start using it as a powerful tool to generat ...\",\"https:\\u002f\\u002fwww.instagram.com\\u002fp\\u002fC2bNxJXupRP\\u002f\"],[\"Keywords are like spices in a dish\\u2014important, but not the whole meal! \\ud83c\\udf57\\n\\nTrue SE ...\",\"https:\\u002f\\u002fwww.instagram.com\\u002fp\\u002fC3XS_-9h7XD\\u002f\"],[\"Don't let bad design be your startup's kryptonite \\ud83d\\ude13\\n\\nGet ready for a post FULL o ...\",\"https:\\u002f\\u002fwww.instagram.com\\u002fp\\u002fC3pwBHttVO0\\u002f\"],[\"Struggling with web design? \\ud83d\\ude35\\n\\nThese 3 tools can help ANYONE create a user-frien ...\",\"https:\\u002f\\u002fwww.instagram.com\\u002fp\\u002fC32Mf4QrhdX\\u002f\"],[\"I help ASEAN startups unlock explosive reach online with web design. \\ud83d\\udcc8\\n\\nLumitics ...\",\"https:\\u002f\\u002fwww.instagram.com\\u002fp\\u002fC4xaxC0CAkj\\u002f\"],[\"Why hire a web designer when you can build the website yourself? \\ud83d\\ude09\\n\\nHere are my  ...\",\"https:\\u002f\\u002fwww.instagram.com\\u002fp\\u002fC4z_mcTP8HG\\u002f\"],[\"No one tells you about how BORING it is to maintain a business. \\ud83d\\udca4\\n\\nThe most exci ...\",\"https:\\u002f\\u002fwww.instagram.com\\u002fp\\u002fC5BZ5bAIkrC\\u002f\"],[\"I've noticed a huge reason why tech startups struggle. \\ud83d\\udd0d\\n\\nIt's because their web ...\",\"https:\\u002f\\u002fwww.instagram.com\\u002fp\\u002fC5Vd7j3rPZF\\u002f\"],[\"CASE STUDY: I always thought making a website user-friendly was just about makin ...\",\"https:\\u002f\\u002fwww.instagram.com\\u002fp\\u002fC5lIbuDNkpD\\u002f\"],[\"STOP SHOUTING INTO THE VOID! \\ud83d\\udde3\\ufe0f\\n\\nIs your website driving crickets instead of con ...\",\"https:\\u002f\\u002fwww.instagram.com\\u002fp\\u002fC55aLNLse9O\\u002f\"],[\"Web designers? They're a whole different breed now. \\ud83d\\udda5\\ufe0f\\n\\nHonestly, I was kinda sp ...\",\"https:\\u002f\\u002fwww.instagram.com\\u002fp\\u002fC6I90b8NqaL\\u002f\"],[\"Colour psychology plays a huge role in branding and user experience. \\ud83c\\udf08\\n\\nFor exam ...\",\"https:\\u002f\\u002fwww.instagram.com\\u002fp\\u002fC6tH1afJA7o\\u002f\"],[\"You are overlooking the power of having a website for getting new customers. \\u274c\\n\\n ...\",\"https:\\u002f\\u002fwww.instagram.com\\u002fp\\u002fC6ve5TYqmGR\\u002f\"],[\"Transforming your startup's landing page into a money-making machine is where th ...\",\"https:\\u002f\\u002fwww.instagram.com\\u002fp\\u002fC7Qol0dh9HD\\u002f\"],[\"\\ud83d\\ude80 Startup owners, want to know a secret?\\n\\nSometimes breaking the rules is the ke ...\",\"https:\\u002f\\u002fwww.instagram.com\\u002fp\\u002fC7jMfZ9v2n3\\u002f\"],[\"It\\u2019s not enough anymore to just have a pretty website. \\u2728\\n\\nA nice-looking website ...\",\"https:\\u002f\\u002fwww.instagram.com\\u002fp\\u002fC71OFQlKYX6\\u002f\"],[\"There are so many web agencies available for you to consider. Soooo many \\u2026 \\ud83d\\ude35\\u200d\\ud83d\\udcab\\n\\n ...\",\"https:\\u002f\\u002fwww.instagram.com\\u002fp\\u002fC73y17ogfb5\\u002f\"],[\"Ever think you need a huge team to succeed? Think again. \\ud83d\\ude09\\n\\nHere are 5 lessons I ...\",\"https:\\u002f\\u002fwww.instagram.com\\u002fp\\u002fC8Y8nxtKAgM\\u002f\"],[\"Bigger teams mean bigger budgets\\u2014cut the excess. \\ud83d\\udeab\\n\\nHere are my top 7 tools that ...\",\"https:\\u002f\\u002fwww.instagram.com\\u002fp\\u002fC864wSwuXRG\\u002f\"],[\"Ready to get more paying customers in only 5 days? \\ud83d\\ude80 \\n\\nJust for you busy founder ...\",\"https:\\u002f\\u002fwww.instagram.com\\u002fp\\u002fC89Ks_DOxEM\\u002f\"],[\"What happens when you book a free discovery call with me? \\ud83e\\udd14\\ud83d\\udcad\\n\\nI love when I can  ...\",\"https:\\u002f\\u002fwww.instagram.com\\u002fp\\u002fC9jugIfPIKm\\u002f\"],[\"Looking pretty is overrated. \\ud83d\\ude44\\n\\nA clean, straightforward design helps visitors f ...\",\"https:\\u002f\\u002fwww.instagram.com\\u002fp\\u002fC-FM1Q0tnDU\\u002f\"],[\"Pain = discipline is overrated. \\ud83d\\ude15\\n\\nA study by Harvard Business School, \\u201cThe Powe ...\",\"https:\\u002f\\u002fwww.instagram.com\\u002fp\\u002fC-4zlvUPfyJ\\u002f\"],[\"The digital world moves rapidly. \\ud83c\\udfce\\ufe0f\\n\\nWithout regular testing and optimisation, y ...\",\"https:\\u002f\\u002fwww.instagram.com\\u002fp\\u002fC_Ng3OLCn1r\\u002f\"],[\"I help businesses double their revenue in 7 days. \\u231b\\n\\nThe magic is in making thei ...\",\"https:\\u002f\\u002fwww.instagram.com\\u002fp\\u002fC_hrvPmKsUK\\u002f\"],[\"Your call-to-action (CTA) can make or break your revenue model. \\ud83d\\udcb8\\n\\nIt's super im ...\",\"https:\\u002f\\u002fwww.instagram.com\\u002fp\\u002fC_kr_zaBfTw\\u002f\"],[\"You don\\u2019t need to be experienced to do a CRO audit on your own website.\\n\\nSave th ...\",\"https:\\u002f\\u002fwww.instagram.com\\u002fp\\u002fC_xlwfzsN6Y\\u002f\"],[\"Are your web visitors converting into paying customers?\\n\\nIf your site isn\\u2019t opti ...\",\"https:\\u002f\\u002fwww.instagram.com\\u002fp\\u002fDAnorKyv-K1\\u002f\"],[\"SEO is an investment to your business\\u2019 growth, without any cost.\\n\\nOn-page SEO re ...\",\"https:\\u002f\\u002fwww.instagram.com\\u002fp\\u002fDA53_x-INAu\\u002f\"],[\"Let\\u2019s take a break from the nerdy technical side of websites.\\n\\nAll websites cont ...\",\"https:\\u002f\\u002fwww.instagram.com\\u002fp\\u002fDBOQmZGP5ZU\\u002f\"],[\"For the past month, I\\u2019ve been exploring boosting my agency website\\u2019s own convers ...\",\"https:\\u002f\\u002fwww.instagram.com\\u002fp\\u002fDBgmuP3MDMz\\u002f\"],[\"Customers crave simplicity.\\n\\nThey want solutions served up on a silver platter,  ...\",\"https:\\u002f\\u002fwww.instagram.com\\u002fp\\u002fDCCFGdNhxD0\\u002f\"],[\"Your baby will outgrow her tiny shirt over time.\\n\\nBut we\\u2019re not talking about ba ...\",\"https:\\u002f\\u002fwww.instagram.com\\u002fp\\u002fDCOoc_nIRti\\u002f\"],[\"Let\\u2019s be real\\u2014generic CRO tips don\\u2019t cut it for tech startups anymore.\\n\\n\\u201cMake yo ...\",\"https:\\u002f\\u002fwww.instagram.com\\u002fp\\u002fDCTyCKDxaF8\\u002f\"],[\"4.88 billion people in the world own a mobile phone.\\n\\nThat\\u2019s about 61% of the wo ...\",\"https:\\u002f\\u002fwww.instagram.com\\u002fp\\u002fDCoYZboP3Rm\\u002f\"],[\"Your landing page is your silent salesperson.\\n\\nIt can either be a money drainer, ...\",\"https:\\u002f\\u002fwww.instagram.com\\u002fp\\u002fDC6Z97LJ0mi\\u002f\"],[\"\\\"SEO is so complicated.\\\"\\n\\nI hear this from startup founders all the time, but he ...\",\"https:\\u002f\\u002fwww.instagram.com\\u002fp\\u002fDDPU8QUPq7e\\u002f\"],[\"Your customers are not stupid. They can tell if you\\u2019re selling trash.\\n\\nYour job  ...\",\"https:\\u002f\\u002fwww.instagram.com\\u002fp\\u002fDDcM7TftHAw\\u002f\"],[\"SEO !!!\\n\\nBy now, you should know what it stands for (Search Engine Optimization) ...\",\"https:\\u002f\\u002fwww.instagram.com\\u002fp\\u002fDDt55NmCzkg\\u002f\"],[\"Monkey see, monkey do.\\n\\nRemember that when you\\u2019re thinking about how to make str ...\",\"https:\\u002f\\u002fwww.instagram.com\\u002fp\\u002fDEAJLdaBKla\\u002f\"]],\"hovertemplate\":\"%{y}\\u003cbr\\u003eDate: %{x}\\u003cbr\\u003eDesc: %{customdata[0]}\\u003cbr\\u003eLink: %{customdata[1]}\",\"legendgroup\":\"comments\",\"line\":{\"color\":\"#EF553B\",\"dash\":\"solid\"},\"marker\":{\"symbol\":\"circle\"},\"mode\":\"lines\",\"name\":\"comments\",\"orientation\":\"v\",\"showlegend\":true,\"x\":[\"2024-01-17\",\"2024-01-22\",\"2024-02-15\",\"2024-02-22\",\"2024-02-27\",\"2024-03-21\",\"2024-03-22\",\"2024-03-27\",\"2024-04-04\",\"2024-04-10\",\"2024-04-18\",\"2024-04-24\",\"2024-05-08\",\"2024-05-09\",\"2024-05-21\",\"2024-05-29\",\"2024-06-05\",\"2024-06-06\",\"2024-06-19\",\"2024-07-02\",\"2024-07-03\",\"2024-07-18\",\"2024-07-31\",\"2024-08-20\",\"2024-08-28\",\"2024-09-05\",\"2024-09-06\",\"2024-09-11\",\"2024-10-02\",\"2024-10-09\",\"2024-10-17\",\"2024-10-24\",\"2024-11-06\",\"2024-11-11\",\"2024-11-13\",\"2024-11-21\",\"2024-11-28\",\"2024-12-06\",\"2024-12-11\",\"2024-12-18\",\"2024-12-25\"],\"xaxis\":\"x\",\"y\":[0,0,0,0,0,0,2,6,0,0,0,0,0,0,0,0,0,0,0,0,0,0,0,0,0,0,0,0,0,0,0,0,0,0,0,0,0,0,0,0,0],\"yaxis\":\"y\",\"type\":\"scatter\"},{\"customdata\":[[\"Tired of staring at a website that's about as exciting as a spreadsheet on Monda ...\",\"https:\\u002f\\u002fwww.instagram.com\\u002fp\\u002fC2NItfGP8Nt\\u002f\"],[\"Stop using your website wrongly and start using it as a powerful tool to generat ...\",\"https:\\u002f\\u002fwww.instagram.com\\u002fp\\u002fC2bNxJXupRP\\u002f\"],[\"Keywords are like spices in a dish\\u2014important, but not the whole meal! \\ud83c\\udf57\\n\\nTrue SE ...\",\"https:\\u002f\\u002fwww.instagram.com\\u002fp\\u002fC3XS_-9h7XD\\u002f\"],[\"Don't let bad design be your startup's kryptonite \\ud83d\\ude13\\n\\nGet ready for a post FULL o ...\",\"https:\\u002f\\u002fwww.instagram.com\\u002fp\\u002fC3pwBHttVO0\\u002f\"],[\"Struggling with web design? \\ud83d\\ude35\\n\\nThese 3 tools can help ANYONE create a user-frien ...\",\"https:\\u002f\\u002fwww.instagram.com\\u002fp\\u002fC32Mf4QrhdX\\u002f\"],[\"I help ASEAN startups unlock explosive reach online with web design. \\ud83d\\udcc8\\n\\nLumitics ...\",\"https:\\u002f\\u002fwww.instagram.com\\u002fp\\u002fC4xaxC0CAkj\\u002f\"],[\"Why hire a web designer when you can build the website yourself? \\ud83d\\ude09\\n\\nHere are my  ...\",\"https:\\u002f\\u002fwww.instagram.com\\u002fp\\u002fC4z_mcTP8HG\\u002f\"],[\"No one tells you about how BORING it is to maintain a business. \\ud83d\\udca4\\n\\nThe most exci ...\",\"https:\\u002f\\u002fwww.instagram.com\\u002fp\\u002fC5BZ5bAIkrC\\u002f\"],[\"I've noticed a huge reason why tech startups struggle. \\ud83d\\udd0d\\n\\nIt's because their web ...\",\"https:\\u002f\\u002fwww.instagram.com\\u002fp\\u002fC5Vd7j3rPZF\\u002f\"],[\"CASE STUDY: I always thought making a website user-friendly was just about makin ...\",\"https:\\u002f\\u002fwww.instagram.com\\u002fp\\u002fC5lIbuDNkpD\\u002f\"],[\"STOP SHOUTING INTO THE VOID! \\ud83d\\udde3\\ufe0f\\n\\nIs your website driving crickets instead of con ...\",\"https:\\u002f\\u002fwww.instagram.com\\u002fp\\u002fC55aLNLse9O\\u002f\"],[\"Web designers? They're a whole different breed now. \\ud83d\\udda5\\ufe0f\\n\\nHonestly, I was kinda sp ...\",\"https:\\u002f\\u002fwww.instagram.com\\u002fp\\u002fC6I90b8NqaL\\u002f\"],[\"Colour psychology plays a huge role in branding and user experience. \\ud83c\\udf08\\n\\nFor exam ...\",\"https:\\u002f\\u002fwww.instagram.com\\u002fp\\u002fC6tH1afJA7o\\u002f\"],[\"You are overlooking the power of having a website for getting new customers. \\u274c\\n\\n ...\",\"https:\\u002f\\u002fwww.instagram.com\\u002fp\\u002fC6ve5TYqmGR\\u002f\"],[\"Transforming your startup's landing page into a money-making machine is where th ...\",\"https:\\u002f\\u002fwww.instagram.com\\u002fp\\u002fC7Qol0dh9HD\\u002f\"],[\"\\ud83d\\ude80 Startup owners, want to know a secret?\\n\\nSometimes breaking the rules is the ke ...\",\"https:\\u002f\\u002fwww.instagram.com\\u002fp\\u002fC7jMfZ9v2n3\\u002f\"],[\"It\\u2019s not enough anymore to just have a pretty website. \\u2728\\n\\nA nice-looking website ...\",\"https:\\u002f\\u002fwww.instagram.com\\u002fp\\u002fC71OFQlKYX6\\u002f\"],[\"There are so many web agencies available for you to consider. Soooo many \\u2026 \\ud83d\\ude35\\u200d\\ud83d\\udcab\\n\\n ...\",\"https:\\u002f\\u002fwww.instagram.com\\u002fp\\u002fC73y17ogfb5\\u002f\"],[\"Ever think you need a huge team to succeed? Think again. \\ud83d\\ude09\\n\\nHere are 5 lessons I ...\",\"https:\\u002f\\u002fwww.instagram.com\\u002fp\\u002fC8Y8nxtKAgM\\u002f\"],[\"Bigger teams mean bigger budgets\\u2014cut the excess. \\ud83d\\udeab\\n\\nHere are my top 7 tools that ...\",\"https:\\u002f\\u002fwww.instagram.com\\u002fp\\u002fC864wSwuXRG\\u002f\"],[\"Ready to get more paying customers in only 5 days? \\ud83d\\ude80 \\n\\nJust for you busy founder ...\",\"https:\\u002f\\u002fwww.instagram.com\\u002fp\\u002fC89Ks_DOxEM\\u002f\"],[\"What happens when you book a free discovery call with me? \\ud83e\\udd14\\ud83d\\udcad\\n\\nI love when I can  ...\",\"https:\\u002f\\u002fwww.instagram.com\\u002fp\\u002fC9jugIfPIKm\\u002f\"],[\"Looking pretty is overrated. \\ud83d\\ude44\\n\\nA clean, straightforward design helps visitors f ...\",\"https:\\u002f\\u002fwww.instagram.com\\u002fp\\u002fC-FM1Q0tnDU\\u002f\"],[\"Pain = discipline is overrated. \\ud83d\\ude15\\n\\nA study by Harvard Business School, \\u201cThe Powe ...\",\"https:\\u002f\\u002fwww.instagram.com\\u002fp\\u002fC-4zlvUPfyJ\\u002f\"],[\"The digital world moves rapidly. \\ud83c\\udfce\\ufe0f\\n\\nWithout regular testing and optimisation, y ...\",\"https:\\u002f\\u002fwww.instagram.com\\u002fp\\u002fC_Ng3OLCn1r\\u002f\"],[\"I help businesses double their revenue in 7 days. \\u231b\\n\\nThe magic is in making thei ...\",\"https:\\u002f\\u002fwww.instagram.com\\u002fp\\u002fC_hrvPmKsUK\\u002f\"],[\"Your call-to-action (CTA) can make or break your revenue model. \\ud83d\\udcb8\\n\\nIt's super im ...\",\"https:\\u002f\\u002fwww.instagram.com\\u002fp\\u002fC_kr_zaBfTw\\u002f\"],[\"You don\\u2019t need to be experienced to do a CRO audit on your own website.\\n\\nSave th ...\",\"https:\\u002f\\u002fwww.instagram.com\\u002fp\\u002fC_xlwfzsN6Y\\u002f\"],[\"Are your web visitors converting into paying customers?\\n\\nIf your site isn\\u2019t opti ...\",\"https:\\u002f\\u002fwww.instagram.com\\u002fp\\u002fDAnorKyv-K1\\u002f\"],[\"SEO is an investment to your business\\u2019 growth, without any cost.\\n\\nOn-page SEO re ...\",\"https:\\u002f\\u002fwww.instagram.com\\u002fp\\u002fDA53_x-INAu\\u002f\"],[\"Let\\u2019s take a break from the nerdy technical side of websites.\\n\\nAll websites cont ...\",\"https:\\u002f\\u002fwww.instagram.com\\u002fp\\u002fDBOQmZGP5ZU\\u002f\"],[\"For the past month, I\\u2019ve been exploring boosting my agency website\\u2019s own convers ...\",\"https:\\u002f\\u002fwww.instagram.com\\u002fp\\u002fDBgmuP3MDMz\\u002f\"],[\"Customers crave simplicity.\\n\\nThey want solutions served up on a silver platter,  ...\",\"https:\\u002f\\u002fwww.instagram.com\\u002fp\\u002fDCCFGdNhxD0\\u002f\"],[\"Your baby will outgrow her tiny shirt over time.\\n\\nBut we\\u2019re not talking about ba ...\",\"https:\\u002f\\u002fwww.instagram.com\\u002fp\\u002fDCOoc_nIRti\\u002f\"],[\"Let\\u2019s be real\\u2014generic CRO tips don\\u2019t cut it for tech startups anymore.\\n\\n\\u201cMake yo ...\",\"https:\\u002f\\u002fwww.instagram.com\\u002fp\\u002fDCTyCKDxaF8\\u002f\"],[\"4.88 billion people in the world own a mobile phone.\\n\\nThat\\u2019s about 61% of the wo ...\",\"https:\\u002f\\u002fwww.instagram.com\\u002fp\\u002fDCoYZboP3Rm\\u002f\"],[\"Your landing page is your silent salesperson.\\n\\nIt can either be a money drainer, ...\",\"https:\\u002f\\u002fwww.instagram.com\\u002fp\\u002fDC6Z97LJ0mi\\u002f\"],[\"\\\"SEO is so complicated.\\\"\\n\\nI hear this from startup founders all the time, but he ...\",\"https:\\u002f\\u002fwww.instagram.com\\u002fp\\u002fDDPU8QUPq7e\\u002f\"],[\"Your customers are not stupid. They can tell if you\\u2019re selling trash.\\n\\nYour job  ...\",\"https:\\u002f\\u002fwww.instagram.com\\u002fp\\u002fDDcM7TftHAw\\u002f\"],[\"SEO !!!\\n\\nBy now, you should know what it stands for (Search Engine Optimization) ...\",\"https:\\u002f\\u002fwww.instagram.com\\u002fp\\u002fDDt55NmCzkg\\u002f\"],[\"Monkey see, monkey do.\\n\\nRemember that when you\\u2019re thinking about how to make str ...\",\"https:\\u002f\\u002fwww.instagram.com\\u002fp\\u002fDEAJLdaBKla\\u002f\"]],\"hovertemplate\":\"%{y}\\u003cbr\\u003eDate: %{x}\\u003cbr\\u003eDesc: %{customdata[0]}\\u003cbr\\u003eLink: %{customdata[1]}\",\"legendgroup\":\"saves\",\"line\":{\"color\":\"#00cc96\",\"dash\":\"solid\"},\"marker\":{\"symbol\":\"circle\"},\"mode\":\"lines\",\"name\":\"saves\",\"orientation\":\"v\",\"showlegend\":true,\"x\":[\"2024-01-17\",\"2024-01-22\",\"2024-02-15\",\"2024-02-22\",\"2024-02-27\",\"2024-03-21\",\"2024-03-22\",\"2024-03-27\",\"2024-04-04\",\"2024-04-10\",\"2024-04-18\",\"2024-04-24\",\"2024-05-08\",\"2024-05-09\",\"2024-05-21\",\"2024-05-29\",\"2024-06-05\",\"2024-06-06\",\"2024-06-19\",\"2024-07-02\",\"2024-07-03\",\"2024-07-18\",\"2024-07-31\",\"2024-08-20\",\"2024-08-28\",\"2024-09-05\",\"2024-09-06\",\"2024-09-11\",\"2024-10-02\",\"2024-10-09\",\"2024-10-17\",\"2024-10-24\",\"2024-11-06\",\"2024-11-11\",\"2024-11-13\",\"2024-11-21\",\"2024-11-28\",\"2024-12-06\",\"2024-12-11\",\"2024-12-18\",\"2024-12-25\"],\"xaxis\":\"x\",\"y\":[0,0,1,2,2,0,3,1,0,0,0,1,0,0,0,0,0,0,1,1,0,0,0,0,0,0,0,0,0,0,0,0,0,0,0,0,0,0,0,0,0],\"yaxis\":\"y\",\"type\":\"scatter\"},{\"customdata\":[[\"Tired of staring at a website that's about as exciting as a spreadsheet on Monda ...\",\"https:\\u002f\\u002fwww.instagram.com\\u002fp\\u002fC2NItfGP8Nt\\u002f\"],[\"Stop using your website wrongly and start using it as a powerful tool to generat ...\",\"https:\\u002f\\u002fwww.instagram.com\\u002fp\\u002fC2bNxJXupRP\\u002f\"],[\"Keywords are like spices in a dish\\u2014important, but not the whole meal! \\ud83c\\udf57\\n\\nTrue SE ...\",\"https:\\u002f\\u002fwww.instagram.com\\u002fp\\u002fC3XS_-9h7XD\\u002f\"],[\"Don't let bad design be your startup's kryptonite \\ud83d\\ude13\\n\\nGet ready for a post FULL o ...\",\"https:\\u002f\\u002fwww.instagram.com\\u002fp\\u002fC3pwBHttVO0\\u002f\"],[\"Struggling with web design? \\ud83d\\ude35\\n\\nThese 3 tools can help ANYONE create a user-frien ...\",\"https:\\u002f\\u002fwww.instagram.com\\u002fp\\u002fC32Mf4QrhdX\\u002f\"],[\"I help ASEAN startups unlock explosive reach online with web design. \\ud83d\\udcc8\\n\\nLumitics ...\",\"https:\\u002f\\u002fwww.instagram.com\\u002fp\\u002fC4xaxC0CAkj\\u002f\"],[\"Why hire a web designer when you can build the website yourself? \\ud83d\\ude09\\n\\nHere are my  ...\",\"https:\\u002f\\u002fwww.instagram.com\\u002fp\\u002fC4z_mcTP8HG\\u002f\"],[\"No one tells you about how BORING it is to maintain a business. \\ud83d\\udca4\\n\\nThe most exci ...\",\"https:\\u002f\\u002fwww.instagram.com\\u002fp\\u002fC5BZ5bAIkrC\\u002f\"],[\"I've noticed a huge reason why tech startups struggle. \\ud83d\\udd0d\\n\\nIt's because their web ...\",\"https:\\u002f\\u002fwww.instagram.com\\u002fp\\u002fC5Vd7j3rPZF\\u002f\"],[\"CASE STUDY: I always thought making a website user-friendly was just about makin ...\",\"https:\\u002f\\u002fwww.instagram.com\\u002fp\\u002fC5lIbuDNkpD\\u002f\"],[\"STOP SHOUTING INTO THE VOID! \\ud83d\\udde3\\ufe0f\\n\\nIs your website driving crickets instead of con ...\",\"https:\\u002f\\u002fwww.instagram.com\\u002fp\\u002fC55aLNLse9O\\u002f\"],[\"Web designers? They're a whole different breed now. \\ud83d\\udda5\\ufe0f\\n\\nHonestly, I was kinda sp ...\",\"https:\\u002f\\u002fwww.instagram.com\\u002fp\\u002fC6I90b8NqaL\\u002f\"],[\"Colour psychology plays a huge role in branding and user experience. \\ud83c\\udf08\\n\\nFor exam ...\",\"https:\\u002f\\u002fwww.instagram.com\\u002fp\\u002fC6tH1afJA7o\\u002f\"],[\"You are overlooking the power of having a website for getting new customers. \\u274c\\n\\n ...\",\"https:\\u002f\\u002fwww.instagram.com\\u002fp\\u002fC6ve5TYqmGR\\u002f\"],[\"Transforming your startup's landing page into a money-making machine is where th ...\",\"https:\\u002f\\u002fwww.instagram.com\\u002fp\\u002fC7Qol0dh9HD\\u002f\"],[\"\\ud83d\\ude80 Startup owners, want to know a secret?\\n\\nSometimes breaking the rules is the ke ...\",\"https:\\u002f\\u002fwww.instagram.com\\u002fp\\u002fC7jMfZ9v2n3\\u002f\"],[\"It\\u2019s not enough anymore to just have a pretty website. \\u2728\\n\\nA nice-looking website ...\",\"https:\\u002f\\u002fwww.instagram.com\\u002fp\\u002fC71OFQlKYX6\\u002f\"],[\"There are so many web agencies available for you to consider. Soooo many \\u2026 \\ud83d\\ude35\\u200d\\ud83d\\udcab\\n\\n ...\",\"https:\\u002f\\u002fwww.instagram.com\\u002fp\\u002fC73y17ogfb5\\u002f\"],[\"Ever think you need a huge team to succeed? Think again. \\ud83d\\ude09\\n\\nHere are 5 lessons I ...\",\"https:\\u002f\\u002fwww.instagram.com\\u002fp\\u002fC8Y8nxtKAgM\\u002f\"],[\"Bigger teams mean bigger budgets\\u2014cut the excess. \\ud83d\\udeab\\n\\nHere are my top 7 tools that ...\",\"https:\\u002f\\u002fwww.instagram.com\\u002fp\\u002fC864wSwuXRG\\u002f\"],[\"Ready to get more paying customers in only 5 days? \\ud83d\\ude80 \\n\\nJust for you busy founder ...\",\"https:\\u002f\\u002fwww.instagram.com\\u002fp\\u002fC89Ks_DOxEM\\u002f\"],[\"What happens when you book a free discovery call with me? \\ud83e\\udd14\\ud83d\\udcad\\n\\nI love when I can  ...\",\"https:\\u002f\\u002fwww.instagram.com\\u002fp\\u002fC9jugIfPIKm\\u002f\"],[\"Looking pretty is overrated. \\ud83d\\ude44\\n\\nA clean, straightforward design helps visitors f ...\",\"https:\\u002f\\u002fwww.instagram.com\\u002fp\\u002fC-FM1Q0tnDU\\u002f\"],[\"Pain = discipline is overrated. \\ud83d\\ude15\\n\\nA study by Harvard Business School, \\u201cThe Powe ...\",\"https:\\u002f\\u002fwww.instagram.com\\u002fp\\u002fC-4zlvUPfyJ\\u002f\"],[\"The digital world moves rapidly. \\ud83c\\udfce\\ufe0f\\n\\nWithout regular testing and optimisation, y ...\",\"https:\\u002f\\u002fwww.instagram.com\\u002fp\\u002fC_Ng3OLCn1r\\u002f\"],[\"I help businesses double their revenue in 7 days. \\u231b\\n\\nThe magic is in making thei ...\",\"https:\\u002f\\u002fwww.instagram.com\\u002fp\\u002fC_hrvPmKsUK\\u002f\"],[\"Your call-to-action (CTA) can make or break your revenue model. \\ud83d\\udcb8\\n\\nIt's super im ...\",\"https:\\u002f\\u002fwww.instagram.com\\u002fp\\u002fC_kr_zaBfTw\\u002f\"],[\"You don\\u2019t need to be experienced to do a CRO audit on your own website.\\n\\nSave th ...\",\"https:\\u002f\\u002fwww.instagram.com\\u002fp\\u002fC_xlwfzsN6Y\\u002f\"],[\"Are your web visitors converting into paying customers?\\n\\nIf your site isn\\u2019t opti ...\",\"https:\\u002f\\u002fwww.instagram.com\\u002fp\\u002fDAnorKyv-K1\\u002f\"],[\"SEO is an investment to your business\\u2019 growth, without any cost.\\n\\nOn-page SEO re ...\",\"https:\\u002f\\u002fwww.instagram.com\\u002fp\\u002fDA53_x-INAu\\u002f\"],[\"Let\\u2019s take a break from the nerdy technical side of websites.\\n\\nAll websites cont ...\",\"https:\\u002f\\u002fwww.instagram.com\\u002fp\\u002fDBOQmZGP5ZU\\u002f\"],[\"For the past month, I\\u2019ve been exploring boosting my agency website\\u2019s own convers ...\",\"https:\\u002f\\u002fwww.instagram.com\\u002fp\\u002fDBgmuP3MDMz\\u002f\"],[\"Customers crave simplicity.\\n\\nThey want solutions served up on a silver platter,  ...\",\"https:\\u002f\\u002fwww.instagram.com\\u002fp\\u002fDCCFGdNhxD0\\u002f\"],[\"Your baby will outgrow her tiny shirt over time.\\n\\nBut we\\u2019re not talking about ba ...\",\"https:\\u002f\\u002fwww.instagram.com\\u002fp\\u002fDCOoc_nIRti\\u002f\"],[\"Let\\u2019s be real\\u2014generic CRO tips don\\u2019t cut it for tech startups anymore.\\n\\n\\u201cMake yo ...\",\"https:\\u002f\\u002fwww.instagram.com\\u002fp\\u002fDCTyCKDxaF8\\u002f\"],[\"4.88 billion people in the world own a mobile phone.\\n\\nThat\\u2019s about 61% of the wo ...\",\"https:\\u002f\\u002fwww.instagram.com\\u002fp\\u002fDCoYZboP3Rm\\u002f\"],[\"Your landing page is your silent salesperson.\\n\\nIt can either be a money drainer, ...\",\"https:\\u002f\\u002fwww.instagram.com\\u002fp\\u002fDC6Z97LJ0mi\\u002f\"],[\"\\\"SEO is so complicated.\\\"\\n\\nI hear this from startup founders all the time, but he ...\",\"https:\\u002f\\u002fwww.instagram.com\\u002fp\\u002fDDPU8QUPq7e\\u002f\"],[\"Your customers are not stupid. They can tell if you\\u2019re selling trash.\\n\\nYour job  ...\",\"https:\\u002f\\u002fwww.instagram.com\\u002fp\\u002fDDcM7TftHAw\\u002f\"],[\"SEO !!!\\n\\nBy now, you should know what it stands for (Search Engine Optimization) ...\",\"https:\\u002f\\u002fwww.instagram.com\\u002fp\\u002fDDt55NmCzkg\\u002f\"],[\"Monkey see, monkey do.\\n\\nRemember that when you\\u2019re thinking about how to make str ...\",\"https:\\u002f\\u002fwww.instagram.com\\u002fp\\u002fDEAJLdaBKla\\u002f\"]],\"hovertemplate\":\"%{y}\\u003cbr\\u003eDate: %{x}\\u003cbr\\u003eDesc: %{customdata[0]}\\u003cbr\\u003eLink: %{customdata[1]}\",\"legendgroup\":\"follows\",\"line\":{\"color\":\"#ab63fa\",\"dash\":\"solid\"},\"marker\":{\"symbol\":\"circle\"},\"mode\":\"lines\",\"name\":\"follows\",\"orientation\":\"v\",\"showlegend\":true,\"x\":[\"2024-01-17\",\"2024-01-22\",\"2024-02-15\",\"2024-02-22\",\"2024-02-27\",\"2024-03-21\",\"2024-03-22\",\"2024-03-27\",\"2024-04-04\",\"2024-04-10\",\"2024-04-18\",\"2024-04-24\",\"2024-05-08\",\"2024-05-09\",\"2024-05-21\",\"2024-05-29\",\"2024-06-05\",\"2024-06-06\",\"2024-06-19\",\"2024-07-02\",\"2024-07-03\",\"2024-07-18\",\"2024-07-31\",\"2024-08-20\",\"2024-08-28\",\"2024-09-05\",\"2024-09-06\",\"2024-09-11\",\"2024-10-02\",\"2024-10-09\",\"2024-10-17\",\"2024-10-24\",\"2024-11-06\",\"2024-11-11\",\"2024-11-13\",\"2024-11-21\",\"2024-11-28\",\"2024-12-06\",\"2024-12-11\",\"2024-12-18\",\"2024-12-25\"],\"xaxis\":\"x\",\"y\":[0,0,1,0,0,0,0,0,0,0,0,0,0,0,0,0,0,0,0,0,0,0,0,0,0,0,0,0,0,0,0,0,0,0,0,0,0,0,0,0,0],\"yaxis\":\"y\",\"type\":\"scatter\"},{\"customdata\":[[\"Tired of staring at a website that's about as exciting as a spreadsheet on Monda ...\",\"https:\\u002f\\u002fwww.instagram.com\\u002fp\\u002fC2NItfGP8Nt\\u002f\"],[\"Stop using your website wrongly and start using it as a powerful tool to generat ...\",\"https:\\u002f\\u002fwww.instagram.com\\u002fp\\u002fC2bNxJXupRP\\u002f\"],[\"Keywords are like spices in a dish\\u2014important, but not the whole meal! \\ud83c\\udf57\\n\\nTrue SE ...\",\"https:\\u002f\\u002fwww.instagram.com\\u002fp\\u002fC3XS_-9h7XD\\u002f\"],[\"Don't let bad design be your startup's kryptonite \\ud83d\\ude13\\n\\nGet ready for a post FULL o ...\",\"https:\\u002f\\u002fwww.instagram.com\\u002fp\\u002fC3pwBHttVO0\\u002f\"],[\"Struggling with web design? \\ud83d\\ude35\\n\\nThese 3 tools can help ANYONE create a user-frien ...\",\"https:\\u002f\\u002fwww.instagram.com\\u002fp\\u002fC32Mf4QrhdX\\u002f\"],[\"I help ASEAN startups unlock explosive reach online with web design. \\ud83d\\udcc8\\n\\nLumitics ...\",\"https:\\u002f\\u002fwww.instagram.com\\u002fp\\u002fC4xaxC0CAkj\\u002f\"],[\"Why hire a web designer when you can build the website yourself? \\ud83d\\ude09\\n\\nHere are my  ...\",\"https:\\u002f\\u002fwww.instagram.com\\u002fp\\u002fC4z_mcTP8HG\\u002f\"],[\"No one tells you about how BORING it is to maintain a business. \\ud83d\\udca4\\n\\nThe most exci ...\",\"https:\\u002f\\u002fwww.instagram.com\\u002fp\\u002fC5BZ5bAIkrC\\u002f\"],[\"I've noticed a huge reason why tech startups struggle. \\ud83d\\udd0d\\n\\nIt's because their web ...\",\"https:\\u002f\\u002fwww.instagram.com\\u002fp\\u002fC5Vd7j3rPZF\\u002f\"],[\"CASE STUDY: I always thought making a website user-friendly was just about makin ...\",\"https:\\u002f\\u002fwww.instagram.com\\u002fp\\u002fC5lIbuDNkpD\\u002f\"],[\"STOP SHOUTING INTO THE VOID! \\ud83d\\udde3\\ufe0f\\n\\nIs your website driving crickets instead of con ...\",\"https:\\u002f\\u002fwww.instagram.com\\u002fp\\u002fC55aLNLse9O\\u002f\"],[\"Web designers? They're a whole different breed now. \\ud83d\\udda5\\ufe0f\\n\\nHonestly, I was kinda sp ...\",\"https:\\u002f\\u002fwww.instagram.com\\u002fp\\u002fC6I90b8NqaL\\u002f\"],[\"Colour psychology plays a huge role in branding and user experience. \\ud83c\\udf08\\n\\nFor exam ...\",\"https:\\u002f\\u002fwww.instagram.com\\u002fp\\u002fC6tH1afJA7o\\u002f\"],[\"You are overlooking the power of having a website for getting new customers. \\u274c\\n\\n ...\",\"https:\\u002f\\u002fwww.instagram.com\\u002fp\\u002fC6ve5TYqmGR\\u002f\"],[\"Transforming your startup's landing page into a money-making machine is where th ...\",\"https:\\u002f\\u002fwww.instagram.com\\u002fp\\u002fC7Qol0dh9HD\\u002f\"],[\"\\ud83d\\ude80 Startup owners, want to know a secret?\\n\\nSometimes breaking the rules is the ke ...\",\"https:\\u002f\\u002fwww.instagram.com\\u002fp\\u002fC7jMfZ9v2n3\\u002f\"],[\"It\\u2019s not enough anymore to just have a pretty website. \\u2728\\n\\nA nice-looking website ...\",\"https:\\u002f\\u002fwww.instagram.com\\u002fp\\u002fC71OFQlKYX6\\u002f\"],[\"There are so many web agencies available for you to consider. Soooo many \\u2026 \\ud83d\\ude35\\u200d\\ud83d\\udcab\\n\\n ...\",\"https:\\u002f\\u002fwww.instagram.com\\u002fp\\u002fC73y17ogfb5\\u002f\"],[\"Ever think you need a huge team to succeed? Think again. \\ud83d\\ude09\\n\\nHere are 5 lessons I ...\",\"https:\\u002f\\u002fwww.instagram.com\\u002fp\\u002fC8Y8nxtKAgM\\u002f\"],[\"Bigger teams mean bigger budgets\\u2014cut the excess. \\ud83d\\udeab\\n\\nHere are my top 7 tools that ...\",\"https:\\u002f\\u002fwww.instagram.com\\u002fp\\u002fC864wSwuXRG\\u002f\"],[\"Ready to get more paying customers in only 5 days? \\ud83d\\ude80 \\n\\nJust for you busy founder ...\",\"https:\\u002f\\u002fwww.instagram.com\\u002fp\\u002fC89Ks_DOxEM\\u002f\"],[\"What happens when you book a free discovery call with me? \\ud83e\\udd14\\ud83d\\udcad\\n\\nI love when I can  ...\",\"https:\\u002f\\u002fwww.instagram.com\\u002fp\\u002fC9jugIfPIKm\\u002f\"],[\"Looking pretty is overrated. \\ud83d\\ude44\\n\\nA clean, straightforward design helps visitors f ...\",\"https:\\u002f\\u002fwww.instagram.com\\u002fp\\u002fC-FM1Q0tnDU\\u002f\"],[\"Pain = discipline is overrated. \\ud83d\\ude15\\n\\nA study by Harvard Business School, \\u201cThe Powe ...\",\"https:\\u002f\\u002fwww.instagram.com\\u002fp\\u002fC-4zlvUPfyJ\\u002f\"],[\"The digital world moves rapidly. \\ud83c\\udfce\\ufe0f\\n\\nWithout regular testing and optimisation, y ...\",\"https:\\u002f\\u002fwww.instagram.com\\u002fp\\u002fC_Ng3OLCn1r\\u002f\"],[\"I help businesses double their revenue in 7 days. \\u231b\\n\\nThe magic is in making thei ...\",\"https:\\u002f\\u002fwww.instagram.com\\u002fp\\u002fC_hrvPmKsUK\\u002f\"],[\"Your call-to-action (CTA) can make or break your revenue model. \\ud83d\\udcb8\\n\\nIt's super im ...\",\"https:\\u002f\\u002fwww.instagram.com\\u002fp\\u002fC_kr_zaBfTw\\u002f\"],[\"You don\\u2019t need to be experienced to do a CRO audit on your own website.\\n\\nSave th ...\",\"https:\\u002f\\u002fwww.instagram.com\\u002fp\\u002fC_xlwfzsN6Y\\u002f\"],[\"Are your web visitors converting into paying customers?\\n\\nIf your site isn\\u2019t opti ...\",\"https:\\u002f\\u002fwww.instagram.com\\u002fp\\u002fDAnorKyv-K1\\u002f\"],[\"SEO is an investment to your business\\u2019 growth, without any cost.\\n\\nOn-page SEO re ...\",\"https:\\u002f\\u002fwww.instagram.com\\u002fp\\u002fDA53_x-INAu\\u002f\"],[\"Let\\u2019s take a break from the nerdy technical side of websites.\\n\\nAll websites cont ...\",\"https:\\u002f\\u002fwww.instagram.com\\u002fp\\u002fDBOQmZGP5ZU\\u002f\"],[\"For the past month, I\\u2019ve been exploring boosting my agency website\\u2019s own convers ...\",\"https:\\u002f\\u002fwww.instagram.com\\u002fp\\u002fDBgmuP3MDMz\\u002f\"],[\"Customers crave simplicity.\\n\\nThey want solutions served up on a silver platter,  ...\",\"https:\\u002f\\u002fwww.instagram.com\\u002fp\\u002fDCCFGdNhxD0\\u002f\"],[\"Your baby will outgrow her tiny shirt over time.\\n\\nBut we\\u2019re not talking about ba ...\",\"https:\\u002f\\u002fwww.instagram.com\\u002fp\\u002fDCOoc_nIRti\\u002f\"],[\"Let\\u2019s be real\\u2014generic CRO tips don\\u2019t cut it for tech startups anymore.\\n\\n\\u201cMake yo ...\",\"https:\\u002f\\u002fwww.instagram.com\\u002fp\\u002fDCTyCKDxaF8\\u002f\"],[\"4.88 billion people in the world own a mobile phone.\\n\\nThat\\u2019s about 61% of the wo ...\",\"https:\\u002f\\u002fwww.instagram.com\\u002fp\\u002fDCoYZboP3Rm\\u002f\"],[\"Your landing page is your silent salesperson.\\n\\nIt can either be a money drainer, ...\",\"https:\\u002f\\u002fwww.instagram.com\\u002fp\\u002fDC6Z97LJ0mi\\u002f\"],[\"\\\"SEO is so complicated.\\\"\\n\\nI hear this from startup founders all the time, but he ...\",\"https:\\u002f\\u002fwww.instagram.com\\u002fp\\u002fDDPU8QUPq7e\\u002f\"],[\"Your customers are not stupid. They can tell if you\\u2019re selling trash.\\n\\nYour job  ...\",\"https:\\u002f\\u002fwww.instagram.com\\u002fp\\u002fDDcM7TftHAw\\u002f\"],[\"SEO !!!\\n\\nBy now, you should know what it stands for (Search Engine Optimization) ...\",\"https:\\u002f\\u002fwww.instagram.com\\u002fp\\u002fDDt55NmCzkg\\u002f\"],[\"Monkey see, monkey do.\\n\\nRemember that when you\\u2019re thinking about how to make str ...\",\"https:\\u002f\\u002fwww.instagram.com\\u002fp\\u002fDEAJLdaBKla\\u002f\"]],\"hovertemplate\":\"%{y}\\u003cbr\\u003eDate: %{x}\\u003cbr\\u003eDesc: %{customdata[0]}\\u003cbr\\u003eLink: %{customdata[1]}\",\"legendgroup\":\"likes\",\"line\":{\"color\":\"#FFA15A\",\"dash\":\"solid\"},\"marker\":{\"symbol\":\"circle\"},\"mode\":\"lines\",\"name\":\"likes\",\"orientation\":\"v\",\"showlegend\":true,\"x\":[\"2024-01-17\",\"2024-01-22\",\"2024-02-15\",\"2024-02-22\",\"2024-02-27\",\"2024-03-21\",\"2024-03-22\",\"2024-03-27\",\"2024-04-04\",\"2024-04-10\",\"2024-04-18\",\"2024-04-24\",\"2024-05-08\",\"2024-05-09\",\"2024-05-21\",\"2024-05-29\",\"2024-06-05\",\"2024-06-06\",\"2024-06-19\",\"2024-07-02\",\"2024-07-03\",\"2024-07-18\",\"2024-07-31\",\"2024-08-20\",\"2024-08-28\",\"2024-09-05\",\"2024-09-06\",\"2024-09-11\",\"2024-10-02\",\"2024-10-09\",\"2024-10-17\",\"2024-10-24\",\"2024-11-06\",\"2024-11-11\",\"2024-11-13\",\"2024-11-21\",\"2024-11-28\",\"2024-12-06\",\"2024-12-11\",\"2024-12-18\",\"2024-12-25\"],\"xaxis\":\"x\",\"y\":[10,8,12,7,9,11,10,9,3,3,5,5,4,2,3,3,6,4,4,7,2,7,5,6,7,3,9,5,4,5,4,6,4,4,2,3,7,4,4,4,3],\"yaxis\":\"y\",\"type\":\"scatter\"}],                        {\"template\":{\"data\":{\"histogram2dcontour\":[{\"type\":\"histogram2dcontour\",\"colorbar\":{\"outlinewidth\":0,\"ticks\":\"\"},\"colorscale\":[[0.0,\"#0d0887\"],[0.1111111111111111,\"#46039f\"],[0.2222222222222222,\"#7201a8\"],[0.3333333333333333,\"#9c179e\"],[0.4444444444444444,\"#bd3786\"],[0.5555555555555556,\"#d8576b\"],[0.6666666666666666,\"#ed7953\"],[0.7777777777777778,\"#fb9f3a\"],[0.8888888888888888,\"#fdca26\"],[1.0,\"#f0f921\"]]}],\"choropleth\":[{\"type\":\"choropleth\",\"colorbar\":{\"outlinewidth\":0,\"ticks\":\"\"}}],\"histogram2d\":[{\"type\":\"histogram2d\",\"colorbar\":{\"outlinewidth\":0,\"ticks\":\"\"},\"colorscale\":[[0.0,\"#0d0887\"],[0.1111111111111111,\"#46039f\"],[0.2222222222222222,\"#7201a8\"],[0.3333333333333333,\"#9c179e\"],[0.4444444444444444,\"#bd3786\"],[0.5555555555555556,\"#d8576b\"],[0.6666666666666666,\"#ed7953\"],[0.7777777777777778,\"#fb9f3a\"],[0.8888888888888888,\"#fdca26\"],[1.0,\"#f0f921\"]]}],\"heatmap\":[{\"type\":\"heatmap\",\"colorbar\":{\"outlinewidth\":0,\"ticks\":\"\"},\"colorscale\":[[0.0,\"#0d0887\"],[0.1111111111111111,\"#46039f\"],[0.2222222222222222,\"#7201a8\"],[0.3333333333333333,\"#9c179e\"],[0.4444444444444444,\"#bd3786\"],[0.5555555555555556,\"#d8576b\"],[0.6666666666666666,\"#ed7953\"],[0.7777777777777778,\"#fb9f3a\"],[0.8888888888888888,\"#fdca26\"],[1.0,\"#f0f921\"]]}],\"heatmapgl\":[{\"type\":\"heatmapgl\",\"colorbar\":{\"outlinewidth\":0,\"ticks\":\"\"},\"colorscale\":[[0.0,\"#0d0887\"],[0.1111111111111111,\"#46039f\"],[0.2222222222222222,\"#7201a8\"],[0.3333333333333333,\"#9c179e\"],[0.4444444444444444,\"#bd3786\"],[0.5555555555555556,\"#d8576b\"],[0.6666666666666666,\"#ed7953\"],[0.7777777777777778,\"#fb9f3a\"],[0.8888888888888888,\"#fdca26\"],[1.0,\"#f0f921\"]]}],\"contourcarpet\":[{\"type\":\"contourcarpet\",\"colorbar\":{\"outlinewidth\":0,\"ticks\":\"\"}}],\"contour\":[{\"type\":\"contour\",\"colorbar\":{\"outlinewidth\":0,\"ticks\":\"\"},\"colorscale\":[[0.0,\"#0d0887\"],[0.1111111111111111,\"#46039f\"],[0.2222222222222222,\"#7201a8\"],[0.3333333333333333,\"#9c179e\"],[0.4444444444444444,\"#bd3786\"],[0.5555555555555556,\"#d8576b\"],[0.6666666666666666,\"#ed7953\"],[0.7777777777777778,\"#fb9f3a\"],[0.8888888888888888,\"#fdca26\"],[1.0,\"#f0f921\"]]}],\"surface\":[{\"type\":\"surface\",\"colorbar\":{\"outlinewidth\":0,\"ticks\":\"\"},\"colorscale\":[[0.0,\"#0d0887\"],[0.1111111111111111,\"#46039f\"],[0.2222222222222222,\"#7201a8\"],[0.3333333333333333,\"#9c179e\"],[0.4444444444444444,\"#bd3786\"],[0.5555555555555556,\"#d8576b\"],[0.6666666666666666,\"#ed7953\"],[0.7777777777777778,\"#fb9f3a\"],[0.8888888888888888,\"#fdca26\"],[1.0,\"#f0f921\"]]}],\"mesh3d\":[{\"type\":\"mesh3d\",\"colorbar\":{\"outlinewidth\":0,\"ticks\":\"\"}}],\"scatter\":[{\"fillpattern\":{\"fillmode\":\"overlay\",\"size\":10,\"solidity\":0.2},\"type\":\"scatter\"}],\"parcoords\":[{\"type\":\"parcoords\",\"line\":{\"colorbar\":{\"outlinewidth\":0,\"ticks\":\"\"}}}],\"scatterpolargl\":[{\"type\":\"scatterpolargl\",\"marker\":{\"colorbar\":{\"outlinewidth\":0,\"ticks\":\"\"}}}],\"bar\":[{\"error_x\":{\"color\":\"#2a3f5f\"},\"error_y\":{\"color\":\"#2a3f5f\"},\"marker\":{\"line\":{\"color\":\"#E5ECF6\",\"width\":0.5},\"pattern\":{\"fillmode\":\"overlay\",\"size\":10,\"solidity\":0.2}},\"type\":\"bar\"}],\"scattergeo\":[{\"type\":\"scattergeo\",\"marker\":{\"colorbar\":{\"outlinewidth\":0,\"ticks\":\"\"}}}],\"scatterpolar\":[{\"type\":\"scatterpolar\",\"marker\":{\"colorbar\":{\"outlinewidth\":0,\"ticks\":\"\"}}}],\"histogram\":[{\"marker\":{\"pattern\":{\"fillmode\":\"overlay\",\"size\":10,\"solidity\":0.2}},\"type\":\"histogram\"}],\"scattergl\":[{\"type\":\"scattergl\",\"marker\":{\"colorbar\":{\"outlinewidth\":0,\"ticks\":\"\"}}}],\"scatter3d\":[{\"type\":\"scatter3d\",\"line\":{\"colorbar\":{\"outlinewidth\":0,\"ticks\":\"\"}},\"marker\":{\"colorbar\":{\"outlinewidth\":0,\"ticks\":\"\"}}}],\"scattermapbox\":[{\"type\":\"scattermapbox\",\"marker\":{\"colorbar\":{\"outlinewidth\":0,\"ticks\":\"\"}}}],\"scatterternary\":[{\"type\":\"scatterternary\",\"marker\":{\"colorbar\":{\"outlinewidth\":0,\"ticks\":\"\"}}}],\"scattercarpet\":[{\"type\":\"scattercarpet\",\"marker\":{\"colorbar\":{\"outlinewidth\":0,\"ticks\":\"\"}}}],\"carpet\":[{\"aaxis\":{\"endlinecolor\":\"#2a3f5f\",\"gridcolor\":\"white\",\"linecolor\":\"white\",\"minorgridcolor\":\"white\",\"startlinecolor\":\"#2a3f5f\"},\"baxis\":{\"endlinecolor\":\"#2a3f5f\",\"gridcolor\":\"white\",\"linecolor\":\"white\",\"minorgridcolor\":\"white\",\"startlinecolor\":\"#2a3f5f\"},\"type\":\"carpet\"}],\"table\":[{\"cells\":{\"fill\":{\"color\":\"#EBF0F8\"},\"line\":{\"color\":\"white\"}},\"header\":{\"fill\":{\"color\":\"#C8D4E3\"},\"line\":{\"color\":\"white\"}},\"type\":\"table\"}],\"barpolar\":[{\"marker\":{\"line\":{\"color\":\"#E5ECF6\",\"width\":0.5},\"pattern\":{\"fillmode\":\"overlay\",\"size\":10,\"solidity\":0.2}},\"type\":\"barpolar\"}],\"pie\":[{\"automargin\":true,\"type\":\"pie\"}]},\"layout\":{\"autotypenumbers\":\"strict\",\"colorway\":[\"#636efa\",\"#EF553B\",\"#00cc96\",\"#ab63fa\",\"#FFA15A\",\"#19d3f3\",\"#FF6692\",\"#B6E880\",\"#FF97FF\",\"#FECB52\"],\"font\":{\"color\":\"#2a3f5f\"},\"hovermode\":\"closest\",\"hoverlabel\":{\"align\":\"left\"},\"paper_bgcolor\":\"white\",\"plot_bgcolor\":\"#E5ECF6\",\"polar\":{\"bgcolor\":\"#E5ECF6\",\"angularaxis\":{\"gridcolor\":\"white\",\"linecolor\":\"white\",\"ticks\":\"\"},\"radialaxis\":{\"gridcolor\":\"white\",\"linecolor\":\"white\",\"ticks\":\"\"}},\"ternary\":{\"bgcolor\":\"#E5ECF6\",\"aaxis\":{\"gridcolor\":\"white\",\"linecolor\":\"white\",\"ticks\":\"\"},\"baxis\":{\"gridcolor\":\"white\",\"linecolor\":\"white\",\"ticks\":\"\"},\"caxis\":{\"gridcolor\":\"white\",\"linecolor\":\"white\",\"ticks\":\"\"}},\"coloraxis\":{\"colorbar\":{\"outlinewidth\":0,\"ticks\":\"\"}},\"colorscale\":{\"sequential\":[[0.0,\"#0d0887\"],[0.1111111111111111,\"#46039f\"],[0.2222222222222222,\"#7201a8\"],[0.3333333333333333,\"#9c179e\"],[0.4444444444444444,\"#bd3786\"],[0.5555555555555556,\"#d8576b\"],[0.6666666666666666,\"#ed7953\"],[0.7777777777777778,\"#fb9f3a\"],[0.8888888888888888,\"#fdca26\"],[1.0,\"#f0f921\"]],\"sequentialminus\":[[0.0,\"#0d0887\"],[0.1111111111111111,\"#46039f\"],[0.2222222222222222,\"#7201a8\"],[0.3333333333333333,\"#9c179e\"],[0.4444444444444444,\"#bd3786\"],[0.5555555555555556,\"#d8576b\"],[0.6666666666666666,\"#ed7953\"],[0.7777777777777778,\"#fb9f3a\"],[0.8888888888888888,\"#fdca26\"],[1.0,\"#f0f921\"]],\"diverging\":[[0,\"#8e0152\"],[0.1,\"#c51b7d\"],[0.2,\"#de77ae\"],[0.3,\"#f1b6da\"],[0.4,\"#fde0ef\"],[0.5,\"#f7f7f7\"],[0.6,\"#e6f5d0\"],[0.7,\"#b8e186\"],[0.8,\"#7fbc41\"],[0.9,\"#4d9221\"],[1,\"#276419\"]]},\"xaxis\":{\"gridcolor\":\"white\",\"linecolor\":\"white\",\"ticks\":\"\",\"title\":{\"standoff\":15},\"zerolinecolor\":\"white\",\"automargin\":true,\"zerolinewidth\":2},\"yaxis\":{\"gridcolor\":\"white\",\"linecolor\":\"white\",\"ticks\":\"\",\"title\":{\"standoff\":15},\"zerolinecolor\":\"white\",\"automargin\":true,\"zerolinewidth\":2},\"scene\":{\"xaxis\":{\"backgroundcolor\":\"#E5ECF6\",\"gridcolor\":\"white\",\"linecolor\":\"white\",\"showbackground\":true,\"ticks\":\"\",\"zerolinecolor\":\"white\",\"gridwidth\":2},\"yaxis\":{\"backgroundcolor\":\"#E5ECF6\",\"gridcolor\":\"white\",\"linecolor\":\"white\",\"showbackground\":true,\"ticks\":\"\",\"zerolinecolor\":\"white\",\"gridwidth\":2},\"zaxis\":{\"backgroundcolor\":\"#E5ECF6\",\"gridcolor\":\"white\",\"linecolor\":\"white\",\"showbackground\":true,\"ticks\":\"\",\"zerolinecolor\":\"white\",\"gridwidth\":2}},\"shapedefaults\":{\"line\":{\"color\":\"#2a3f5f\"}},\"annotationdefaults\":{\"arrowcolor\":\"#2a3f5f\",\"arrowhead\":0,\"arrowwidth\":1},\"geo\":{\"bgcolor\":\"white\",\"landcolor\":\"#E5ECF6\",\"subunitcolor\":\"white\",\"showland\":true,\"showlakes\":true,\"lakecolor\":\"white\"},\"title\":{\"x\":0.05},\"mapbox\":{\"style\":\"light\"}}},\"xaxis\":{\"anchor\":\"y\",\"domain\":[0.0,1.0],\"title\":{\"text\":\"Date posted\"}},\"yaxis\":{\"anchor\":\"x\",\"domain\":[0.0,1.0],\"title\":{\"text\":\"Metrics\"}},\"legend\":{\"title\":{\"text\":\"Metrics\"},\"tracegroupgap\":0},\"title\":{\"text\":\"Performance of CAROUSEL Posts on Instagram (@nadraqamaria)\"},\"height\":600,\"width\":1100,\"hovermode\":\"x unified\"},                        {\"responsive\": true}                    ).then(function(){\n",
       "                            \n",
       "var gd = document.getElementById('919b108b-cab2-4cd6-bb51-d32507bfa81e');\n",
       "var x = new MutationObserver(function (mutations, observer) {{\n",
       "        var display = window.getComputedStyle(gd).display;\n",
       "        if (!display || display === 'none') {{\n",
       "            console.log([gd, 'removed!']);\n",
       "            Plotly.purge(gd);\n",
       "            observer.disconnect();\n",
       "        }}\n",
       "}});\n",
       "\n",
       "// Listen for the removal of the full notebook cells\n",
       "var notebookContainer = gd.closest('#notebook-container');\n",
       "if (notebookContainer) {{\n",
       "    x.observe(notebookContainer, {childList: true});\n",
       "}}\n",
       "\n",
       "// Listen for the clearing of the current output cell\n",
       "var outputEl = gd.closest('.output');\n",
       "if (outputEl) {{\n",
       "    x.observe(outputEl, {childList: true});\n",
       "}}\n",
       "\n",
       "                        })                };                });            </script>        </div>"
      ]
     },
     "metadata": {},
     "output_type": "display_data"
    },
    {
     "name": "stdout",
     "output_type": "stream",
     "text": [
      "\n",
      "Top 5 Performing CAROUSEL Posts:\n"
     ]
    },
    {
     "data": {
      "text/html": [
       "<div>\n",
       "<style scoped>\n",
       "    .dataframe tbody tr th:only-of-type {\n",
       "        vertical-align: middle;\n",
       "    }\n",
       "\n",
       "    .dataframe tbody tr th {\n",
       "        vertical-align: top;\n",
       "    }\n",
       "\n",
       "    .dataframe thead th {\n",
       "        text-align: right;\n",
       "    }\n",
       "</style>\n",
       "<table border=\"1\" class=\"dataframe\">\n",
       "  <thead>\n",
       "    <tr style=\"text-align: right;\">\n",
       "      <th></th>\n",
       "      <th>link</th>\n",
       "      <th>date</th>\n",
       "      <th>reach</th>\n",
       "      <th>comments</th>\n",
       "      <th>saves</th>\n",
       "      <th>follows</th>\n",
       "      <th>likes</th>\n",
       "      <th>description</th>\n",
       "    </tr>\n",
       "  </thead>\n",
       "  <tbody>\n",
       "    <tr>\n",
       "      <th>1</th>\n",
       "      <td>https://www.instagram.com/p/C2NItfGP8Nt/</td>\n",
       "      <td>2024-01-17</td>\n",
       "      <td>147</td>\n",
       "      <td>0</td>\n",
       "      <td>0</td>\n",
       "      <td>0</td>\n",
       "      <td>10</td>\n",
       "      <td>Tired of staring at a website that's about as ...</td>\n",
       "    </tr>\n",
       "    <tr>\n",
       "      <th>2</th>\n",
       "      <td>https://www.instagram.com/p/C5Vd7j3rPZF/</td>\n",
       "      <td>2024-04-04</td>\n",
       "      <td>99</td>\n",
       "      <td>0</td>\n",
       "      <td>0</td>\n",
       "      <td>0</td>\n",
       "      <td>3</td>\n",
       "      <td>I've noticed a huge reason why tech startups s...</td>\n",
       "    </tr>\n",
       "    <tr>\n",
       "      <th>3</th>\n",
       "      <td>https://www.instagram.com/p/C7jMfZ9v2n3/</td>\n",
       "      <td>2024-05-29</td>\n",
       "      <td>74</td>\n",
       "      <td>0</td>\n",
       "      <td>0</td>\n",
       "      <td>0</td>\n",
       "      <td>3</td>\n",
       "      <td>🚀 Startup owners, want to know a secret?\\n\\nSo...</td>\n",
       "    </tr>\n",
       "    <tr>\n",
       "      <th>4</th>\n",
       "      <td>https://www.instagram.com/p/C9jugIfPIKm/</td>\n",
       "      <td>2024-07-18</td>\n",
       "      <td>73</td>\n",
       "      <td>0</td>\n",
       "      <td>0</td>\n",
       "      <td>0</td>\n",
       "      <td>7</td>\n",
       "      <td>What happens when you book a free discovery ca...</td>\n",
       "    </tr>\n",
       "    <tr>\n",
       "      <th>5</th>\n",
       "      <td>https://www.instagram.com/p/C5BZ5bAIkrC/</td>\n",
       "      <td>2024-03-27</td>\n",
       "      <td>60</td>\n",
       "      <td>6</td>\n",
       "      <td>1</td>\n",
       "      <td>0</td>\n",
       "      <td>9</td>\n",
       "      <td>No one tells you about how BORING it is to mai...</td>\n",
       "    </tr>\n",
       "  </tbody>\n",
       "</table>\n",
       "</div>"
      ],
      "text/plain": [
       "                                       link        date  reach  comments  \\\n",
       "1  https://www.instagram.com/p/C2NItfGP8Nt/  2024-01-17    147         0   \n",
       "2  https://www.instagram.com/p/C5Vd7j3rPZF/  2024-04-04     99         0   \n",
       "3  https://www.instagram.com/p/C7jMfZ9v2n3/  2024-05-29     74         0   \n",
       "4  https://www.instagram.com/p/C9jugIfPIKm/  2024-07-18     73         0   \n",
       "5  https://www.instagram.com/p/C5BZ5bAIkrC/  2024-03-27     60         6   \n",
       "\n",
       "   saves  follows  likes                                        description  \n",
       "1      0        0     10  Tired of staring at a website that's about as ...  \n",
       "2      0        0      3  I've noticed a huge reason why tech startups s...  \n",
       "3      0        0      3  🚀 Startup owners, want to know a secret?\\n\\nSo...  \n",
       "4      0        0      7  What happens when you book a free discovery ca...  \n",
       "5      1        0      9  No one tells you about how BORING it is to mai...  "
      ]
     },
     "metadata": {},
     "output_type": "display_data"
    },
    {
     "name": "stdout",
     "output_type": "stream",
     "text": [
      "\n",
      "\n",
      "\n",
      "\n",
      "\n",
      "\n"
     ]
    },
    {
     "data": {
      "application/vnd.plotly.v1+json": {
       "config": {
        "plotlyServerURL": "https://plot.ly"
       },
       "data": [
        {
         "customdata": [
          [
           "❌ Crafting your perfect online HQ shouldn't feel like wrangling chaos. ❌\n\nLet me ...",
           "https://www.instagram.com/reel/C2hXePAxZCF/"
          ],
          [
           "⛔ Avoid this deadly web mistake: A bad first impression. But here's the hack. \n  ...",
           "https://www.instagram.com/reel/C2zeCbghyEV/"
          ],
          [
           "This is what web agencies don’t want you to know ⛔\n\nRead on to discover how you  ...",
           "https://www.instagram.com/reel/C3AOxIeqTOU/"
          ],
          [
           "😱 These are DANGEROUS for your business website: Dull visuals, clunky navigation ...",
           "https://www.instagram.com/reel/C3SQS3FC7gA/"
          ],
          [
           "Websites. They are the most powerful channels for client acquisition and retenti ...",
           "https://www.instagram.com/reel/C3sAPtvv7l2/"
          ],
          [
           "Are your users struggling with your awkward website navigation? 😵‍💫🌀\n\nDon't worr ...",
           "https://www.instagram.com/reel/C37dBbxKkcy/"
          ],
          [
           "… But why do I still do what I do? 😵‍💫\n\nI’ve been in the startup scene since 202 ...",
           "https://www.instagram.com/reel/C4u88aYrevL/"
          ],
          [
           "The REAL secret to skyrocketing conversions lies in understanding the Customer B ...",
           "https://www.instagram.com/reel/C4-ZsqOrLn0/"
          ],
          [
           "Did you know, when we look at web pages, we don't really read everything? 🫨\n\nWe  ...",
           "https://www.instagram.com/reel/C5YJpCtBECA/"
          ],
          [
           "Creating websites for startups has been quite the journey 👣\n\nI've found it takes ...",
           "https://www.instagram.com/reel/C5nmaO8JV6a/"
          ],
          [
           "The market might shift, funding rounds might take time, but YOU control your web ...",
           "https://www.instagram.com/reel/C53EfDhBYii/"
          ],
          [
           "I found out that being too vague with your biz just pulls in all the wrong crowd ...",
           "https://www.instagram.com/reel/C6LpiMeh_vy/"
          ],
          [
           "What is the right amount of space between a paragraph and an image for YOUR webs ...",
           "https://www.instagram.com/reel/C6YhcgWhQyq/"
          ],
          [
           "Graduating felt awesome but making the most of my time in polytechnic was a game ...",
           "https://www.instagram.com/reel/C6qjCJ0B8QW/"
          ],
          [
           "No one talks about this approach to getting your first paying customer.\n\nNetwork ...",
           "https://www.instagram.com/reel/C7PPZCotk-W/"
          ],
          [
           "Ever felt overwhelmed running your startup? I’ve been there. 😓\n\nWhen I started T ...",
           "https://www.instagram.com/reel/C7lxUAeNsPS/"
          ],
          [
           "More decision-makers can mean more delays in implementing improvements. 😡\n\nWhen  ...",
           "https://www.instagram.com/reel/C7ypRsnN1c6/"
          ],
          [
           "More traffic is NOT the key to earning more revenue. 🚨\n\nYour startup's website m ...",
           "https://www.instagram.com/reel/C8WljFKtijK/"
          ],
          [
           "Understanding where users drop off is the first step to making your site stickie ...",
           "https://www.instagram.com/reel/C8_39iLNLFs/"
          ],
          [
           "Unique obstacles come with being a solo entrepreneur. It’s a grueling journey, b ...",
           "https://www.instagram.com/reel/C9erzdOth5c/"
          ],
          [
           "Starting The Nadra Agency (TNA) taught me to embrace low cost, high reward. 🏆\n\nD ...",
           "https://www.instagram.com/reel/C9wmdQ2NEgE/"
          ],
          [
           "One word: systems. 🧩\n\nWhen managing multiple clients solo, having a solid system ...",
           "https://www.instagram.com/reel/C-CoDNzNrbr/"
          ],
          [
           "Niche businesses are like those strange local coffee shops with the best brew in ...",
           "https://www.instagram.com/reel/C-r_Ej_h-nP/"
          ],
          [
           "SEO hacks for beginners 👇🏽\n\nYou’ve heard of the term “search engine optimisation ...",
           "https://www.instagram.com/reel/C-7ji88BMYJ/"
          ],
          [
           "Read more 👇\n\n--\n\nMake fear your friend when you’re running a business. ➕\n\nWhen d ...",
           "https://www.instagram.com/reel/C_K8FOhBTpD/"
          ],
          [
           "Read caption ⤵️\n\nBe a bad listener. Keep ignoring your clients. 🙅‍♀️\n\nThat is th ...",
           "https://www.instagram.com/reel/C_dRmoiBqrk/"
          ],
          [
           "I got distracted.\n\nThe months from May to August was my first experience working ...",
           "https://www.instagram.com/reel/C_u_MF2hI1r/"
          ],
          [
           "It just needs to work for your target users.\n\nThen, they’ll show their appreciat ...",
           "https://www.instagram.com/reel/DADlhUcBLs0/"
          ],
          [
           "Read more 👇🏽\n\nAt the end of the day, your website needs to look good.\n\nBut more  ...",
           "https://www.instagram.com/reel/DAV03IShoDl/"
          ],
          [
           "Startup founders bring energy that is unmatched.\n\nThey’re young, driven, and las ...",
           "https://www.instagram.com/reel/DAlD2oRBqUr/"
          ],
          [
           "Read more 👇🏽\n\nOne year ago, I heard the term “productized design” for the first  ...",
           "https://www.instagram.com/reel/DA3FZ94hFhQ/"
          ],
          [
           "Read more 👇\n\nDecision fatigue is a real thing that solo founders experience.\n\nIt ...",
           "https://www.instagram.com/reel/DBJG_TOhe0m/"
          ],
          [
           "It’s not that I didn’t want a co-founder when I started the agency.\n\nBut it’s be ...",
           "https://www.instagram.com/reel/DBbIitkBu7n/"
          ],
          [
           "No clients, no feedback.\n\nNo feedback, no growth.\n\nThat’s been my reality while  ...",
           "https://www.instagram.com/reel/DBtKF5CP_bP/"
          ],
          [
           "Read more 👇\n\nFor every project, I have had the coolest opportunities to be invol ...",
           "https://www.instagram.com/reel/DCEVQltPsID/"
          ],
          [
           "Read more 👇🏽\n\nWe make hundreds of decisions every day.\n\nWhat do I eat for lunch? ...",
           "https://www.instagram.com/reel/DCRObFxPzdM/"
          ],
          [
           "Read more 👇\n\nRecently, I made a new friend from Melaka, Malaysia.\n\nShe’s studyin ...",
           "https://www.instagram.com/reel/DCjO4ZPvOFP/"
          ],
          [
           "Read more 👇\n\nMentoring is when you help someone, and accidentally help yourself. ...",
           "https://www.instagram.com/reel/DC1QZq_PxZZ/"
          ],
          [
           "Read more 👇\n\nWhen creatives launch a business, they think the magic’s in deliver ...",
           "https://www.instagram.com/reel/DDHR-0EvJ0w/"
          ],
          [
           "Read more 👇\n\nI’ll not be writing about business today.\n\nToday, I want to share a ...",
           "https://www.instagram.com/reel/DDZTfvEvCnj/"
          ],
          [
           "Read more 👇🏽\n\nProductivity is not hardcore hustle all the time. To me, productiv ...",
           "https://www.instagram.com/reel/DDrVFy_z7YJ/"
          ],
          [
           "Read more ↓↓\n\nI have so many thoughts and ideas, but my friends can only listen  ...",
           "https://www.instagram.com/reel/DD9WrnVvJg-/"
          ],
          [
           "2024 was a year of learning how to stay grounded.\n\nBiggest takeaway was: small d ...",
           "https://www.instagram.com/reel/DEOgcyVv5b9/"
          ]
         ],
         "hovertemplate": "%{y}<br>Date: %{x}<br>Desc: %{customdata[0]}<br>Link: %{customdata[1]}",
         "legendgroup": "reach",
         "line": {
          "color": "#636efa",
          "dash": "solid"
         },
         "marker": {
          "symbol": "circle"
         },
         "mode": "lines",
         "name": "reach",
         "orientation": "v",
         "showlegend": true,
         "type": "scatter",
         "x": [
          "2024-01-25",
          "2024-02-01",
          "2024-02-06",
          "2024-02-13",
          "2024-02-23",
          "2024-02-29",
          "2024-03-20",
          "2024-03-26",
          "2024-04-05",
          "2024-04-11",
          "2024-04-17",
          "2024-04-23",
          "2024-04-30",
          "2024-05-07",
          "2024-05-21",
          "2024-05-30",
          "2024-06-04",
          "2024-06-18",
          "2024-07-04",
          "2024-07-16",
          "2024-07-23",
          "2024-07-30",
          "2024-08-15",
          "2024-08-21",
          "2024-08-27",
          "2024-09-03",
          "2024-09-10",
          "2024-09-18",
          "2024-09-25",
          "2024-10-01",
          "2024-10-08",
          "2024-10-15",
          "2024-10-22",
          "2024-10-29",
          "2024-11-07",
          "2024-11-12",
          "2024-11-19",
          "2024-11-26",
          "2024-12-03",
          "2024-12-10",
          "2024-12-17",
          "2024-12-24",
          "2024-12-30"
         ],
         "xaxis": "x",
         "y": [
          69,
          50,
          68,
          66,
          53,
          48,
          208,
          224,
          63,
          59,
          180,
          59,
          50,
          85,
          75,
          350,
          249,
          168,
          45,
          40,
          55,
          40,
          34,
          33,
          191,
          139,
          37,
          33,
          172,
          133,
          293,
          32,
          249,
          207,
          268,
          355,
          43,
          37,
          1064,
          1079,
          193,
          194,
          144
         ],
         "yaxis": "y"
        },
        {
         "customdata": [
          [
           "❌ Crafting your perfect online HQ shouldn't feel like wrangling chaos. ❌\n\nLet me ...",
           "https://www.instagram.com/reel/C2hXePAxZCF/"
          ],
          [
           "⛔ Avoid this deadly web mistake: A bad first impression. But here's the hack. \n  ...",
           "https://www.instagram.com/reel/C2zeCbghyEV/"
          ],
          [
           "This is what web agencies don’t want you to know ⛔\n\nRead on to discover how you  ...",
           "https://www.instagram.com/reel/C3AOxIeqTOU/"
          ],
          [
           "😱 These are DANGEROUS for your business website: Dull visuals, clunky navigation ...",
           "https://www.instagram.com/reel/C3SQS3FC7gA/"
          ],
          [
           "Websites. They are the most powerful channels for client acquisition and retenti ...",
           "https://www.instagram.com/reel/C3sAPtvv7l2/"
          ],
          [
           "Are your users struggling with your awkward website navigation? 😵‍💫🌀\n\nDon't worr ...",
           "https://www.instagram.com/reel/C37dBbxKkcy/"
          ],
          [
           "… But why do I still do what I do? 😵‍💫\n\nI’ve been in the startup scene since 202 ...",
           "https://www.instagram.com/reel/C4u88aYrevL/"
          ],
          [
           "The REAL secret to skyrocketing conversions lies in understanding the Customer B ...",
           "https://www.instagram.com/reel/C4-ZsqOrLn0/"
          ],
          [
           "Did you know, when we look at web pages, we don't really read everything? 🫨\n\nWe  ...",
           "https://www.instagram.com/reel/C5YJpCtBECA/"
          ],
          [
           "Creating websites for startups has been quite the journey 👣\n\nI've found it takes ...",
           "https://www.instagram.com/reel/C5nmaO8JV6a/"
          ],
          [
           "The market might shift, funding rounds might take time, but YOU control your web ...",
           "https://www.instagram.com/reel/C53EfDhBYii/"
          ],
          [
           "I found out that being too vague with your biz just pulls in all the wrong crowd ...",
           "https://www.instagram.com/reel/C6LpiMeh_vy/"
          ],
          [
           "What is the right amount of space between a paragraph and an image for YOUR webs ...",
           "https://www.instagram.com/reel/C6YhcgWhQyq/"
          ],
          [
           "Graduating felt awesome but making the most of my time in polytechnic was a game ...",
           "https://www.instagram.com/reel/C6qjCJ0B8QW/"
          ],
          [
           "No one talks about this approach to getting your first paying customer.\n\nNetwork ...",
           "https://www.instagram.com/reel/C7PPZCotk-W/"
          ],
          [
           "Ever felt overwhelmed running your startup? I’ve been there. 😓\n\nWhen I started T ...",
           "https://www.instagram.com/reel/C7lxUAeNsPS/"
          ],
          [
           "More decision-makers can mean more delays in implementing improvements. 😡\n\nWhen  ...",
           "https://www.instagram.com/reel/C7ypRsnN1c6/"
          ],
          [
           "More traffic is NOT the key to earning more revenue. 🚨\n\nYour startup's website m ...",
           "https://www.instagram.com/reel/C8WljFKtijK/"
          ],
          [
           "Understanding where users drop off is the first step to making your site stickie ...",
           "https://www.instagram.com/reel/C8_39iLNLFs/"
          ],
          [
           "Unique obstacles come with being a solo entrepreneur. It’s a grueling journey, b ...",
           "https://www.instagram.com/reel/C9erzdOth5c/"
          ],
          [
           "Starting The Nadra Agency (TNA) taught me to embrace low cost, high reward. 🏆\n\nD ...",
           "https://www.instagram.com/reel/C9wmdQ2NEgE/"
          ],
          [
           "One word: systems. 🧩\n\nWhen managing multiple clients solo, having a solid system ...",
           "https://www.instagram.com/reel/C-CoDNzNrbr/"
          ],
          [
           "Niche businesses are like those strange local coffee shops with the best brew in ...",
           "https://www.instagram.com/reel/C-r_Ej_h-nP/"
          ],
          [
           "SEO hacks for beginners 👇🏽\n\nYou’ve heard of the term “search engine optimisation ...",
           "https://www.instagram.com/reel/C-7ji88BMYJ/"
          ],
          [
           "Read more 👇\n\n--\n\nMake fear your friend when you’re running a business. ➕\n\nWhen d ...",
           "https://www.instagram.com/reel/C_K8FOhBTpD/"
          ],
          [
           "Read caption ⤵️\n\nBe a bad listener. Keep ignoring your clients. 🙅‍♀️\n\nThat is th ...",
           "https://www.instagram.com/reel/C_dRmoiBqrk/"
          ],
          [
           "I got distracted.\n\nThe months from May to August was my first experience working ...",
           "https://www.instagram.com/reel/C_u_MF2hI1r/"
          ],
          [
           "It just needs to work for your target users.\n\nThen, they’ll show their appreciat ...",
           "https://www.instagram.com/reel/DADlhUcBLs0/"
          ],
          [
           "Read more 👇🏽\n\nAt the end of the day, your website needs to look good.\n\nBut more  ...",
           "https://www.instagram.com/reel/DAV03IShoDl/"
          ],
          [
           "Startup founders bring energy that is unmatched.\n\nThey’re young, driven, and las ...",
           "https://www.instagram.com/reel/DAlD2oRBqUr/"
          ],
          [
           "Read more 👇🏽\n\nOne year ago, I heard the term “productized design” for the first  ...",
           "https://www.instagram.com/reel/DA3FZ94hFhQ/"
          ],
          [
           "Read more 👇\n\nDecision fatigue is a real thing that solo founders experience.\n\nIt ...",
           "https://www.instagram.com/reel/DBJG_TOhe0m/"
          ],
          [
           "It’s not that I didn’t want a co-founder when I started the agency.\n\nBut it’s be ...",
           "https://www.instagram.com/reel/DBbIitkBu7n/"
          ],
          [
           "No clients, no feedback.\n\nNo feedback, no growth.\n\nThat’s been my reality while  ...",
           "https://www.instagram.com/reel/DBtKF5CP_bP/"
          ],
          [
           "Read more 👇\n\nFor every project, I have had the coolest opportunities to be invol ...",
           "https://www.instagram.com/reel/DCEVQltPsID/"
          ],
          [
           "Read more 👇🏽\n\nWe make hundreds of decisions every day.\n\nWhat do I eat for lunch? ...",
           "https://www.instagram.com/reel/DCRObFxPzdM/"
          ],
          [
           "Read more 👇\n\nRecently, I made a new friend from Melaka, Malaysia.\n\nShe’s studyin ...",
           "https://www.instagram.com/reel/DCjO4ZPvOFP/"
          ],
          [
           "Read more 👇\n\nMentoring is when you help someone, and accidentally help yourself. ...",
           "https://www.instagram.com/reel/DC1QZq_PxZZ/"
          ],
          [
           "Read more 👇\n\nWhen creatives launch a business, they think the magic’s in deliver ...",
           "https://www.instagram.com/reel/DDHR-0EvJ0w/"
          ],
          [
           "Read more 👇\n\nI’ll not be writing about business today.\n\nToday, I want to share a ...",
           "https://www.instagram.com/reel/DDZTfvEvCnj/"
          ],
          [
           "Read more 👇🏽\n\nProductivity is not hardcore hustle all the time. To me, productiv ...",
           "https://www.instagram.com/reel/DDrVFy_z7YJ/"
          ],
          [
           "Read more ↓↓\n\nI have so many thoughts and ideas, but my friends can only listen  ...",
           "https://www.instagram.com/reel/DD9WrnVvJg-/"
          ],
          [
           "2024 was a year of learning how to stay grounded.\n\nBiggest takeaway was: small d ...",
           "https://www.instagram.com/reel/DEOgcyVv5b9/"
          ]
         ],
         "hovertemplate": "%{y}<br>Date: %{x}<br>Desc: %{customdata[0]}<br>Link: %{customdata[1]}",
         "legendgroup": "comments",
         "line": {
          "color": "#EF553B",
          "dash": "solid"
         },
         "marker": {
          "symbol": "circle"
         },
         "mode": "lines",
         "name": "comments",
         "orientation": "v",
         "showlegend": true,
         "type": "scatter",
         "x": [
          "2024-01-25",
          "2024-02-01",
          "2024-02-06",
          "2024-02-13",
          "2024-02-23",
          "2024-02-29",
          "2024-03-20",
          "2024-03-26",
          "2024-04-05",
          "2024-04-11",
          "2024-04-17",
          "2024-04-23",
          "2024-04-30",
          "2024-05-07",
          "2024-05-21",
          "2024-05-30",
          "2024-06-04",
          "2024-06-18",
          "2024-07-04",
          "2024-07-16",
          "2024-07-23",
          "2024-07-30",
          "2024-08-15",
          "2024-08-21",
          "2024-08-27",
          "2024-09-03",
          "2024-09-10",
          "2024-09-18",
          "2024-09-25",
          "2024-10-01",
          "2024-10-08",
          "2024-10-15",
          "2024-10-22",
          "2024-10-29",
          "2024-11-07",
          "2024-11-12",
          "2024-11-19",
          "2024-11-26",
          "2024-12-03",
          "2024-12-10",
          "2024-12-17",
          "2024-12-24",
          "2024-12-30"
         ],
         "xaxis": "x",
         "y": [
          1,
          0,
          2,
          0,
          0,
          0,
          0,
          1,
          0,
          0,
          0,
          0,
          0,
          0,
          0,
          0,
          0,
          0,
          0,
          0,
          0,
          0,
          0,
          0,
          0,
          0,
          0,
          0,
          0,
          0,
          0,
          0,
          0,
          0,
          0,
          0,
          0,
          0,
          0,
          0,
          0,
          0,
          1
         ],
         "yaxis": "y"
        },
        {
         "customdata": [
          [
           "❌ Crafting your perfect online HQ shouldn't feel like wrangling chaos. ❌\n\nLet me ...",
           "https://www.instagram.com/reel/C2hXePAxZCF/"
          ],
          [
           "⛔ Avoid this deadly web mistake: A bad first impression. But here's the hack. \n  ...",
           "https://www.instagram.com/reel/C2zeCbghyEV/"
          ],
          [
           "This is what web agencies don’t want you to know ⛔\n\nRead on to discover how you  ...",
           "https://www.instagram.com/reel/C3AOxIeqTOU/"
          ],
          [
           "😱 These are DANGEROUS for your business website: Dull visuals, clunky navigation ...",
           "https://www.instagram.com/reel/C3SQS3FC7gA/"
          ],
          [
           "Websites. They are the most powerful channels for client acquisition and retenti ...",
           "https://www.instagram.com/reel/C3sAPtvv7l2/"
          ],
          [
           "Are your users struggling with your awkward website navigation? 😵‍💫🌀\n\nDon't worr ...",
           "https://www.instagram.com/reel/C37dBbxKkcy/"
          ],
          [
           "… But why do I still do what I do? 😵‍💫\n\nI’ve been in the startup scene since 202 ...",
           "https://www.instagram.com/reel/C4u88aYrevL/"
          ],
          [
           "The REAL secret to skyrocketing conversions lies in understanding the Customer B ...",
           "https://www.instagram.com/reel/C4-ZsqOrLn0/"
          ],
          [
           "Did you know, when we look at web pages, we don't really read everything? 🫨\n\nWe  ...",
           "https://www.instagram.com/reel/C5YJpCtBECA/"
          ],
          [
           "Creating websites for startups has been quite the journey 👣\n\nI've found it takes ...",
           "https://www.instagram.com/reel/C5nmaO8JV6a/"
          ],
          [
           "The market might shift, funding rounds might take time, but YOU control your web ...",
           "https://www.instagram.com/reel/C53EfDhBYii/"
          ],
          [
           "I found out that being too vague with your biz just pulls in all the wrong crowd ...",
           "https://www.instagram.com/reel/C6LpiMeh_vy/"
          ],
          [
           "What is the right amount of space between a paragraph and an image for YOUR webs ...",
           "https://www.instagram.com/reel/C6YhcgWhQyq/"
          ],
          [
           "Graduating felt awesome but making the most of my time in polytechnic was a game ...",
           "https://www.instagram.com/reel/C6qjCJ0B8QW/"
          ],
          [
           "No one talks about this approach to getting your first paying customer.\n\nNetwork ...",
           "https://www.instagram.com/reel/C7PPZCotk-W/"
          ],
          [
           "Ever felt overwhelmed running your startup? I’ve been there. 😓\n\nWhen I started T ...",
           "https://www.instagram.com/reel/C7lxUAeNsPS/"
          ],
          [
           "More decision-makers can mean more delays in implementing improvements. 😡\n\nWhen  ...",
           "https://www.instagram.com/reel/C7ypRsnN1c6/"
          ],
          [
           "More traffic is NOT the key to earning more revenue. 🚨\n\nYour startup's website m ...",
           "https://www.instagram.com/reel/C8WljFKtijK/"
          ],
          [
           "Understanding where users drop off is the first step to making your site stickie ...",
           "https://www.instagram.com/reel/C8_39iLNLFs/"
          ],
          [
           "Unique obstacles come with being a solo entrepreneur. It’s a grueling journey, b ...",
           "https://www.instagram.com/reel/C9erzdOth5c/"
          ],
          [
           "Starting The Nadra Agency (TNA) taught me to embrace low cost, high reward. 🏆\n\nD ...",
           "https://www.instagram.com/reel/C9wmdQ2NEgE/"
          ],
          [
           "One word: systems. 🧩\n\nWhen managing multiple clients solo, having a solid system ...",
           "https://www.instagram.com/reel/C-CoDNzNrbr/"
          ],
          [
           "Niche businesses are like those strange local coffee shops with the best brew in ...",
           "https://www.instagram.com/reel/C-r_Ej_h-nP/"
          ],
          [
           "SEO hacks for beginners 👇🏽\n\nYou’ve heard of the term “search engine optimisation ...",
           "https://www.instagram.com/reel/C-7ji88BMYJ/"
          ],
          [
           "Read more 👇\n\n--\n\nMake fear your friend when you’re running a business. ➕\n\nWhen d ...",
           "https://www.instagram.com/reel/C_K8FOhBTpD/"
          ],
          [
           "Read caption ⤵️\n\nBe a bad listener. Keep ignoring your clients. 🙅‍♀️\n\nThat is th ...",
           "https://www.instagram.com/reel/C_dRmoiBqrk/"
          ],
          [
           "I got distracted.\n\nThe months from May to August was my first experience working ...",
           "https://www.instagram.com/reel/C_u_MF2hI1r/"
          ],
          [
           "It just needs to work for your target users.\n\nThen, they’ll show their appreciat ...",
           "https://www.instagram.com/reel/DADlhUcBLs0/"
          ],
          [
           "Read more 👇🏽\n\nAt the end of the day, your website needs to look good.\n\nBut more  ...",
           "https://www.instagram.com/reel/DAV03IShoDl/"
          ],
          [
           "Startup founders bring energy that is unmatched.\n\nThey’re young, driven, and las ...",
           "https://www.instagram.com/reel/DAlD2oRBqUr/"
          ],
          [
           "Read more 👇🏽\n\nOne year ago, I heard the term “productized design” for the first  ...",
           "https://www.instagram.com/reel/DA3FZ94hFhQ/"
          ],
          [
           "Read more 👇\n\nDecision fatigue is a real thing that solo founders experience.\n\nIt ...",
           "https://www.instagram.com/reel/DBJG_TOhe0m/"
          ],
          [
           "It’s not that I didn’t want a co-founder when I started the agency.\n\nBut it’s be ...",
           "https://www.instagram.com/reel/DBbIitkBu7n/"
          ],
          [
           "No clients, no feedback.\n\nNo feedback, no growth.\n\nThat’s been my reality while  ...",
           "https://www.instagram.com/reel/DBtKF5CP_bP/"
          ],
          [
           "Read more 👇\n\nFor every project, I have had the coolest opportunities to be invol ...",
           "https://www.instagram.com/reel/DCEVQltPsID/"
          ],
          [
           "Read more 👇🏽\n\nWe make hundreds of decisions every day.\n\nWhat do I eat for lunch? ...",
           "https://www.instagram.com/reel/DCRObFxPzdM/"
          ],
          [
           "Read more 👇\n\nRecently, I made a new friend from Melaka, Malaysia.\n\nShe’s studyin ...",
           "https://www.instagram.com/reel/DCjO4ZPvOFP/"
          ],
          [
           "Read more 👇\n\nMentoring is when you help someone, and accidentally help yourself. ...",
           "https://www.instagram.com/reel/DC1QZq_PxZZ/"
          ],
          [
           "Read more 👇\n\nWhen creatives launch a business, they think the magic’s in deliver ...",
           "https://www.instagram.com/reel/DDHR-0EvJ0w/"
          ],
          [
           "Read more 👇\n\nI’ll not be writing about business today.\n\nToday, I want to share a ...",
           "https://www.instagram.com/reel/DDZTfvEvCnj/"
          ],
          [
           "Read more 👇🏽\n\nProductivity is not hardcore hustle all the time. To me, productiv ...",
           "https://www.instagram.com/reel/DDrVFy_z7YJ/"
          ],
          [
           "Read more ↓↓\n\nI have so many thoughts and ideas, but my friends can only listen  ...",
           "https://www.instagram.com/reel/DD9WrnVvJg-/"
          ],
          [
           "2024 was a year of learning how to stay grounded.\n\nBiggest takeaway was: small d ...",
           "https://www.instagram.com/reel/DEOgcyVv5b9/"
          ]
         ],
         "hovertemplate": "%{y}<br>Date: %{x}<br>Desc: %{customdata[0]}<br>Link: %{customdata[1]}",
         "legendgroup": "saves",
         "line": {
          "color": "#00cc96",
          "dash": "solid"
         },
         "marker": {
          "symbol": "circle"
         },
         "mode": "lines",
         "name": "saves",
         "orientation": "v",
         "showlegend": true,
         "type": "scatter",
         "x": [
          "2024-01-25",
          "2024-02-01",
          "2024-02-06",
          "2024-02-13",
          "2024-02-23",
          "2024-02-29",
          "2024-03-20",
          "2024-03-26",
          "2024-04-05",
          "2024-04-11",
          "2024-04-17",
          "2024-04-23",
          "2024-04-30",
          "2024-05-07",
          "2024-05-21",
          "2024-05-30",
          "2024-06-04",
          "2024-06-18",
          "2024-07-04",
          "2024-07-16",
          "2024-07-23",
          "2024-07-30",
          "2024-08-15",
          "2024-08-21",
          "2024-08-27",
          "2024-09-03",
          "2024-09-10",
          "2024-09-18",
          "2024-09-25",
          "2024-10-01",
          "2024-10-08",
          "2024-10-15",
          "2024-10-22",
          "2024-10-29",
          "2024-11-07",
          "2024-11-12",
          "2024-11-19",
          "2024-11-26",
          "2024-12-03",
          "2024-12-10",
          "2024-12-17",
          "2024-12-24",
          "2024-12-30"
         ],
         "xaxis": "x",
         "y": [
          0,
          0,
          0,
          1,
          0,
          0,
          0,
          0,
          0,
          0,
          0,
          0,
          0,
          1,
          0,
          1,
          0,
          0,
          0,
          0,
          0,
          0,
          0,
          1,
          0,
          0,
          0,
          0,
          0,
          0,
          0,
          0,
          1,
          0,
          0,
          0,
          0,
          0,
          0,
          0,
          0,
          0,
          0
         ],
         "yaxis": "y"
        },
        {
         "customdata": [
          [
           "❌ Crafting your perfect online HQ shouldn't feel like wrangling chaos. ❌\n\nLet me ...",
           "https://www.instagram.com/reel/C2hXePAxZCF/"
          ],
          [
           "⛔ Avoid this deadly web mistake: A bad first impression. But here's the hack. \n  ...",
           "https://www.instagram.com/reel/C2zeCbghyEV/"
          ],
          [
           "This is what web agencies don’t want you to know ⛔\n\nRead on to discover how you  ...",
           "https://www.instagram.com/reel/C3AOxIeqTOU/"
          ],
          [
           "😱 These are DANGEROUS for your business website: Dull visuals, clunky navigation ...",
           "https://www.instagram.com/reel/C3SQS3FC7gA/"
          ],
          [
           "Websites. They are the most powerful channels for client acquisition and retenti ...",
           "https://www.instagram.com/reel/C3sAPtvv7l2/"
          ],
          [
           "Are your users struggling with your awkward website navigation? 😵‍💫🌀\n\nDon't worr ...",
           "https://www.instagram.com/reel/C37dBbxKkcy/"
          ],
          [
           "… But why do I still do what I do? 😵‍💫\n\nI’ve been in the startup scene since 202 ...",
           "https://www.instagram.com/reel/C4u88aYrevL/"
          ],
          [
           "The REAL secret to skyrocketing conversions lies in understanding the Customer B ...",
           "https://www.instagram.com/reel/C4-ZsqOrLn0/"
          ],
          [
           "Did you know, when we look at web pages, we don't really read everything? 🫨\n\nWe  ...",
           "https://www.instagram.com/reel/C5YJpCtBECA/"
          ],
          [
           "Creating websites for startups has been quite the journey 👣\n\nI've found it takes ...",
           "https://www.instagram.com/reel/C5nmaO8JV6a/"
          ],
          [
           "The market might shift, funding rounds might take time, but YOU control your web ...",
           "https://www.instagram.com/reel/C53EfDhBYii/"
          ],
          [
           "I found out that being too vague with your biz just pulls in all the wrong crowd ...",
           "https://www.instagram.com/reel/C6LpiMeh_vy/"
          ],
          [
           "What is the right amount of space between a paragraph and an image for YOUR webs ...",
           "https://www.instagram.com/reel/C6YhcgWhQyq/"
          ],
          [
           "Graduating felt awesome but making the most of my time in polytechnic was a game ...",
           "https://www.instagram.com/reel/C6qjCJ0B8QW/"
          ],
          [
           "No one talks about this approach to getting your first paying customer.\n\nNetwork ...",
           "https://www.instagram.com/reel/C7PPZCotk-W/"
          ],
          [
           "Ever felt overwhelmed running your startup? I’ve been there. 😓\n\nWhen I started T ...",
           "https://www.instagram.com/reel/C7lxUAeNsPS/"
          ],
          [
           "More decision-makers can mean more delays in implementing improvements. 😡\n\nWhen  ...",
           "https://www.instagram.com/reel/C7ypRsnN1c6/"
          ],
          [
           "More traffic is NOT the key to earning more revenue. 🚨\n\nYour startup's website m ...",
           "https://www.instagram.com/reel/C8WljFKtijK/"
          ],
          [
           "Understanding where users drop off is the first step to making your site stickie ...",
           "https://www.instagram.com/reel/C8_39iLNLFs/"
          ],
          [
           "Unique obstacles come with being a solo entrepreneur. It’s a grueling journey, b ...",
           "https://www.instagram.com/reel/C9erzdOth5c/"
          ],
          [
           "Starting The Nadra Agency (TNA) taught me to embrace low cost, high reward. 🏆\n\nD ...",
           "https://www.instagram.com/reel/C9wmdQ2NEgE/"
          ],
          [
           "One word: systems. 🧩\n\nWhen managing multiple clients solo, having a solid system ...",
           "https://www.instagram.com/reel/C-CoDNzNrbr/"
          ],
          [
           "Niche businesses are like those strange local coffee shops with the best brew in ...",
           "https://www.instagram.com/reel/C-r_Ej_h-nP/"
          ],
          [
           "SEO hacks for beginners 👇🏽\n\nYou’ve heard of the term “search engine optimisation ...",
           "https://www.instagram.com/reel/C-7ji88BMYJ/"
          ],
          [
           "Read more 👇\n\n--\n\nMake fear your friend when you’re running a business. ➕\n\nWhen d ...",
           "https://www.instagram.com/reel/C_K8FOhBTpD/"
          ],
          [
           "Read caption ⤵️\n\nBe a bad listener. Keep ignoring your clients. 🙅‍♀️\n\nThat is th ...",
           "https://www.instagram.com/reel/C_dRmoiBqrk/"
          ],
          [
           "I got distracted.\n\nThe months from May to August was my first experience working ...",
           "https://www.instagram.com/reel/C_u_MF2hI1r/"
          ],
          [
           "It just needs to work for your target users.\n\nThen, they’ll show their appreciat ...",
           "https://www.instagram.com/reel/DADlhUcBLs0/"
          ],
          [
           "Read more 👇🏽\n\nAt the end of the day, your website needs to look good.\n\nBut more  ...",
           "https://www.instagram.com/reel/DAV03IShoDl/"
          ],
          [
           "Startup founders bring energy that is unmatched.\n\nThey’re young, driven, and las ...",
           "https://www.instagram.com/reel/DAlD2oRBqUr/"
          ],
          [
           "Read more 👇🏽\n\nOne year ago, I heard the term “productized design” for the first  ...",
           "https://www.instagram.com/reel/DA3FZ94hFhQ/"
          ],
          [
           "Read more 👇\n\nDecision fatigue is a real thing that solo founders experience.\n\nIt ...",
           "https://www.instagram.com/reel/DBJG_TOhe0m/"
          ],
          [
           "It’s not that I didn’t want a co-founder when I started the agency.\n\nBut it’s be ...",
           "https://www.instagram.com/reel/DBbIitkBu7n/"
          ],
          [
           "No clients, no feedback.\n\nNo feedback, no growth.\n\nThat’s been my reality while  ...",
           "https://www.instagram.com/reel/DBtKF5CP_bP/"
          ],
          [
           "Read more 👇\n\nFor every project, I have had the coolest opportunities to be invol ...",
           "https://www.instagram.com/reel/DCEVQltPsID/"
          ],
          [
           "Read more 👇🏽\n\nWe make hundreds of decisions every day.\n\nWhat do I eat for lunch? ...",
           "https://www.instagram.com/reel/DCRObFxPzdM/"
          ],
          [
           "Read more 👇\n\nRecently, I made a new friend from Melaka, Malaysia.\n\nShe’s studyin ...",
           "https://www.instagram.com/reel/DCjO4ZPvOFP/"
          ],
          [
           "Read more 👇\n\nMentoring is when you help someone, and accidentally help yourself. ...",
           "https://www.instagram.com/reel/DC1QZq_PxZZ/"
          ],
          [
           "Read more 👇\n\nWhen creatives launch a business, they think the magic’s in deliver ...",
           "https://www.instagram.com/reel/DDHR-0EvJ0w/"
          ],
          [
           "Read more 👇\n\nI’ll not be writing about business today.\n\nToday, I want to share a ...",
           "https://www.instagram.com/reel/DDZTfvEvCnj/"
          ],
          [
           "Read more 👇🏽\n\nProductivity is not hardcore hustle all the time. To me, productiv ...",
           "https://www.instagram.com/reel/DDrVFy_z7YJ/"
          ],
          [
           "Read more ↓↓\n\nI have so many thoughts and ideas, but my friends can only listen  ...",
           "https://www.instagram.com/reel/DD9WrnVvJg-/"
          ],
          [
           "2024 was a year of learning how to stay grounded.\n\nBiggest takeaway was: small d ...",
           "https://www.instagram.com/reel/DEOgcyVv5b9/"
          ]
         ],
         "hovertemplate": "%{y}<br>Date: %{x}<br>Desc: %{customdata[0]}<br>Link: %{customdata[1]}",
         "legendgroup": "follows",
         "line": {
          "color": "#ab63fa",
          "dash": "solid"
         },
         "marker": {
          "symbol": "circle"
         },
         "mode": "lines",
         "name": "follows",
         "orientation": "v",
         "showlegend": true,
         "type": "scatter",
         "x": [
          "2024-01-25",
          "2024-02-01",
          "2024-02-06",
          "2024-02-13",
          "2024-02-23",
          "2024-02-29",
          "2024-03-20",
          "2024-03-26",
          "2024-04-05",
          "2024-04-11",
          "2024-04-17",
          "2024-04-23",
          "2024-04-30",
          "2024-05-07",
          "2024-05-21",
          "2024-05-30",
          "2024-06-04",
          "2024-06-18",
          "2024-07-04",
          "2024-07-16",
          "2024-07-23",
          "2024-07-30",
          "2024-08-15",
          "2024-08-21",
          "2024-08-27",
          "2024-09-03",
          "2024-09-10",
          "2024-09-18",
          "2024-09-25",
          "2024-10-01",
          "2024-10-08",
          "2024-10-15",
          "2024-10-22",
          "2024-10-29",
          "2024-11-07",
          "2024-11-12",
          "2024-11-19",
          "2024-11-26",
          "2024-12-03",
          "2024-12-10",
          "2024-12-17",
          "2024-12-24",
          "2024-12-30"
         ],
         "xaxis": "x",
         "y": [
          0,
          0,
          0,
          0,
          0,
          0,
          2,
          0,
          0,
          0,
          0,
          0,
          0,
          0,
          0,
          2,
          0,
          0,
          0,
          0,
          0,
          0,
          0,
          0,
          0,
          0,
          0,
          0,
          0,
          0,
          0,
          0,
          0,
          0,
          0,
          0,
          0,
          0,
          0,
          0,
          0,
          0,
          0
         ],
         "yaxis": "y"
        },
        {
         "customdata": [
          [
           "❌ Crafting your perfect online HQ shouldn't feel like wrangling chaos. ❌\n\nLet me ...",
           "https://www.instagram.com/reel/C2hXePAxZCF/"
          ],
          [
           "⛔ Avoid this deadly web mistake: A bad first impression. But here's the hack. \n  ...",
           "https://www.instagram.com/reel/C2zeCbghyEV/"
          ],
          [
           "This is what web agencies don’t want you to know ⛔\n\nRead on to discover how you  ...",
           "https://www.instagram.com/reel/C3AOxIeqTOU/"
          ],
          [
           "😱 These are DANGEROUS for your business website: Dull visuals, clunky navigation ...",
           "https://www.instagram.com/reel/C3SQS3FC7gA/"
          ],
          [
           "Websites. They are the most powerful channels for client acquisition and retenti ...",
           "https://www.instagram.com/reel/C3sAPtvv7l2/"
          ],
          [
           "Are your users struggling with your awkward website navigation? 😵‍💫🌀\n\nDon't worr ...",
           "https://www.instagram.com/reel/C37dBbxKkcy/"
          ],
          [
           "… But why do I still do what I do? 😵‍💫\n\nI’ve been in the startup scene since 202 ...",
           "https://www.instagram.com/reel/C4u88aYrevL/"
          ],
          [
           "The REAL secret to skyrocketing conversions lies in understanding the Customer B ...",
           "https://www.instagram.com/reel/C4-ZsqOrLn0/"
          ],
          [
           "Did you know, when we look at web pages, we don't really read everything? 🫨\n\nWe  ...",
           "https://www.instagram.com/reel/C5YJpCtBECA/"
          ],
          [
           "Creating websites for startups has been quite the journey 👣\n\nI've found it takes ...",
           "https://www.instagram.com/reel/C5nmaO8JV6a/"
          ],
          [
           "The market might shift, funding rounds might take time, but YOU control your web ...",
           "https://www.instagram.com/reel/C53EfDhBYii/"
          ],
          [
           "I found out that being too vague with your biz just pulls in all the wrong crowd ...",
           "https://www.instagram.com/reel/C6LpiMeh_vy/"
          ],
          [
           "What is the right amount of space between a paragraph and an image for YOUR webs ...",
           "https://www.instagram.com/reel/C6YhcgWhQyq/"
          ],
          [
           "Graduating felt awesome but making the most of my time in polytechnic was a game ...",
           "https://www.instagram.com/reel/C6qjCJ0B8QW/"
          ],
          [
           "No one talks about this approach to getting your first paying customer.\n\nNetwork ...",
           "https://www.instagram.com/reel/C7PPZCotk-W/"
          ],
          [
           "Ever felt overwhelmed running your startup? I’ve been there. 😓\n\nWhen I started T ...",
           "https://www.instagram.com/reel/C7lxUAeNsPS/"
          ],
          [
           "More decision-makers can mean more delays in implementing improvements. 😡\n\nWhen  ...",
           "https://www.instagram.com/reel/C7ypRsnN1c6/"
          ],
          [
           "More traffic is NOT the key to earning more revenue. 🚨\n\nYour startup's website m ...",
           "https://www.instagram.com/reel/C8WljFKtijK/"
          ],
          [
           "Understanding where users drop off is the first step to making your site stickie ...",
           "https://www.instagram.com/reel/C8_39iLNLFs/"
          ],
          [
           "Unique obstacles come with being a solo entrepreneur. It’s a grueling journey, b ...",
           "https://www.instagram.com/reel/C9erzdOth5c/"
          ],
          [
           "Starting The Nadra Agency (TNA) taught me to embrace low cost, high reward. 🏆\n\nD ...",
           "https://www.instagram.com/reel/C9wmdQ2NEgE/"
          ],
          [
           "One word: systems. 🧩\n\nWhen managing multiple clients solo, having a solid system ...",
           "https://www.instagram.com/reel/C-CoDNzNrbr/"
          ],
          [
           "Niche businesses are like those strange local coffee shops with the best brew in ...",
           "https://www.instagram.com/reel/C-r_Ej_h-nP/"
          ],
          [
           "SEO hacks for beginners 👇🏽\n\nYou’ve heard of the term “search engine optimisation ...",
           "https://www.instagram.com/reel/C-7ji88BMYJ/"
          ],
          [
           "Read more 👇\n\n--\n\nMake fear your friend when you’re running a business. ➕\n\nWhen d ...",
           "https://www.instagram.com/reel/C_K8FOhBTpD/"
          ],
          [
           "Read caption ⤵️\n\nBe a bad listener. Keep ignoring your clients. 🙅‍♀️\n\nThat is th ...",
           "https://www.instagram.com/reel/C_dRmoiBqrk/"
          ],
          [
           "I got distracted.\n\nThe months from May to August was my first experience working ...",
           "https://www.instagram.com/reel/C_u_MF2hI1r/"
          ],
          [
           "It just needs to work for your target users.\n\nThen, they’ll show their appreciat ...",
           "https://www.instagram.com/reel/DADlhUcBLs0/"
          ],
          [
           "Read more 👇🏽\n\nAt the end of the day, your website needs to look good.\n\nBut more  ...",
           "https://www.instagram.com/reel/DAV03IShoDl/"
          ],
          [
           "Startup founders bring energy that is unmatched.\n\nThey’re young, driven, and las ...",
           "https://www.instagram.com/reel/DAlD2oRBqUr/"
          ],
          [
           "Read more 👇🏽\n\nOne year ago, I heard the term “productized design” for the first  ...",
           "https://www.instagram.com/reel/DA3FZ94hFhQ/"
          ],
          [
           "Read more 👇\n\nDecision fatigue is a real thing that solo founders experience.\n\nIt ...",
           "https://www.instagram.com/reel/DBJG_TOhe0m/"
          ],
          [
           "It’s not that I didn’t want a co-founder when I started the agency.\n\nBut it’s be ...",
           "https://www.instagram.com/reel/DBbIitkBu7n/"
          ],
          [
           "No clients, no feedback.\n\nNo feedback, no growth.\n\nThat’s been my reality while  ...",
           "https://www.instagram.com/reel/DBtKF5CP_bP/"
          ],
          [
           "Read more 👇\n\nFor every project, I have had the coolest opportunities to be invol ...",
           "https://www.instagram.com/reel/DCEVQltPsID/"
          ],
          [
           "Read more 👇🏽\n\nWe make hundreds of decisions every day.\n\nWhat do I eat for lunch? ...",
           "https://www.instagram.com/reel/DCRObFxPzdM/"
          ],
          [
           "Read more 👇\n\nRecently, I made a new friend from Melaka, Malaysia.\n\nShe’s studyin ...",
           "https://www.instagram.com/reel/DCjO4ZPvOFP/"
          ],
          [
           "Read more 👇\n\nMentoring is when you help someone, and accidentally help yourself. ...",
           "https://www.instagram.com/reel/DC1QZq_PxZZ/"
          ],
          [
           "Read more 👇\n\nWhen creatives launch a business, they think the magic’s in deliver ...",
           "https://www.instagram.com/reel/DDHR-0EvJ0w/"
          ],
          [
           "Read more 👇\n\nI’ll not be writing about business today.\n\nToday, I want to share a ...",
           "https://www.instagram.com/reel/DDZTfvEvCnj/"
          ],
          [
           "Read more 👇🏽\n\nProductivity is not hardcore hustle all the time. To me, productiv ...",
           "https://www.instagram.com/reel/DDrVFy_z7YJ/"
          ],
          [
           "Read more ↓↓\n\nI have so many thoughts and ideas, but my friends can only listen  ...",
           "https://www.instagram.com/reel/DD9WrnVvJg-/"
          ],
          [
           "2024 was a year of learning how to stay grounded.\n\nBiggest takeaway was: small d ...",
           "https://www.instagram.com/reel/DEOgcyVv5b9/"
          ]
         ],
         "hovertemplate": "%{y}<br>Date: %{x}<br>Desc: %{customdata[0]}<br>Link: %{customdata[1]}",
         "legendgroup": "likes",
         "line": {
          "color": "#FFA15A",
          "dash": "solid"
         },
         "marker": {
          "symbol": "circle"
         },
         "mode": "lines",
         "name": "likes",
         "orientation": "v",
         "showlegend": true,
         "type": "scatter",
         "x": [
          "2024-01-25",
          "2024-02-01",
          "2024-02-06",
          "2024-02-13",
          "2024-02-23",
          "2024-02-29",
          "2024-03-20",
          "2024-03-26",
          "2024-04-05",
          "2024-04-11",
          "2024-04-17",
          "2024-04-23",
          "2024-04-30",
          "2024-05-07",
          "2024-05-21",
          "2024-05-30",
          "2024-06-04",
          "2024-06-18",
          "2024-07-04",
          "2024-07-16",
          "2024-07-23",
          "2024-07-30",
          "2024-08-15",
          "2024-08-21",
          "2024-08-27",
          "2024-09-03",
          "2024-09-10",
          "2024-09-18",
          "2024-09-25",
          "2024-10-01",
          "2024-10-08",
          "2024-10-15",
          "2024-10-22",
          "2024-10-29",
          "2024-11-07",
          "2024-11-12",
          "2024-11-19",
          "2024-11-26",
          "2024-12-03",
          "2024-12-10",
          "2024-12-17",
          "2024-12-24",
          "2024-12-30"
         ],
         "xaxis": "x",
         "y": [
          12,
          10,
          7,
          7,
          5,
          5,
          13,
          7,
          6,
          5,
          3,
          7,
          2,
          13,
          8,
          16,
          6,
          3,
          2,
          5,
          7,
          4,
          4,
          7,
          6,
          5,
          6,
          4,
          5,
          4,
          12,
          3,
          10,
          5,
          8,
          8,
          5,
          9,
          6,
          6,
          7,
          3,
          5
         ],
         "yaxis": "y"
        }
       ],
       "layout": {
        "height": 600,
        "hovermode": "x unified",
        "legend": {
         "title": {
          "text": "Metrics"
         },
         "tracegroupgap": 0
        },
        "template": {
         "data": {
          "bar": [
           {
            "error_x": {
             "color": "#2a3f5f"
            },
            "error_y": {
             "color": "#2a3f5f"
            },
            "marker": {
             "line": {
              "color": "#E5ECF6",
              "width": 0.5
             },
             "pattern": {
              "fillmode": "overlay",
              "size": 10,
              "solidity": 0.2
             }
            },
            "type": "bar"
           }
          ],
          "barpolar": [
           {
            "marker": {
             "line": {
              "color": "#E5ECF6",
              "width": 0.5
             },
             "pattern": {
              "fillmode": "overlay",
              "size": 10,
              "solidity": 0.2
             }
            },
            "type": "barpolar"
           }
          ],
          "carpet": [
           {
            "aaxis": {
             "endlinecolor": "#2a3f5f",
             "gridcolor": "white",
             "linecolor": "white",
             "minorgridcolor": "white",
             "startlinecolor": "#2a3f5f"
            },
            "baxis": {
             "endlinecolor": "#2a3f5f",
             "gridcolor": "white",
             "linecolor": "white",
             "minorgridcolor": "white",
             "startlinecolor": "#2a3f5f"
            },
            "type": "carpet"
           }
          ],
          "choropleth": [
           {
            "colorbar": {
             "outlinewidth": 0,
             "ticks": ""
            },
            "type": "choropleth"
           }
          ],
          "contour": [
           {
            "colorbar": {
             "outlinewidth": 0,
             "ticks": ""
            },
            "colorscale": [
             [
              0,
              "#0d0887"
             ],
             [
              0.1111111111111111,
              "#46039f"
             ],
             [
              0.2222222222222222,
              "#7201a8"
             ],
             [
              0.3333333333333333,
              "#9c179e"
             ],
             [
              0.4444444444444444,
              "#bd3786"
             ],
             [
              0.5555555555555556,
              "#d8576b"
             ],
             [
              0.6666666666666666,
              "#ed7953"
             ],
             [
              0.7777777777777778,
              "#fb9f3a"
             ],
             [
              0.8888888888888888,
              "#fdca26"
             ],
             [
              1,
              "#f0f921"
             ]
            ],
            "type": "contour"
           }
          ],
          "contourcarpet": [
           {
            "colorbar": {
             "outlinewidth": 0,
             "ticks": ""
            },
            "type": "contourcarpet"
           }
          ],
          "heatmap": [
           {
            "colorbar": {
             "outlinewidth": 0,
             "ticks": ""
            },
            "colorscale": [
             [
              0,
              "#0d0887"
             ],
             [
              0.1111111111111111,
              "#46039f"
             ],
             [
              0.2222222222222222,
              "#7201a8"
             ],
             [
              0.3333333333333333,
              "#9c179e"
             ],
             [
              0.4444444444444444,
              "#bd3786"
             ],
             [
              0.5555555555555556,
              "#d8576b"
             ],
             [
              0.6666666666666666,
              "#ed7953"
             ],
             [
              0.7777777777777778,
              "#fb9f3a"
             ],
             [
              0.8888888888888888,
              "#fdca26"
             ],
             [
              1,
              "#f0f921"
             ]
            ],
            "type": "heatmap"
           }
          ],
          "heatmapgl": [
           {
            "colorbar": {
             "outlinewidth": 0,
             "ticks": ""
            },
            "colorscale": [
             [
              0,
              "#0d0887"
             ],
             [
              0.1111111111111111,
              "#46039f"
             ],
             [
              0.2222222222222222,
              "#7201a8"
             ],
             [
              0.3333333333333333,
              "#9c179e"
             ],
             [
              0.4444444444444444,
              "#bd3786"
             ],
             [
              0.5555555555555556,
              "#d8576b"
             ],
             [
              0.6666666666666666,
              "#ed7953"
             ],
             [
              0.7777777777777778,
              "#fb9f3a"
             ],
             [
              0.8888888888888888,
              "#fdca26"
             ],
             [
              1,
              "#f0f921"
             ]
            ],
            "type": "heatmapgl"
           }
          ],
          "histogram": [
           {
            "marker": {
             "pattern": {
              "fillmode": "overlay",
              "size": 10,
              "solidity": 0.2
             }
            },
            "type": "histogram"
           }
          ],
          "histogram2d": [
           {
            "colorbar": {
             "outlinewidth": 0,
             "ticks": ""
            },
            "colorscale": [
             [
              0,
              "#0d0887"
             ],
             [
              0.1111111111111111,
              "#46039f"
             ],
             [
              0.2222222222222222,
              "#7201a8"
             ],
             [
              0.3333333333333333,
              "#9c179e"
             ],
             [
              0.4444444444444444,
              "#bd3786"
             ],
             [
              0.5555555555555556,
              "#d8576b"
             ],
             [
              0.6666666666666666,
              "#ed7953"
             ],
             [
              0.7777777777777778,
              "#fb9f3a"
             ],
             [
              0.8888888888888888,
              "#fdca26"
             ],
             [
              1,
              "#f0f921"
             ]
            ],
            "type": "histogram2d"
           }
          ],
          "histogram2dcontour": [
           {
            "colorbar": {
             "outlinewidth": 0,
             "ticks": ""
            },
            "colorscale": [
             [
              0,
              "#0d0887"
             ],
             [
              0.1111111111111111,
              "#46039f"
             ],
             [
              0.2222222222222222,
              "#7201a8"
             ],
             [
              0.3333333333333333,
              "#9c179e"
             ],
             [
              0.4444444444444444,
              "#bd3786"
             ],
             [
              0.5555555555555556,
              "#d8576b"
             ],
             [
              0.6666666666666666,
              "#ed7953"
             ],
             [
              0.7777777777777778,
              "#fb9f3a"
             ],
             [
              0.8888888888888888,
              "#fdca26"
             ],
             [
              1,
              "#f0f921"
             ]
            ],
            "type": "histogram2dcontour"
           }
          ],
          "mesh3d": [
           {
            "colorbar": {
             "outlinewidth": 0,
             "ticks": ""
            },
            "type": "mesh3d"
           }
          ],
          "parcoords": [
           {
            "line": {
             "colorbar": {
              "outlinewidth": 0,
              "ticks": ""
             }
            },
            "type": "parcoords"
           }
          ],
          "pie": [
           {
            "automargin": true,
            "type": "pie"
           }
          ],
          "scatter": [
           {
            "fillpattern": {
             "fillmode": "overlay",
             "size": 10,
             "solidity": 0.2
            },
            "type": "scatter"
           }
          ],
          "scatter3d": [
           {
            "line": {
             "colorbar": {
              "outlinewidth": 0,
              "ticks": ""
             }
            },
            "marker": {
             "colorbar": {
              "outlinewidth": 0,
              "ticks": ""
             }
            },
            "type": "scatter3d"
           }
          ],
          "scattercarpet": [
           {
            "marker": {
             "colorbar": {
              "outlinewidth": 0,
              "ticks": ""
             }
            },
            "type": "scattercarpet"
           }
          ],
          "scattergeo": [
           {
            "marker": {
             "colorbar": {
              "outlinewidth": 0,
              "ticks": ""
             }
            },
            "type": "scattergeo"
           }
          ],
          "scattergl": [
           {
            "marker": {
             "colorbar": {
              "outlinewidth": 0,
              "ticks": ""
             }
            },
            "type": "scattergl"
           }
          ],
          "scattermapbox": [
           {
            "marker": {
             "colorbar": {
              "outlinewidth": 0,
              "ticks": ""
             }
            },
            "type": "scattermapbox"
           }
          ],
          "scatterpolar": [
           {
            "marker": {
             "colorbar": {
              "outlinewidth": 0,
              "ticks": ""
             }
            },
            "type": "scatterpolar"
           }
          ],
          "scatterpolargl": [
           {
            "marker": {
             "colorbar": {
              "outlinewidth": 0,
              "ticks": ""
             }
            },
            "type": "scatterpolargl"
           }
          ],
          "scatterternary": [
           {
            "marker": {
             "colorbar": {
              "outlinewidth": 0,
              "ticks": ""
             }
            },
            "type": "scatterternary"
           }
          ],
          "surface": [
           {
            "colorbar": {
             "outlinewidth": 0,
             "ticks": ""
            },
            "colorscale": [
             [
              0,
              "#0d0887"
             ],
             [
              0.1111111111111111,
              "#46039f"
             ],
             [
              0.2222222222222222,
              "#7201a8"
             ],
             [
              0.3333333333333333,
              "#9c179e"
             ],
             [
              0.4444444444444444,
              "#bd3786"
             ],
             [
              0.5555555555555556,
              "#d8576b"
             ],
             [
              0.6666666666666666,
              "#ed7953"
             ],
             [
              0.7777777777777778,
              "#fb9f3a"
             ],
             [
              0.8888888888888888,
              "#fdca26"
             ],
             [
              1,
              "#f0f921"
             ]
            ],
            "type": "surface"
           }
          ],
          "table": [
           {
            "cells": {
             "fill": {
              "color": "#EBF0F8"
             },
             "line": {
              "color": "white"
             }
            },
            "header": {
             "fill": {
              "color": "#C8D4E3"
             },
             "line": {
              "color": "white"
             }
            },
            "type": "table"
           }
          ]
         },
         "layout": {
          "annotationdefaults": {
           "arrowcolor": "#2a3f5f",
           "arrowhead": 0,
           "arrowwidth": 1
          },
          "autotypenumbers": "strict",
          "coloraxis": {
           "colorbar": {
            "outlinewidth": 0,
            "ticks": ""
           }
          },
          "colorscale": {
           "diverging": [
            [
             0,
             "#8e0152"
            ],
            [
             0.1,
             "#c51b7d"
            ],
            [
             0.2,
             "#de77ae"
            ],
            [
             0.3,
             "#f1b6da"
            ],
            [
             0.4,
             "#fde0ef"
            ],
            [
             0.5,
             "#f7f7f7"
            ],
            [
             0.6,
             "#e6f5d0"
            ],
            [
             0.7,
             "#b8e186"
            ],
            [
             0.8,
             "#7fbc41"
            ],
            [
             0.9,
             "#4d9221"
            ],
            [
             1,
             "#276419"
            ]
           ],
           "sequential": [
            [
             0,
             "#0d0887"
            ],
            [
             0.1111111111111111,
             "#46039f"
            ],
            [
             0.2222222222222222,
             "#7201a8"
            ],
            [
             0.3333333333333333,
             "#9c179e"
            ],
            [
             0.4444444444444444,
             "#bd3786"
            ],
            [
             0.5555555555555556,
             "#d8576b"
            ],
            [
             0.6666666666666666,
             "#ed7953"
            ],
            [
             0.7777777777777778,
             "#fb9f3a"
            ],
            [
             0.8888888888888888,
             "#fdca26"
            ],
            [
             1,
             "#f0f921"
            ]
           ],
           "sequentialminus": [
            [
             0,
             "#0d0887"
            ],
            [
             0.1111111111111111,
             "#46039f"
            ],
            [
             0.2222222222222222,
             "#7201a8"
            ],
            [
             0.3333333333333333,
             "#9c179e"
            ],
            [
             0.4444444444444444,
             "#bd3786"
            ],
            [
             0.5555555555555556,
             "#d8576b"
            ],
            [
             0.6666666666666666,
             "#ed7953"
            ],
            [
             0.7777777777777778,
             "#fb9f3a"
            ],
            [
             0.8888888888888888,
             "#fdca26"
            ],
            [
             1,
             "#f0f921"
            ]
           ]
          },
          "colorway": [
           "#636efa",
           "#EF553B",
           "#00cc96",
           "#ab63fa",
           "#FFA15A",
           "#19d3f3",
           "#FF6692",
           "#B6E880",
           "#FF97FF",
           "#FECB52"
          ],
          "font": {
           "color": "#2a3f5f"
          },
          "geo": {
           "bgcolor": "white",
           "lakecolor": "white",
           "landcolor": "#E5ECF6",
           "showlakes": true,
           "showland": true,
           "subunitcolor": "white"
          },
          "hoverlabel": {
           "align": "left"
          },
          "hovermode": "closest",
          "mapbox": {
           "style": "light"
          },
          "paper_bgcolor": "white",
          "plot_bgcolor": "#E5ECF6",
          "polar": {
           "angularaxis": {
            "gridcolor": "white",
            "linecolor": "white",
            "ticks": ""
           },
           "bgcolor": "#E5ECF6",
           "radialaxis": {
            "gridcolor": "white",
            "linecolor": "white",
            "ticks": ""
           }
          },
          "scene": {
           "xaxis": {
            "backgroundcolor": "#E5ECF6",
            "gridcolor": "white",
            "gridwidth": 2,
            "linecolor": "white",
            "showbackground": true,
            "ticks": "",
            "zerolinecolor": "white"
           },
           "yaxis": {
            "backgroundcolor": "#E5ECF6",
            "gridcolor": "white",
            "gridwidth": 2,
            "linecolor": "white",
            "showbackground": true,
            "ticks": "",
            "zerolinecolor": "white"
           },
           "zaxis": {
            "backgroundcolor": "#E5ECF6",
            "gridcolor": "white",
            "gridwidth": 2,
            "linecolor": "white",
            "showbackground": true,
            "ticks": "",
            "zerolinecolor": "white"
           }
          },
          "shapedefaults": {
           "line": {
            "color": "#2a3f5f"
           }
          },
          "ternary": {
           "aaxis": {
            "gridcolor": "white",
            "linecolor": "white",
            "ticks": ""
           },
           "baxis": {
            "gridcolor": "white",
            "linecolor": "white",
            "ticks": ""
           },
           "bgcolor": "#E5ECF6",
           "caxis": {
            "gridcolor": "white",
            "linecolor": "white",
            "ticks": ""
           }
          },
          "title": {
           "x": 0.05
          },
          "xaxis": {
           "automargin": true,
           "gridcolor": "white",
           "linecolor": "white",
           "ticks": "",
           "title": {
            "standoff": 15
           },
           "zerolinecolor": "white",
           "zerolinewidth": 2
          },
          "yaxis": {
           "automargin": true,
           "gridcolor": "white",
           "linecolor": "white",
           "ticks": "",
           "title": {
            "standoff": 15
           },
           "zerolinecolor": "white",
           "zerolinewidth": 2
          }
         }
        },
        "title": {
         "text": "Performance of REEL Posts on Instagram (@nadraqamaria)"
        },
        "width": 1100,
        "xaxis": {
         "anchor": "y",
         "domain": [
          0,
          1
         ],
         "title": {
          "text": "Date posted"
         }
        },
        "yaxis": {
         "anchor": "x",
         "domain": [
          0,
          1
         ],
         "title": {
          "text": "Metrics"
         }
        }
       }
      },
      "image/png": "[encoded data removed]",
      "text/html": [
       "<div>                            <div id=\"44b7e81d-7bf3-44c5-b460-1bb8ee749f35\" class=\"plotly-graph-div\" style=\"height:600px; width:1100px;\"></div>            <script type=\"text/javascript\">                require([\"plotly\"], function(Plotly) {                    window.PLOTLYENV=window.PLOTLYENV || {};                                    if (document.getElementById(\"44b7e81d-7bf3-44c5-b460-1bb8ee749f35\")) {                    Plotly.newPlot(                        \"44b7e81d-7bf3-44c5-b460-1bb8ee749f35\",                        [{\"customdata\":[[\"\\u274c Crafting your perfect online HQ shouldn't feel like wrangling chaos. \\u274c\\n\\nLet me ...\",\"https:\\u002f\\u002fwww.instagram.com\\u002freel\\u002fC2hXePAxZCF\\u002f\"],[\"\\u26d4 Avoid this deadly web mistake: A bad first impression. But here's the hack. \\n  ...\",\"https:\\u002f\\u002fwww.instagram.com\\u002freel\\u002fC2zeCbghyEV\\u002f\"],[\"This is what web agencies don\\u2019t want you to know \\u26d4\\n\\nRead on to discover how you  ...\",\"https:\\u002f\\u002fwww.instagram.com\\u002freel\\u002fC3AOxIeqTOU\\u002f\"],[\"\\ud83d\\ude31 These are DANGEROUS for your business website: Dull visuals, clunky navigation ...\",\"https:\\u002f\\u002fwww.instagram.com\\u002freel\\u002fC3SQS3FC7gA\\u002f\"],[\"Websites. They are the most powerful channels for client acquisition and retenti ...\",\"https:\\u002f\\u002fwww.instagram.com\\u002freel\\u002fC3sAPtvv7l2\\u002f\"],[\"Are your users struggling with your awkward website navigation? \\ud83d\\ude35\\u200d\\ud83d\\udcab\\ud83c\\udf00\\n\\nDon't worr ...\",\"https:\\u002f\\u002fwww.instagram.com\\u002freel\\u002fC37dBbxKkcy\\u002f\"],[\"\\u2026 But why do I still do what I do? \\ud83d\\ude35\\u200d\\ud83d\\udcab\\n\\nI\\u2019ve been in the startup scene since 202 ...\",\"https:\\u002f\\u002fwww.instagram.com\\u002freel\\u002fC4u88aYrevL\\u002f\"],[\"The REAL secret to skyrocketing conversions lies in understanding the Customer B ...\",\"https:\\u002f\\u002fwww.instagram.com\\u002freel\\u002fC4-ZsqOrLn0\\u002f\"],[\"Did you know, when we look at web pages, we don't really read everything? \\ud83e\\udee8\\n\\nWe  ...\",\"https:\\u002f\\u002fwww.instagram.com\\u002freel\\u002fC5YJpCtBECA\\u002f\"],[\"Creating websites for startups has been quite the journey \\ud83d\\udc63\\n\\nI've found it takes ...\",\"https:\\u002f\\u002fwww.instagram.com\\u002freel\\u002fC5nmaO8JV6a\\u002f\"],[\"The market might shift, funding rounds might take time, but YOU control your web ...\",\"https:\\u002f\\u002fwww.instagram.com\\u002freel\\u002fC53EfDhBYii\\u002f\"],[\"I found out that being too vague with your biz just pulls in all the wrong crowd ...\",\"https:\\u002f\\u002fwww.instagram.com\\u002freel\\u002fC6LpiMeh_vy\\u002f\"],[\"What is the right amount of space between a paragraph and an image for YOUR webs ...\",\"https:\\u002f\\u002fwww.instagram.com\\u002freel\\u002fC6YhcgWhQyq\\u002f\"],[\"Graduating felt awesome but making the most of my time in polytechnic was a game ...\",\"https:\\u002f\\u002fwww.instagram.com\\u002freel\\u002fC6qjCJ0B8QW\\u002f\"],[\"No one talks about this approach to getting your first paying customer.\\n\\nNetwork ...\",\"https:\\u002f\\u002fwww.instagram.com\\u002freel\\u002fC7PPZCotk-W\\u002f\"],[\"Ever felt overwhelmed running your startup? I\\u2019ve been there. \\ud83d\\ude13\\n\\nWhen I started T ...\",\"https:\\u002f\\u002fwww.instagram.com\\u002freel\\u002fC7lxUAeNsPS\\u002f\"],[\"More decision-makers can mean more delays in implementing improvements. \\ud83d\\ude21\\n\\nWhen  ...\",\"https:\\u002f\\u002fwww.instagram.com\\u002freel\\u002fC7ypRsnN1c6\\u002f\"],[\"More traffic is NOT the key to earning more revenue. \\ud83d\\udea8\\n\\nYour startup's website m ...\",\"https:\\u002f\\u002fwww.instagram.com\\u002freel\\u002fC8WljFKtijK\\u002f\"],[\"Understanding where users drop off is the first step to making your site stickie ...\",\"https:\\u002f\\u002fwww.instagram.com\\u002freel\\u002fC8_39iLNLFs\\u002f\"],[\"Unique obstacles come with being a solo entrepreneur. It\\u2019s a grueling journey, b ...\",\"https:\\u002f\\u002fwww.instagram.com\\u002freel\\u002fC9erzdOth5c\\u002f\"],[\"Starting The Nadra Agency (TNA) taught me to embrace low cost, high reward. \\ud83c\\udfc6\\n\\nD ...\",\"https:\\u002f\\u002fwww.instagram.com\\u002freel\\u002fC9wmdQ2NEgE\\u002f\"],[\"One word: systems. \\ud83e\\udde9\\n\\nWhen managing multiple clients solo, having a solid system ...\",\"https:\\u002f\\u002fwww.instagram.com\\u002freel\\u002fC-CoDNzNrbr\\u002f\"],[\"Niche businesses are like those strange local coffee shops with the best brew in ...\",\"https:\\u002f\\u002fwww.instagram.com\\u002freel\\u002fC-r_Ej_h-nP\\u002f\"],[\"SEO hacks for beginners \\ud83d\\udc47\\ud83c\\udffd\\n\\nYou\\u2019ve heard of the term \\u201csearch engine optimisation ...\",\"https:\\u002f\\u002fwww.instagram.com\\u002freel\\u002fC-7ji88BMYJ\\u002f\"],[\"Read more \\ud83d\\udc47\\n\\n--\\n\\nMake fear your friend when you\\u2019re running a business. \\u2795\\n\\nWhen d ...\",\"https:\\u002f\\u002fwww.instagram.com\\u002freel\\u002fC_K8FOhBTpD\\u002f\"],[\"Read caption \\u2935\\ufe0f\\n\\nBe a bad listener. Keep ignoring your clients. \\ud83d\\ude45\\u200d\\u2640\\ufe0f\\n\\nThat is th ...\",\"https:\\u002f\\u002fwww.instagram.com\\u002freel\\u002fC_dRmoiBqrk\\u002f\"],[\"I got distracted.\\n\\nThe months from May to August was my first experience working ...\",\"https:\\u002f\\u002fwww.instagram.com\\u002freel\\u002fC_u_MF2hI1r\\u002f\"],[\"It just needs to work for your target users.\\n\\nThen, they\\u2019ll show their appreciat ...\",\"https:\\u002f\\u002fwww.instagram.com\\u002freel\\u002fDADlhUcBLs0\\u002f\"],[\"Read more \\ud83d\\udc47\\ud83c\\udffd\\n\\nAt the end of the day, your website needs to look good.\\n\\nBut more  ...\",\"https:\\u002f\\u002fwww.instagram.com\\u002freel\\u002fDAV03IShoDl\\u002f\"],[\"Startup founders bring energy that is unmatched.\\n\\nThey\\u2019re young, driven, and las ...\",\"https:\\u002f\\u002fwww.instagram.com\\u002freel\\u002fDAlD2oRBqUr\\u002f\"],[\"Read more \\ud83d\\udc47\\ud83c\\udffd\\n\\nOne year ago, I heard the term \\u201cproductized design\\u201d for the first  ...\",\"https:\\u002f\\u002fwww.instagram.com\\u002freel\\u002fDA3FZ94hFhQ\\u002f\"],[\"Read more \\ud83d\\udc47\\n\\nDecision fatigue is a real thing that solo founders experience.\\n\\nIt ...\",\"https:\\u002f\\u002fwww.instagram.com\\u002freel\\u002fDBJG_TOhe0m\\u002f\"],[\"It\\u2019s not that I didn\\u2019t want a co-founder when I started the agency.\\n\\nBut it\\u2019s be ...\",\"https:\\u002f\\u002fwww.instagram.com\\u002freel\\u002fDBbIitkBu7n\\u002f\"],[\"No clients, no feedback.\\n\\nNo feedback, no growth.\\n\\nThat\\u2019s been my reality while  ...\",\"https:\\u002f\\u002fwww.instagram.com\\u002freel\\u002fDBtKF5CP_bP\\u002f\"],[\"Read more \\ud83d\\udc47\\n\\nFor every project, I have had the coolest opportunities to be invol ...\",\"https:\\u002f\\u002fwww.instagram.com\\u002freel\\u002fDCEVQltPsID\\u002f\"],[\"Read more \\ud83d\\udc47\\ud83c\\udffd\\n\\nWe make hundreds of decisions every day.\\n\\nWhat do I eat for lunch? ...\",\"https:\\u002f\\u002fwww.instagram.com\\u002freel\\u002fDCRObFxPzdM\\u002f\"],[\"Read more \\ud83d\\udc47\\n\\nRecently, I made a new friend from Melaka, Malaysia.\\n\\nShe\\u2019s studyin ...\",\"https:\\u002f\\u002fwww.instagram.com\\u002freel\\u002fDCjO4ZPvOFP\\u002f\"],[\"Read more \\ud83d\\udc47\\n\\nMentoring is when you help someone, and accidentally help yourself. ...\",\"https:\\u002f\\u002fwww.instagram.com\\u002freel\\u002fDC1QZq_PxZZ\\u002f\"],[\"Read more \\ud83d\\udc47\\n\\nWhen creatives launch a business, they think the magic\\u2019s in deliver ...\",\"https:\\u002f\\u002fwww.instagram.com\\u002freel\\u002fDDHR-0EvJ0w\\u002f\"],[\"Read more \\ud83d\\udc47\\n\\nI\\u2019ll not be writing about business today.\\n\\nToday, I want to share a ...\",\"https:\\u002f\\u002fwww.instagram.com\\u002freel\\u002fDDZTfvEvCnj\\u002f\"],[\"Read more \\ud83d\\udc47\\ud83c\\udffd\\n\\nProductivity is not hardcore hustle all the time. To me, productiv ...\",\"https:\\u002f\\u002fwww.instagram.com\\u002freel\\u002fDDrVFy_z7YJ\\u002f\"],[\"Read more \\u2193\\u2193\\n\\nI have so many thoughts and ideas, but my friends can only listen  ...\",\"https:\\u002f\\u002fwww.instagram.com\\u002freel\\u002fDD9WrnVvJg-\\u002f\"],[\"2024 was a year of learning how to stay grounded.\\n\\nBiggest takeaway was: small d ...\",\"https:\\u002f\\u002fwww.instagram.com\\u002freel\\u002fDEOgcyVv5b9\\u002f\"]],\"hovertemplate\":\"%{y}\\u003cbr\\u003eDate: %{x}\\u003cbr\\u003eDesc: %{customdata[0]}\\u003cbr\\u003eLink: %{customdata[1]}\",\"legendgroup\":\"reach\",\"line\":{\"color\":\"#636efa\",\"dash\":\"solid\"},\"marker\":{\"symbol\":\"circle\"},\"mode\":\"lines\",\"name\":\"reach\",\"orientation\":\"v\",\"showlegend\":true,\"x\":[\"2024-01-25\",\"2024-02-01\",\"2024-02-06\",\"2024-02-13\",\"2024-02-23\",\"2024-02-29\",\"2024-03-20\",\"2024-03-26\",\"2024-04-05\",\"2024-04-11\",\"2024-04-17\",\"2024-04-23\",\"2024-04-30\",\"2024-05-07\",\"2024-05-21\",\"2024-05-30\",\"2024-06-04\",\"2024-06-18\",\"2024-07-04\",\"2024-07-16\",\"2024-07-23\",\"2024-07-30\",\"2024-08-15\",\"2024-08-21\",\"2024-08-27\",\"2024-09-03\",\"2024-09-10\",\"2024-09-18\",\"2024-09-25\",\"2024-10-01\",\"2024-10-08\",\"2024-10-15\",\"2024-10-22\",\"2024-10-29\",\"2024-11-07\",\"2024-11-12\",\"2024-11-19\",\"2024-11-26\",\"2024-12-03\",\"2024-12-10\",\"2024-12-17\",\"2024-12-24\",\"2024-12-30\"],\"xaxis\":\"x\",\"y\":[69,50,68,66,53,48,208,224,63,59,180,59,50,85,75,350,249,168,45,40,55,40,34,33,191,139,37,33,172,133,293,32,249,207,268,355,43,37,1064,1079,193,194,144],\"yaxis\":\"y\",\"type\":\"scatter\"},{\"customdata\":[[\"\\u274c Crafting your perfect online HQ shouldn't feel like wrangling chaos. \\u274c\\n\\nLet me ...\",\"https:\\u002f\\u002fwww.instagram.com\\u002freel\\u002fC2hXePAxZCF\\u002f\"],[\"\\u26d4 Avoid this deadly web mistake: A bad first impression. But here's the hack. \\n  ...\",\"https:\\u002f\\u002fwww.instagram.com\\u002freel\\u002fC2zeCbghyEV\\u002f\"],[\"This is what web agencies don\\u2019t want you to know \\u26d4\\n\\nRead on to discover how you  ...\",\"https:\\u002f\\u002fwww.instagram.com\\u002freel\\u002fC3AOxIeqTOU\\u002f\"],[\"\\ud83d\\ude31 These are DANGEROUS for your business website: Dull visuals, clunky navigation ...\",\"https:\\u002f\\u002fwww.instagram.com\\u002freel\\u002fC3SQS3FC7gA\\u002f\"],[\"Websites. They are the most powerful channels for client acquisition and retenti ...\",\"https:\\u002f\\u002fwww.instagram.com\\u002freel\\u002fC3sAPtvv7l2\\u002f\"],[\"Are your users struggling with your awkward website navigation? \\ud83d\\ude35\\u200d\\ud83d\\udcab\\ud83c\\udf00\\n\\nDon't worr ...\",\"https:\\u002f\\u002fwww.instagram.com\\u002freel\\u002fC37dBbxKkcy\\u002f\"],[\"\\u2026 But why do I still do what I do? \\ud83d\\ude35\\u200d\\ud83d\\udcab\\n\\nI\\u2019ve been in the startup scene since 202 ...\",\"https:\\u002f\\u002fwww.instagram.com\\u002freel\\u002fC4u88aYrevL\\u002f\"],[\"The REAL secret to skyrocketing conversions lies in understanding the Customer B ...\",\"https:\\u002f\\u002fwww.instagram.com\\u002freel\\u002fC4-ZsqOrLn0\\u002f\"],[\"Did you know, when we look at web pages, we don't really read everything? \\ud83e\\udee8\\n\\nWe  ...\",\"https:\\u002f\\u002fwww.instagram.com\\u002freel\\u002fC5YJpCtBECA\\u002f\"],[\"Creating websites for startups has been quite the journey \\ud83d\\udc63\\n\\nI've found it takes ...\",\"https:\\u002f\\u002fwww.instagram.com\\u002freel\\u002fC5nmaO8JV6a\\u002f\"],[\"The market might shift, funding rounds might take time, but YOU control your web ...\",\"https:\\u002f\\u002fwww.instagram.com\\u002freel\\u002fC53EfDhBYii\\u002f\"],[\"I found out that being too vague with your biz just pulls in all the wrong crowd ...\",\"https:\\u002f\\u002fwww.instagram.com\\u002freel\\u002fC6LpiMeh_vy\\u002f\"],[\"What is the right amount of space between a paragraph and an image for YOUR webs ...\",\"https:\\u002f\\u002fwww.instagram.com\\u002freel\\u002fC6YhcgWhQyq\\u002f\"],[\"Graduating felt awesome but making the most of my time in polytechnic was a game ...\",\"https:\\u002f\\u002fwww.instagram.com\\u002freel\\u002fC6qjCJ0B8QW\\u002f\"],[\"No one talks about this approach to getting your first paying customer.\\n\\nNetwork ...\",\"https:\\u002f\\u002fwww.instagram.com\\u002freel\\u002fC7PPZCotk-W\\u002f\"],[\"Ever felt overwhelmed running your startup? I\\u2019ve been there. \\ud83d\\ude13\\n\\nWhen I started T ...\",\"https:\\u002f\\u002fwww.instagram.com\\u002freel\\u002fC7lxUAeNsPS\\u002f\"],[\"More decision-makers can mean more delays in implementing improvements. \\ud83d\\ude21\\n\\nWhen  ...\",\"https:\\u002f\\u002fwww.instagram.com\\u002freel\\u002fC7ypRsnN1c6\\u002f\"],[\"More traffic is NOT the key to earning more revenue. \\ud83d\\udea8\\n\\nYour startup's website m ...\",\"https:\\u002f\\u002fwww.instagram.com\\u002freel\\u002fC8WljFKtijK\\u002f\"],[\"Understanding where users drop off is the first step to making your site stickie ...\",\"https:\\u002f\\u002fwww.instagram.com\\u002freel\\u002fC8_39iLNLFs\\u002f\"],[\"Unique obstacles come with being a solo entrepreneur. It\\u2019s a grueling journey, b ...\",\"https:\\u002f\\u002fwww.instagram.com\\u002freel\\u002fC9erzdOth5c\\u002f\"],[\"Starting The Nadra Agency (TNA) taught me to embrace low cost, high reward. \\ud83c\\udfc6\\n\\nD ...\",\"https:\\u002f\\u002fwww.instagram.com\\u002freel\\u002fC9wmdQ2NEgE\\u002f\"],[\"One word: systems. \\ud83e\\udde9\\n\\nWhen managing multiple clients solo, having a solid system ...\",\"https:\\u002f\\u002fwww.instagram.com\\u002freel\\u002fC-CoDNzNrbr\\u002f\"],[\"Niche businesses are like those strange local coffee shops with the best brew in ...\",\"https:\\u002f\\u002fwww.instagram.com\\u002freel\\u002fC-r_Ej_h-nP\\u002f\"],[\"SEO hacks for beginners \\ud83d\\udc47\\ud83c\\udffd\\n\\nYou\\u2019ve heard of the term \\u201csearch engine optimisation ...\",\"https:\\u002f\\u002fwww.instagram.com\\u002freel\\u002fC-7ji88BMYJ\\u002f\"],[\"Read more \\ud83d\\udc47\\n\\n--\\n\\nMake fear your friend when you\\u2019re running a business. \\u2795\\n\\nWhen d ...\",\"https:\\u002f\\u002fwww.instagram.com\\u002freel\\u002fC_K8FOhBTpD\\u002f\"],[\"Read caption \\u2935\\ufe0f\\n\\nBe a bad listener. Keep ignoring your clients. \\ud83d\\ude45\\u200d\\u2640\\ufe0f\\n\\nThat is th ...\",\"https:\\u002f\\u002fwww.instagram.com\\u002freel\\u002fC_dRmoiBqrk\\u002f\"],[\"I got distracted.\\n\\nThe months from May to August was my first experience working ...\",\"https:\\u002f\\u002fwww.instagram.com\\u002freel\\u002fC_u_MF2hI1r\\u002f\"],[\"It just needs to work for your target users.\\n\\nThen, they\\u2019ll show their appreciat ...\",\"https:\\u002f\\u002fwww.instagram.com\\u002freel\\u002fDADlhUcBLs0\\u002f\"],[\"Read more \\ud83d\\udc47\\ud83c\\udffd\\n\\nAt the end of the day, your website needs to look good.\\n\\nBut more  ...\",\"https:\\u002f\\u002fwww.instagram.com\\u002freel\\u002fDAV03IShoDl\\u002f\"],[\"Startup founders bring energy that is unmatched.\\n\\nThey\\u2019re young, driven, and las ...\",\"https:\\u002f\\u002fwww.instagram.com\\u002freel\\u002fDAlD2oRBqUr\\u002f\"],[\"Read more \\ud83d\\udc47\\ud83c\\udffd\\n\\nOne year ago, I heard the term \\u201cproductized design\\u201d for the first  ...\",\"https:\\u002f\\u002fwww.instagram.com\\u002freel\\u002fDA3FZ94hFhQ\\u002f\"],[\"Read more \\ud83d\\udc47\\n\\nDecision fatigue is a real thing that solo founders experience.\\n\\nIt ...\",\"https:\\u002f\\u002fwww.instagram.com\\u002freel\\u002fDBJG_TOhe0m\\u002f\"],[\"It\\u2019s not that I didn\\u2019t want a co-founder when I started the agency.\\n\\nBut it\\u2019s be ...\",\"https:\\u002f\\u002fwww.instagram.com\\u002freel\\u002fDBbIitkBu7n\\u002f\"],[\"No clients, no feedback.\\n\\nNo feedback, no growth.\\n\\nThat\\u2019s been my reality while  ...\",\"https:\\u002f\\u002fwww.instagram.com\\u002freel\\u002fDBtKF5CP_bP\\u002f\"],[\"Read more \\ud83d\\udc47\\n\\nFor every project, I have had the coolest opportunities to be invol ...\",\"https:\\u002f\\u002fwww.instagram.com\\u002freel\\u002fDCEVQltPsID\\u002f\"],[\"Read more \\ud83d\\udc47\\ud83c\\udffd\\n\\nWe make hundreds of decisions every day.\\n\\nWhat do I eat for lunch? ...\",\"https:\\u002f\\u002fwww.instagram.com\\u002freel\\u002fDCRObFxPzdM\\u002f\"],[\"Read more \\ud83d\\udc47\\n\\nRecently, I made a new friend from Melaka, Malaysia.\\n\\nShe\\u2019s studyin ...\",\"https:\\u002f\\u002fwww.instagram.com\\u002freel\\u002fDCjO4ZPvOFP\\u002f\"],[\"Read more \\ud83d\\udc47\\n\\nMentoring is when you help someone, and accidentally help yourself. ...\",\"https:\\u002f\\u002fwww.instagram.com\\u002freel\\u002fDC1QZq_PxZZ\\u002f\"],[\"Read more \\ud83d\\udc47\\n\\nWhen creatives launch a business, they think the magic\\u2019s in deliver ...\",\"https:\\u002f\\u002fwww.instagram.com\\u002freel\\u002fDDHR-0EvJ0w\\u002f\"],[\"Read more \\ud83d\\udc47\\n\\nI\\u2019ll not be writing about business today.\\n\\nToday, I want to share a ...\",\"https:\\u002f\\u002fwww.instagram.com\\u002freel\\u002fDDZTfvEvCnj\\u002f\"],[\"Read more \\ud83d\\udc47\\ud83c\\udffd\\n\\nProductivity is not hardcore hustle all the time. To me, productiv ...\",\"https:\\u002f\\u002fwww.instagram.com\\u002freel\\u002fDDrVFy_z7YJ\\u002f\"],[\"Read more \\u2193\\u2193\\n\\nI have so many thoughts and ideas, but my friends can only listen  ...\",\"https:\\u002f\\u002fwww.instagram.com\\u002freel\\u002fDD9WrnVvJg-\\u002f\"],[\"2024 was a year of learning how to stay grounded.\\n\\nBiggest takeaway was: small d ...\",\"https:\\u002f\\u002fwww.instagram.com\\u002freel\\u002fDEOgcyVv5b9\\u002f\"]],\"hovertemplate\":\"%{y}\\u003cbr\\u003eDate: %{x}\\u003cbr\\u003eDesc: %{customdata[0]}\\u003cbr\\u003eLink: %{customdata[1]}\",\"legendgroup\":\"comments\",\"line\":{\"color\":\"#EF553B\",\"dash\":\"solid\"},\"marker\":{\"symbol\":\"circle\"},\"mode\":\"lines\",\"name\":\"comments\",\"orientation\":\"v\",\"showlegend\":true,\"x\":[\"2024-01-25\",\"2024-02-01\",\"2024-02-06\",\"2024-02-13\",\"2024-02-23\",\"2024-02-29\",\"2024-03-20\",\"2024-03-26\",\"2024-04-05\",\"2024-04-11\",\"2024-04-17\",\"2024-04-23\",\"2024-04-30\",\"2024-05-07\",\"2024-05-21\",\"2024-05-30\",\"2024-06-04\",\"2024-06-18\",\"2024-07-04\",\"2024-07-16\",\"2024-07-23\",\"2024-07-30\",\"2024-08-15\",\"2024-08-21\",\"2024-08-27\",\"2024-09-03\",\"2024-09-10\",\"2024-09-18\",\"2024-09-25\",\"2024-10-01\",\"2024-10-08\",\"2024-10-15\",\"2024-10-22\",\"2024-10-29\",\"2024-11-07\",\"2024-11-12\",\"2024-11-19\",\"2024-11-26\",\"2024-12-03\",\"2024-12-10\",\"2024-12-17\",\"2024-12-24\",\"2024-12-30\"],\"xaxis\":\"x\",\"y\":[1,0,2,0,0,0,0,1,0,0,0,0,0,0,0,0,0,0,0,0,0,0,0,0,0,0,0,0,0,0,0,0,0,0,0,0,0,0,0,0,0,0,1],\"yaxis\":\"y\",\"type\":\"scatter\"},{\"customdata\":[[\"\\u274c Crafting your perfect online HQ shouldn't feel like wrangling chaos. \\u274c\\n\\nLet me ...\",\"https:\\u002f\\u002fwww.instagram.com\\u002freel\\u002fC2hXePAxZCF\\u002f\"],[\"\\u26d4 Avoid this deadly web mistake: A bad first impression. But here's the hack. \\n  ...\",\"https:\\u002f\\u002fwww.instagram.com\\u002freel\\u002fC2zeCbghyEV\\u002f\"],[\"This is what web agencies don\\u2019t want you to know \\u26d4\\n\\nRead on to discover how you  ...\",\"https:\\u002f\\u002fwww.instagram.com\\u002freel\\u002fC3AOxIeqTOU\\u002f\"],[\"\\ud83d\\ude31 These are DANGEROUS for your business website: Dull visuals, clunky navigation ...\",\"https:\\u002f\\u002fwww.instagram.com\\u002freel\\u002fC3SQS3FC7gA\\u002f\"],[\"Websites. They are the most powerful channels for client acquisition and retenti ...\",\"https:\\u002f\\u002fwww.instagram.com\\u002freel\\u002fC3sAPtvv7l2\\u002f\"],[\"Are your users struggling with your awkward website navigation? \\ud83d\\ude35\\u200d\\ud83d\\udcab\\ud83c\\udf00\\n\\nDon't worr ...\",\"https:\\u002f\\u002fwww.instagram.com\\u002freel\\u002fC37dBbxKkcy\\u002f\"],[\"\\u2026 But why do I still do what I do? \\ud83d\\ude35\\u200d\\ud83d\\udcab\\n\\nI\\u2019ve been in the startup scene since 202 ...\",\"https:\\u002f\\u002fwww.instagram.com\\u002freel\\u002fC4u88aYrevL\\u002f\"],[\"The REAL secret to skyrocketing conversions lies in understanding the Customer B ...\",\"https:\\u002f\\u002fwww.instagram.com\\u002freel\\u002fC4-ZsqOrLn0\\u002f\"],[\"Did you know, when we look at web pages, we don't really read everything? \\ud83e\\udee8\\n\\nWe  ...\",\"https:\\u002f\\u002fwww.instagram.com\\u002freel\\u002fC5YJpCtBECA\\u002f\"],[\"Creating websites for startups has been quite the journey \\ud83d\\udc63\\n\\nI've found it takes ...\",\"https:\\u002f\\u002fwww.instagram.com\\u002freel\\u002fC5nmaO8JV6a\\u002f\"],[\"The market might shift, funding rounds might take time, but YOU control your web ...\",\"https:\\u002f\\u002fwww.instagram.com\\u002freel\\u002fC53EfDhBYii\\u002f\"],[\"I found out that being too vague with your biz just pulls in all the wrong crowd ...\",\"https:\\u002f\\u002fwww.instagram.com\\u002freel\\u002fC6LpiMeh_vy\\u002f\"],[\"What is the right amount of space between a paragraph and an image for YOUR webs ...\",\"https:\\u002f\\u002fwww.instagram.com\\u002freel\\u002fC6YhcgWhQyq\\u002f\"],[\"Graduating felt awesome but making the most of my time in polytechnic was a game ...\",\"https:\\u002f\\u002fwww.instagram.com\\u002freel\\u002fC6qjCJ0B8QW\\u002f\"],[\"No one talks about this approach to getting your first paying customer.\\n\\nNetwork ...\",\"https:\\u002f\\u002fwww.instagram.com\\u002freel\\u002fC7PPZCotk-W\\u002f\"],[\"Ever felt overwhelmed running your startup? I\\u2019ve been there. \\ud83d\\ude13\\n\\nWhen I started T ...\",\"https:\\u002f\\u002fwww.instagram.com\\u002freel\\u002fC7lxUAeNsPS\\u002f\"],[\"More decision-makers can mean more delays in implementing improvements. \\ud83d\\ude21\\n\\nWhen  ...\",\"https:\\u002f\\u002fwww.instagram.com\\u002freel\\u002fC7ypRsnN1c6\\u002f\"],[\"More traffic is NOT the key to earning more revenue. \\ud83d\\udea8\\n\\nYour startup's website m ...\",\"https:\\u002f\\u002fwww.instagram.com\\u002freel\\u002fC8WljFKtijK\\u002f\"],[\"Understanding where users drop off is the first step to making your site stickie ...\",\"https:\\u002f\\u002fwww.instagram.com\\u002freel\\u002fC8_39iLNLFs\\u002f\"],[\"Unique obstacles come with being a solo entrepreneur. It\\u2019s a grueling journey, b ...\",\"https:\\u002f\\u002fwww.instagram.com\\u002freel\\u002fC9erzdOth5c\\u002f\"],[\"Starting The Nadra Agency (TNA) taught me to embrace low cost, high reward. \\ud83c\\udfc6\\n\\nD ...\",\"https:\\u002f\\u002fwww.instagram.com\\u002freel\\u002fC9wmdQ2NEgE\\u002f\"],[\"One word: systems. \\ud83e\\udde9\\n\\nWhen managing multiple clients solo, having a solid system ...\",\"https:\\u002f\\u002fwww.instagram.com\\u002freel\\u002fC-CoDNzNrbr\\u002f\"],[\"Niche businesses are like those strange local coffee shops with the best brew in ...\",\"https:\\u002f\\u002fwww.instagram.com\\u002freel\\u002fC-r_Ej_h-nP\\u002f\"],[\"SEO hacks for beginners \\ud83d\\udc47\\ud83c\\udffd\\n\\nYou\\u2019ve heard of the term \\u201csearch engine optimisation ...\",\"https:\\u002f\\u002fwww.instagram.com\\u002freel\\u002fC-7ji88BMYJ\\u002f\"],[\"Read more \\ud83d\\udc47\\n\\n--\\n\\nMake fear your friend when you\\u2019re running a business. \\u2795\\n\\nWhen d ...\",\"https:\\u002f\\u002fwww.instagram.com\\u002freel\\u002fC_K8FOhBTpD\\u002f\"],[\"Read caption \\u2935\\ufe0f\\n\\nBe a bad listener. Keep ignoring your clients. \\ud83d\\ude45\\u200d\\u2640\\ufe0f\\n\\nThat is th ...\",\"https:\\u002f\\u002fwww.instagram.com\\u002freel\\u002fC_dRmoiBqrk\\u002f\"],[\"I got distracted.\\n\\nThe months from May to August was my first experience working ...\",\"https:\\u002f\\u002fwww.instagram.com\\u002freel\\u002fC_u_MF2hI1r\\u002f\"],[\"It just needs to work for your target users.\\n\\nThen, they\\u2019ll show their appreciat ...\",\"https:\\u002f\\u002fwww.instagram.com\\u002freel\\u002fDADlhUcBLs0\\u002f\"],[\"Read more \\ud83d\\udc47\\ud83c\\udffd\\n\\nAt the end of the day, your website needs to look good.\\n\\nBut more  ...\",\"https:\\u002f\\u002fwww.instagram.com\\u002freel\\u002fDAV03IShoDl\\u002f\"],[\"Startup founders bring energy that is unmatched.\\n\\nThey\\u2019re young, driven, and las ...\",\"https:\\u002f\\u002fwww.instagram.com\\u002freel\\u002fDAlD2oRBqUr\\u002f\"],[\"Read more \\ud83d\\udc47\\ud83c\\udffd\\n\\nOne year ago, I heard the term \\u201cproductized design\\u201d for the first  ...\",\"https:\\u002f\\u002fwww.instagram.com\\u002freel\\u002fDA3FZ94hFhQ\\u002f\"],[\"Read more \\ud83d\\udc47\\n\\nDecision fatigue is a real thing that solo founders experience.\\n\\nIt ...\",\"https:\\u002f\\u002fwww.instagram.com\\u002freel\\u002fDBJG_TOhe0m\\u002f\"],[\"It\\u2019s not that I didn\\u2019t want a co-founder when I started the agency.\\n\\nBut it\\u2019s be ...\",\"https:\\u002f\\u002fwww.instagram.com\\u002freel\\u002fDBbIitkBu7n\\u002f\"],[\"No clients, no feedback.\\n\\nNo feedback, no growth.\\n\\nThat\\u2019s been my reality while  ...\",\"https:\\u002f\\u002fwww.instagram.com\\u002freel\\u002fDBtKF5CP_bP\\u002f\"],[\"Read more \\ud83d\\udc47\\n\\nFor every project, I have had the coolest opportunities to be invol ...\",\"https:\\u002f\\u002fwww.instagram.com\\u002freel\\u002fDCEVQltPsID\\u002f\"],[\"Read more \\ud83d\\udc47\\ud83c\\udffd\\n\\nWe make hundreds of decisions every day.\\n\\nWhat do I eat for lunch? ...\",\"https:\\u002f\\u002fwww.instagram.com\\u002freel\\u002fDCRObFxPzdM\\u002f\"],[\"Read more \\ud83d\\udc47\\n\\nRecently, I made a new friend from Melaka, Malaysia.\\n\\nShe\\u2019s studyin ...\",\"https:\\u002f\\u002fwww.instagram.com\\u002freel\\u002fDCjO4ZPvOFP\\u002f\"],[\"Read more \\ud83d\\udc47\\n\\nMentoring is when you help someone, and accidentally help yourself. ...\",\"https:\\u002f\\u002fwww.instagram.com\\u002freel\\u002fDC1QZq_PxZZ\\u002f\"],[\"Read more \\ud83d\\udc47\\n\\nWhen creatives launch a business, they think the magic\\u2019s in deliver ...\",\"https:\\u002f\\u002fwww.instagram.com\\u002freel\\u002fDDHR-0EvJ0w\\u002f\"],[\"Read more \\ud83d\\udc47\\n\\nI\\u2019ll not be writing about business today.\\n\\nToday, I want to share a ...\",\"https:\\u002f\\u002fwww.instagram.com\\u002freel\\u002fDDZTfvEvCnj\\u002f\"],[\"Read more \\ud83d\\udc47\\ud83c\\udffd\\n\\nProductivity is not hardcore hustle all the time. To me, productiv ...\",\"https:\\u002f\\u002fwww.instagram.com\\u002freel\\u002fDDrVFy_z7YJ\\u002f\"],[\"Read more \\u2193\\u2193\\n\\nI have so many thoughts and ideas, but my friends can only listen  ...\",\"https:\\u002f\\u002fwww.instagram.com\\u002freel\\u002fDD9WrnVvJg-\\u002f\"],[\"2024 was a year of learning how to stay grounded.\\n\\nBiggest takeaway was: small d ...\",\"https:\\u002f\\u002fwww.instagram.com\\u002freel\\u002fDEOgcyVv5b9\\u002f\"]],\"hovertemplate\":\"%{y}\\u003cbr\\u003eDate: %{x}\\u003cbr\\u003eDesc: %{customdata[0]}\\u003cbr\\u003eLink: %{customdata[1]}\",\"legendgroup\":\"saves\",\"line\":{\"color\":\"#00cc96\",\"dash\":\"solid\"},\"marker\":{\"symbol\":\"circle\"},\"mode\":\"lines\",\"name\":\"saves\",\"orientation\":\"v\",\"showlegend\":true,\"x\":[\"2024-01-25\",\"2024-02-01\",\"2024-02-06\",\"2024-02-13\",\"2024-02-23\",\"2024-02-29\",\"2024-03-20\",\"2024-03-26\",\"2024-04-05\",\"2024-04-11\",\"2024-04-17\",\"2024-04-23\",\"2024-04-30\",\"2024-05-07\",\"2024-05-21\",\"2024-05-30\",\"2024-06-04\",\"2024-06-18\",\"2024-07-04\",\"2024-07-16\",\"2024-07-23\",\"2024-07-30\",\"2024-08-15\",\"2024-08-21\",\"2024-08-27\",\"2024-09-03\",\"2024-09-10\",\"2024-09-18\",\"2024-09-25\",\"2024-10-01\",\"2024-10-08\",\"2024-10-15\",\"2024-10-22\",\"2024-10-29\",\"2024-11-07\",\"2024-11-12\",\"2024-11-19\",\"2024-11-26\",\"2024-12-03\",\"2024-12-10\",\"2024-12-17\",\"2024-12-24\",\"2024-12-30\"],\"xaxis\":\"x\",\"y\":[0,0,0,1,0,0,0,0,0,0,0,0,0,1,0,1,0,0,0,0,0,0,0,1,0,0,0,0,0,0,0,0,1,0,0,0,0,0,0,0,0,0,0],\"yaxis\":\"y\",\"type\":\"scatter\"},{\"customdata\":[[\"\\u274c Crafting your perfect online HQ shouldn't feel like wrangling chaos. \\u274c\\n\\nLet me ...\",\"https:\\u002f\\u002fwww.instagram.com\\u002freel\\u002fC2hXePAxZCF\\u002f\"],[\"\\u26d4 Avoid this deadly web mistake: A bad first impression. But here's the hack. \\n  ...\",\"https:\\u002f\\u002fwww.instagram.com\\u002freel\\u002fC2zeCbghyEV\\u002f\"],[\"This is what web agencies don\\u2019t want you to know \\u26d4\\n\\nRead on to discover how you  ...\",\"https:\\u002f\\u002fwww.instagram.com\\u002freel\\u002fC3AOxIeqTOU\\u002f\"],[\"\\ud83d\\ude31 These are DANGEROUS for your business website: Dull visuals, clunky navigation ...\",\"https:\\u002f\\u002fwww.instagram.com\\u002freel\\u002fC3SQS3FC7gA\\u002f\"],[\"Websites. They are the most powerful channels for client acquisition and retenti ...\",\"https:\\u002f\\u002fwww.instagram.com\\u002freel\\u002fC3sAPtvv7l2\\u002f\"],[\"Are your users struggling with your awkward website navigation? \\ud83d\\ude35\\u200d\\ud83d\\udcab\\ud83c\\udf00\\n\\nDon't worr ...\",\"https:\\u002f\\u002fwww.instagram.com\\u002freel\\u002fC37dBbxKkcy\\u002f\"],[\"\\u2026 But why do I still do what I do? \\ud83d\\ude35\\u200d\\ud83d\\udcab\\n\\nI\\u2019ve been in the startup scene since 202 ...\",\"https:\\u002f\\u002fwww.instagram.com\\u002freel\\u002fC4u88aYrevL\\u002f\"],[\"The REAL secret to skyrocketing conversions lies in understanding the Customer B ...\",\"https:\\u002f\\u002fwww.instagram.com\\u002freel\\u002fC4-ZsqOrLn0\\u002f\"],[\"Did you know, when we look at web pages, we don't really read everything? \\ud83e\\udee8\\n\\nWe  ...\",\"https:\\u002f\\u002fwww.instagram.com\\u002freel\\u002fC5YJpCtBECA\\u002f\"],[\"Creating websites for startups has been quite the journey \\ud83d\\udc63\\n\\nI've found it takes ...\",\"https:\\u002f\\u002fwww.instagram.com\\u002freel\\u002fC5nmaO8JV6a\\u002f\"],[\"The market might shift, funding rounds might take time, but YOU control your web ...\",\"https:\\u002f\\u002fwww.instagram.com\\u002freel\\u002fC53EfDhBYii\\u002f\"],[\"I found out that being too vague with your biz just pulls in all the wrong crowd ...\",\"https:\\u002f\\u002fwww.instagram.com\\u002freel\\u002fC6LpiMeh_vy\\u002f\"],[\"What is the right amount of space between a paragraph and an image for YOUR webs ...\",\"https:\\u002f\\u002fwww.instagram.com\\u002freel\\u002fC6YhcgWhQyq\\u002f\"],[\"Graduating felt awesome but making the most of my time in polytechnic was a game ...\",\"https:\\u002f\\u002fwww.instagram.com\\u002freel\\u002fC6qjCJ0B8QW\\u002f\"],[\"No one talks about this approach to getting your first paying customer.\\n\\nNetwork ...\",\"https:\\u002f\\u002fwww.instagram.com\\u002freel\\u002fC7PPZCotk-W\\u002f\"],[\"Ever felt overwhelmed running your startup? I\\u2019ve been there. \\ud83d\\ude13\\n\\nWhen I started T ...\",\"https:\\u002f\\u002fwww.instagram.com\\u002freel\\u002fC7lxUAeNsPS\\u002f\"],[\"More decision-makers can mean more delays in implementing improvements. \\ud83d\\ude21\\n\\nWhen  ...\",\"https:\\u002f\\u002fwww.instagram.com\\u002freel\\u002fC7ypRsnN1c6\\u002f\"],[\"More traffic is NOT the key to earning more revenue. \\ud83d\\udea8\\n\\nYour startup's website m ...\",\"https:\\u002f\\u002fwww.instagram.com\\u002freel\\u002fC8WljFKtijK\\u002f\"],[\"Understanding where users drop off is the first step to making your site stickie ...\",\"https:\\u002f\\u002fwww.instagram.com\\u002freel\\u002fC8_39iLNLFs\\u002f\"],[\"Unique obstacles come with being a solo entrepreneur. It\\u2019s a grueling journey, b ...\",\"https:\\u002f\\u002fwww.instagram.com\\u002freel\\u002fC9erzdOth5c\\u002f\"],[\"Starting The Nadra Agency (TNA) taught me to embrace low cost, high reward. \\ud83c\\udfc6\\n\\nD ...\",\"https:\\u002f\\u002fwww.instagram.com\\u002freel\\u002fC9wmdQ2NEgE\\u002f\"],[\"One word: systems. \\ud83e\\udde9\\n\\nWhen managing multiple clients solo, having a solid system ...\",\"https:\\u002f\\u002fwww.instagram.com\\u002freel\\u002fC-CoDNzNrbr\\u002f\"],[\"Niche businesses are like those strange local coffee shops with the best brew in ...\",\"https:\\u002f\\u002fwww.instagram.com\\u002freel\\u002fC-r_Ej_h-nP\\u002f\"],[\"SEO hacks for beginners \\ud83d\\udc47\\ud83c\\udffd\\n\\nYou\\u2019ve heard of the term \\u201csearch engine optimisation ...\",\"https:\\u002f\\u002fwww.instagram.com\\u002freel\\u002fC-7ji88BMYJ\\u002f\"],[\"Read more \\ud83d\\udc47\\n\\n--\\n\\nMake fear your friend when you\\u2019re running a business. \\u2795\\n\\nWhen d ...\",\"https:\\u002f\\u002fwww.instagram.com\\u002freel\\u002fC_K8FOhBTpD\\u002f\"],[\"Read caption \\u2935\\ufe0f\\n\\nBe a bad listener. Keep ignoring your clients. \\ud83d\\ude45\\u200d\\u2640\\ufe0f\\n\\nThat is th ...\",\"https:\\u002f\\u002fwww.instagram.com\\u002freel\\u002fC_dRmoiBqrk\\u002f\"],[\"I got distracted.\\n\\nThe months from May to August was my first experience working ...\",\"https:\\u002f\\u002fwww.instagram.com\\u002freel\\u002fC_u_MF2hI1r\\u002f\"],[\"It just needs to work for your target users.\\n\\nThen, they\\u2019ll show their appreciat ...\",\"https:\\u002f\\u002fwww.instagram.com\\u002freel\\u002fDADlhUcBLs0\\u002f\"],[\"Read more \\ud83d\\udc47\\ud83c\\udffd\\n\\nAt the end of the day, your website needs to look good.\\n\\nBut more  ...\",\"https:\\u002f\\u002fwww.instagram.com\\u002freel\\u002fDAV03IShoDl\\u002f\"],[\"Startup founders bring energy that is unmatched.\\n\\nThey\\u2019re young, driven, and las ...\",\"https:\\u002f\\u002fwww.instagram.com\\u002freel\\u002fDAlD2oRBqUr\\u002f\"],[\"Read more \\ud83d\\udc47\\ud83c\\udffd\\n\\nOne year ago, I heard the term \\u201cproductized design\\u201d for the first  ...\",\"https:\\u002f\\u002fwww.instagram.com\\u002freel\\u002fDA3FZ94hFhQ\\u002f\"],[\"Read more \\ud83d\\udc47\\n\\nDecision fatigue is a real thing that solo founders experience.\\n\\nIt ...\",\"https:\\u002f\\u002fwww.instagram.com\\u002freel\\u002fDBJG_TOhe0m\\u002f\"],[\"It\\u2019s not that I didn\\u2019t want a co-founder when I started the agency.\\n\\nBut it\\u2019s be ...\",\"https:\\u002f\\u002fwww.instagram.com\\u002freel\\u002fDBbIitkBu7n\\u002f\"],[\"No clients, no feedback.\\n\\nNo feedback, no growth.\\n\\nThat\\u2019s been my reality while  ...\",\"https:\\u002f\\u002fwww.instagram.com\\u002freel\\u002fDBtKF5CP_bP\\u002f\"],[\"Read more \\ud83d\\udc47\\n\\nFor every project, I have had the coolest opportunities to be invol ...\",\"https:\\u002f\\u002fwww.instagram.com\\u002freel\\u002fDCEVQltPsID\\u002f\"],[\"Read more \\ud83d\\udc47\\ud83c\\udffd\\n\\nWe make hundreds of decisions every day.\\n\\nWhat do I eat for lunch? ...\",\"https:\\u002f\\u002fwww.instagram.com\\u002freel\\u002fDCRObFxPzdM\\u002f\"],[\"Read more \\ud83d\\udc47\\n\\nRecently, I made a new friend from Melaka, Malaysia.\\n\\nShe\\u2019s studyin ...\",\"https:\\u002f\\u002fwww.instagram.com\\u002freel\\u002fDCjO4ZPvOFP\\u002f\"],[\"Read more \\ud83d\\udc47\\n\\nMentoring is when you help someone, and accidentally help yourself. ...\",\"https:\\u002f\\u002fwww.instagram.com\\u002freel\\u002fDC1QZq_PxZZ\\u002f\"],[\"Read more \\ud83d\\udc47\\n\\nWhen creatives launch a business, they think the magic\\u2019s in deliver ...\",\"https:\\u002f\\u002fwww.instagram.com\\u002freel\\u002fDDHR-0EvJ0w\\u002f\"],[\"Read more \\ud83d\\udc47\\n\\nI\\u2019ll not be writing about business today.\\n\\nToday, I want to share a ...\",\"https:\\u002f\\u002fwww.instagram.com\\u002freel\\u002fDDZTfvEvCnj\\u002f\"],[\"Read more \\ud83d\\udc47\\ud83c\\udffd\\n\\nProductivity is not hardcore hustle all the time. To me, productiv ...\",\"https:\\u002f\\u002fwww.instagram.com\\u002freel\\u002fDDrVFy_z7YJ\\u002f\"],[\"Read more \\u2193\\u2193\\n\\nI have so many thoughts and ideas, but my friends can only listen  ...\",\"https:\\u002f\\u002fwww.instagram.com\\u002freel\\u002fDD9WrnVvJg-\\u002f\"],[\"2024 was a year of learning how to stay grounded.\\n\\nBiggest takeaway was: small d ...\",\"https:\\u002f\\u002fwww.instagram.com\\u002freel\\u002fDEOgcyVv5b9\\u002f\"]],\"hovertemplate\":\"%{y}\\u003cbr\\u003eDate: %{x}\\u003cbr\\u003eDesc: %{customdata[0]}\\u003cbr\\u003eLink: %{customdata[1]}\",\"legendgroup\":\"follows\",\"line\":{\"color\":\"#ab63fa\",\"dash\":\"solid\"},\"marker\":{\"symbol\":\"circle\"},\"mode\":\"lines\",\"name\":\"follows\",\"orientation\":\"v\",\"showlegend\":true,\"x\":[\"2024-01-25\",\"2024-02-01\",\"2024-02-06\",\"2024-02-13\",\"2024-02-23\",\"2024-02-29\",\"2024-03-20\",\"2024-03-26\",\"2024-04-05\",\"2024-04-11\",\"2024-04-17\",\"2024-04-23\",\"2024-04-30\",\"2024-05-07\",\"2024-05-21\",\"2024-05-30\",\"2024-06-04\",\"2024-06-18\",\"2024-07-04\",\"2024-07-16\",\"2024-07-23\",\"2024-07-30\",\"2024-08-15\",\"2024-08-21\",\"2024-08-27\",\"2024-09-03\",\"2024-09-10\",\"2024-09-18\",\"2024-09-25\",\"2024-10-01\",\"2024-10-08\",\"2024-10-15\",\"2024-10-22\",\"2024-10-29\",\"2024-11-07\",\"2024-11-12\",\"2024-11-19\",\"2024-11-26\",\"2024-12-03\",\"2024-12-10\",\"2024-12-17\",\"2024-12-24\",\"2024-12-30\"],\"xaxis\":\"x\",\"y\":[0,0,0,0,0,0,2,0,0,0,0,0,0,0,0,2,0,0,0,0,0,0,0,0,0,0,0,0,0,0,0,0,0,0,0,0,0,0,0,0,0,0,0],\"yaxis\":\"y\",\"type\":\"scatter\"},{\"customdata\":[[\"\\u274c Crafting your perfect online HQ shouldn't feel like wrangling chaos. \\u274c\\n\\nLet me ...\",\"https:\\u002f\\u002fwww.instagram.com\\u002freel\\u002fC2hXePAxZCF\\u002f\"],[\"\\u26d4 Avoid this deadly web mistake: A bad first impression. But here's the hack. \\n  ...\",\"https:\\u002f\\u002fwww.instagram.com\\u002freel\\u002fC2zeCbghyEV\\u002f\"],[\"This is what web agencies don\\u2019t want you to know \\u26d4\\n\\nRead on to discover how you  ...\",\"https:\\u002f\\u002fwww.instagram.com\\u002freel\\u002fC3AOxIeqTOU\\u002f\"],[\"\\ud83d\\ude31 These are DANGEROUS for your business website: Dull visuals, clunky navigation ...\",\"https:\\u002f\\u002fwww.instagram.com\\u002freel\\u002fC3SQS3FC7gA\\u002f\"],[\"Websites. They are the most powerful channels for client acquisition and retenti ...\",\"https:\\u002f\\u002fwww.instagram.com\\u002freel\\u002fC3sAPtvv7l2\\u002f\"],[\"Are your users struggling with your awkward website navigation? \\ud83d\\ude35\\u200d\\ud83d\\udcab\\ud83c\\udf00\\n\\nDon't worr ...\",\"https:\\u002f\\u002fwww.instagram.com\\u002freel\\u002fC37dBbxKkcy\\u002f\"],[\"\\u2026 But why do I still do what I do? \\ud83d\\ude35\\u200d\\ud83d\\udcab\\n\\nI\\u2019ve been in the startup scene since 202 ...\",\"https:\\u002f\\u002fwww.instagram.com\\u002freel\\u002fC4u88aYrevL\\u002f\"],[\"The REAL secret to skyrocketing conversions lies in understanding the Customer B ...\",\"https:\\u002f\\u002fwww.instagram.com\\u002freel\\u002fC4-ZsqOrLn0\\u002f\"],[\"Did you know, when we look at web pages, we don't really read everything? \\ud83e\\udee8\\n\\nWe  ...\",\"https:\\u002f\\u002fwww.instagram.com\\u002freel\\u002fC5YJpCtBECA\\u002f\"],[\"Creating websites for startups has been quite the journey \\ud83d\\udc63\\n\\nI've found it takes ...\",\"https:\\u002f\\u002fwww.instagram.com\\u002freel\\u002fC5nmaO8JV6a\\u002f\"],[\"The market might shift, funding rounds might take time, but YOU control your web ...\",\"https:\\u002f\\u002fwww.instagram.com\\u002freel\\u002fC53EfDhBYii\\u002f\"],[\"I found out that being too vague with your biz just pulls in all the wrong crowd ...\",\"https:\\u002f\\u002fwww.instagram.com\\u002freel\\u002fC6LpiMeh_vy\\u002f\"],[\"What is the right amount of space between a paragraph and an image for YOUR webs ...\",\"https:\\u002f\\u002fwww.instagram.com\\u002freel\\u002fC6YhcgWhQyq\\u002f\"],[\"Graduating felt awesome but making the most of my time in polytechnic was a game ...\",\"https:\\u002f\\u002fwww.instagram.com\\u002freel\\u002fC6qjCJ0B8QW\\u002f\"],[\"No one talks about this approach to getting your first paying customer.\\n\\nNetwork ...\",\"https:\\u002f\\u002fwww.instagram.com\\u002freel\\u002fC7PPZCotk-W\\u002f\"],[\"Ever felt overwhelmed running your startup? I\\u2019ve been there. \\ud83d\\ude13\\n\\nWhen I started T ...\",\"https:\\u002f\\u002fwww.instagram.com\\u002freel\\u002fC7lxUAeNsPS\\u002f\"],[\"More decision-makers can mean more delays in implementing improvements. \\ud83d\\ude21\\n\\nWhen  ...\",\"https:\\u002f\\u002fwww.instagram.com\\u002freel\\u002fC7ypRsnN1c6\\u002f\"],[\"More traffic is NOT the key to earning more revenue. \\ud83d\\udea8\\n\\nYour startup's website m ...\",\"https:\\u002f\\u002fwww.instagram.com\\u002freel\\u002fC8WljFKtijK\\u002f\"],[\"Understanding where users drop off is the first step to making your site stickie ...\",\"https:\\u002f\\u002fwww.instagram.com\\u002freel\\u002fC8_39iLNLFs\\u002f\"],[\"Unique obstacles come with being a solo entrepreneur. It\\u2019s a grueling journey, b ...\",\"https:\\u002f\\u002fwww.instagram.com\\u002freel\\u002fC9erzdOth5c\\u002f\"],[\"Starting The Nadra Agency (TNA) taught me to embrace low cost, high reward. \\ud83c\\udfc6\\n\\nD ...\",\"https:\\u002f\\u002fwww.instagram.com\\u002freel\\u002fC9wmdQ2NEgE\\u002f\"],[\"One word: systems. \\ud83e\\udde9\\n\\nWhen managing multiple clients solo, having a solid system ...\",\"https:\\u002f\\u002fwww.instagram.com\\u002freel\\u002fC-CoDNzNrbr\\u002f\"],[\"Niche businesses are like those strange local coffee shops with the best brew in ...\",\"https:\\u002f\\u002fwww.instagram.com\\u002freel\\u002fC-r_Ej_h-nP\\u002f\"],[\"SEO hacks for beginners \\ud83d\\udc47\\ud83c\\udffd\\n\\nYou\\u2019ve heard of the term \\u201csearch engine optimisation ...\",\"https:\\u002f\\u002fwww.instagram.com\\u002freel\\u002fC-7ji88BMYJ\\u002f\"],[\"Read more \\ud83d\\udc47\\n\\n--\\n\\nMake fear your friend when you\\u2019re running a business. \\u2795\\n\\nWhen d ...\",\"https:\\u002f\\u002fwww.instagram.com\\u002freel\\u002fC_K8FOhBTpD\\u002f\"],[\"Read caption \\u2935\\ufe0f\\n\\nBe a bad listener. Keep ignoring your clients. \\ud83d\\ude45\\u200d\\u2640\\ufe0f\\n\\nThat is th ...\",\"https:\\u002f\\u002fwww.instagram.com\\u002freel\\u002fC_dRmoiBqrk\\u002f\"],[\"I got distracted.\\n\\nThe months from May to August was my first experience working ...\",\"https:\\u002f\\u002fwww.instagram.com\\u002freel\\u002fC_u_MF2hI1r\\u002f\"],[\"It just needs to work for your target users.\\n\\nThen, they\\u2019ll show their appreciat ...\",\"https:\\u002f\\u002fwww.instagram.com\\u002freel\\u002fDADlhUcBLs0\\u002f\"],[\"Read more \\ud83d\\udc47\\ud83c\\udffd\\n\\nAt the end of the day, your website needs to look good.\\n\\nBut more  ...\",\"https:\\u002f\\u002fwww.instagram.com\\u002freel\\u002fDAV03IShoDl\\u002f\"],[\"Startup founders bring energy that is unmatched.\\n\\nThey\\u2019re young, driven, and las ...\",\"https:\\u002f\\u002fwww.instagram.com\\u002freel\\u002fDAlD2oRBqUr\\u002f\"],[\"Read more \\ud83d\\udc47\\ud83c\\udffd\\n\\nOne year ago, I heard the term \\u201cproductized design\\u201d for the first  ...\",\"https:\\u002f\\u002fwww.instagram.com\\u002freel\\u002fDA3FZ94hFhQ\\u002f\"],[\"Read more \\ud83d\\udc47\\n\\nDecision fatigue is a real thing that solo founders experience.\\n\\nIt ...\",\"https:\\u002f\\u002fwww.instagram.com\\u002freel\\u002fDBJG_TOhe0m\\u002f\"],[\"It\\u2019s not that I didn\\u2019t want a co-founder when I started the agency.\\n\\nBut it\\u2019s be ...\",\"https:\\u002f\\u002fwww.instagram.com\\u002freel\\u002fDBbIitkBu7n\\u002f\"],[\"No clients, no feedback.\\n\\nNo feedback, no growth.\\n\\nThat\\u2019s been my reality while  ...\",\"https:\\u002f\\u002fwww.instagram.com\\u002freel\\u002fDBtKF5CP_bP\\u002f\"],[\"Read more \\ud83d\\udc47\\n\\nFor every project, I have had the coolest opportunities to be invol ...\",\"https:\\u002f\\u002fwww.instagram.com\\u002freel\\u002fDCEVQltPsID\\u002f\"],[\"Read more \\ud83d\\udc47\\ud83c\\udffd\\n\\nWe make hundreds of decisions every day.\\n\\nWhat do I eat for lunch? ...\",\"https:\\u002f\\u002fwww.instagram.com\\u002freel\\u002fDCRObFxPzdM\\u002f\"],[\"Read more \\ud83d\\udc47\\n\\nRecently, I made a new friend from Melaka, Malaysia.\\n\\nShe\\u2019s studyin ...\",\"https:\\u002f\\u002fwww.instagram.com\\u002freel\\u002fDCjO4ZPvOFP\\u002f\"],[\"Read more \\ud83d\\udc47\\n\\nMentoring is when you help someone, and accidentally help yourself. ...\",\"https:\\u002f\\u002fwww.instagram.com\\u002freel\\u002fDC1QZq_PxZZ\\u002f\"],[\"Read more \\ud83d\\udc47\\n\\nWhen creatives launch a business, they think the magic\\u2019s in deliver ...\",\"https:\\u002f\\u002fwww.instagram.com\\u002freel\\u002fDDHR-0EvJ0w\\u002f\"],[\"Read more \\ud83d\\udc47\\n\\nI\\u2019ll not be writing about business today.\\n\\nToday, I want to share a ...\",\"https:\\u002f\\u002fwww.instagram.com\\u002freel\\u002fDDZTfvEvCnj\\u002f\"],[\"Read more \\ud83d\\udc47\\ud83c\\udffd\\n\\nProductivity is not hardcore hustle all the time. To me, productiv ...\",\"https:\\u002f\\u002fwww.instagram.com\\u002freel\\u002fDDrVFy_z7YJ\\u002f\"],[\"Read more \\u2193\\u2193\\n\\nI have so many thoughts and ideas, but my friends can only listen  ...\",\"https:\\u002f\\u002fwww.instagram.com\\u002freel\\u002fDD9WrnVvJg-\\u002f\"],[\"2024 was a year of learning how to stay grounded.\\n\\nBiggest takeaway was: small d ...\",\"https:\\u002f\\u002fwww.instagram.com\\u002freel\\u002fDEOgcyVv5b9\\u002f\"]],\"hovertemplate\":\"%{y}\\u003cbr\\u003eDate: %{x}\\u003cbr\\u003eDesc: %{customdata[0]}\\u003cbr\\u003eLink: %{customdata[1]}\",\"legendgroup\":\"likes\",\"line\":{\"color\":\"#FFA15A\",\"dash\":\"solid\"},\"marker\":{\"symbol\":\"circle\"},\"mode\":\"lines\",\"name\":\"likes\",\"orientation\":\"v\",\"showlegend\":true,\"x\":[\"2024-01-25\",\"2024-02-01\",\"2024-02-06\",\"2024-02-13\",\"2024-02-23\",\"2024-02-29\",\"2024-03-20\",\"2024-03-26\",\"2024-04-05\",\"2024-04-11\",\"2024-04-17\",\"2024-04-23\",\"2024-04-30\",\"2024-05-07\",\"2024-05-21\",\"2024-05-30\",\"2024-06-04\",\"2024-06-18\",\"2024-07-04\",\"2024-07-16\",\"2024-07-23\",\"2024-07-30\",\"2024-08-15\",\"2024-08-21\",\"2024-08-27\",\"2024-09-03\",\"2024-09-10\",\"2024-09-18\",\"2024-09-25\",\"2024-10-01\",\"2024-10-08\",\"2024-10-15\",\"2024-10-22\",\"2024-10-29\",\"2024-11-07\",\"2024-11-12\",\"2024-11-19\",\"2024-11-26\",\"2024-12-03\",\"2024-12-10\",\"2024-12-17\",\"2024-12-24\",\"2024-12-30\"],\"xaxis\":\"x\",\"y\":[12,10,7,7,5,5,13,7,6,5,3,7,2,13,8,16,6,3,2,5,7,4,4,7,6,5,6,4,5,4,12,3,10,5,8,8,5,9,6,6,7,3,5],\"yaxis\":\"y\",\"type\":\"scatter\"}],                        {\"template\":{\"data\":{\"histogram2dcontour\":[{\"type\":\"histogram2dcontour\",\"colorbar\":{\"outlinewidth\":0,\"ticks\":\"\"},\"colorscale\":[[0.0,\"#0d0887\"],[0.1111111111111111,\"#46039f\"],[0.2222222222222222,\"#7201a8\"],[0.3333333333333333,\"#9c179e\"],[0.4444444444444444,\"#bd3786\"],[0.5555555555555556,\"#d8576b\"],[0.6666666666666666,\"#ed7953\"],[0.7777777777777778,\"#fb9f3a\"],[0.8888888888888888,\"#fdca26\"],[1.0,\"#f0f921\"]]}],\"choropleth\":[{\"type\":\"choropleth\",\"colorbar\":{\"outlinewidth\":0,\"ticks\":\"\"}}],\"histogram2d\":[{\"type\":\"histogram2d\",\"colorbar\":{\"outlinewidth\":0,\"ticks\":\"\"},\"colorscale\":[[0.0,\"#0d0887\"],[0.1111111111111111,\"#46039f\"],[0.2222222222222222,\"#7201a8\"],[0.3333333333333333,\"#9c179e\"],[0.4444444444444444,\"#bd3786\"],[0.5555555555555556,\"#d8576b\"],[0.6666666666666666,\"#ed7953\"],[0.7777777777777778,\"#fb9f3a\"],[0.8888888888888888,\"#fdca26\"],[1.0,\"#f0f921\"]]}],\"heatmap\":[{\"type\":\"heatmap\",\"colorbar\":{\"outlinewidth\":0,\"ticks\":\"\"},\"colorscale\":[[0.0,\"#0d0887\"],[0.1111111111111111,\"#46039f\"],[0.2222222222222222,\"#7201a8\"],[0.3333333333333333,\"#9c179e\"],[0.4444444444444444,\"#bd3786\"],[0.5555555555555556,\"#d8576b\"],[0.6666666666666666,\"#ed7953\"],[0.7777777777777778,\"#fb9f3a\"],[0.8888888888888888,\"#fdca26\"],[1.0,\"#f0f921\"]]}],\"heatmapgl\":[{\"type\":\"heatmapgl\",\"colorbar\":{\"outlinewidth\":0,\"ticks\":\"\"},\"colorscale\":[[0.0,\"#0d0887\"],[0.1111111111111111,\"#46039f\"],[0.2222222222222222,\"#7201a8\"],[0.3333333333333333,\"#9c179e\"],[0.4444444444444444,\"#bd3786\"],[0.5555555555555556,\"#d8576b\"],[0.6666666666666666,\"#ed7953\"],[0.7777777777777778,\"#fb9f3a\"],[0.8888888888888888,\"#fdca26\"],[1.0,\"#f0f921\"]]}],\"contourcarpet\":[{\"type\":\"contourcarpet\",\"colorbar\":{\"outlinewidth\":0,\"ticks\":\"\"}}],\"contour\":[{\"type\":\"contour\",\"colorbar\":{\"outlinewidth\":0,\"ticks\":\"\"},\"colorscale\":[[0.0,\"#0d0887\"],[0.1111111111111111,\"#46039f\"],[0.2222222222222222,\"#7201a8\"],[0.3333333333333333,\"#9c179e\"],[0.4444444444444444,\"#bd3786\"],[0.5555555555555556,\"#d8576b\"],[0.6666666666666666,\"#ed7953\"],[0.7777777777777778,\"#fb9f3a\"],[0.8888888888888888,\"#fdca26\"],[1.0,\"#f0f921\"]]}],\"surface\":[{\"type\":\"surface\",\"colorbar\":{\"outlinewidth\":0,\"ticks\":\"\"},\"colorscale\":[[0.0,\"#0d0887\"],[0.1111111111111111,\"#46039f\"],[0.2222222222222222,\"#7201a8\"],[0.3333333333333333,\"#9c179e\"],[0.4444444444444444,\"#bd3786\"],[0.5555555555555556,\"#d8576b\"],[0.6666666666666666,\"#ed7953\"],[0.7777777777777778,\"#fb9f3a\"],[0.8888888888888888,\"#fdca26\"],[1.0,\"#f0f921\"]]}],\"mesh3d\":[{\"type\":\"mesh3d\",\"colorbar\":{\"outlinewidth\":0,\"ticks\":\"\"}}],\"scatter\":[{\"fillpattern\":{\"fillmode\":\"overlay\",\"size\":10,\"solidity\":0.2},\"type\":\"scatter\"}],\"parcoords\":[{\"type\":\"parcoords\",\"line\":{\"colorbar\":{\"outlinewidth\":0,\"ticks\":\"\"}}}],\"scatterpolargl\":[{\"type\":\"scatterpolargl\",\"marker\":{\"colorbar\":{\"outlinewidth\":0,\"ticks\":\"\"}}}],\"bar\":[{\"error_x\":{\"color\":\"#2a3f5f\"},\"error_y\":{\"color\":\"#2a3f5f\"},\"marker\":{\"line\":{\"color\":\"#E5ECF6\",\"width\":0.5},\"pattern\":{\"fillmode\":\"overlay\",\"size\":10,\"solidity\":0.2}},\"type\":\"bar\"}],\"scattergeo\":[{\"type\":\"scattergeo\",\"marker\":{\"colorbar\":{\"outlinewidth\":0,\"ticks\":\"\"}}}],\"scatterpolar\":[{\"type\":\"scatterpolar\",\"marker\":{\"colorbar\":{\"outlinewidth\":0,\"ticks\":\"\"}}}],\"histogram\":[{\"marker\":{\"pattern\":{\"fillmode\":\"overlay\",\"size\":10,\"solidity\":0.2}},\"type\":\"histogram\"}],\"scattergl\":[{\"type\":\"scattergl\",\"marker\":{\"colorbar\":{\"outlinewidth\":0,\"ticks\":\"\"}}}],\"scatter3d\":[{\"type\":\"scatter3d\",\"line\":{\"colorbar\":{\"outlinewidth\":0,\"ticks\":\"\"}},\"marker\":{\"colorbar\":{\"outlinewidth\":0,\"ticks\":\"\"}}}],\"scattermapbox\":[{\"type\":\"scattermapbox\",\"marker\":{\"colorbar\":{\"outlinewidth\":0,\"ticks\":\"\"}}}],\"scatterternary\":[{\"type\":\"scatterternary\",\"marker\":{\"colorbar\":{\"outlinewidth\":0,\"ticks\":\"\"}}}],\"scattercarpet\":[{\"type\":\"scattercarpet\",\"marker\":{\"colorbar\":{\"outlinewidth\":0,\"ticks\":\"\"}}}],\"carpet\":[{\"aaxis\":{\"endlinecolor\":\"#2a3f5f\",\"gridcolor\":\"white\",\"linecolor\":\"white\",\"minorgridcolor\":\"white\",\"startlinecolor\":\"#2a3f5f\"},\"baxis\":{\"endlinecolor\":\"#2a3f5f\",\"gridcolor\":\"white\",\"linecolor\":\"white\",\"minorgridcolor\":\"white\",\"startlinecolor\":\"#2a3f5f\"},\"type\":\"carpet\"}],\"table\":[{\"cells\":{\"fill\":{\"color\":\"#EBF0F8\"},\"line\":{\"color\":\"white\"}},\"header\":{\"fill\":{\"color\":\"#C8D4E3\"},\"line\":{\"color\":\"white\"}},\"type\":\"table\"}],\"barpolar\":[{\"marker\":{\"line\":{\"color\":\"#E5ECF6\",\"width\":0.5},\"pattern\":{\"fillmode\":\"overlay\",\"size\":10,\"solidity\":0.2}},\"type\":\"barpolar\"}],\"pie\":[{\"automargin\":true,\"type\":\"pie\"}]},\"layout\":{\"autotypenumbers\":\"strict\",\"colorway\":[\"#636efa\",\"#EF553B\",\"#00cc96\",\"#ab63fa\",\"#FFA15A\",\"#19d3f3\",\"#FF6692\",\"#B6E880\",\"#FF97FF\",\"#FECB52\"],\"font\":{\"color\":\"#2a3f5f\"},\"hovermode\":\"closest\",\"hoverlabel\":{\"align\":\"left\"},\"paper_bgcolor\":\"white\",\"plot_bgcolor\":\"#E5ECF6\",\"polar\":{\"bgcolor\":\"#E5ECF6\",\"angularaxis\":{\"gridcolor\":\"white\",\"linecolor\":\"white\",\"ticks\":\"\"},\"radialaxis\":{\"gridcolor\":\"white\",\"linecolor\":\"white\",\"ticks\":\"\"}},\"ternary\":{\"bgcolor\":\"#E5ECF6\",\"aaxis\":{\"gridcolor\":\"white\",\"linecolor\":\"white\",\"ticks\":\"\"},\"baxis\":{\"gridcolor\":\"white\",\"linecolor\":\"white\",\"ticks\":\"\"},\"caxis\":{\"gridcolor\":\"white\",\"linecolor\":\"white\",\"ticks\":\"\"}},\"coloraxis\":{\"colorbar\":{\"outlinewidth\":0,\"ticks\":\"\"}},\"colorscale\":{\"sequential\":[[0.0,\"#0d0887\"],[0.1111111111111111,\"#46039f\"],[0.2222222222222222,\"#7201a8\"],[0.3333333333333333,\"#9c179e\"],[0.4444444444444444,\"#bd3786\"],[0.5555555555555556,\"#d8576b\"],[0.6666666666666666,\"#ed7953\"],[0.7777777777777778,\"#fb9f3a\"],[0.8888888888888888,\"#fdca26\"],[1.0,\"#f0f921\"]],\"sequentialminus\":[[0.0,\"#0d0887\"],[0.1111111111111111,\"#46039f\"],[0.2222222222222222,\"#7201a8\"],[0.3333333333333333,\"#9c179e\"],[0.4444444444444444,\"#bd3786\"],[0.5555555555555556,\"#d8576b\"],[0.6666666666666666,\"#ed7953\"],[0.7777777777777778,\"#fb9f3a\"],[0.8888888888888888,\"#fdca26\"],[1.0,\"#f0f921\"]],\"diverging\":[[0,\"#8e0152\"],[0.1,\"#c51b7d\"],[0.2,\"#de77ae\"],[0.3,\"#f1b6da\"],[0.4,\"#fde0ef\"],[0.5,\"#f7f7f7\"],[0.6,\"#e6f5d0\"],[0.7,\"#b8e186\"],[0.8,\"#7fbc41\"],[0.9,\"#4d9221\"],[1,\"#276419\"]]},\"xaxis\":{\"gridcolor\":\"white\",\"linecolor\":\"white\",\"ticks\":\"\",\"title\":{\"standoff\":15},\"zerolinecolor\":\"white\",\"automargin\":true,\"zerolinewidth\":2},\"yaxis\":{\"gridcolor\":\"white\",\"linecolor\":\"white\",\"ticks\":\"\",\"title\":{\"standoff\":15},\"zerolinecolor\":\"white\",\"automargin\":true,\"zerolinewidth\":2},\"scene\":{\"xaxis\":{\"backgroundcolor\":\"#E5ECF6\",\"gridcolor\":\"white\",\"linecolor\":\"white\",\"showbackground\":true,\"ticks\":\"\",\"zerolinecolor\":\"white\",\"gridwidth\":2},\"yaxis\":{\"backgroundcolor\":\"#E5ECF6\",\"gridcolor\":\"white\",\"linecolor\":\"white\",\"showbackground\":true,\"ticks\":\"\",\"zerolinecolor\":\"white\",\"gridwidth\":2},\"zaxis\":{\"backgroundcolor\":\"#E5ECF6\",\"gridcolor\":\"white\",\"linecolor\":\"white\",\"showbackground\":true,\"ticks\":\"\",\"zerolinecolor\":\"white\",\"gridwidth\":2}},\"shapedefaults\":{\"line\":{\"color\":\"#2a3f5f\"}},\"annotationdefaults\":{\"arrowcolor\":\"#2a3f5f\",\"arrowhead\":0,\"arrowwidth\":1},\"geo\":{\"bgcolor\":\"white\",\"landcolor\":\"#E5ECF6\",\"subunitcolor\":\"white\",\"showland\":true,\"showlakes\":true,\"lakecolor\":\"white\"},\"title\":{\"x\":0.05},\"mapbox\":{\"style\":\"light\"}}},\"xaxis\":{\"anchor\":\"y\",\"domain\":[0.0,1.0],\"title\":{\"text\":\"Date posted\"}},\"yaxis\":{\"anchor\":\"x\",\"domain\":[0.0,1.0],\"title\":{\"text\":\"Metrics\"}},\"legend\":{\"title\":{\"text\":\"Metrics\"},\"tracegroupgap\":0},\"title\":{\"text\":\"Performance of REEL Posts on Instagram (@nadraqamaria)\"},\"height\":600,\"width\":1100,\"hovermode\":\"x unified\"},                        {\"responsive\": true}                    ).then(function(){\n",
       "                            \n",
       "var gd = document.getElementById('44b7e81d-7bf3-44c5-b460-1bb8ee749f35');\n",
       "var x = new MutationObserver(function (mutations, observer) {{\n",
       "        var display = window.getComputedStyle(gd).display;\n",
       "        if (!display || display === 'none') {{\n",
       "            console.log([gd, 'removed!']);\n",
       "            Plotly.purge(gd);\n",
       "            observer.disconnect();\n",
       "        }}\n",
       "}});\n",
       "\n",
       "// Listen for the removal of the full notebook cells\n",
       "var notebookContainer = gd.closest('#notebook-container');\n",
       "if (notebookContainer) {{\n",
       "    x.observe(notebookContainer, {childList: true});\n",
       "}}\n",
       "\n",
       "// Listen for the clearing of the current output cell\n",
       "var outputEl = gd.closest('.output');\n",
       "if (outputEl) {{\n",
       "    x.observe(outputEl, {childList: true});\n",
       "}}\n",
       "\n",
       "                        })                };                });            </script>        </div>"
      ]
     },
     "metadata": {},
     "output_type": "display_data"
    },
    {
     "name": "stdout",
     "output_type": "stream",
     "text": [
      "\n",
      "Top 5 Performing REEL Posts:\n"
     ]
    },
    {
     "data": {
      "text/html": [
       "<div>\n",
       "<style scoped>\n",
       "    .dataframe tbody tr th:only-of-type {\n",
       "        vertical-align: middle;\n",
       "    }\n",
       "\n",
       "    .dataframe tbody tr th {\n",
       "        vertical-align: top;\n",
       "    }\n",
       "\n",
       "    .dataframe thead th {\n",
       "        text-align: right;\n",
       "    }\n",
       "</style>\n",
       "<table border=\"1\" class=\"dataframe\">\n",
       "  <thead>\n",
       "    <tr style=\"text-align: right;\">\n",
       "      <th></th>\n",
       "      <th>link</th>\n",
       "      <th>date</th>\n",
       "      <th>reach</th>\n",
       "      <th>comments</th>\n",
       "      <th>saves</th>\n",
       "      <th>follows</th>\n",
       "      <th>likes</th>\n",
       "      <th>description</th>\n",
       "    </tr>\n",
       "  </thead>\n",
       "  <tbody>\n",
       "    <tr>\n",
       "      <th>1</th>\n",
       "      <td>https://www.instagram.com/reel/DDZTfvEvCnj/</td>\n",
       "      <td>2024-12-10</td>\n",
       "      <td>1079</td>\n",
       "      <td>0</td>\n",
       "      <td>0</td>\n",
       "      <td>0</td>\n",
       "      <td>6</td>\n",
       "      <td>Read more 👇\\n\\nI’ll not be writing about busin...</td>\n",
       "    </tr>\n",
       "    <tr>\n",
       "      <th>2</th>\n",
       "      <td>https://www.instagram.com/reel/DDHR-0EvJ0w/</td>\n",
       "      <td>2024-12-03</td>\n",
       "      <td>1064</td>\n",
       "      <td>0</td>\n",
       "      <td>0</td>\n",
       "      <td>0</td>\n",
       "      <td>6</td>\n",
       "      <td>Read more 👇\\n\\nWhen creatives launch a busines...</td>\n",
       "    </tr>\n",
       "    <tr>\n",
       "      <th>3</th>\n",
       "      <td>https://www.instagram.com/reel/DCRObFxPzdM/</td>\n",
       "      <td>2024-11-12</td>\n",
       "      <td>355</td>\n",
       "      <td>0</td>\n",
       "      <td>0</td>\n",
       "      <td>0</td>\n",
       "      <td>8</td>\n",
       "      <td>Read more 👇🏽\\n\\nWe make hundreds of decisions ...</td>\n",
       "    </tr>\n",
       "    <tr>\n",
       "      <th>4</th>\n",
       "      <td>https://www.instagram.com/reel/C7lxUAeNsPS/</td>\n",
       "      <td>2024-05-30</td>\n",
       "      <td>350</td>\n",
       "      <td>0</td>\n",
       "      <td>1</td>\n",
       "      <td>2</td>\n",
       "      <td>16</td>\n",
       "      <td>Ever felt overwhelmed running your startup? I’...</td>\n",
       "    </tr>\n",
       "    <tr>\n",
       "      <th>5</th>\n",
       "      <td>https://www.instagram.com/reel/DA3FZ94hFhQ/</td>\n",
       "      <td>2024-10-08</td>\n",
       "      <td>293</td>\n",
       "      <td>0</td>\n",
       "      <td>0</td>\n",
       "      <td>0</td>\n",
       "      <td>12</td>\n",
       "      <td>Read more 👇🏽\\n\\nOne year ago, I heard the term...</td>\n",
       "    </tr>\n",
       "  </tbody>\n",
       "</table>\n",
       "</div>"
      ],
      "text/plain": [
       "                                          link        date  reach  comments  \\\n",
       "1  https://www.instagram.com/reel/DDZTfvEvCnj/  2024-12-10   1079         0   \n",
       "2  https://www.instagram.com/reel/DDHR-0EvJ0w/  2024-12-03   1064         0   \n",
       "3  https://www.instagram.com/reel/DCRObFxPzdM/  2024-11-12    355         0   \n",
       "4  https://www.instagram.com/reel/C7lxUAeNsPS/  2024-05-30    350         0   \n",
       "5  https://www.instagram.com/reel/DA3FZ94hFhQ/  2024-10-08    293         0   \n",
       "\n",
       "   saves  follows  likes                                        description  \n",
       "1      0        0      6  Read more 👇\\n\\nI’ll not be writing about busin...  \n",
       "2      0        0      6  Read more 👇\\n\\nWhen creatives launch a busines...  \n",
       "3      0        0      8  Read more 👇🏽\\n\\nWe make hundreds of decisions ...  \n",
       "4      1        2     16  Ever felt overwhelmed running your startup? I’...  \n",
       "5      0        0     12  Read more 👇🏽\\n\\nOne year ago, I heard the term...  "
      ]
     },
     "metadata": {},
     "output_type": "display_data"
    }
   ],
   "source": [
    "metrics = ['reach','comments','saves','follows', 'likes']\n",
    "\n",
    "graph_embeds = []\n",
    "\n",
    "for t in content_types:\n",
    "    print('\\n\\n\\n\\n\\n')\n",
    "    fig = px.line(content_dict[t], x=\"date\", y=metrics,\n",
    "             width=1100, height=600,\n",
    "             labels={\n",
    "                     \"date\": \"Date posted\",\n",
    "                     \"value\": \"Metrics\",\n",
    "                     \"variable\": \"Metrics\"\n",
    "                 },\n",
    "              title=f\"Performance of {t.upper()} Posts on Instagram (@nadraqamaria)\",\n",
    "              custom_data=['description', 'link'])\n",
    "\n",
    "    fig.update_traces(mode=\"lines\",\n",
    "                     hovertemplate=\"<br>\".join([\n",
    "                        \"%{y}\",\n",
    "                        \"Date: %{x}\",\n",
    "                        \"Desc: %{customdata[0]}\",\n",
    "                        \"Link: %{customdata[1]}\"\n",
    "                    ]))\n",
    "    fig.update_layout(hovermode=\"x unified\")\n",
    "    \n",
    "    fig.show()\n",
    "    graph_embeds.append(tls.get_embed('https://plotly.com/~chris/1638'))\n",
    "\n",
    "\n",
    "\n",
    "    ## SHOW TOP 5 PERFORMING POSTS\n",
    "    top_5 = content_dict[t].sort_values(by=metrics, ascending=False)\n",
    "    top_5_display = ['link', 'date', 'reach','comments','saves','follows', 'likes','description']\n",
    "    top_5 = top_5[top_5_display].head().reset_index(drop=True)\n",
    "    ## MAKE INDEX START FROM 1\n",
    "    top_5.index += 1\n",
    "    \n",
    "    print(f'\\nTop 5 Performing {t.upper()} Posts:')\n",
    "    display(top_5)"
   ]
  }
 ],
 "metadata": {
  "kernelspec": {
   "display_name": "Python 3 (ipykernel)",
   "language": "python",
   "name": "python3"
  },
  "language_info": {
   "codemirror_mode": {
    "name": "ipython",
    "version": 3
   },
   "file_extension": ".py",
   "mimetype": "text/x-python",
   "name": "python",
   "nbconvert_exporter": "python",
   "pygments_lexer": "ipython3",
   "version": "3.11.0"
  }
 },
 "nbformat": 4,
 "nbformat_minor": 5
}
